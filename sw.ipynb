{
 "cells": [
  {
   "cell_type": "code",
   "execution_count": 3,
   "id": "c24b273a",
   "metadata": {},
   "outputs": [],
   "source": [
    "import os\n",
    "import glob\n",
    "import torch\n",
    "import numpy as np\n",
    "import matplotlib.pyplot as plt\n",
    "import torch.nn as nn\n",
    "from torchvision.transforms import transforms\n",
    "from torch.utils.data import DataLoader\n",
    "from torch.optim import Adam\n",
    "from torch.autograd import Variable\n",
    "import torchvision \n",
    "import pathlib\n",
    "from pathlib import Path"
   ]
  },
  {
   "cell_type": "markdown",
   "id": "7e5c986e",
   "metadata": {},
   "source": [
    "$\\Large\\text{Data load}$"
   ]
  },
  {
   "cell_type": "code",
   "execution_count": 4,
   "id": "26589fe5",
   "metadata": {},
   "outputs": [],
   "source": [
    "path_folder = 'TOP4040/'"
   ]
  },
  {
   "cell_type": "code",
   "execution_count": 5,
   "id": "614dc327",
   "metadata": {},
   "outputs": [],
   "source": [
    "folder = Path(path_folder)"
   ]
  },
  {
   "cell_type": "code",
   "execution_count": 6,
   "id": "d7f18488",
   "metadata": {},
   "outputs": [],
   "source": [
    "data = np.load(path_folder + '3.npz')['arr_0']"
   ]
  },
  {
   "cell_type": "code",
   "execution_count": 7,
   "id": "6a0bf3b2",
   "metadata": {},
   "outputs": [
    {
     "data": {
      "text/plain": [
       "<matplotlib.image.AxesImage at 0x13812c3a0>"
      ]
     },
     "execution_count": 7,
     "metadata": {},
     "output_type": "execute_result"
    },
    {
     "data": {
      "image/png": "[encoded data removed]",
      "text/plain": [
       "<Figure size 640x480 with 1 Axes>"
      ]
     },
     "metadata": {},
     "output_type": "display_data"
    }
   ],
   "source": [
    "plt.imshow(data[-1], cmap='Greys')"
   ]
  },
  {
   "cell_type": "code",
   "execution_count": null,
   "id": "3510d07b",
   "metadata": {},
   "outputs": [],
   "source": []
  },
  {
   "cell_type": "markdown",
   "id": "5210208c",
   "metadata": {},
   "source": [
    "$\\Large\\text{Examples of tensor usage}$"
   ]
  },
  {
   "cell_type": "code",
   "execution_count": 84,
   "id": "b56fc848",
   "metadata": {},
   "outputs": [
    {
     "data": {
      "text/plain": [
       "tensor([[0.3235, 0.2373, 0.3899, 0.9566, 0.8621, 0.5881],\n",
       "        [0.0527, 0.4767, 0.0014, 0.5825, 0.1796, 0.8955],\n",
       "        [0.2290, 0.8728, 0.5346, 0.6704, 0.2093, 0.2219],\n",
       "        [0.2280, 0.2104, 0.0355, 0.0975, 0.7820, 0.1833],\n",
       "        [0.3402, 0.3883, 0.7353, 0.0828, 0.2805, 0.3539],\n",
       "        [0.5667, 0.0642, 0.5070, 0.4360, 0.3403, 0.9218]])"
      ]
     },
     "execution_count": 84,
     "metadata": {},
     "output_type": "execute_result"
    }
   ],
   "source": [
    "x = torch.rand(6,6)\n",
    "x"
   ]
  },
  {
   "cell_type": "code",
   "execution_count": 85,
   "id": "b93d4b73",
   "metadata": {},
   "outputs": [
    {
     "data": {
      "text/plain": [
       "tensor([0.3235, 0.2373, 0.3899, 0.9566, 0.8621, 0.5881, 0.0527, 0.4767, 0.0014,\n",
       "        0.5825, 0.1796, 0.8955, 0.2290, 0.8728, 0.5346, 0.6704, 0.2093, 0.2219,\n",
       "        0.2280, 0.2104, 0.0355, 0.0975, 0.7820, 0.1833, 0.3402, 0.3883, 0.7353,\n",
       "        0.0828, 0.2805, 0.3539, 0.5667, 0.0642, 0.5070, 0.4360, 0.3403, 0.9218])"
      ]
     },
     "execution_count": 85,
     "metadata": {},
     "output_type": "execute_result"
    }
   ],
   "source": [
    "x.view(36)"
   ]
  },
  {
   "cell_type": "code",
   "execution_count": null,
   "id": "2a4ca5bc",
   "metadata": {},
   "outputs": [],
   "source": [
    "x.view(3,12)"
   ]
  },
  {
   "cell_type": "code",
   "execution_count": null,
   "id": "0c01b42e",
   "metadata": {},
   "outputs": [],
   "source": [
    "x.view(-1, 12) # -1 , python automatically calculate the size"
   ]
  },
  {
   "cell_type": "code",
   "execution_count": null,
   "id": "23a31a5b",
   "metadata": {},
   "outputs": [],
   "source": [
    "a = torch.ones(5)\n",
    "a"
   ]
  },
  {
   "cell_type": "code",
   "execution_count": null,
   "id": "7643b40c",
   "metadata": {},
   "outputs": [],
   "source": [
    "b = a.numpy() #have to write copy(), otherwise they are stored at the same memory\n",
    "b"
   ]
  },
  {
   "cell_type": "code",
   "execution_count": null,
   "id": "c9d4d8e5",
   "metadata": {},
   "outputs": [],
   "source": [
    "c = a.numpy().copy() #have to write copy(), otherwise they are stored at the same memory and whenever you change the value in a it is also changed in b\n",
    "c"
   ]
  },
  {
   "cell_type": "code",
   "execution_count": null,
   "id": "015e1073",
   "metadata": {},
   "outputs": [],
   "source": [
    "a.add_(5)\n",
    "a"
   ]
  },
  {
   "cell_type": "code",
   "execution_count": null,
   "id": "5b0afc39",
   "metadata": {},
   "outputs": [],
   "source": [
    "b"
   ]
  },
  {
   "cell_type": "code",
   "execution_count": null,
   "id": "0d4960f3",
   "metadata": {},
   "outputs": [],
   "source": [
    "c"
   ]
  },
  {
   "cell_type": "code",
   "execution_count": null,
   "id": "7b04f96d",
   "metadata": {},
   "outputs": [],
   "source": [
    "x = torch.ones(5, requires_grad = True)\n",
    "x # it says to tensor that later it requires to calculate the gradients for this tensor in optimization steps"
   ]
  },
  {
   "cell_type": "code",
   "execution_count": null,
   "id": "5d32958f",
   "metadata": {},
   "outputs": [],
   "source": [
    "type(x[0].item())"
   ]
  },
  {
   "cell_type": "markdown",
   "id": "2810acea",
   "metadata": {},
   "source": [
    "$\\Large\\text{Gradient calculation with autograd}$"
   ]
  },
  {
   "cell_type": "code",
   "execution_count": null,
   "id": "a6d979f7",
   "metadata": {},
   "outputs": [],
   "source": [
    "x = torch.randn(3, requires_grad = True)\n",
    "x"
   ]
  },
  {
   "cell_type": "code",
   "execution_count": null,
   "id": "930fa45d",
   "metadata": {},
   "outputs": [],
   "source": [
    "y = x + 2\n",
    "y"
   ]
  },
  {
   "cell_type": "code",
   "execution_count": null,
   "id": "7c95614e",
   "metadata": {},
   "outputs": [],
   "source": [
    "z = y**2*2\n",
    "# z = z.mean()"
   ]
  },
  {
   "cell_type": "code",
   "execution_count": null,
   "id": "c8474a2e",
   "metadata": {},
   "outputs": [],
   "source": [
    "# z.backward() #dz/dx\n",
    "# print(x.grad)"
   ]
  },
  {
   "cell_type": "code",
   "execution_count": null,
   "id": "a08b81cd",
   "metadata": {},
   "outputs": [],
   "source": [
    "# What if we dont specify z = z.mean()\n",
    "v = torch.tensor([0.1, 1.0, 0.001], dtype = torch.float32)\n",
    "z.backward(v) # in the backward it is vector jacobian product\n",
    "print(x.grad) "
   ]
  },
  {
   "cell_type": "code",
   "execution_count": null,
   "id": "91792ad7",
   "metadata": {},
   "outputs": [],
   "source": [
    "# x.requires_grad_(False)\n",
    "# x.detach()\n",
    "# with torch.no_grad():"
   ]
  },
  {
   "cell_type": "code",
   "execution_count": null,
   "id": "f7ef8217",
   "metadata": {},
   "outputs": [],
   "source": [
    "x.requires_grad_(False) # Whenever our function has _ at the end it means that is modified our variable inplace\n",
    "x # Now x does not have requires_grad=True\n",
    "# The same will be with y = x.detach()\n",
    "# with torch.no_grad():\n",
    "#    y = x + 2 "
   ]
  },
  {
   "cell_type": "markdown",
   "id": "5cf848c7",
   "metadata": {},
   "source": [
    "$\\text{Whenever we call backward function then the gradient for this tensor will be accumulated into the dot grad attribute, the values will be summed up}$ "
   ]
  },
  {
   "cell_type": "code",
   "execution_count": null,
   "id": "4e615916",
   "metadata": {},
   "outputs": [],
   "source": [
    "weights = torch.ones(4 , requires_grad=True)"
   ]
  },
  {
   "cell_type": "markdown",
   "id": "92e3441d",
   "metadata": {},
   "source": [
    "$\\text{Before we do the next iteration or optimiztion we must empty the gradients}$"
   ]
  },
  {
   "cell_type": "code",
   "execution_count": null,
   "id": "df8bf10f",
   "metadata": {},
   "outputs": [],
   "source": [
    "for epoch in range(4):\n",
    "    model_output = (weights*3).sum()\n",
    "    \n",
    "    model_output.backward()\n",
    "    \n",
    "    print(weights.grad)\n",
    "    \n",
    "    weights.grad.zero_() # Empty "
   ]
  },
  {
   "cell_type": "code",
   "execution_count": null,
   "id": "0d1c4e27",
   "metadata": {},
   "outputs": [],
   "source": [
    "#With optimization\n",
    "\n",
    "# optimizer = torch.optim.SGD(weights, lr=0.01)\n",
    "# optimizer.step()\n",
    "# optimizer.zero_grad()"
   ]
  },
  {
   "cell_type": "markdown",
   "id": "5aa471c9",
   "metadata": {},
   "source": [
    "$\\Large\\text{Backpropagation}$"
   ]
  },
  {
   "cell_type": "code",
   "execution_count": null,
   "id": "1c6c948a",
   "metadata": {},
   "outputs": [],
   "source": [
    "x = torch.tensor(1.0)\n",
    "y = torch.tensor(2.0)\n",
    "\n",
    "w = torch.tensor(1.0,requires_grad = True)\n"
   ]
  },
  {
   "cell_type": "code",
   "execution_count": null,
   "id": "dc8069c1",
   "metadata": {},
   "outputs": [],
   "source": [
    "#forward pass and compute the loss"
   ]
  },
  {
   "cell_type": "code",
   "execution_count": null,
   "id": "ef602a49",
   "metadata": {},
   "outputs": [],
   "source": [
    "y_hat = w*x\n",
    "loss = (y_hat- y) **2\n",
    "loss"
   ]
  },
  {
   "cell_type": "code",
   "execution_count": null,
   "id": "97db7ddf",
   "metadata": {},
   "outputs": [],
   "source": [
    "# Backward pass\n",
    "loss.backward()\n",
    "w.grad"
   ]
  },
  {
   "cell_type": "markdown",
   "id": "f09d4cf5",
   "metadata": {},
   "source": [
    "$\\text{Next we have to update our weights and next forward and backkward}$"
   ]
  },
  {
   "cell_type": "markdown",
   "id": "2f3023e1",
   "metadata": {},
   "source": [
    "$\\Large\\text{Gradient Descent with Autograd and Backpropagation}$"
   ]
  },
  {
   "cell_type": "markdown",
   "id": "a794b6e5",
   "metadata": {},
   "source": [
    "$\\text{Manually}$"
   ]
  },
  {
   "cell_type": "code",
   "execution_count": null,
   "id": "18c4bc39",
   "metadata": {},
   "outputs": [],
   "source": [
    "def forward(x):\n",
    "    \n",
    "    return w * x"
   ]
  },
  {
   "cell_type": "code",
   "execution_count": null,
   "id": "abc17b5d",
   "metadata": {},
   "outputs": [],
   "source": [
    "def loss(y, y_pred):\n",
    "    \n",
    "    return ((y - y_pred)**2).mean()"
   ]
  },
  {
   "cell_type": "code",
   "execution_count": null,
   "id": "538f9eff",
   "metadata": {},
   "outputs": [],
   "source": [
    "#MSE = 1/N * (w*x - y)**2\n",
    "#dJ/dw = 1/N 2x (w*x - y)\n",
    "\n",
    "def gradient(x,y, y_pred):\n",
    "    \n",
    "    return np.dot(2*x, y_pred - y).mean()"
   ]
  },
  {
   "cell_type": "code",
   "execution_count": null,
   "id": "bdf89f06",
   "metadata": {},
   "outputs": [],
   "source": [
    "gradient(np.array([1,2,3]), np.array([2,4,8]), np.array([2,4,10]))"
   ]
  },
  {
   "cell_type": "code",
   "execution_count": null,
   "id": "bffd50a8",
   "metadata": {},
   "outputs": [],
   "source": [
    "loss(np.array([2,4,8]), np.array([2,4,10]))"
   ]
  },
  {
   "cell_type": "code",
   "execution_count": null,
   "id": "96f552bb",
   "metadata": {},
   "outputs": [],
   "source": [
    "print(f'Prediction before training: f(5) = {forward(5):.3f}')"
   ]
  },
  {
   "cell_type": "code",
   "execution_count": null,
   "id": "e1d3d5c2",
   "metadata": {},
   "outputs": [],
   "source": [
    "learning_rate = 0.01\n",
    "n_iters = 10"
   ]
  },
  {
   "cell_type": "code",
   "execution_count": null,
   "id": "f5fe97f2",
   "metadata": {},
   "outputs": [],
   "source": [
    "X = np.array(list(range(1,5)), dtype = np.float32)\n",
    "Y = X.copy()*2\n",
    "w = 0.0\n",
    "\n",
    "for epoch in range(n_iters):\n",
    "    \n",
    "    # prediction = forward pass \n",
    "    y_pred = forward(X)\n",
    "    \n",
    "    #loss \n",
    "    l = loss(Y,y_pred)\n",
    "    \n",
    "    #gradients\n",
    "    \n",
    "    dw = gradient(X,Y, y_pred)\n",
    "    \n",
    "    #update weights\n",
    "    \n",
    "    w = w - learning_rate*dw\n",
    "    \n",
    "    if epoch%1 == 0:\n",
    "        print(f'epoch {epoch + 1}: w = {w:.3f}, loss = {l:.8f}, dw = {dw}')\n",
    "        \n"
   ]
  },
  {
   "cell_type": "code",
   "execution_count": null,
   "id": "f2bfa085",
   "metadata": {},
   "outputs": [],
   "source": [
    "print(f'Prediction after training: f(5) = {forward(5):.3f}')"
   ]
  },
  {
   "cell_type": "markdown",
   "id": "fb23b523",
   "metadata": {},
   "source": [
    "$\\text{Gradients computation with Autograd}$"
   ]
  },
  {
   "cell_type": "code",
   "execution_count": null,
   "id": "89ce993d",
   "metadata": {},
   "outputs": [],
   "source": [
    "X = torch.tensor(list(range(1,5)), dtype = torch.float32)\n",
    "Y = X*2\n",
    "w = torch.tensor(0.0, dtype = torch.float32, requires_grad = True)\n",
    "n_iters = 20\n",
    "for epoch in range(n_iters):\n",
    "    \n",
    "    # prediction = forward pass \n",
    "    y_pred = forward(X)\n",
    "    #loss \n",
    "    l = loss(Y,y_pred)\n",
    "    \n",
    "    #gradients\n",
    "    \n",
    "    l.backward() # dl/dw\n",
    "    \n",
    "    #update weights\n",
    "    with torch.no_grad(): \n",
    "        w-= w.grad*learning_rate\n",
    "    # zero gradients\n",
    "    w.grad.zero_()\n",
    "    if epoch%2 == 0:\n",
    "        print(f'epoch {epoch + 1}: w = {w:.3f}, loss = {l:.8f}, dw = {dw}')\n",
    "        \n",
    "print(f'Prediction before training: f(5) = {forward(5):.3f}')"
   ]
  },
  {
   "cell_type": "markdown",
   "id": "1d005a0c",
   "metadata": {},
   "source": [
    "$\\text{Examples from the videos}$"
   ]
  },
  {
   "cell_type": "code",
   "execution_count": null,
   "id": "2e4faa3b",
   "metadata": {},
   "outputs": [],
   "source": [
    "zero = np.zeros((7,7), dtype = np.int32)\n",
    "\n",
    "zero[1:-1, 2::3] = 1\n",
    "zero[1:-1:4, 2:-1] = 1\n",
    "\n",
    "\n",
    "plt.imshow(zero , cmap = 'Greys')"
   ]
  },
  {
   "cell_type": "code",
   "execution_count": null,
   "id": "e70acee3",
   "metadata": {},
   "outputs": [],
   "source": [
    "one = np.zeros((7,7), dtype = np.int32)\n",
    "one[1:-1,3] = 1\n",
    "plt.imshow(one , cmap = 'Greys')"
   ]
  },
  {
   "cell_type": "code",
   "execution_count": null,
   "id": "8cb8a9c8",
   "metadata": {},
   "outputs": [],
   "source": [
    "two = np.zeros((7,7), dtype = np.int32)\n",
    "\n",
    "two[1:-1, 2] = 1\n",
    "two[1:-1:2, 2:-1] = 1\n",
    "two[2, 2] = 0\n",
    "two[2, -2] = 1\n",
    "\n",
    "\n",
    "\n",
    "plt.imshow(two , cmap = 'Greys')"
   ]
  },
  {
   "cell_type": "code",
   "execution_count": null,
   "id": "f98ba47c",
   "metadata": {},
   "outputs": [],
   "source": [
    "three = np.zeros((7,7), dtype = np.int32)\n",
    "\n",
    "three[1:-1, -2] = 1\n",
    "three[1:-1:2, 1:-2] = 1\n",
    "\n",
    "plt.imshow(three , cmap = 'Greys')"
   ]
  },
  {
   "cell_type": "code",
   "execution_count": null,
   "id": "c782abed",
   "metadata": {},
   "outputs": [],
   "source": [
    "four = np.zeros((7,7), dtype = np.int32)\n",
    "\n",
    "four[1:4, 2:-1:3] = 1\n",
    "four[3, 2:-1] = 1\n",
    "four[3 :-1, -2] = 1\n",
    "# four[1:-1:2, 1:-2] = 1\n",
    "\n",
    "plt.imshow(four , cmap = 'Greys')"
   ]
  },
  {
   "cell_type": "code",
   "execution_count": null,
   "id": "7c33d628",
   "metadata": {},
   "outputs": [],
   "source": [
    "five = np.zeros((7,7), dtype = np.int32)\n",
    "\n",
    "five[1:-1, 2] = 1\n",
    "five[1:-1:2, 2:-1] = 1\n",
    "five[-3, -2] = 1\n",
    "five[-3, 2] = 0\n",
    "\n",
    "\n",
    "plt.imshow(five , cmap = 'Greys')"
   ]
  },
  {
   "cell_type": "code",
   "execution_count": null,
   "id": "5276bdb9",
   "metadata": {},
   "outputs": [],
   "source": [
    "six = np.zeros((7,7), dtype = np.int32)\n",
    "\n",
    "six[1:-1, 2] = 1\n",
    "six[1:-1:2, 2:-1] = 1\n",
    "six[-3, -2] = 1\n",
    "\n",
    "# four[1:-1:2, 1:-2] = 1\n",
    "\n",
    "plt.imshow(six , cmap = 'Greys')"
   ]
  },
  {
   "cell_type": "code",
   "execution_count": null,
   "id": "b30600dc",
   "metadata": {},
   "outputs": [],
   "source": [
    "sev = np.zeros((7,7), dtype = np.int32)\n",
    "\n",
    "sev[1:-1, -3] = 1\n",
    "sev[1, 2:-3] = 1\n",
    "\n",
    "# four[1:-1:2, 1:-2] = 1\n",
    "\n",
    "plt.imshow(sev , cmap = 'Greys')"
   ]
  },
  {
   "cell_type": "code",
   "execution_count": null,
   "id": "b40c6bd5",
   "metadata": {},
   "outputs": [],
   "source": [
    "eig = np.zeros((7,7), dtype = np.int32)\n",
    "\n",
    "eig[1:-1, 2::3] = 1\n",
    "eig[1:-1:2, 2:-1] = 1\n",
    "\n",
    "\n",
    "plt.imshow(eig , cmap = 'Greys')"
   ]
  },
  {
   "cell_type": "code",
   "execution_count": null,
   "id": "54aeefd8",
   "metadata": {},
   "outputs": [],
   "source": [
    "nine = np.zeros((7,7), dtype = np.int32)\n",
    "\n",
    "nine[1:-1, 2] = 1\n",
    "nine[1:-1:2, 2:-1] = 1\n",
    "nine[-3, -2] = 1\n",
    "nine[-3, 2] = 0\n",
    "nine[2, -2] = 1\n",
    "\n",
    "plt.imshow(nine , cmap = 'Greys')"
   ]
  },
  {
   "cell_type": "code",
   "execution_count": null,
   "id": "a8875edf",
   "metadata": {},
   "outputs": [],
   "source": [
    "import random"
   ]
  },
  {
   "cell_type": "code",
   "execution_count": null,
   "id": "375ac7e5",
   "metadata": {},
   "outputs": [],
   "source": [
    "def relu(t):\n",
    "    return np.maximum(t,0)\n",
    "\n",
    "def softmax(t):\n",
    "    \n",
    "    out = np.exp(t)\n",
    "    return out/np.sum(out)\n",
    "\n",
    "def sparse_cross_entropy(z,y):\n",
    "    return -np.log(z[0,y])\n",
    "\n",
    "\n",
    "def relu_deriv(t):\n",
    "    \n",
    "    return (t >= 0).astype(float)\n",
    "\n",
    "def predict(x):\n",
    "    if x.shape[0] != 1:\n",
    "        x = x.reshape(1,-1)\n",
    "    t1 = np.dot(x, W1) + b1\n",
    "    h1 = relu(t1)\n",
    "    t2 = h1 @ W2 + b2\n",
    "    z = softmax(t2)\n",
    "    return z\n",
    "\n",
    "def cals_accuracy(cur_set):\n",
    "    correct = 0\n",
    "    \n",
    "    for x,y in cur_set:\n",
    "        z = predict(x)\n",
    "        y_pred = np.argmax(z)\n",
    "        if y_pred == y:\n",
    "            correct += 1\n",
    "    acc = correct / len(cur_set)\n",
    "    return acc\n",
    "\n",
    "def to_full(y, num_classes):\n",
    "    y_full = np.zeros((1,num_classes))\n",
    "    \n",
    "    y_full[0,y] = 1\n",
    "    \n",
    "    return y_full"
   ]
  },
  {
   "cell_type": "code",
   "execution_count": null,
   "id": "5f0d665c",
   "metadata": {},
   "outputs": [],
   "source": [
    "from sklearn import datasets"
   ]
  },
  {
   "cell_type": "code",
   "execution_count": null,
   "id": "07118c58",
   "metadata": {},
   "outputs": [],
   "source": [
    "iris = datasets.load_iris()"
   ]
  },
  {
   "cell_type": "code",
   "execution_count": null,
   "id": "bd05050d",
   "metadata": {},
   "outputs": [],
   "source": [
    "print(iris.get('target').shape)\n",
    "print(iris.data[0].shape)\n",
    "print(iris.data[0][None, ...].shape) # [None, ...] from (4,) to (1, 4 ) "
   ]
  },
  {
   "cell_type": "code",
   "execution_count": null,
   "id": "b2a89d23",
   "metadata": {},
   "outputs": [],
   "source": [
    "dataset = [(iris.data[i].reshape(1,-1), iris.target[i]) for i in range(len(iris.target))]\n",
    "dataset[:5]"
   ]
  },
  {
   "cell_type": "code",
   "execution_count": null,
   "id": "75446450",
   "metadata": {},
   "outputs": [],
   "source": [
    "input_dim = 4\n",
    "out_dim = 3\n",
    "h_dim = 5\n",
    "epoch = 100\n",
    "batch_size = 50 # Hyperparameter\n",
    "\n",
    "W1 = np.random.randn(input_dim, h_dim)\n",
    "b1 = np.random.randn(1, h_dim)\n",
    "W2 = np.random.rand(h_dim, out_dim)\n",
    "b2 = np.random.randn(1, out_dim)\n",
    "\n",
    "# new initial values\n",
    "\n",
    "W1 = (W1 - 0.5)*2 * np.sqrt(1/input_dim)\n",
    "b1 = (b1 - 0.5)*2 * np.sqrt(1/input_dim)\n",
    "W2 = (W2 - 0.5)*2 * np.sqrt(1/h_dim)\n",
    "b2 = (b2 - 0.5)*2 * np.sqrt(1/h_dim)"
   ]
  },
  {
   "cell_type": "code",
   "execution_count": null,
   "id": "b5b4c7dd",
   "metadata": {},
   "outputs": [],
   "source": [
    "loss_arr = []\n",
    "acc = []\n",
    "for ep in range(epoch):\n",
    "    \n",
    "    random.shuffle(dataset)\n",
    "    for i in range(len(dataset)):\n",
    "\n",
    "        x,y = dataset[i]\n",
    "        #Forward \n",
    "\n",
    "        t1 = np.dot(x, W1) + b1\n",
    "        h1 = relu(t1)\n",
    "        t2 = h1 @ W2 + b2\n",
    "        z = softmax(t2)\n",
    "\n",
    "        E = sparse_cross_entropy(z,y)\n",
    "\n",
    "        #Backward\n",
    "\n",
    "        y_full = to_full(y, out_dim)\n",
    "        dE_dt2 = z - y_full \n",
    "        dE_dW2 = h1.T @ dE_dt2\n",
    "        dE_db2 = dE_dt2\n",
    "        dE_dh1 = dE_dt2 @W2.T\n",
    "        dE_dt1 = dE_dh1 * relu_deriv(t1)\n",
    "        dE_dW1 = x.T @ dE_dt1\n",
    "        dE_db1 = dE_dt1\n",
    "\n",
    "        alpha = 0.001\n",
    "\n",
    "        # update \n",
    "\n",
    "        W1 = W1 - alpha * dE_dW1\n",
    "        b1 = b1 - alpha * dE_db1\n",
    "        W2 = W2 - alpha * dE_dW2\n",
    "        b2 = b2 - alpha * dE_db2\n",
    "        \n",
    "        loss_arr.append(E)\n",
    "#         acc.append(cals_accuracy(dataset))"
   ]
  },
  {
   "cell_type": "code",
   "execution_count": null,
   "id": "8601446a",
   "metadata": {},
   "outputs": [],
   "source": [
    "plt.plot(loss_arr)"
   ]
  },
  {
   "cell_type": "code",
   "execution_count": null,
   "id": "8dd58203",
   "metadata": {},
   "outputs": [],
   "source": [
    "def softmax_batch(t):\n",
    "    \n",
    "    out = np.exp(t)\n",
    "    return out/np.sum(out, axis = 1, keepdims = True)"
   ]
  },
  {
   "cell_type": "code",
   "execution_count": null,
   "id": "0bf5de14",
   "metadata": {},
   "outputs": [],
   "source": [
    "def sparse_cross_entropy_batch(z,y):\n",
    "    \n",
    "    return - np.log(np.array([z[j, y[j]] for j in range(len(y))]))"
   ]
  },
  {
   "cell_type": "code",
   "execution_count": null,
   "id": "67419d6d",
   "metadata": {},
   "outputs": [],
   "source": [
    "def to_full_batch(y, num_classes):\n",
    "    y_full = np.zeros((len(y), num_classes))\n",
    "    \n",
    "    for j, yj in enumerate(y):\n",
    "        y_full[j,yj] = 1\n",
    "        \n",
    "    return y_full"
   ]
  },
  {
   "cell_type": "code",
   "execution_count": null,
   "id": "707d2325",
   "metadata": {},
   "outputs": [],
   "source": [
    "loss_arr = []\n",
    "arr = []\n",
    "for ep in range(500):\n",
    "    \n",
    "    random.shuffle(dataset)\n",
    "    for i in range(len(dataset) // batch_size):\n",
    "        \n",
    "        batch_x, batch_y = zip(*dataset[i*batch_size: (i+1)*batch_size])\n",
    "        x = np.concatenate(batch_x, axis = 0)\n",
    "        y = np.array(batch_y)\n",
    "        #Forward \n",
    "\n",
    "        t1 = np.dot(x, W1) + b1\n",
    "        h1 = relu(t1)\n",
    "        t2 = h1 @ W2 + b2\n",
    "        z = softmax_batch(t2)\n",
    "\n",
    "        E = np.sum(sparse_cross_entropy_batch(z,y))\n",
    "\n",
    "        #Backward\n",
    "\n",
    "        y_full = to_full_batch(y, out_dim)\n",
    "        \n",
    "        dE_dt2 = z - y_full \n",
    "        dE_dW2 = h1.T @ dE_dt2\n",
    "        \n",
    "        dE_db2 = np.sum(dE_dt2, axis = 0, keepdims = True)\n",
    "        dE_dh1 = dE_dt2 @W2.T\n",
    "        dE_dt1 = dE_dh1 * relu_deriv(t1)\n",
    "        dE_dW1 = x.T @ dE_dt1\n",
    "        dE_db1 = np.sum(dE_dt1, axis = 0, keepdims = True)\n",
    "\n",
    "        alpha = 0.001\n",
    "\n",
    "        # update \n",
    "\n",
    "        W1 = W1 - alpha * dE_dW1\n",
    "        b1 = b1 - alpha * dE_db1\n",
    "        W2 = W2 - alpha * dE_dW2\n",
    "        b2 = b2 - alpha * dE_db2\n",
    "        \n",
    "        loss_arr.append(E)\n",
    "        acc.append(cals_accuracy(dataset))"
   ]
  },
  {
   "cell_type": "code",
   "execution_count": null,
   "id": "a8198cd2",
   "metadata": {},
   "outputs": [],
   "source": [
    "plt.plot(acc)"
   ]
  },
  {
   "cell_type": "code",
   "execution_count": null,
   "id": "16f901e3",
   "metadata": {},
   "outputs": [],
   "source": [
    "plt.plot(loss_arr)"
   ]
  },
  {
   "cell_type": "code",
   "execution_count": null,
   "id": "85265ce5",
   "metadata": {},
   "outputs": [],
   "source": [
    "acc[-1]"
   ]
  },
  {
   "cell_type": "code",
   "execution_count": null,
   "id": "a0e986c1",
   "metadata": {},
   "outputs": [],
   "source": [
    "curr0 = np.zeros(10, dtype = np.int32)\n",
    "curr1 = np.zeros(10, dtype = np.int32)\n",
    "curr2 = np.zeros(10, dtype = np.int32)\n",
    "curr3 = np.zeros(10, dtype = np.int32)\n",
    "curr4 = np.zeros(10, dtype = np.int32)\n",
    "curr5 = np.zeros(10, dtype = np.int32)\n",
    "curr6 = np.zeros(10, dtype = np.int32)\n",
    "curr7 = np.zeros(10, dtype = np.int32)\n",
    "curr8 = np.zeros(10, dtype = np.int32)\n",
    "curr9 = np.zeros(10, dtype = np.int32)\n",
    "\n",
    "curr0[0] = 1\n",
    "curr1[1] = 1\n",
    "curr2[2] = 1\n",
    "curr3[3] = 1\n",
    "curr4[4] = 1\n",
    "curr5[5] = 1\n",
    "curr6[6] = 1\n",
    "curr7[7] = 1\n",
    "curr8[8] = 1\n",
    "curr9[9] = 1"
   ]
  },
  {
   "cell_type": "code",
   "execution_count": null,
   "id": "b1326127",
   "metadata": {},
   "outputs": [],
   "source": [
    "digits = {\n",
    "    0:[zero, curr0],\n",
    "    1:[one,curr1],\n",
    "    2:[two,curr2],\n",
    "    3:[three,curr3],\n",
    "    4:[four,curr4],\n",
    "    5:[five,curr5],\n",
    "    6:[six,curr6],\n",
    "    7:[sev,curr7],\n",
    "    8:[eig,curr8],\n",
    "    9:[nine,curr9]}"
   ]
  },
  {
   "cell_type": "code",
   "execution_count": null,
   "id": "28c27133",
   "metadata": {},
   "outputs": [],
   "source": [
    "np.maximum([1,-2,3], 0)"
   ]
  },
  {
   "cell_type": "code",
   "execution_count": null,
   "id": "a4ba9315",
   "metadata": {},
   "outputs": [],
   "source": [
    "input_dim = 49\n",
    "\n",
    "h_dim = 10\n",
    "\n",
    "out_dim = 10"
   ]
  },
  {
   "cell_type": "code",
   "execution_count": null,
   "id": "a9cd2536",
   "metadata": {
    "scrolled": true
   },
   "outputs": [],
   "source": [
    "dts = list(digits.values())"
   ]
  },
  {
   "cell_type": "code",
   "execution_count": null,
   "id": "6935bccc",
   "metadata": {},
   "outputs": [],
   "source": [
    "input_dim = 49\n",
    "h_dim = 20\n",
    "out_dim = 10\n",
    "W1 = np.random.randn(input_dim, h_dim)\n",
    "b1 = np.random.randn(1, h_dim)\n",
    "W2 = np.random.rand(h_dim, out_dim)\n",
    "b2 = np.random.randn(1, out_dim)"
   ]
  },
  {
   "cell_type": "code",
   "execution_count": null,
   "id": "946f7d47",
   "metadata": {},
   "outputs": [],
   "source": [
    "loss_arr = []\n",
    "arr = []\n",
    "for ep in range(epoch):\n",
    "    \n",
    "    random.shuffle(dts)\n",
    "    for i in range(len(dts)):\n",
    "\n",
    "        x,y = dts[i]\n",
    "        x = x.ravel().reshape(1,-1).copy()\n",
    "        y = y.reshape(1,-1).copy()\n",
    "        #Forward \n",
    "\n",
    "        t1 = np.dot(x, W1) + b1\n",
    "        h1 = relu(t1)\n",
    "        t2 = h1 @ W2 + b2\n",
    "        z = softmax(t2)\n",
    "\n",
    "        E = sparse_cross_entropy(z,np.argmax(y))\n",
    "\n",
    "        #Backward\n",
    "\n",
    "        y_full = y.copy()\n",
    "        dE_dt2 = z - y_full \n",
    "        dE_dW2 = h1.T @ dE_dt2\n",
    "        dE_db2 = dE_dt2\n",
    "        dE_dh1 = dE_dt2 @W2.T\n",
    "        dE_dt1 = dE_dh1 * relu_deriv(t1)\n",
    "        dE_dW1 = x.T @ dE_dt1\n",
    "        dE_db1 = dE_dt1\n",
    "\n",
    "        alpha = 0.001\n",
    "\n",
    "        # update \n",
    "\n",
    "        W1 = W1 - alpha * dE_dW1\n",
    "        b1 = b1 - alpha * dE_db1\n",
    "        W2 = W2 - alpha * dE_dW2\n",
    "        b2 = b2 - alpha * dE_db2\n",
    "        \n",
    "        loss_arr.append(E)\n",
    "        y = np.argmax(y)\n",
    "#         acc.append(cals_accuracy(dts))"
   ]
  },
  {
   "cell_type": "code",
   "execution_count": null,
   "id": "39fda083",
   "metadata": {},
   "outputs": [],
   "source": [
    "num = 3\n",
    "plt.imshow(dts[num][0], cmap = 'binary')\n",
    "print(f'Predicted value - {np.argmax(predict(dts[num][0]))}')"
   ]
  },
  {
   "cell_type": "code",
   "execution_count": null,
   "id": "3b923bdf",
   "metadata": {},
   "outputs": [],
   "source": []
  },
  {
   "cell_type": "markdown",
   "id": "927f72b4",
   "metadata": {},
   "source": [
    "$\\text{Gradiens computation: Autograd, Loss computation: PyTorch Loss, Parameter updates: PyTorch Optimizer}$"
   ]
  },
  {
   "cell_type": "code",
   "execution_count": null,
   "id": "937452e1",
   "metadata": {},
   "outputs": [],
   "source": [
    "# 1) Design model (input size, output size, forward pass )\n",
    "# 2) Construct loss and optimizer\n",
    "# 3) Training loop\n",
    "\n",
    "# - forward pass: compute prediction\n",
    "# - backward pass: gradients\n",
    "# - update weights\n"
   ]
  },
  {
   "cell_type": "code",
   "execution_count": 2,
   "id": "7e76fcb4",
   "metadata": {},
   "outputs": [],
   "source": [
    "import torch.nn as nn"
   ]
  },
  {
   "cell_type": "code",
   "execution_count": 3,
   "id": "445749fa",
   "metadata": {},
   "outputs": [],
   "source": [
    "def forward(x):\n",
    "    \n",
    "    return w * x"
   ]
  },
  {
   "cell_type": "code",
   "execution_count": 7,
   "id": "6d0cf452",
   "metadata": {},
   "outputs": [
    {
     "name": "stdout",
     "output_type": "stream",
     "text": [
      "epoch 1: w = 0.300, loss = 30.00000000\n",
      "epoch 11: w = 1.665, loss = 1.16278565\n",
      "epoch 21: w = 1.934, loss = 0.04506890\n",
      "epoch 31: w = 1.987, loss = 0.00174685\n",
      "epoch 41: w = 1.997, loss = 0.00006770\n",
      "epoch 51: w = 1.999, loss = 0.00000262\n",
      "epoch 61: w = 2.000, loss = 0.00000010\n",
      "epoch 71: w = 2.000, loss = 0.00000000\n",
      "epoch 81: w = 2.000, loss = 0.00000000\n",
      "epoch 91: w = 2.000, loss = 0.00000000\n",
      "Prediction before training: f(5) = 10.000\n"
     ]
    }
   ],
   "source": [
    "X = torch.tensor(list(range(1,5)), dtype = torch.float32)\n",
    "Y = torch.tensor(list(range(1,5)), dtype = torch.float32)*2\n",
    "w = torch.tensor(0.0, dtype = torch.float32, requires_grad = True)\n",
    "n_iters = 100\n",
    "learning_rate = 0.01\n",
    "\n",
    "loss = nn.MSELoss()\n",
    "optimizer = torch.optim.SGD([w], lr = learning_rate)\n",
    "\n",
    "for epoch in range(n_iters):\n",
    "    \n",
    "    # prediction = forward pass \n",
    "    y_pred = forward(X)\n",
    "    #loss \n",
    "    l = loss(Y,y_pred)\n",
    "    \n",
    "    #gradients\n",
    "    \n",
    "    l.backward() # dl/dw\n",
    "    \n",
    "    #update weights\n",
    "    optimizer.step()\n",
    "    \n",
    "    # zero gradients\n",
    "    optimizer.zero_grad()\n",
    "    if epoch%10 == 0:\n",
    "        print(f'epoch {epoch + 1}: w = {w:.3f}, loss = {l:.8f}')\n",
    "        \n",
    "print(f'Prediction before training: f(5) = {forward(5):.3f}')"
   ]
  },
  {
   "cell_type": "code",
   "execution_count": 44,
   "id": "69cb995a",
   "metadata": {},
   "outputs": [
    {
     "name": "stdout",
     "output_type": "stream",
     "text": [
      "Prediction before training: f(5) = -2.396\n"
     ]
    }
   ],
   "source": [
    "X = X.reshape(-1,1)\n",
    "Y = Y.reshape(-1,1)\n",
    "n_iters = 1000\n",
    "learning_rate = 0.01\n",
    "\n",
    "n_samples, n_feature = X.shape\n",
    "\n",
    "input_size = n_feature\n",
    "output_size = n_feature\n",
    "\n",
    "X_test = torch.tensor([5], dtype = torch.float32)\n",
    "\n",
    "model = nn.Linear(input_size, output_size)\n",
    "print(f'Prediction before training: f(5) = {model(X_test).item():.3f}')\n",
    "\n",
    "loss = nn.MSELoss()\n",
    "optimizer = torch.optim.SGD(model.parameters(), lr = learning_rate)"
   ]
  },
  {
   "cell_type": "code",
   "execution_count": 45,
   "id": "a4129801",
   "metadata": {},
   "outputs": [
    {
     "name": "stdout",
     "output_type": "stream",
     "text": [
      "epoch 0: w = -0.094, loss = 46.41172028\n",
      "epoch 100: w = 1.825, loss = 0.04440691\n",
      "epoch 200: w = 1.870, loss = 0.02437883\n",
      "epoch 300: w = 1.904, loss = 0.01338367\n",
      "epoch 400: w = 1.929, loss = 0.00734748\n",
      "epoch 500: w = 1.947, loss = 0.00403367\n",
      "epoch 600: w = 1.961, loss = 0.00221444\n",
      "epoch 700: w = 1.971, loss = 0.00121571\n",
      "epoch 800: w = 1.979, loss = 0.00066740\n",
      "epoch 900: w = 1.984, loss = 0.00036640\n",
      "Prediction before training: f(5) = 9.976\n"
     ]
    }
   ],
   "source": [
    "for epoch in range(n_iters):\n",
    "    \n",
    "    # prediction = forward pass \n",
    "    y_pred = model(X)\n",
    "    #loss \n",
    "    l = loss(Y,y_pred)\n",
    "    \n",
    "    #gradients\n",
    "    \n",
    "    l.backward() # dl/dw\n",
    "    \n",
    "    #update weights\n",
    "    optimizer.step()\n",
    "    \n",
    "    # zero gradients\n",
    "    optimizer.zero_grad()\n",
    "    if epoch%100 == 0:\n",
    "        [w,b] = model.parameters()\n",
    "        print(f'epoch {epoch}: w = {w[0][0].item():.3f}, loss = {l:.8f}')\n",
    "        \n",
    "print(f'Prediction before training: f(5) = {model(X_test).item():.3f}')"
   ]
  },
  {
   "cell_type": "markdown",
   "id": "1c70c47c",
   "metadata": {},
   "source": [
    "$\\text{Let's write our own model}$"
   ]
  },
  {
   "cell_type": "code",
   "execution_count": 46,
   "id": "ed0521eb",
   "metadata": {},
   "outputs": [],
   "source": [
    "class LinearRegression(nn.Module):\n",
    "    \n",
    "    def __init__(self, input_dim, out_dim):\n",
    "        super().__init__()\n",
    "        #define layers\n",
    "        \n",
    "        self.lin = nn.Linear(input_dim, out_dim)\n",
    "        \n",
    "    def forward(self, x):\n",
    "        \n",
    "        return self.lin(x)\n"
   ]
  },
  {
   "cell_type": "code",
   "execution_count": 47,
   "id": "6f74fdf6",
   "metadata": {},
   "outputs": [
    {
     "name": "stdout",
     "output_type": "stream",
     "text": [
      "Prediction before training: f(5) = -2.991\n"
     ]
    }
   ],
   "source": [
    "X = X.reshape(-1,1)\n",
    "Y = Y.reshape(-1,1)\n",
    "n_iters = 1000\n",
    "learning_rate = 0.01\n",
    "\n",
    "n_samples, n_feature = X.shape\n",
    "\n",
    "input_size = n_feature\n",
    "output_size = n_feature\n",
    "\n",
    "X_test = torch.tensor([5], dtype = torch.float32)\n",
    "\n",
    "# model = nn.Linear(input_size, output_size)\n",
    "model = LinearRegression(input_size, output_size)\n",
    "print(f'Prediction before training: f(5) = {model(X_test).item():.3f}')\n",
    "\n",
    "loss = nn.MSELoss()\n",
    "optimizer = torch.optim.SGD(model.parameters(), lr = learning_rate)"
   ]
  },
  {
   "cell_type": "code",
   "execution_count": 48,
   "id": "807e0bbe",
   "metadata": {},
   "outputs": [
    {
     "name": "stdout",
     "output_type": "stream",
     "text": [
      "epoch 0: w = -0.241, loss = 49.87801361\n",
      "epoch 100: w = 1.766, loss = 0.07958636\n",
      "epoch 200: w = 1.827, loss = 0.04369196\n",
      "epoch 300: w = 1.871, loss = 0.02398637\n",
      "epoch 400: w = 1.905, loss = 0.01316821\n",
      "epoch 500: w = 1.929, loss = 0.00722919\n",
      "epoch 600: w = 1.948, loss = 0.00396873\n",
      "epoch 700: w = 1.961, loss = 0.00217879\n",
      "epoch 800: w = 1.971, loss = 0.00119612\n",
      "epoch 900: w = 1.979, loss = 0.00065665\n",
      "Prediction before training: f(5) = 9.967\n"
     ]
    }
   ],
   "source": [
    "for epoch in range(n_iters):\n",
    "    \n",
    "    # prediction = forward pass \n",
    "    y_pred = model(X)\n",
    "    #loss \n",
    "    l = loss(Y,y_pred)\n",
    "    \n",
    "    #gradients\n",
    "    \n",
    "    l.backward() # dl/dw\n",
    "    \n",
    "    #update weights\n",
    "    optimizer.step()\n",
    "    \n",
    "    # zero gradients\n",
    "    optimizer.zero_grad()\n",
    "    if epoch%100 == 0:\n",
    "        [w,b] = model.parameters()\n",
    "        print(f'epoch {epoch}: w = {w[0][0].item():.3f}, loss = {l:.8f}')\n",
    "        \n",
    "print(f'Prediction before training: f(5) = {model(X_test).item():.3f}')"
   ]
  },
  {
   "cell_type": "code",
   "execution_count": 50,
   "id": "6cecb0ed",
   "metadata": {},
   "outputs": [],
   "source": [
    "from sklearn import datasets"
   ]
  },
  {
   "cell_type": "code",
   "execution_count": 53,
   "id": "a03d151d",
   "metadata": {},
   "outputs": [],
   "source": [
    "#0) prepare data\n",
    "\n",
    "X_numpy, y_numpy = datasets.make_regression(n_samples = 100, n_features=1, noise=20, random_state=1)\n",
    "\n",
    "X = torch.from_numpy(X_numpy.astype(np.float32))\n",
    "y = torch.from_numpy(y_numpy.astype(np.float32))\n",
    "\n",
    "y = y.view(y.shape[0], 1) #reshape tensor\n",
    "\n",
    "n_samples, n_features = X.shape"
   ]
  },
  {
   "cell_type": "code",
   "execution_count": 54,
   "id": "c4618f6e",
   "metadata": {},
   "outputs": [],
   "source": [
    "#1) Model\n",
    "\n",
    "input_size = n_features\n",
    "output_size = 1 # We want to have one value for each sample that we want to put in\n",
    "model = nn.Linear(input_size, output_size)"
   ]
  },
  {
   "cell_type": "code",
   "execution_count": 57,
   "id": "89111288",
   "metadata": {},
   "outputs": [],
   "source": [
    "#2)Loss and optimizer\n",
    "learning_rate = 0.01\n",
    "criterion = nn.MSELoss()\n",
    "optimizer = torch.optim.SGD(model.parameters(), lr = learning_rate)"
   ]
  },
  {
   "cell_type": "code",
   "execution_count": 60,
   "id": "c289db2a",
   "metadata": {},
   "outputs": [
    {
     "name": "stdout",
     "output_type": "stream",
     "text": [
      "epoch: 10, loss = 502.1649\n",
      "epoch: 20, loss = 456.3393\n",
      "epoch: 30, loss = 422.9299\n",
      "epoch: 40, loss = 398.5614\n",
      "epoch: 50, loss = 380.7797\n",
      "epoch: 60, loss = 367.7990\n",
      "epoch: 70, loss = 358.3199\n",
      "epoch: 80, loss = 351.3958\n",
      "epoch: 90, loss = 346.3363\n",
      "epoch: 100, loss = 342.6384\n"
     ]
    },
    {
     "data": {
      "image/png": "[encoded data removed]",
      "text/plain": [
       "<Figure size 640x480 with 1 Axes>"
      ]
     },
     "metadata": {},
     "output_type": "display_data"
    }
   ],
   "source": [
    "#3) training loop\n",
    "\n",
    "n_epochs = 100\n",
    "\n",
    "for ep in range(n_epochs):\n",
    "    \n",
    "    #forward pass and loss\n",
    "    y_pred = model(X)\n",
    "    loss = criterion(y_pred, y)\n",
    "    #backward \n",
    "    \n",
    "    loss.backward()\n",
    "    \n",
    "    #update\n",
    "    \n",
    "    optimizer.step() #update the weights\n",
    "    \n",
    "    optimizer.zero_grad()\n",
    "    \n",
    "    if (ep+1) % 10 == 0:\n",
    "        \n",
    "        print(f'epoch: {ep+1}, loss = {loss.item():.4f}')\n",
    "\n",
    "predicted = model(X).detach().numpy()  # detach() generate new tensor where our attribute required_grad is false\n",
    "plt.plot(X_numpy, y_numpy, 'ro')\n",
    "plt.plot(X_numpy, predicted, 'b')\n",
    "plt.show()"
   ]
  },
  {
   "cell_type": "code",
   "execution_count": 62,
   "id": "c18e7060",
   "metadata": {},
   "outputs": [],
   "source": [
    "from sklearn.preprocessing import StandardScaler\n",
    "from sklearn.model_selection import train_test_split"
   ]
  },
  {
   "cell_type": "code",
   "execution_count": 80,
   "id": "27bf3e65",
   "metadata": {},
   "outputs": [
    {
     "name": "stdout",
     "output_type": "stream",
     "text": [
      "569 30\n"
     ]
    }
   ],
   "source": [
    "#0) prepare data\n",
    "\n",
    "bc = datasets.load_breast_cancer()\n",
    "X,y = bc.data, bc.target\n",
    "\n",
    "n_samples, n_features = X.shape\n",
    "print(n_samples, n_features)\n",
    "\n",
    "X_train, X_test, y_train, y_test = train_test_split(X,y, test_size = 0.2, random_state = 1234)\n",
    "\n",
    "# scale \n",
    "sc = StandardScaler()\n",
    "X_train = sc.fit_transform(X_train)\n",
    "X_test = sc.transform(X_test)\n",
    "\n",
    "X_train = torch.from_numpy(X_train.astype(np.float32))\n",
    "X_test = torch.from_numpy(X_test.astype(np.float32))\n",
    "y_train = torch.from_numpy(y_train.astype(np.float32))\n",
    "y_test = torch.from_numpy(y_test.astype(np.float32))\n",
    "\n",
    "y_train = y_train.view(y_train.shape[0], 1)\n",
    "y_test = y_test.view(y_test.shape[0], 1)\n",
    "\n"
   ]
  },
  {
   "cell_type": "code",
   "execution_count": 81,
   "id": "bc5ff0d0",
   "metadata": {},
   "outputs": [],
   "source": [
    "#1) Model\n",
    "# f = wx+b, sigmoid at the end\n",
    "\n",
    "class LogisticRegression(nn.Module):\n",
    "    \n",
    "    def __init__(self, n_input_features):\n",
    "        super().__init__()\n",
    "        \n",
    "        self.linear = nn.Linear(n_input_features, 1)\n",
    "        \n",
    "        \n",
    "    def forward(self, x):\n",
    "        \n",
    "        y_predicted = torch.sigmoid(self.linear(x))\n",
    "        \n",
    "        return y_predicted\n",
    "    \n",
    "model = LogisticRegression(n_features)"
   ]
  },
  {
   "cell_type": "code",
   "execution_count": 82,
   "id": "2ece9036",
   "metadata": {},
   "outputs": [],
   "source": [
    "#2) loss and optimizer \n",
    "\n",
    "criterion = nn.BCELoss()\n",
    "learning_rate = 0.01\n",
    "optimizer = torch.optim.SGD(model.parameters(), lr = learning_rate)"
   ]
  },
  {
   "cell_type": "code",
   "execution_count": 83,
   "id": "5a384f20",
   "metadata": {},
   "outputs": [
    {
     "name": "stdout",
     "output_type": "stream",
     "text": [
      "epoch: 100, loss = 0.2306\n",
      "epoch: 200, loss = 0.1691\n",
      "epoch: 300, loss = 0.1419\n",
      "epoch: 400, loss = 0.1256\n",
      "epoch: 500, loss = 0.1146\n",
      "epoch: 600, loss = 0.1064\n",
      "epoch: 700, loss = 0.1001\n",
      "epoch: 800, loss = 0.0951\n",
      "epoch: 900, loss = 0.0909\n",
      "epoch: 1000, loss = 0.0873\n",
      "accuracy = 0.9474\n"
     ]
    }
   ],
   "source": [
    "#3) training loop\n",
    "\n",
    "num_epochs = 1000\n",
    "\n",
    "for epoch in range(num_epochs):\n",
    "    #forward pass and loss \n",
    "    \n",
    "    y_predicted = model(X_train)\n",
    "    loss = criterion(y_predicted, y_train)\n",
    "    \n",
    "    # backward pass \n",
    "    \n",
    "    loss.backward()\n",
    "    \n",
    "    # updates\n",
    "    optimizer.step()\n",
    "    \n",
    "    # zero gradients\n",
    "    optimizer.zero_grad()\n",
    "    \n",
    "    if (epoch+1)  % 100 ==0:\n",
    "        \n",
    "        print(f'epoch: {epoch+1}, loss = {loss.item():.4f}')\n",
    "\n",
    "with torch.no_grad():\n",
    "    y_predicted = model(X_test)\n",
    "    y_predicted_cls = y_predicted.round()\n",
    "    acc = y_predicted_cls.eq(y_test).sum() / float(y_test.shape[0])\n",
    "    print(f'accuracy = {acc:.4f}')\n"
   ]
  },
  {
   "cell_type": "code",
   "execution_count": null,
   "id": "c9d5214f",
   "metadata": {},
   "outputs": [],
   "source": []
  },
  {
   "cell_type": "markdown",
   "id": "0319a72f",
   "metadata": {},
   "source": [
    "$\\Large\\text{Dataset and DataLoader - Batch Training}$"
   ]
  },
  {
   "cell_type": "code",
   "execution_count": 21,
   "id": "b1ddb90d",
   "metadata": {},
   "outputs": [],
   "source": [
    "import torch\n",
    "import torchvision\n",
    "from torch.utils.data import Dataset, DataLoader\n",
    "import math"
   ]
  },
  {
   "cell_type": "code",
   "execution_count": 22,
   "id": "d962e2c0",
   "metadata": {},
   "outputs": [],
   "source": [
    "#implementation of our own dataset\n",
    "class WineDataset(Dataset):\n",
    "    \n",
    "    def __init__(self):\n",
    "        \n",
    "        #data loading\n",
    "        xy = np.loadtxt('wine.csv', delimiter=',', dtype = np.float32, skiprows=1)\n",
    "        self.x = torch.from_numpy(xy[:,1:])\n",
    "        self.y = torch.from_numpy(xy[:,[0]]) #n_samples = 1\n",
    "        self.n_samples = xy.shape[0]\n",
    "        \n",
    "        \n",
    "    def __getitem__(self,index):\n",
    "        # dataset[0]\n",
    "        return self.x[index], self.y[index]\n",
    "        \n",
    "    def __len__(self):  # is used to len(dataset)\n",
    "        return self.n_samples\n",
    "        #len(dataset)"
   ]
  },
  {
   "cell_type": "code",
   "execution_count": 30,
   "id": "b68663e8",
   "metadata": {},
   "outputs": [],
   "source": [
    "batch_size = 4\n",
    "dataset = WineDataset()\n",
    "dataloader = DataLoader(dataset=dataset, batch_size=batch_size, shuffle = True) # num_workers=2 we can add \n",
    "# first_data = dataset[0]\n",
    "# features, labels = first_data\n",
    "# features, labels"
   ]
  },
  {
   "cell_type": "code",
   "execution_count": 31,
   "id": "696d1aa8",
   "metadata": {},
   "outputs": [],
   "source": [
    "# dataloader = DataLoader(dataset=dataset, batch_size=4, shuffle = True) # num_workers=2 we can add \n",
    "# dataiter = iter(dataloader)\n",
    "# data = next(dataiter)\n",
    "# features, labels = data\n",
    "# features, labels"
   ]
  },
  {
   "cell_type": "code",
   "execution_count": 33,
   "id": "577c13e5",
   "metadata": {},
   "outputs": [
    {
     "name": "stdout",
     "output_type": "stream",
     "text": [
      "178 45\n"
     ]
    }
   ],
   "source": [
    "#training loop\n",
    "\n",
    "num_epochs = 2\n",
    "total_samples = len(dataset)\n",
    "n_iterations = math.ceil(total_samples / batch_size)\n",
    "print(total_samples,n_iterations)"
   ]
  },
  {
   "cell_type": "code",
   "execution_count": 37,
   "id": "a554166b",
   "metadata": {},
   "outputs": [
    {
     "name": "stdout",
     "output_type": "stream",
     "text": [
      "epoch 1/2, step 5/45, inputs torch.Size([4, 13])\n",
      "epoch 1/2, step 10/45, inputs torch.Size([4, 13])\n",
      "epoch 1/2, step 15/45, inputs torch.Size([4, 13])\n",
      "epoch 1/2, step 20/45, inputs torch.Size([4, 13])\n",
      "epoch 1/2, step 25/45, inputs torch.Size([4, 13])\n",
      "epoch 1/2, step 30/45, inputs torch.Size([4, 13])\n",
      "epoch 1/2, step 35/45, inputs torch.Size([4, 13])\n",
      "epoch 1/2, step 40/45, inputs torch.Size([4, 13])\n",
      "epoch 1/2, step 45/45, inputs torch.Size([2, 13])\n",
      "epoch 2/2, step 5/45, inputs torch.Size([4, 13])\n",
      "epoch 2/2, step 10/45, inputs torch.Size([4, 13])\n",
      "epoch 2/2, step 15/45, inputs torch.Size([4, 13])\n",
      "epoch 2/2, step 20/45, inputs torch.Size([4, 13])\n",
      "epoch 2/2, step 25/45, inputs torch.Size([4, 13])\n",
      "epoch 2/2, step 30/45, inputs torch.Size([4, 13])\n",
      "epoch 2/2, step 35/45, inputs torch.Size([4, 13])\n",
      "epoch 2/2, step 40/45, inputs torch.Size([4, 13])\n",
      "epoch 2/2, step 45/45, inputs torch.Size([2, 13])\n"
     ]
    }
   ],
   "source": [
    "for epoch in range(num_epochs):\n",
    "    for i, (inputs, labels) in enumerate(dataloader):\n",
    "        # forward backward update\n",
    "        \n",
    "        if (i+1) % 5 == 0:\n",
    "            print(f'epoch {epoch+1}/{num_epochs}, step {i+1}/{n_iterations}, inputs {inputs.shape}')"
   ]
  },
  {
   "cell_type": "code",
   "execution_count": 39,
   "id": "aa15a9cb",
   "metadata": {},
   "outputs": [],
   "source": [
    "# torchvision.datasets.MNIST() built-in datasets\n",
    "#fashion-mnist , cifar, coco"
   ]
  },
  {
   "cell_type": "markdown",
   "id": "6685d999",
   "metadata": {},
   "source": [
    "$\\Large\\text{Dataset Transforms}$"
   ]
  },
  {
   "cell_type": "code",
   "execution_count": 45,
   "id": "7194a010",
   "metadata": {},
   "outputs": [],
   "source": [
    "#implementation of our own dataset\n",
    "class WineDataset(Dataset):\n",
    "    \n",
    "    def __init__(self, transform = None):\n",
    "        \n",
    "        #data loading\n",
    "        xy = np.loadtxt('wine.csv', delimiter=',', dtype = np.float32, skiprows=1)\n",
    "#         self.x = torch.from_numpy(xy[:,1:])\n",
    "#         self.y = torch.from_numpy(xy[:,[0]]) #n_samples = 1\n",
    "        \n",
    "        self.x = xy[:,1:]\n",
    "        self.y = xy[:,[0]]\n",
    "    \n",
    "        self.n_samples = xy.shape[0]\n",
    "        \n",
    "        self.transform = transform\n",
    "        \n",
    "    def __getitem__(self,index):\n",
    "        # dataset[0]\n",
    "        sample = self.x[index], self.y[index]\n",
    "        if self.transform:\n",
    "            sample = self.transform(sample)\n",
    "            \n",
    "        return sample\n",
    "        \n",
    "    def __len__(self):  # is used to len(dataset)\n",
    "        return self.n_samples\n",
    "        #len(dataset)\n",
    "    "
   ]
  },
  {
   "cell_type": "code",
   "execution_count": 47,
   "id": "7cf22ace",
   "metadata": {},
   "outputs": [],
   "source": [
    "class ToTensor:\n",
    "    def __call__(self, sample):\n",
    "        inputs, targets = sample\n",
    "        \n",
    "        return torch.from_numpy(inputs), torch.from_numpy(targets)"
   ]
  },
  {
   "cell_type": "code",
   "execution_count": 50,
   "id": "6f908771",
   "metadata": {},
   "outputs": [],
   "source": [
    "class MulTransform:\n",
    "    \n",
    "    def __init__(self,factor):\n",
    "        self.factor = factor\n",
    "        \n",
    "    def __call__(self, sample):\n",
    "        \n",
    "        inputs, target = sample\n",
    "        \n",
    "        inputs *= self.factor\n",
    "        \n",
    "        return inputs, target"
   ]
  },
  {
   "cell_type": "code",
   "execution_count": 49,
   "id": "bc3a8871",
   "metadata": {},
   "outputs": [
    {
     "data": {
      "text/plain": [
       "torch.Tensor"
      ]
     },
     "execution_count": 49,
     "metadata": {},
     "output_type": "execute_result"
    }
   ],
   "source": [
    "dataset = WineDataset(transform=ToTensor())\n",
    "first_data = dataset[0]\n",
    "features, labels = first_data\n",
    "type(features)"
   ]
  },
  {
   "cell_type": "code",
   "execution_count": 51,
   "id": "59600909",
   "metadata": {},
   "outputs": [
    {
     "data": {
      "text/plain": [
       "(tensor([2.8460e+01, 3.4200e+00, 4.8600e+00, 3.1200e+01, 2.5400e+02, 5.6000e+00,\n",
       "         6.1200e+00, 5.6000e-01, 4.5800e+00, 1.1280e+01, 2.0800e+00, 7.8400e+00,\n",
       "         2.1300e+03]),\n",
       " tensor([1.]))"
      ]
     },
     "execution_count": 51,
     "metadata": {},
     "output_type": "execute_result"
    }
   ],
   "source": [
    "# Compose transform\n",
    "\n",
    "composed = torchvision.transforms.Compose([ToTensor(), MulTransform(2)])\n",
    "dataset = WineDataset(transform = composed)\n",
    "first_data = dataset[0]\n",
    "features, labels = first_data\n",
    "features, labels"
   ]
  },
  {
   "cell_type": "code",
   "execution_count": null,
   "id": "5faf8c77",
   "metadata": {},
   "outputs": [],
   "source": []
  }
 ],
 "metadata": {
  "kernelspec": {
   "display_name": "Python 3 (ipykernel)",
   "language": "python",
   "name": "python3"
  },
  "language_info": {
   "codemirror_mode": {
    "name": "ipython",
    "version": 3
   },
   "file_extension": ".py",
   "mimetype": "text/x-python",
   "name": "python",
   "nbconvert_exporter": "python",
   "pygments_lexer": "ipython3",
   "version": "3.10.0"
  },
  "toc": {
   "base_numbering": 1,
   "nav_menu": {},
   "number_sections": true,
   "sideBar": true,
   "skip_h1_title": false,
   "title_cell": "Table of Contents",
   "title_sidebar": "Contents",
   "toc_cell": false,
   "toc_position": {},
   "toc_section_display": true,
   "toc_window_display": false
  }
 },
 "nbformat": 4,
 "nbformat_minor": 5
}
