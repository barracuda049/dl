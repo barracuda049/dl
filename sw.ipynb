{
 "cells": [
  {
   "cell_type": "code",
   "execution_count": 1,
   "id": "c24b273a",
   "metadata": {},
   "outputs": [],
   "source": [
    "import os\n",
    "import glob\n",
    "import torch\n",
    "import numpy as np\n",
    "import matplotlib.pyplot as plt\n",
    "import torch.nn as nn\n",
    "from torchvision.transforms import transforms\n",
    "from torch.utils.data import DataLoader\n",
    "from torch.optim import Adam\n",
    "from torch.autograd import Variable\n",
    "import torchvision \n",
    "import pathlib\n",
    "from pathlib import Path"
   ]
  },
  {
   "cell_type": "markdown",
   "id": "7e5c986e",
   "metadata": {},
   "source": [
    "$\\Large\\text{Data load}$"
   ]
  },
  {
   "cell_type": "code",
   "execution_count": 2,
   "id": "26589fe5",
   "metadata": {},
   "outputs": [],
   "source": [
    "path_folder = 'TOP4040/'"
   ]
  },
  {
   "cell_type": "code",
   "execution_count": 3,
   "id": "614dc327",
   "metadata": {},
   "outputs": [],
   "source": [
    "folder = Path(path_folder)"
   ]
  },
  {
   "cell_type": "code",
   "execution_count": 4,
   "id": "d7f18488",
   "metadata": {},
   "outputs": [],
   "source": [
    "data = np.load(path_folder + '3.npz')['arr_0']"
   ]
  },
  {
   "cell_type": "code",
   "execution_count": 5,
   "id": "6a0bf3b2",
   "metadata": {},
   "outputs": [
    {
     "data": {
      "text/plain": [
       "<matplotlib.image.AxesImage at 0x12c0aab60>"
      ]
     },
     "execution_count": 5,
     "metadata": {},
     "output_type": "execute_result"
    },
    {
     "data": {
      "image/png": "[encoded data removed]",
      "text/plain": [
       "<Figure size 640x480 with 1 Axes>"
      ]
     },
     "metadata": {},
     "output_type": "display_data"
    }
   ],
   "source": [
    "plt.imshow(data[-1], cmap='Greys')"
   ]
  },
  {
   "cell_type": "code",
   "execution_count": null,
   "id": "3510d07b",
   "metadata": {},
   "outputs": [],
   "source": []
  },
  {
   "cell_type": "markdown",
   "id": "5210208c",
   "metadata": {},
   "source": [
    "$\\Large\\text{Examples of tensor usage}$"
   ]
  },
  {
   "cell_type": "code",
   "execution_count": 6,
   "id": "b56fc848",
   "metadata": {},
   "outputs": [
    {
     "data": {
      "text/plain": [
       "tensor([[0.9437, 0.7451, 0.6873, 0.9081, 0.4807, 0.9837],\n",
       "        [0.8485, 0.9148, 0.4075, 0.1727, 0.8885, 0.3662],\n",
       "        [0.9644, 0.4780, 0.9916, 0.2962, 0.2939, 0.7262],\n",
       "        [0.3822, 0.4830, 0.0492, 0.2807, 0.9618, 0.1577],\n",
       "        [0.2739, 0.6677, 0.6870, 0.9717, 0.8188, 0.0553],\n",
       "        [0.6713, 0.2380, 0.8318, 0.8777, 0.7410, 0.7518]])"
      ]
     },
     "execution_count": 6,
     "metadata": {},
     "output_type": "execute_result"
    }
   ],
   "source": [
    "x = torch.rand(6,6)\n",
    "x"
   ]
  },
  {
   "cell_type": "code",
   "execution_count": 7,
   "id": "b93d4b73",
   "metadata": {},
   "outputs": [
    {
     "data": {
      "text/plain": [
       "tensor([0.9437, 0.7451, 0.6873, 0.9081, 0.4807, 0.9837, 0.8485, 0.9148, 0.4075,\n",
       "        0.1727, 0.8885, 0.3662, 0.9644, 0.4780, 0.9916, 0.2962, 0.2939, 0.7262,\n",
       "        0.3822, 0.4830, 0.0492, 0.2807, 0.9618, 0.1577, 0.2739, 0.6677, 0.6870,\n",
       "        0.9717, 0.8188, 0.0553, 0.6713, 0.2380, 0.8318, 0.8777, 0.7410, 0.7518])"
      ]
     },
     "execution_count": 7,
     "metadata": {},
     "output_type": "execute_result"
    }
   ],
   "source": [
    "x.view(36)"
   ]
  },
  {
   "cell_type": "code",
   "execution_count": 8,
   "id": "2a4ca5bc",
   "metadata": {},
   "outputs": [
    {
     "data": {
      "text/plain": [
       "tensor([[0.9437, 0.7451, 0.6873, 0.9081, 0.4807, 0.9837, 0.8485, 0.9148, 0.4075,\n",
       "         0.1727, 0.8885, 0.3662],\n",
       "        [0.9644, 0.4780, 0.9916, 0.2962, 0.2939, 0.7262, 0.3822, 0.4830, 0.0492,\n",
       "         0.2807, 0.9618, 0.1577],\n",
       "        [0.2739, 0.6677, 0.6870, 0.9717, 0.8188, 0.0553, 0.6713, 0.2380, 0.8318,\n",
       "         0.8777, 0.7410, 0.7518]])"
      ]
     },
     "execution_count": 8,
     "metadata": {},
     "output_type": "execute_result"
    }
   ],
   "source": [
    "x.view(3,12)"
   ]
  },
  {
   "cell_type": "code",
   "execution_count": 9,
   "id": "0c01b42e",
   "metadata": {},
   "outputs": [
    {
     "data": {
      "text/plain": [
       "tensor([[0.9437, 0.7451, 0.6873, 0.9081, 0.4807, 0.9837, 0.8485, 0.9148, 0.4075,\n",
       "         0.1727, 0.8885, 0.3662],\n",
       "        [0.9644, 0.4780, 0.9916, 0.2962, 0.2939, 0.7262, 0.3822, 0.4830, 0.0492,\n",
       "         0.2807, 0.9618, 0.1577],\n",
       "        [0.2739, 0.6677, 0.6870, 0.9717, 0.8188, 0.0553, 0.6713, 0.2380, 0.8318,\n",
       "         0.8777, 0.7410, 0.7518]])"
      ]
     },
     "execution_count": 9,
     "metadata": {},
     "output_type": "execute_result"
    }
   ],
   "source": [
    "x.view(-1, 12) # -1 , python automatically calculate the size"
   ]
  },
  {
   "cell_type": "code",
   "execution_count": 10,
   "id": "23a31a5b",
   "metadata": {},
   "outputs": [
    {
     "data": {
      "text/plain": [
       "tensor([1., 1., 1., 1., 1.])"
      ]
     },
     "execution_count": 10,
     "metadata": {},
     "output_type": "execute_result"
    }
   ],
   "source": [
    "a = torch.ones(5)\n",
    "a"
   ]
  },
  {
   "cell_type": "code",
   "execution_count": 11,
   "id": "7643b40c",
   "metadata": {},
   "outputs": [
    {
     "data": {
      "text/plain": [
       "array([1., 1., 1., 1., 1.], dtype=float32)"
      ]
     },
     "execution_count": 11,
     "metadata": {},
     "output_type": "execute_result"
    }
   ],
   "source": [
    "b = a.numpy() #have to write copy(), otherwise they are stored at the same memory\n",
    "b"
   ]
  },
  {
   "cell_type": "code",
   "execution_count": 12,
   "id": "c9d4d8e5",
   "metadata": {},
   "outputs": [
    {
     "data": {
      "text/plain": [
       "array([1., 1., 1., 1., 1.], dtype=float32)"
      ]
     },
     "execution_count": 12,
     "metadata": {},
     "output_type": "execute_result"
    }
   ],
   "source": [
    "c = a.numpy().copy() #have to write copy(), otherwise they are stored at the same memory and whenever you change the value in a it is also changed in b\n",
    "c"
   ]
  },
  {
   "cell_type": "code",
   "execution_count": 13,
   "id": "015e1073",
   "metadata": {},
   "outputs": [
    {
     "data": {
      "text/plain": [
       "tensor([6., 6., 6., 6., 6.])"
      ]
     },
     "execution_count": 13,
     "metadata": {},
     "output_type": "execute_result"
    }
   ],
   "source": [
    "a.add_(5)\n",
    "a"
   ]
  },
  {
   "cell_type": "code",
   "execution_count": 14,
   "id": "5b0afc39",
   "metadata": {},
   "outputs": [
    {
     "data": {
      "text/plain": [
       "array([6., 6., 6., 6., 6.], dtype=float32)"
      ]
     },
     "execution_count": 14,
     "metadata": {},
     "output_type": "execute_result"
    }
   ],
   "source": [
    "b"
   ]
  },
  {
   "cell_type": "code",
   "execution_count": 15,
   "id": "0d4960f3",
   "metadata": {},
   "outputs": [
    {
     "data": {
      "text/plain": [
       "array([1., 1., 1., 1., 1.], dtype=float32)"
      ]
     },
     "execution_count": 15,
     "metadata": {},
     "output_type": "execute_result"
    }
   ],
   "source": [
    "c"
   ]
  },
  {
   "cell_type": "code",
   "execution_count": 16,
   "id": "7b04f96d",
   "metadata": {},
   "outputs": [
    {
     "data": {
      "text/plain": [
       "tensor([1., 1., 1., 1., 1.], requires_grad=True)"
      ]
     },
     "execution_count": 16,
     "metadata": {},
     "output_type": "execute_result"
    }
   ],
   "source": [
    "x = torch.ones(5, requires_grad = True)\n",
    "x # it says to tensor that later it requires to calculate the gradients for this tensor in optimization steps"
   ]
  },
  {
   "cell_type": "code",
   "execution_count": 17,
   "id": "5d32958f",
   "metadata": {},
   "outputs": [
    {
     "data": {
      "text/plain": [
       "float"
      ]
     },
     "execution_count": 17,
     "metadata": {},
     "output_type": "execute_result"
    }
   ],
   "source": [
    "type(x[0].item())"
   ]
  },
  {
   "cell_type": "markdown",
   "id": "2810acea",
   "metadata": {},
   "source": [
    "$\\Large\\text{Gradient calculation with autograd}$"
   ]
  },
  {
   "cell_type": "code",
   "execution_count": 18,
   "id": "a6d979f7",
   "metadata": {},
   "outputs": [
    {
     "data": {
      "text/plain": [
       "tensor([-2.5327,  0.3502, -1.0688], requires_grad=True)"
      ]
     },
     "execution_count": 18,
     "metadata": {},
     "output_type": "execute_result"
    }
   ],
   "source": [
    "x = torch.randn(3, requires_grad = True)\n",
    "x"
   ]
  },
  {
   "cell_type": "code",
   "execution_count": 19,
   "id": "930fa45d",
   "metadata": {},
   "outputs": [
    {
     "data": {
      "text/plain": [
       "tensor([-0.5327,  2.3502,  0.9312], grad_fn=<AddBackward0>)"
      ]
     },
     "execution_count": 19,
     "metadata": {},
     "output_type": "execute_result"
    }
   ],
   "source": [
    "y = x + 2\n",
    "y"
   ]
  },
  {
   "cell_type": "code",
   "execution_count": 20,
   "id": "7c95614e",
   "metadata": {},
   "outputs": [],
   "source": [
    "z = y**2*2\n",
    "# z = z.mean()"
   ]
  },
  {
   "cell_type": "code",
   "execution_count": 21,
   "id": "c8474a2e",
   "metadata": {},
   "outputs": [],
   "source": [
    "# z.backward() #dz/dx\n",
    "# print(x.grad)"
   ]
  },
  {
   "cell_type": "code",
   "execution_count": 22,
   "id": "a08b81cd",
   "metadata": {},
   "outputs": [
    {
     "name": "stdout",
     "output_type": "stream",
     "text": [
      "tensor([-2.1308e-01,  9.4006e+00,  3.7247e-03])\n"
     ]
    }
   ],
   "source": [
    "# What if we dont specify z = z.mean()\n",
    "v = torch.tensor([0.1, 1.0, 0.001], dtype = torch.float32)\n",
    "z.backward(v) # in the backward it is vector jacobian product\n",
    "print(x.grad) "
   ]
  },
  {
   "cell_type": "code",
   "execution_count": 23,
   "id": "91792ad7",
   "metadata": {},
   "outputs": [],
   "source": [
    "# x.requires_grad_(False)\n",
    "# x.detach()\n",
    "# with torch.no_grad():"
   ]
  },
  {
   "cell_type": "code",
   "execution_count": 24,
   "id": "f7ef8217",
   "metadata": {},
   "outputs": [
    {
     "data": {
      "text/plain": [
       "tensor([-2.5327,  0.3502, -1.0688])"
      ]
     },
     "execution_count": 24,
     "metadata": {},
     "output_type": "execute_result"
    }
   ],
   "source": [
    "x.requires_grad_(False) # Whenever our function has _ at the end it means that is modified our variable inplace\n",
    "x # Now x does not have requires_grad=True\n",
    "# The same will be with y = x.detach()\n",
    "# with torch.no_grad():\n",
    "#    y = x + 2 "
   ]
  },
  {
   "cell_type": "markdown",
   "id": "5cf848c7",
   "metadata": {},
   "source": [
    "$\\text{Whenever we call backward function then the gradient for this tensor will be accumulated into the dot grad attribute, the values will be summed up}$ "
   ]
  },
  {
   "cell_type": "code",
   "execution_count": 25,
   "id": "4e615916",
   "metadata": {},
   "outputs": [],
   "source": [
    "weights = torch.ones(4 , requires_grad=True)"
   ]
  },
  {
   "cell_type": "markdown",
   "id": "92e3441d",
   "metadata": {},
   "source": [
    "$\\text{Before we do the next iteration or optimiztion we must empty the gradients}$"
   ]
  },
  {
   "cell_type": "code",
   "execution_count": 26,
   "id": "df8bf10f",
   "metadata": {},
   "outputs": [
    {
     "name": "stdout",
     "output_type": "stream",
     "text": [
      "tensor([3., 3., 3., 3.])\n",
      "tensor([3., 3., 3., 3.])\n",
      "tensor([3., 3., 3., 3.])\n",
      "tensor([3., 3., 3., 3.])\n"
     ]
    }
   ],
   "source": [
    "for epoch in range(4):\n",
    "    model_output = (weights*3).sum()\n",
    "    \n",
    "    model_output.backward()\n",
    "    \n",
    "    print(weights.grad)\n",
    "    \n",
    "    weights.grad.zero_() # Empty "
   ]
  },
  {
   "cell_type": "code",
   "execution_count": 27,
   "id": "0d1c4e27",
   "metadata": {},
   "outputs": [],
   "source": [
    "#With optimization\n",
    "\n",
    "# optimizer = torch.optim.SGD(weights, lr=0.01)\n",
    "# optimizer.step()\n",
    "# optimizer.zero_grad()"
   ]
  },
  {
   "cell_type": "markdown",
   "id": "5aa471c9",
   "metadata": {},
   "source": [
    "$\\Large\\text{Backpropagation}$"
   ]
  },
  {
   "cell_type": "code",
   "execution_count": 28,
   "id": "1c6c948a",
   "metadata": {},
   "outputs": [],
   "source": [
    "x = torch.tensor(1.0)\n",
    "y = torch.tensor(2.0)\n",
    "\n",
    "w = torch.tensor(1.0,requires_grad = True)\n"
   ]
  },
  {
   "cell_type": "code",
   "execution_count": 29,
   "id": "dc8069c1",
   "metadata": {},
   "outputs": [],
   "source": [
    "#forward pass and compute the loss"
   ]
  },
  {
   "cell_type": "code",
   "execution_count": 30,
   "id": "ef602a49",
   "metadata": {},
   "outputs": [
    {
     "data": {
      "text/plain": [
       "tensor(1., grad_fn=<PowBackward0>)"
      ]
     },
     "execution_count": 30,
     "metadata": {},
     "output_type": "execute_result"
    }
   ],
   "source": [
    "y_hat = w*x\n",
    "loss = (y_hat- y) **2\n",
    "loss"
   ]
  },
  {
   "cell_type": "code",
   "execution_count": 31,
   "id": "97db7ddf",
   "metadata": {},
   "outputs": [
    {
     "data": {
      "text/plain": [
       "tensor(-2.)"
      ]
     },
     "execution_count": 31,
     "metadata": {},
     "output_type": "execute_result"
    }
   ],
   "source": [
    "# Backward pass\n",
    "loss.backward()\n",
    "w.grad"
   ]
  },
  {
   "cell_type": "markdown",
   "id": "f09d4cf5",
   "metadata": {},
   "source": [
    "$\\text{Next we have to update our weights and next forward and backkward}$"
   ]
  },
  {
   "cell_type": "markdown",
   "id": "2f3023e1",
   "metadata": {},
   "source": [
    "$\\Large\\text{Gradient Descent with Autograd and Backpropagation}$"
   ]
  },
  {
   "cell_type": "markdown",
   "id": "a794b6e5",
   "metadata": {},
   "source": [
    "$\\text{Manually}$"
   ]
  },
  {
   "cell_type": "code",
   "execution_count": 32,
   "id": "18c4bc39",
   "metadata": {},
   "outputs": [],
   "source": [
    "def forward(x):\n",
    "    \n",
    "    return w * x"
   ]
  },
  {
   "cell_type": "code",
   "execution_count": 33,
   "id": "abc17b5d",
   "metadata": {},
   "outputs": [],
   "source": [
    "def loss(y, y_pred):\n",
    "    \n",
    "    return ((y - y_pred)**2).mean()"
   ]
  },
  {
   "cell_type": "code",
   "execution_count": 34,
   "id": "538f9eff",
   "metadata": {},
   "outputs": [],
   "source": [
    "#MSE = 1/N * (w*x - y)**2\n",
    "#dJ/dw = 1/N 2x (w*x - y)\n",
    "\n",
    "def gradient(x,y, y_pred):\n",
    "    \n",
    "    return np.dot(2*x, y_pred - y).mean()"
   ]
  },
  {
   "cell_type": "code",
   "execution_count": 35,
   "id": "96f552bb",
   "metadata": {},
   "outputs": [
    {
     "name": "stdout",
     "output_type": "stream",
     "text": [
      "Prediction before training: f(5) = 5.000\n"
     ]
    }
   ],
   "source": [
    "print(f'Prediction before training: f(5) = {forward(5):.3f}')"
   ]
  },
  {
   "cell_type": "code",
   "execution_count": 36,
   "id": "e1d3d5c2",
   "metadata": {},
   "outputs": [],
   "source": [
    "learning_rate = 0.01\n",
    "n_iters = 10"
   ]
  },
  {
   "cell_type": "code",
   "execution_count": 37,
   "id": "f5fe97f2",
   "metadata": {},
   "outputs": [
    {
     "name": "stdout",
     "output_type": "stream",
     "text": [
      "epoch 1: w = 1.200, loss = 30.00000000, dw = -120.0\n",
      "epoch 2: w = 1.680, loss = 4.79999924, dw = -47.999996185302734\n",
      "epoch 3: w = 1.872, loss = 0.76800019, dw = -19.200002670288086\n",
      "epoch 4: w = 1.949, loss = 0.12288000, dw = -7.679999828338623\n",
      "epoch 5: w = 1.980, loss = 0.01966083, dw = -3.072002649307251\n",
      "epoch 6: w = 1.992, loss = 0.00314574, dw = -1.2288014888763428\n",
      "epoch 7: w = 1.997, loss = 0.00050331, dw = -0.4915158748626709\n",
      "epoch 8: w = 1.999, loss = 0.00008053, dw = -0.1966094970703125\n",
      "epoch 9: w = 1.999, loss = 0.00001288, dw = -0.07864165306091309\n",
      "epoch 10: w = 2.000, loss = 0.00000206, dw = -0.03145551681518555\n"
     ]
    }
   ],
   "source": [
    "X = np.array(list(range(1,5)), dtype = np.float32)\n",
    "Y = X.copy()*2\n",
    "w = 0.0\n",
    "\n",
    "for epoch in range(n_iters):\n",
    "    \n",
    "    # prediction = forward pass \n",
    "    y_pred = forward(X)\n",
    "    \n",
    "    #loss \n",
    "    l = loss(Y,y_pred)\n",
    "    \n",
    "    #gradients\n",
    "    \n",
    "    dw = gradient(X,Y, y_pred)\n",
    "    \n",
    "    #update weights\n",
    "    \n",
    "    w = w - learning_rate*dw\n",
    "    \n",
    "    if epoch%1 == 0:\n",
    "        print(f'epoch {epoch + 1}: w = {w:.3f}, loss = {l:.8f}, dw = {dw}')\n",
    "        \n"
   ]
  },
  {
   "cell_type": "code",
   "execution_count": 38,
   "id": "f2bfa085",
   "metadata": {},
   "outputs": [
    {
     "name": "stdout",
     "output_type": "stream",
     "text": [
      "Prediction after training: f(5) = 9.999\n"
     ]
    }
   ],
   "source": [
    "print(f'Prediction after training: f(5) = {forward(5):.3f}')"
   ]
  },
  {
   "cell_type": "markdown",
   "id": "fb23b523",
   "metadata": {},
   "source": [
    "$\\text{Gradients computation with Autograd}$"
   ]
  },
  {
   "cell_type": "code",
   "execution_count": 39,
   "id": "89ce993d",
   "metadata": {},
   "outputs": [
    {
     "name": "stdout",
     "output_type": "stream",
     "text": [
      "epoch 1: w = 0.300, loss = 30.00000000, dw = -0.03145551681518555\n",
      "epoch 3: w = 0.772, loss = 15.66018772, dw = -0.03145551681518555\n",
      "epoch 5: w = 1.113, loss = 8.17471695, dw = -0.03145551681518555\n",
      "epoch 7: w = 1.359, loss = 4.26725292, dw = -0.03145551681518555\n",
      "epoch 9: w = 1.537, loss = 2.22753215, dw = -0.03145551681518555\n",
      "epoch 11: w = 1.665, loss = 1.16278565, dw = -0.03145551681518555\n",
      "epoch 13: w = 1.758, loss = 0.60698116, dw = -0.03145551681518555\n",
      "epoch 15: w = 1.825, loss = 0.31684780, dw = -0.03145551681518555\n",
      "epoch 17: w = 1.874, loss = 0.16539653, dw = -0.03145551681518555\n",
      "epoch 19: w = 1.909, loss = 0.08633806, dw = -0.03145551681518555\n",
      "Prediction before training: f(5) = 9.612\n"
     ]
    }
   ],
   "source": [
    "X = torch.tensor(list(range(1,5)), dtype = torch.float32)\n",
    "Y = X*2\n",
    "w = torch.tensor(0.0, dtype = torch.float32, requires_grad = True)\n",
    "n_iters = 20\n",
    "for epoch in range(n_iters):\n",
    "    \n",
    "    # prediction = forward pass \n",
    "    y_pred = forward(X)\n",
    "    #loss \n",
    "    l = loss(Y,y_pred)\n",
    "    \n",
    "    #gradients\n",
    "    \n",
    "    l.backward() # dl/dw\n",
    "    \n",
    "    #update weights\n",
    "    with torch.no_grad(): \n",
    "        w-= w.grad*learning_rate\n",
    "    # zero gradients\n",
    "    w.grad.zero_()\n",
    "    if epoch%2 == 0:\n",
    "        print(f'epoch {epoch + 1}: w = {w:.3f}, loss = {l:.8f}, dw = {dw}')\n",
    "        \n",
    "print(f'Prediction before training: f(5) = {forward(5):.3f}')"
   ]
  },
  {
   "cell_type": "markdown",
   "id": "5ce3b2e2",
   "metadata": {},
   "source": [
    "$\\text{Examples from the videos}$"
   ]
  },
  {
   "cell_type": "code",
   "execution_count": 331,
   "id": "74c4be56",
   "metadata": {},
   "outputs": [
    {
     "data": {
      "text/plain": [
       "<matplotlib.image.AxesImage at 0x13d4fe6b0>"
      ]
     },
     "execution_count": 331,
     "metadata": {},
     "output_type": "execute_result"
    },
    {
     "data": {
      "image/png": "[encoded data removed]",
      "text/plain": [
       "<Figure size 640x480 with 1 Axes>"
      ]
     },
     "metadata": {},
     "output_type": "display_data"
    }
   ],
   "source": [
    "zero = np.zeros((7,7), dtype = np.int32)\n",
    "\n",
    "zero[1:-1, 2::3] = 1\n",
    "zero[1:-1:4, 2:-1] = 1\n",
    "\n",
    "\n",
    "plt.imshow(zero , cmap = 'Greys')"
   ]
  },
  {
   "cell_type": "code",
   "execution_count": 332,
   "id": "d76f9d0c",
   "metadata": {},
   "outputs": [
    {
     "data": {
      "text/plain": [
       "<matplotlib.image.AxesImage at 0x138ad3c40>"
      ]
     },
     "execution_count": 332,
     "metadata": {},
     "output_type": "execute_result"
    },
    {
     "data": {
      "image/png": "[encoded data removed]",
      "text/plain": [
       "<Figure size 640x480 with 1 Axes>"
      ]
     },
     "metadata": {},
     "output_type": "display_data"
    }
   ],
   "source": [
    "one = np.zeros((7,7), dtype = np.int32)\n",
    "one[1:-1,3] = 1\n",
    "plt.imshow(one , cmap = 'Greys')"
   ]
  },
  {
   "cell_type": "code",
   "execution_count": 333,
   "id": "06fb2c3f",
   "metadata": {},
   "outputs": [
    {
     "data": {
      "text/plain": [
       "<matplotlib.image.AxesImage at 0x13d8709d0>"
      ]
     },
     "execution_count": 333,
     "metadata": {},
     "output_type": "execute_result"
    },
    {
     "data": {
      "image/png": "[encoded data removed]",
      "text/plain": [
       "<Figure size 640x480 with 1 Axes>"
      ]
     },
     "metadata": {},
     "output_type": "display_data"
    }
   ],
   "source": [
    "two = np.zeros((7,7), dtype = np.int32)\n",
    "\n",
    "two[1:-1, 2] = 1\n",
    "two[1:-1:2, 2:-1] = 1\n",
    "two[2, 2] = 0\n",
    "two[2, -2] = 1\n",
    "\n",
    "\n",
    "\n",
    "plt.imshow(two , cmap = 'Greys')"
   ]
  },
  {
   "cell_type": "code",
   "execution_count": 334,
   "id": "a0cfced2",
   "metadata": {},
   "outputs": [
    {
     "data": {
      "text/plain": [
       "<matplotlib.image.AxesImage at 0x13de03250>"
      ]
     },
     "execution_count": 334,
     "metadata": {},
     "output_type": "execute_result"
    },
    {
     "data": {
      "image/png": "[encoded data removed]",
      "text/plain": [
       "<Figure size 640x480 with 1 Axes>"
      ]
     },
     "metadata": {},
     "output_type": "display_data"
    }
   ],
   "source": [
    "three = np.zeros((7,7), dtype = np.int32)\n",
    "\n",
    "three[1:-1, -2] = 1\n",
    "three[1:-1:2, 1:-2] = 1\n",
    "\n",
    "plt.imshow(three , cmap = 'Greys')"
   ]
  },
  {
   "cell_type": "code",
   "execution_count": 335,
   "id": "6b2192ff",
   "metadata": {},
   "outputs": [
    {
     "data": {
      "text/plain": [
       "<matplotlib.image.AxesImage at 0x13e71f790>"
      ]
     },
     "execution_count": 335,
     "metadata": {},
     "output_type": "execute_result"
    },
    {
     "data": {
      "image/png": "[encoded data removed]",
      "text/plain": [
       "<Figure size 640x480 with 1 Axes>"
      ]
     },
     "metadata": {},
     "output_type": "display_data"
    }
   ],
   "source": [
    "four = np.zeros((7,7), dtype = np.int32)\n",
    "\n",
    "four[1:4, 2:-1:3] = 1\n",
    "four[3, 2:-1] = 1\n",
    "four[3 :-1, -2] = 1\n",
    "# four[1:-1:2, 1:-2] = 1\n",
    "\n",
    "plt.imshow(four , cmap = 'Greys')"
   ]
  },
  {
   "cell_type": "code",
   "execution_count": 336,
   "id": "407a6509",
   "metadata": {},
   "outputs": [
    {
     "data": {
      "text/plain": [
       "<matplotlib.image.AxesImage at 0x139482e00>"
      ]
     },
     "execution_count": 336,
     "metadata": {},
     "output_type": "execute_result"
    },
    {
     "data": {
      "image/png": "[encoded data removed]",
      "text/plain": [
       "<Figure size 640x480 with 1 Axes>"
      ]
     },
     "metadata": {},
     "output_type": "display_data"
    }
   ],
   "source": [
    "five = np.zeros((7,7), dtype = np.int32)\n",
    "\n",
    "five[1:-1, 2] = 1\n",
    "five[1:-1:2, 2:-1] = 1\n",
    "five[-3, -2] = 1\n",
    "five[-3, 2] = 0\n",
    "\n",
    "\n",
    "plt.imshow(five , cmap = 'Greys')"
   ]
  },
  {
   "cell_type": "code",
   "execution_count": 337,
   "id": "44bd3242",
   "metadata": {},
   "outputs": [
    {
     "data": {
      "text/plain": [
       "<matplotlib.image.AxesImage at 0x13e757820>"
      ]
     },
     "execution_count": 337,
     "metadata": {},
     "output_type": "execute_result"
    },
    {
     "data": {
      "image/png": "[encoded data removed]",
      "text/plain": [
       "<Figure size 640x480 with 1 Axes>"
      ]
     },
     "metadata": {},
     "output_type": "display_data"
    }
   ],
   "source": [
    "six = np.zeros((7,7), dtype = np.int32)\n",
    "\n",
    "six[1:-1, 2] = 1\n",
    "six[1:-1:2, 2:-1] = 1\n",
    "six[-3, -2] = 1\n",
    "\n",
    "# four[1:-1:2, 1:-2] = 1\n",
    "\n",
    "plt.imshow(six , cmap = 'Greys')"
   ]
  },
  {
   "cell_type": "code",
   "execution_count": 338,
   "id": "cc9dd606",
   "metadata": {},
   "outputs": [
    {
     "data": {
      "text/plain": [
       "<matplotlib.image.AxesImage at 0x13e4f6a10>"
      ]
     },
     "execution_count": 338,
     "metadata": {},
     "output_type": "execute_result"
    },
    {
     "data": {
      "image/png": "[encoded data removed]",
      "text/plain": [
       "<Figure size 640x480 with 1 Axes>"
      ]
     },
     "metadata": {},
     "output_type": "display_data"
    }
   ],
   "source": [
    "sev = np.zeros((7,7), dtype = np.int32)\n",
    "\n",
    "sev[1:-1, -3] = 1\n",
    "sev[1, 2:-3] = 1\n",
    "\n",
    "# four[1:-1:2, 1:-2] = 1\n",
    "\n",
    "plt.imshow(sev , cmap = 'Greys')"
   ]
  },
  {
   "cell_type": "code",
   "execution_count": 339,
   "id": "cc0a2b7e",
   "metadata": {},
   "outputs": [
    {
     "data": {
      "text/plain": [
       "<matplotlib.image.AxesImage at 0x13da9e6b0>"
      ]
     },
     "execution_count": 339,
     "metadata": {},
     "output_type": "execute_result"
    },
    {
     "data": {
      "image/png": "[encoded data removed]",
      "text/plain": [
       "<Figure size 640x480 with 1 Axes>"
      ]
     },
     "metadata": {},
     "output_type": "display_data"
    }
   ],
   "source": [
    "eig = np.zeros((7,7), dtype = np.int32)\n",
    "\n",
    "eig[1:-1, 2::3] = 1\n",
    "eig[1:-1:2, 2:-1] = 1\n",
    "\n",
    "\n",
    "plt.imshow(eig , cmap = 'Greys')"
   ]
  },
  {
   "cell_type": "code",
   "execution_count": 340,
   "id": "ec0f69ec",
   "metadata": {},
   "outputs": [
    {
     "data": {
      "text/plain": [
       "<matplotlib.image.AxesImage at 0x13d1ea200>"
      ]
     },
     "execution_count": 340,
     "metadata": {},
     "output_type": "execute_result"
    },
    {
     "data": {
      "image/png": "[encoded data removed]",
      "text/plain": [
       "<Figure size 640x480 with 1 Axes>"
      ]
     },
     "metadata": {},
     "output_type": "display_data"
    }
   ],
   "source": [
    "nine = np.zeros((7,7), dtype = np.int32)\n",
    "\n",
    "nine[1:-1, 2] = 1\n",
    "nine[1:-1:2, 2:-1] = 1\n",
    "nine[-3, -2] = 1\n",
    "nine[-3, 2] = 0\n",
    "nine[2, -2] = 1\n",
    "\n",
    "plt.imshow(nine , cmap = 'Greys')"
   ]
  },
  {
   "cell_type": "code",
   "execution_count": 341,
   "id": "6ca93671",
   "metadata": {},
   "outputs": [],
   "source": [
    "import random"
   ]
  },
  {
   "cell_type": "code",
   "execution_count": 342,
   "id": "f170a3f3",
   "metadata": {},
   "outputs": [],
   "source": [
    "def relu(t):\n",
    "    return np.maximum(t,0)\n",
    "\n",
    "def softmax(t):\n",
    "    \n",
    "    out = np.exp(t)\n",
    "    return out/np.sum(out)\n",
    "\n",
    "def sparse_cross_entropy(z,y):\n",
    "    return -np.log(z[0,y])\n",
    "\n",
    "\n",
    "def relu_deriv(t):\n",
    "    \n",
    "    return (t >= 0).astype(float)\n",
    "\n",
    "def predict(x):\n",
    "    if x.shape[0] != 1:\n",
    "        x = x.reshape(1,-1)\n",
    "    t1 = np.dot(x, W1) + b1\n",
    "    h1 = relu(t1)\n",
    "    t2 = h1 @ W2 + b2\n",
    "    z = softmax(t2)\n",
    "    return z\n",
    "\n",
    "def cals_accuracy(cur_set):\n",
    "    correct = 0\n",
    "    \n",
    "    for x,y in cur_set:\n",
    "        z = predict(x)\n",
    "        y_pred = np.argmax(z)\n",
    "        if y_pred == y:\n",
    "            correct += 1\n",
    "    acc = correct / len(cur_set)\n",
    "    return acc"
   ]
  },
  {
   "cell_type": "code",
   "execution_count": 343,
   "id": "ca54408c",
   "metadata": {},
   "outputs": [],
   "source": [
    "from sklearn import datasets"
   ]
  },
  {
   "cell_type": "code",
   "execution_count": 344,
   "id": "9ed071db",
   "metadata": {},
   "outputs": [],
   "source": [
    "iris = datasets.load_iris()"
   ]
  },
  {
   "cell_type": "code",
   "execution_count": 345,
   "id": "0e03bcb9",
   "metadata": {},
   "outputs": [
    {
     "name": "stdout",
     "output_type": "stream",
     "text": [
      "(150,)\n",
      "(4,)\n",
      "(1, 4)\n"
     ]
    }
   ],
   "source": [
    "print(iris.get('target').shape)\n",
    "print(iris.data[0].shape)\n",
    "print(iris.data[0][None, ...].shape) # [None, ...] from (4,) to (1, 4 ) "
   ]
  },
  {
   "cell_type": "code",
   "execution_count": 390,
   "id": "0326a93a",
   "metadata": {},
   "outputs": [
    {
     "data": {
      "text/plain": [
       "[(array([[5.1, 3.5, 1.4, 0.2]]), 0),\n",
       " (array([[4.9, 3. , 1.4, 0.2]]), 0),\n",
       " (array([[4.7, 3.2, 1.3, 0.2]]), 0),\n",
       " (array([[4.6, 3.1, 1.5, 0.2]]), 0),\n",
       " (array([[5. , 3.6, 1.4, 0.2]]), 0)]"
      ]
     },
     "execution_count": 390,
     "metadata": {},
     "output_type": "execute_result"
    }
   ],
   "source": [
    "dataset = [(iris.data[i].reshape(1,-1), iris.target[i]) for i in range(len(iris.target))]\n",
    "dataset[:5]"
   ]
  },
  {
   "cell_type": "code",
   "execution_count": 392,
   "id": "afca1e4a",
   "metadata": {},
   "outputs": [],
   "source": [
    "input_dim = 4\n",
    "out_dim = 3\n",
    "h_dim = 5\n",
    "epoch = 100\n",
    "batch_size = 50 # Hyperparameter\n",
    "\n",
    "W1 = np.random.randn(input_dim, h_dim)\n",
    "b1 = np.random.randn(1, h_dim)\n",
    "W2 = np.random.rand(h_dim, out_dim)\n",
    "b2 = np.random.randn(1, out_dim)\n",
    "\n",
    "# new initial values\n",
    "\n",
    "W1 = (W1 - 0.5)*2 * np.sqrt(1/input_dim)\n",
    "b1 = (b1 - 0.5)*2 * np.sqrt(1/input_dim)\n",
    "W2 = (W2 - 0.5)*2 * np.sqrt(1/h_dim)\n",
    "b2 = (b2 - 0.5)*2 * np.sqrt(1/h_dim)"
   ]
  },
  {
   "cell_type": "code",
   "execution_count": 393,
   "id": "74877ccc",
   "metadata": {},
   "outputs": [],
   "source": [
    "loss_arr = []\n",
    "acc = []\n",
    "for ep in range(epoch):\n",
    "    \n",
    "    random.shuffle(dataset)\n",
    "    for i in range(len(dataset)):\n",
    "\n",
    "        x,y = dataset[i]\n",
    "        #Forward \n",
    "\n",
    "        t1 = np.dot(x, W1) + b1\n",
    "        h1 = relu(t1)\n",
    "        t2 = h1 @ W2 + b2\n",
    "        z = softmax(t2)\n",
    "\n",
    "        E = sparse_cross_entropy(z,y)\n",
    "\n",
    "        #Backward\n",
    "\n",
    "        y_full = to_full(y, out_dim)\n",
    "        dE_dt2 = z - y_full \n",
    "        dE_dW2 = h1.T @ dE_dt2\n",
    "        dE_db2 = dE_dt2\n",
    "        dE_dh1 = dE_dt2 @W2.T\n",
    "        dE_dt1 = dE_dh1 * relu_deriv(t1)\n",
    "        dE_dW1 = x.T @ dE_dt1\n",
    "        dE_db1 = dE_dt1\n",
    "\n",
    "        alpha = 0.001\n",
    "\n",
    "        # update \n",
    "\n",
    "        W1 = W1 - alpha * dE_dW1\n",
    "        b1 = b1 - alpha * dE_db1\n",
    "        W2 = W2 - alpha * dE_dW2\n",
    "        b2 = b2 - alpha * dE_db2\n",
    "        \n",
    "        loss_arr.append(E)\n",
    "#         acc.append(cals_accuracy(dataset))"
   ]
  },
  {
   "cell_type": "code",
   "execution_count": 394,
   "id": "04eecded",
   "metadata": {},
   "outputs": [
    {
     "data": {
      "text/plain": [
       "[<matplotlib.lines.Line2D at 0x140eb5030>]"
      ]
     },
     "execution_count": 394,
     "metadata": {},
     "output_type": "execute_result"
    },
    {
     "data": {
      "image/png": "[encoded data removed]",
      "text/plain": [
       "<Figure size 640x480 with 1 Axes>"
      ]
     },
     "metadata": {},
     "output_type": "display_data"
    }
   ],
   "source": [
    "plt.plot(loss_arr)"
   ]
  },
  {
   "cell_type": "code",
   "execution_count": 395,
   "id": "76199a94",
   "metadata": {},
   "outputs": [],
   "source": [
    "def softmax_batch(t):\n",
    "    \n",
    "    out = np.exp(t)\n",
    "    return out/np.sum(out, axis = 1, keepdims = True)"
   ]
  },
  {
   "cell_type": "code",
   "execution_count": 396,
   "id": "d1f1fe58",
   "metadata": {},
   "outputs": [],
   "source": [
    "def sparse_cross_entropy_batch(z,y):\n",
    "    \n",
    "    return - np.log(np.array([z[j, y[j]] for j in range(len(y))]))"
   ]
  },
  {
   "cell_type": "code",
   "execution_count": 397,
   "id": "2ea315e9",
   "metadata": {},
   "outputs": [],
   "source": [
    "def to_full_batch(y, num_classes):\n",
    "    y_full = np.zeros((len(y), num_classes))\n",
    "    \n",
    "    for j, yj in enumerate(y):\n",
    "        y_full[j,yj] = 1\n",
    "        \n",
    "    return y_full"
   ]
  },
  {
   "cell_type": "code",
   "execution_count": 398,
   "id": "be6d083d",
   "metadata": {},
   "outputs": [],
   "source": [
    "for ep in range(epoch):\n",
    "    \n",
    "    random.shuffle(dataset)\n",
    "    for i in range(len(dataset) // batch_size):\n",
    "        \n",
    "        batch_x, batch_y = zip(*dataset[i*batch_size: (i+1)*batch_size])\n",
    "        x = np.concatenate(batch_x, axis = 0)\n",
    "        y = np.array(batch_y)\n",
    "        #Forward \n",
    "\n",
    "        t1 = np.dot(x, W1) + b1\n",
    "        h1 = relu(t1)\n",
    "        t2 = h1 @ W2 + b2\n",
    "        z = softmax_batch(t2)\n",
    "\n",
    "        E = np.sum(sparse_cross_entropy_batch(z,y))\n",
    "\n",
    "        #Backward\n",
    "\n",
    "        y_full = to_full_batch(y, out_dim)\n",
    "        \n",
    "        dE_dt2 = z - y_full \n",
    "        dE_dW2 = h1.T @ dE_dt2\n",
    "        \n",
    "        dE_db2 = np.sum(dE_dt2, axis = 0, keepdims = True)\n",
    "        dE_dh1 = dE_dt2 @W2.T\n",
    "        dE_dt1 = dE_dh1 * relu_deriv(t1)\n",
    "        dE_dW1 = x.T @ dE_dt1\n",
    "        dE_db1 = np.sum(dE_dt1, axis = 0, keepdims = True)\n",
    "\n",
    "        alpha = 0.001\n",
    "\n",
    "        # update \n",
    "\n",
    "        W1 = W1 - alpha * dE_dW1\n",
    "        b1 = b1 - alpha * dE_db1\n",
    "        W2 = W2 - alpha * dE_dW2\n",
    "        b2 = b2 - alpha * dE_db2\n",
    "        \n",
    "        loss_arr.append(E)\n",
    "        acc.append(cals_accuracy(dataset))"
   ]
  },
  {
   "cell_type": "code",
   "execution_count": 399,
   "id": "376592df",
   "metadata": {},
   "outputs": [
    {
     "data": {
      "text/plain": [
       "[<matplotlib.lines.Line2D at 0x14144d060>]"
      ]
     },
     "execution_count": 399,
     "metadata": {},
     "output_type": "execute_result"
    },
    {
     "data": {
      "image/png": "[encoded data removed]",
      "text/plain": [
       "<Figure size 640x480 with 1 Axes>"
      ]
     },
     "metadata": {},
     "output_type": "display_data"
    }
   ],
   "source": [
    "plt.plot(acc)"
   ]
  },
  {
   "cell_type": "code",
   "execution_count": 400,
   "id": "4ee33ba4",
   "metadata": {},
   "outputs": [
    {
     "data": {
      "text/plain": [
       "[<matplotlib.lines.Line2D at 0x141718bb0>]"
      ]
     },
     "execution_count": 400,
     "metadata": {},
     "output_type": "execute_result"
    },
    {
     "data": {
      "image/png": "[encoded data removed]",
      "text/plain": [
       "<Figure size 640x480 with 1 Axes>"
      ]
     },
     "metadata": {},
     "output_type": "display_data"
    }
   ],
   "source": [
    "plt.plot(loss_arr)"
   ]
  },
  {
   "cell_type": "code",
   "execution_count": 401,
   "id": "f3115802",
   "metadata": {},
   "outputs": [
    {
     "data": {
      "text/plain": [
       "0.9533333333333334"
      ]
     },
     "execution_count": 401,
     "metadata": {},
     "output_type": "execute_result"
    }
   ],
   "source": [
    "acc[-1]"
   ]
  },
  {
   "cell_type": "code",
   "execution_count": 402,
   "id": "8c4b3ba4",
   "metadata": {},
   "outputs": [],
   "source": [
    "curr0 = np.zeros(10, dtype = np.int32)\n",
    "curr1 = np.zeros(10, dtype = np.int32)\n",
    "curr2 = np.zeros(10, dtype = np.int32)\n",
    "curr3 = np.zeros(10, dtype = np.int32)\n",
    "curr4 = np.zeros(10, dtype = np.int32)\n",
    "curr5 = np.zeros(10, dtype = np.int32)\n",
    "curr6 = np.zeros(10, dtype = np.int32)\n",
    "curr7 = np.zeros(10, dtype = np.int32)\n",
    "curr8 = np.zeros(10, dtype = np.int32)\n",
    "curr9 = np.zeros(10, dtype = np.int32)\n",
    "\n",
    "curr0[0] = 1\n",
    "curr1[1] = 1\n",
    "curr2[2] = 1\n",
    "curr3[3] = 1\n",
    "curr4[4] = 1\n",
    "curr5[5] = 1\n",
    "curr6[6] = 1\n",
    "curr7[7] = 1\n",
    "curr8[8] = 1\n",
    "curr9[9] = 1"
   ]
  },
  {
   "cell_type": "code",
   "execution_count": 403,
   "id": "1affb8ca",
   "metadata": {},
   "outputs": [],
   "source": [
    "digits = {\n",
    "    0:[zero, curr0],\n",
    "    1:[one,curr1],\n",
    "    2:[two,curr2],\n",
    "    3:[three,curr3],\n",
    "    4:[four,curr4],\n",
    "    5:[five,curr5],\n",
    "    6:[six,curr6],\n",
    "    7:[sev,curr7],\n",
    "    8:[eig,curr8],\n",
    "    9:[nine,curr9]}"
   ]
  },
  {
   "cell_type": "code",
   "execution_count": 404,
   "id": "a95fbcae",
   "metadata": {},
   "outputs": [
    {
     "data": {
      "text/plain": [
       "array([1, 0, 3])"
      ]
     },
     "execution_count": 404,
     "metadata": {},
     "output_type": "execute_result"
    }
   ],
   "source": [
    "np.maximum([1,-2,3], 0)"
   ]
  },
  {
   "cell_type": "code",
   "execution_count": 405,
   "id": "748000cb",
   "metadata": {},
   "outputs": [],
   "source": [
    "input_dim = 49\n",
    "\n",
    "h_dim = 10\n",
    "\n",
    "out_dim = 10"
   ]
  },
  {
   "cell_type": "code",
   "execution_count": 406,
   "id": "da8181fa",
   "metadata": {
    "scrolled": true
   },
   "outputs": [],
   "source": [
    "dts = list(digits.values())"
   ]
  },
  {
   "cell_type": "code",
   "execution_count": 407,
   "id": "5aecbc28",
   "metadata": {},
   "outputs": [],
   "source": [
    "input_dim = 49\n",
    "h_dim = 20\n",
    "out_dim = 10\n",
    "W1 = np.random.randn(input_dim, h_dim)\n",
    "b1 = np.random.randn(1, h_dim)\n",
    "W2 = np.random.rand(h_dim, out_dim)\n",
    "b2 = np.random.randn(1, out_dim)"
   ]
  },
  {
   "cell_type": "code",
   "execution_count": 410,
   "id": "74643575",
   "metadata": {},
   "outputs": [],
   "source": [
    "loss_arr = []\n",
    "arr = []\n",
    "for ep in range(epoch):\n",
    "    \n",
    "    random.shuffle(dts)\n",
    "    for i in range(len(dts)):\n",
    "\n",
    "        x,y = dts[i]\n",
    "        x = x.ravel().reshape(1,-1).copy()\n",
    "        y = y.reshape(1,-1).copy()\n",
    "        #Forward \n",
    "\n",
    "        t1 = np.dot(x, W1) + b1\n",
    "        h1 = relu(t1)\n",
    "        t2 = h1 @ W2 + b2\n",
    "        z = softmax(t2)\n",
    "\n",
    "        E = sparse_cross_entropy(z,np.argmax(y))\n",
    "\n",
    "        #Backward\n",
    "\n",
    "        y_full = y.copy()\n",
    "        dE_dt2 = z - y_full \n",
    "        dE_dW2 = h1.T @ dE_dt2\n",
    "        dE_db2 = dE_dt2\n",
    "        dE_dh1 = dE_dt2 @W2.T\n",
    "        dE_dt1 = dE_dh1 * relu_deriv(t1)\n",
    "        dE_dW1 = x.T @ dE_dt1\n",
    "        dE_db1 = dE_dt1\n",
    "\n",
    "        alpha = 0.001\n",
    "\n",
    "        # update \n",
    "\n",
    "        W1 = W1 - alpha * dE_dW1\n",
    "        b1 = b1 - alpha * dE_db1\n",
    "        W2 = W2 - alpha * dE_dW2\n",
    "        b2 = b2 - alpha * dE_db2\n",
    "        \n",
    "        loss_arr.append(E)\n",
    "        y = np.argmax(y)\n",
    "#         acc.append(cals_accuracy(dts))"
   ]
  },
  {
   "cell_type": "code",
   "execution_count": 411,
   "id": "ea7e5781",
   "metadata": {},
   "outputs": [
    {
     "name": "stdout",
     "output_type": "stream",
     "text": [
      "Predicted value - 9\n"
     ]
    },
    {
     "data": {
      "image/png": "[encoded data removed]",
      "text/plain": [
       "<Figure size 640x480 with 1 Axes>"
      ]
     },
     "metadata": {},
     "output_type": "display_data"
    }
   ],
   "source": [
    "num = 8\n",
    "plt.imshow(dts[num][0], cmap = 'binary')\n",
    "print(f'Predicted value - {np.argmax(predict(dts[num][0]))}')"
   ]
  },
  {
   "cell_type": "code",
   "execution_count": null,
   "id": "9fbea064",
   "metadata": {},
   "outputs": [],
   "source": []
  },
  {
   "cell_type": "code",
   "execution_count": null,
   "id": "5da1edcc",
   "metadata": {},
   "outputs": [],
   "source": []
  }
 ],
 "metadata": {
  "kernelspec": {
   "display_name": "Python 3 (ipykernel)",
   "language": "python",
   "name": "python3"
  },
  "language_info": {
   "codemirror_mode": {
    "name": "ipython",
    "version": 3
   },
   "file_extension": ".py",
   "mimetype": "text/x-python",
   "name": "python",
   "nbconvert_exporter": "python",
   "pygments_lexer": "ipython3",
   "version": "3.10.0"
  },
  "toc": {
   "base_numbering": 1,
   "nav_menu": {},
   "number_sections": true,
   "sideBar": true,
   "skip_h1_title": false,
   "title_cell": "Table of Contents",
   "title_sidebar": "Contents",
   "toc_cell": false,
   "toc_position": {},
   "toc_section_display": true,
   "toc_window_display": false
  }
 },
 "nbformat": 4,
 "nbformat_minor": 5
}
