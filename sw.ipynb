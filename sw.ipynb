{
 "cells": [
  {
   "cell_type": "code",
   "execution_count": 1,
   "id": "c24b273a",
   "metadata": {},
   "outputs": [
    {
     "name": "stderr",
     "output_type": "stream",
     "text": [
      "C:\\Users\\test\\AppData\\Local\\Programs\\Python\\Python310\\lib\\site-packages\\tqdm\\auto.py:22: TqdmWarning: IProgress not found. Please update jupyter and ipywidgets. See https://ipywidgets.readthedocs.io/en/stable/user_install.html\n",
      "  from .autonotebook import tqdm as notebook_tqdm\n"
     ]
    }
   ],
   "source": [
    "import os\n",
    "import glob\n",
    "import torch\n",
    "import numpy as np\n",
    "import matplotlib.pyplot as plt\n",
    "import torch.nn as nn\n",
    "from torchvision.transforms import transforms\n",
    "from torch.utils.data import DataLoader\n",
    "from torch.optim import Adam\n",
    "from torch.autograd import Variable\n",
    "import torchvision \n",
    "import pathlib\n",
    "from pathlib import Path"
   ]
  },
  {
   "cell_type": "markdown",
   "id": "7e5c986e",
   "metadata": {},
   "source": [
    "$\\Large\\text{Data load}$"
   ]
  },
  {
   "cell_type": "code",
   "execution_count": 44,
   "id": "26589fe5",
   "metadata": {},
   "outputs": [],
   "source": [
    "path_folder = 'TOP4040/'"
   ]
  },
  {
   "cell_type": "code",
   "execution_count": 45,
   "id": "614dc327",
   "metadata": {},
   "outputs": [],
   "source": [
    "folder = Path(path_folder)"
   ]
  },
  {
   "cell_type": "code",
   "execution_count": 46,
   "id": "d7f18488",
   "metadata": {},
   "outputs": [],
   "source": [
    "data = np.load(path_folder + '2.npz')['arr_0']"
   ]
  },
  {
   "cell_type": "code",
   "execution_count": 47,
   "id": "6a0bf3b2",
   "metadata": {},
   "outputs": [
    {
     "data": {
      "text/plain": [
       "<matplotlib.image.AxesImage at 0x1e13f8a6bc0>"
      ]
     },
     "execution_count": 47,
     "metadata": {},
     "output_type": "execute_result"
    },
    {
     "data": {
      "image/png": "[encoded data removed]",
      "text/plain": [
       "<Figure size 640x480 with 1 Axes>"
      ]
     },
     "metadata": {},
     "output_type": "display_data"
    }
   ],
   "source": [
    "plt.imshow(data[5]- data[4], cmap='Greys')"
   ]
  },
  {
   "cell_type": "code",
   "execution_count": null,
   "id": "3510d07b",
   "metadata": {},
   "outputs": [],
   "source": []
  },
  {
   "cell_type": "markdown",
   "id": "5210208c",
   "metadata": {},
   "source": [
    "$\\Large\\text{Examples of tensor usage}$"
   ]
  },
  {
   "cell_type": "code",
   "execution_count": 48,
   "id": "b56fc848",
   "metadata": {},
   "outputs": [
    {
     "data": {
      "text/plain": [
       "tensor([[0.4170, 0.4107, 0.4169, 0.2012, 0.0810, 0.2210],\n",
       "        [0.5420, 0.4035, 0.0050, 0.3338, 0.2235, 0.5151],\n",
       "        [0.9495, 0.7054, 0.2852, 0.2877, 0.1544, 0.9993],\n",
       "        [0.4466, 0.9035, 0.3396, 0.2613, 0.2937, 0.4192],\n",
       "        [0.5246, 0.1647, 0.7999, 0.6973, 0.3944, 0.5764],\n",
       "        [0.6293, 0.9210, 0.9091, 0.6689, 0.3378, 0.2247]])"
      ]
     },
     "execution_count": 48,
     "metadata": {},
     "output_type": "execute_result"
    }
   ],
   "source": [
    "x = torch.rand(6,6)\n",
    "x"
   ]
  },
  {
   "cell_type": "code",
   "execution_count": 49,
   "id": "b93d4b73",
   "metadata": {},
   "outputs": [
    {
     "data": {
      "text/plain": [
       "tensor([0.4170, 0.4107, 0.4169, 0.2012, 0.0810, 0.2210, 0.5420, 0.4035, 0.0050,\n",
       "        0.3338, 0.2235, 0.5151, 0.9495, 0.7054, 0.2852, 0.2877, 0.1544, 0.9993,\n",
       "        0.4466, 0.9035, 0.3396, 0.2613, 0.2937, 0.4192, 0.5246, 0.1647, 0.7999,\n",
       "        0.6973, 0.3944, 0.5764, 0.6293, 0.9210, 0.9091, 0.6689, 0.3378, 0.2247])"
      ]
     },
     "execution_count": 49,
     "metadata": {},
     "output_type": "execute_result"
    }
   ],
   "source": [
    "x.view(36)"
   ]
  },
  {
   "cell_type": "code",
   "execution_count": 50,
   "id": "2a4ca5bc",
   "metadata": {},
   "outputs": [
    {
     "data": {
      "text/plain": [
       "tensor([[0.4170, 0.4107, 0.4169, 0.2012, 0.0810, 0.2210, 0.5420, 0.4035, 0.0050,\n",
       "         0.3338, 0.2235, 0.5151],\n",
       "        [0.9495, 0.7054, 0.2852, 0.2877, 0.1544, 0.9993, 0.4466, 0.9035, 0.3396,\n",
       "         0.2613, 0.2937, 0.4192],\n",
       "        [0.5246, 0.1647, 0.7999, 0.6973, 0.3944, 0.5764, 0.6293, 0.9210, 0.9091,\n",
       "         0.6689, 0.3378, 0.2247]])"
      ]
     },
     "execution_count": 50,
     "metadata": {},
     "output_type": "execute_result"
    }
   ],
   "source": [
    "x.view(3,12)"
   ]
  },
  {
   "cell_type": "code",
   "execution_count": 51,
   "id": "0c01b42e",
   "metadata": {},
   "outputs": [
    {
     "data": {
      "text/plain": [
       "tensor([[0.4170, 0.4107, 0.4169, 0.2012, 0.0810, 0.2210, 0.5420, 0.4035, 0.0050,\n",
       "         0.3338, 0.2235, 0.5151],\n",
       "        [0.9495, 0.7054, 0.2852, 0.2877, 0.1544, 0.9993, 0.4466, 0.9035, 0.3396,\n",
       "         0.2613, 0.2937, 0.4192],\n",
       "        [0.5246, 0.1647, 0.7999, 0.6973, 0.3944, 0.5764, 0.6293, 0.9210, 0.9091,\n",
       "         0.6689, 0.3378, 0.2247]])"
      ]
     },
     "execution_count": 51,
     "metadata": {},
     "output_type": "execute_result"
    }
   ],
   "source": [
    "x.view(-1, 12) # -1 , python automatically calculate the size"
   ]
  },
  {
   "cell_type": "code",
   "execution_count": 52,
   "id": "23a31a5b",
   "metadata": {},
   "outputs": [
    {
     "data": {
      "text/plain": [
       "tensor([1., 1., 1., 1., 1.])"
      ]
     },
     "execution_count": 52,
     "metadata": {},
     "output_type": "execute_result"
    }
   ],
   "source": [
    "a = torch.ones(5)\n",
    "a"
   ]
  },
  {
   "cell_type": "code",
   "execution_count": 53,
   "id": "7643b40c",
   "metadata": {},
   "outputs": [
    {
     "data": {
      "text/plain": [
       "array([1., 1., 1., 1., 1.], dtype=float32)"
      ]
     },
     "execution_count": 53,
     "metadata": {},
     "output_type": "execute_result"
    }
   ],
   "source": [
    "b = a.numpy() #have to write copy(), otherwise they are stored at the same memory\n",
    "b"
   ]
  },
  {
   "cell_type": "code",
   "execution_count": 54,
   "id": "c9d4d8e5",
   "metadata": {},
   "outputs": [
    {
     "data": {
      "text/plain": [
       "array([1., 1., 1., 1., 1.], dtype=float32)"
      ]
     },
     "execution_count": 54,
     "metadata": {},
     "output_type": "execute_result"
    }
   ],
   "source": [
    "c = a.numpy().copy() #have to write copy(), otherwise they are stored at the same memory and whenever you change the value in a it is also changed in b\n",
    "c"
   ]
  },
  {
   "cell_type": "code",
   "execution_count": 55,
   "id": "015e1073",
   "metadata": {},
   "outputs": [
    {
     "data": {
      "text/plain": [
       "tensor([6., 6., 6., 6., 6.])"
      ]
     },
     "execution_count": 55,
     "metadata": {},
     "output_type": "execute_result"
    }
   ],
   "source": [
    "a.add_(5)\n",
    "a"
   ]
  },
  {
   "cell_type": "code",
   "execution_count": 56,
   "id": "5b0afc39",
   "metadata": {},
   "outputs": [
    {
     "data": {
      "text/plain": [
       "array([6., 6., 6., 6., 6.], dtype=float32)"
      ]
     },
     "execution_count": 56,
     "metadata": {},
     "output_type": "execute_result"
    }
   ],
   "source": [
    "b"
   ]
  },
  {
   "cell_type": "code",
   "execution_count": 57,
   "id": "0d4960f3",
   "metadata": {},
   "outputs": [
    {
     "data": {
      "text/plain": [
       "array([1., 1., 1., 1., 1.], dtype=float32)"
      ]
     },
     "execution_count": 57,
     "metadata": {},
     "output_type": "execute_result"
    }
   ],
   "source": [
    "c"
   ]
  },
  {
   "cell_type": "code",
   "execution_count": 58,
   "id": "7b04f96d",
   "metadata": {},
   "outputs": [
    {
     "data": {
      "text/plain": [
       "tensor([1., 1., 1., 1., 1.], requires_grad=True)"
      ]
     },
     "execution_count": 58,
     "metadata": {},
     "output_type": "execute_result"
    }
   ],
   "source": [
    "x = torch.ones(5, requires_grad = True)\n",
    "x # it says to tensor that later it requires to calculate the gradients for this tensor in optimization steps"
   ]
  },
  {
   "cell_type": "code",
   "execution_count": 59,
   "id": "5d32958f",
   "metadata": {},
   "outputs": [
    {
     "data": {
      "text/plain": [
       "float"
      ]
     },
     "execution_count": 59,
     "metadata": {},
     "output_type": "execute_result"
    }
   ],
   "source": [
    "type(x[0].item())"
   ]
  },
  {
   "cell_type": "markdown",
   "id": "2810acea",
   "metadata": {},
   "source": [
    "$\\Large\\text{Gradient calculation with autograd}$"
   ]
  },
  {
   "cell_type": "code",
   "execution_count": 88,
   "id": "a6d979f7",
   "metadata": {},
   "outputs": [
    {
     "data": {
      "text/plain": [
       "tensor([1.3984, 0.8894, 0.0342], requires_grad=True)"
      ]
     },
     "execution_count": 88,
     "metadata": {},
     "output_type": "execute_result"
    }
   ],
   "source": [
    "x = torch.randn(3, requires_grad = True)\n",
    "x"
   ]
  },
  {
   "cell_type": "code",
   "execution_count": 89,
   "id": "930fa45d",
   "metadata": {},
   "outputs": [
    {
     "data": {
      "text/plain": [
       "tensor([3.3984, 2.8894, 2.0342], grad_fn=<AddBackward0>)"
      ]
     },
     "execution_count": 89,
     "metadata": {},
     "output_type": "execute_result"
    }
   ],
   "source": [
    "y = x + 2\n",
    "y"
   ]
  },
  {
   "cell_type": "code",
   "execution_count": 90,
   "id": "542f9bda",
   "metadata": {},
   "outputs": [],
   "source": [
    "z = y**2*2\n",
    "# z = z.mean()"
   ]
  },
  {
   "cell_type": "code",
   "execution_count": 91,
   "id": "0d6f8af5",
   "metadata": {},
   "outputs": [],
   "source": [
    "# z.backward() #dz/dx\n",
    "# print(x.grad)"
   ]
  },
  {
   "cell_type": "code",
   "execution_count": 92,
   "id": "124e3f52",
   "metadata": {},
   "outputs": [
    {
     "name": "stdout",
     "output_type": "stream",
     "text": [
      "tensor([1.3594e+00, 1.1557e+01, 8.1369e-03])\n"
     ]
    }
   ],
   "source": [
    "# What if we dont specify z = z.mean()\n",
    "v = torch.tensor([0.1, 1.0, 0.001], dtype = torch.float32)\n",
    "z.backward(v) # in the backward it is vector jacobian product\n",
    "print(x.grad) "
   ]
  },
  {
   "cell_type": "code",
   "execution_count": 93,
   "id": "1fe14e22",
   "metadata": {},
   "outputs": [],
   "source": [
    "# x.requires_grad_(False)\n",
    "# x.detach()\n",
    "# with torch.no_grad():"
   ]
  },
  {
   "cell_type": "code",
   "execution_count": 96,
   "id": "347cc14b",
   "metadata": {},
   "outputs": [
    {
     "data": {
      "text/plain": [
       "tensor([1.3984, 0.8894, 0.0342])"
      ]
     },
     "execution_count": 96,
     "metadata": {},
     "output_type": "execute_result"
    }
   ],
   "source": [
    "x.requires_grad_(False) # Whenever our function has _ at the end it means that is modified our variable inplace\n",
    "x # Now x does not have requires_grad=True\n",
    "# The same will be with y = x.detach()\n",
    "# with torch.no_grad():\n",
    "#    y = x + 2 "
   ]
  },
  {
   "cell_type": "markdown",
   "id": "ae064e8f",
   "metadata": {},
   "source": [
    "$\\text{Whenever we call backward function then the gradient for this tensor will be accumulated into the dot grad attribute, the values will be summed up}$ "
   ]
  },
  {
   "cell_type": "code",
   "execution_count": 97,
   "id": "c2f9a050",
   "metadata": {},
   "outputs": [],
   "source": [
    "weights = torch.ones(4 , requires_grad=True)"
   ]
  },
  {
   "cell_type": "markdown",
   "id": "62cfe374",
   "metadata": {},
   "source": [
    "$\\text{Before we do the next iteration or optimiztion we must empty the gradients}$"
   ]
  },
  {
   "cell_type": "code",
   "execution_count": 103,
   "id": "d4bf5adc",
   "metadata": {},
   "outputs": [
    {
     "name": "stdout",
     "output_type": "stream",
     "text": [
      "tensor([3., 3., 3., 3.])\n",
      "tensor([3., 3., 3., 3.])\n",
      "tensor([3., 3., 3., 3.])\n",
      "tensor([3., 3., 3., 3.])\n"
     ]
    }
   ],
   "source": [
    "for epoch in range(4):\n",
    "    model_output = (weights*3).sum()\n",
    "    \n",
    "    model_output.backward()\n",
    "    \n",
    "    print(weights.grad)\n",
    "    \n",
    "    weights.grad.zero_() # Empty "
   ]
  },
  {
   "cell_type": "code",
   "execution_count": 104,
   "id": "ff4c4240",
   "metadata": {},
   "outputs": [],
   "source": [
    "#With optimization\n",
    "\n",
    "# optimizer = torch.optim.SGD(weights, lr=0.01)\n",
    "# optimizer.step()\n",
    "# optimizer.zero_grad()"
   ]
  },
  {
   "cell_type": "code",
   "execution_count": null,
   "id": "d7bc599c",
   "metadata": {},
   "outputs": [],
   "source": []
  }
 ],
 "metadata": {
  "kernelspec": {
   "display_name": "Python 3 (ipykernel)",
   "language": "python",
   "name": "python3"
  },
  "language_info": {
   "codemirror_mode": {
    "name": "ipython",
    "version": 3
   },
   "file_extension": ".py",
   "mimetype": "text/x-python",
   "name": "python",
   "nbconvert_exporter": "python",
   "pygments_lexer": "ipython3",
   "version": "3.10.8"
  },
  "toc": {
   "base_numbering": 1,
   "nav_menu": {},
   "number_sections": true,
   "sideBar": true,
   "skip_h1_title": false,
   "title_cell": "Table of Contents",
   "title_sidebar": "Contents",
   "toc_cell": false,
   "toc_position": {},
   "toc_section_display": true,
   "toc_window_display": false
  }
 },
 "nbformat": 4,
 "nbformat_minor": 5
}
