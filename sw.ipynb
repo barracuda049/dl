{
 "cells": [
  {
   "cell_type": "code",
   "execution_count": 2,
   "id": "c24b273a",
   "metadata": {},
   "outputs": [],
   "source": [
    "import os\n",
    "import glob\n",
    "import torch\n",
    "import numpy as np\n",
    "import matplotlib.pyplot as plt\n",
    "import torch.nn as nn\n",
    "from torchvision.transforms import transforms\n",
    "from torch.utils.data import DataLoader\n",
    "from torch.optim import Adam\n",
    "from torch.autograd import Variable\n",
    "import torchvision \n",
    "import pathlib\n",
    "from pathlib import Path"
   ]
  },
  {
   "cell_type": "markdown",
   "id": "7e5c986e",
   "metadata": {},
   "source": [
    "$\\Large\\text{Data load}$"
   ]
  },
  {
   "cell_type": "code",
   "execution_count": 3,
   "id": "26589fe5",
   "metadata": {},
   "outputs": [],
   "source": [
    "path_folder = 'TOP4040/'"
   ]
  },
  {
   "cell_type": "code",
   "execution_count": 4,
   "id": "614dc327",
   "metadata": {},
   "outputs": [],
   "source": [
    "folder = Path(path_folder)"
   ]
  },
  {
   "cell_type": "code",
   "execution_count": 5,
   "id": "d7f18488",
   "metadata": {},
   "outputs": [],
   "source": [
    "data = np.load(path_folder + '2.npz')['arr_0']"
   ]
  },
  {
   "cell_type": "code",
   "execution_count": 6,
   "id": "6a0bf3b2",
   "metadata": {},
   "outputs": [
    {
     "data": {
      "text/plain": [
       "<matplotlib.image.AxesImage at 0x13a0019f0>"
      ]
     },
     "execution_count": 6,
     "metadata": {},
     "output_type": "execute_result"
    },
    {
     "data": {
      "image/png": "[encoded data removed]",
      "text/plain": [
       "<Figure size 640x480 with 1 Axes>"
      ]
     },
     "metadata": {},
     "output_type": "display_data"
    }
   ],
   "source": [
    "plt.imshow(data[-1], cmap='Greys')"
   ]
  },
  {
   "cell_type": "code",
   "execution_count": null,
   "id": "3510d07b",
   "metadata": {},
   "outputs": [],
   "source": []
  },
  {
   "cell_type": "markdown",
   "id": "5210208c",
   "metadata": {},
   "source": [
    "$\\Large\\text{Examples of tensor usage}$"
   ]
  },
  {
   "cell_type": "code",
   "execution_count": 7,
   "id": "b56fc848",
   "metadata": {},
   "outputs": [
    {
     "data": {
      "text/plain": [
       "tensor([[0.1361, 0.8152, 0.9643, 0.5684, 0.3691, 0.1918],\n",
       "        [0.8246, 0.0525, 0.3091, 0.9786, 0.6088, 0.0507],\n",
       "        [0.0307, 0.9375, 0.1591, 0.8031, 0.1363, 0.4498],\n",
       "        [0.9796, 0.1499, 0.5227, 0.9865, 0.9434, 0.9351],\n",
       "        [0.8365, 0.0042, 0.5259, 0.5746, 0.5655, 0.1489],\n",
       "        [0.6398, 0.6891, 0.4378, 0.5375, 0.8022, 0.9342]])"
      ]
     },
     "execution_count": 7,
     "metadata": {},
     "output_type": "execute_result"
    }
   ],
   "source": [
    "x = torch.rand(6,6)\n",
    "x"
   ]
  },
  {
   "cell_type": "code",
   "execution_count": 8,
   "id": "b93d4b73",
   "metadata": {},
   "outputs": [
    {
     "data": {
      "text/plain": [
       "tensor([0.1361, 0.8152, 0.9643, 0.5684, 0.3691, 0.1918, 0.8246, 0.0525, 0.3091,\n",
       "        0.9786, 0.6088, 0.0507, 0.0307, 0.9375, 0.1591, 0.8031, 0.1363, 0.4498,\n",
       "        0.9796, 0.1499, 0.5227, 0.9865, 0.9434, 0.9351, 0.8365, 0.0042, 0.5259,\n",
       "        0.5746, 0.5655, 0.1489, 0.6398, 0.6891, 0.4378, 0.5375, 0.8022, 0.9342])"
      ]
     },
     "execution_count": 8,
     "metadata": {},
     "output_type": "execute_result"
    }
   ],
   "source": [
    "x.view(36)"
   ]
  },
  {
   "cell_type": "code",
   "execution_count": 9,
   "id": "2a4ca5bc",
   "metadata": {},
   "outputs": [
    {
     "data": {
      "text/plain": [
       "tensor([[0.1361, 0.8152, 0.9643, 0.5684, 0.3691, 0.1918, 0.8246, 0.0525, 0.3091,\n",
       "         0.9786, 0.6088, 0.0507],\n",
       "        [0.0307, 0.9375, 0.1591, 0.8031, 0.1363, 0.4498, 0.9796, 0.1499, 0.5227,\n",
       "         0.9865, 0.9434, 0.9351],\n",
       "        [0.8365, 0.0042, 0.5259, 0.5746, 0.5655, 0.1489, 0.6398, 0.6891, 0.4378,\n",
       "         0.5375, 0.8022, 0.9342]])"
      ]
     },
     "execution_count": 9,
     "metadata": {},
     "output_type": "execute_result"
    }
   ],
   "source": [
    "x.view(3,12)"
   ]
  },
  {
   "cell_type": "code",
   "execution_count": 10,
   "id": "0c01b42e",
   "metadata": {},
   "outputs": [
    {
     "data": {
      "text/plain": [
       "tensor([[0.1361, 0.8152, 0.9643, 0.5684, 0.3691, 0.1918, 0.8246, 0.0525, 0.3091,\n",
       "         0.9786, 0.6088, 0.0507],\n",
       "        [0.0307, 0.9375, 0.1591, 0.8031, 0.1363, 0.4498, 0.9796, 0.1499, 0.5227,\n",
       "         0.9865, 0.9434, 0.9351],\n",
       "        [0.8365, 0.0042, 0.5259, 0.5746, 0.5655, 0.1489, 0.6398, 0.6891, 0.4378,\n",
       "         0.5375, 0.8022, 0.9342]])"
      ]
     },
     "execution_count": 10,
     "metadata": {},
     "output_type": "execute_result"
    }
   ],
   "source": [
    "x.view(-1, 12) # -1 , python automatically calculate the size"
   ]
  },
  {
   "cell_type": "code",
   "execution_count": 29,
   "id": "23a31a5b",
   "metadata": {},
   "outputs": [
    {
     "data": {
      "text/plain": [
       "tensor([1., 1., 1., 1., 1.])"
      ]
     },
     "execution_count": 29,
     "metadata": {},
     "output_type": "execute_result"
    }
   ],
   "source": [
    "a = torch.ones(5)\n",
    "a"
   ]
  },
  {
   "cell_type": "code",
   "execution_count": 30,
   "id": "80536ead",
   "metadata": {},
   "outputs": [
    {
     "data": {
      "text/plain": [
       "array([1., 1., 1., 1., 1.], dtype=float32)"
      ]
     },
     "execution_count": 30,
     "metadata": {},
     "output_type": "execute_result"
    }
   ],
   "source": [
    "b = a.numpy() #have to write copy(), otherwise they are stored at the same memory\n",
    "b"
   ]
  },
  {
   "cell_type": "code",
   "execution_count": 31,
   "id": "78f76c1b",
   "metadata": {},
   "outputs": [
    {
     "data": {
      "text/plain": [
       "array([1., 1., 1., 1., 1.], dtype=float32)"
      ]
     },
     "execution_count": 31,
     "metadata": {},
     "output_type": "execute_result"
    }
   ],
   "source": [
    "c = a.numpy().copy() #have to write copy(), otherwise they are stored at the same memory and whenever you change the value in a it is also changed in b\n",
    "c"
   ]
  },
  {
   "cell_type": "code",
   "execution_count": 32,
   "id": "d3fcf275",
   "metadata": {},
   "outputs": [
    {
     "data": {
      "text/plain": [
       "tensor([6., 6., 6., 6., 6.])"
      ]
     },
     "execution_count": 32,
     "metadata": {},
     "output_type": "execute_result"
    }
   ],
   "source": [
    "a.add_(5)\n",
    "a"
   ]
  },
  {
   "cell_type": "code",
   "execution_count": 33,
   "id": "d64d250a",
   "metadata": {},
   "outputs": [
    {
     "data": {
      "text/plain": [
       "array([6., 6., 6., 6., 6.], dtype=float32)"
      ]
     },
     "execution_count": 33,
     "metadata": {},
     "output_type": "execute_result"
    }
   ],
   "source": [
    "b"
   ]
  },
  {
   "cell_type": "code",
   "execution_count": 34,
   "id": "e4133be4",
   "metadata": {},
   "outputs": [
    {
     "data": {
      "text/plain": [
       "array([1., 1., 1., 1., 1.], dtype=float32)"
      ]
     },
     "execution_count": 34,
     "metadata": {},
     "output_type": "execute_result"
    }
   ],
   "source": [
    "c"
   ]
  },
  {
   "cell_type": "code",
   "execution_count": 36,
   "id": "e4d1563d",
   "metadata": {},
   "outputs": [
    {
     "data": {
      "text/plain": [
       "tensor([1., 1., 1., 1., 1.], requires_grad=True)"
      ]
     },
     "execution_count": 36,
     "metadata": {},
     "output_type": "execute_result"
    }
   ],
   "source": [
    "x = torch.ones(5, requires_grad = True)\n",
    "x # it says to tensor that later it requires to calculate the gradients for this tensor in optimization steps"
   ]
  },
  {
   "cell_type": "markdown",
   "id": "4a790f8f",
   "metadata": {},
   "source": [
    "$\\Large\\text{Gradient calculation with autograd}$"
   ]
  },
  {
   "cell_type": "code",
   "execution_count": 39,
   "id": "79eae7d6",
   "metadata": {},
   "outputs": [
    {
     "data": {
      "text/plain": [
       "tensor([0.9773, 0.5993, 0.3714])"
      ]
     },
     "execution_count": 39,
     "metadata": {},
     "output_type": "execute_result"
    }
   ],
   "source": [
    "x = torch.rand(3)\n",
    "x"
   ]
  },
  {
   "cell_type": "code",
   "execution_count": null,
   "id": "4806de42",
   "metadata": {},
   "outputs": [],
   "source": []
  }
 ],
 "metadata": {
  "kernelspec": {
   "display_name": "Python 3 (ipykernel)",
   "language": "python",
   "name": "python3"
  },
  "language_info": {
   "codemirror_mode": {
    "name": "ipython",
    "version": 3
   },
   "file_extension": ".py",
   "mimetype": "text/x-python",
   "name": "python",
   "nbconvert_exporter": "python",
   "pygments_lexer": "ipython3",
   "version": "3.10.0"
  },
  "toc": {
   "base_numbering": 1,
   "nav_menu": {},
   "number_sections": true,
   "sideBar": true,
   "skip_h1_title": false,
   "title_cell": "Table of Contents",
   "title_sidebar": "Contents",
   "toc_cell": false,
   "toc_position": {},
   "toc_section_display": true,
   "toc_window_display": false
  }
 },
 "nbformat": 4,
 "nbformat_minor": 5
}
