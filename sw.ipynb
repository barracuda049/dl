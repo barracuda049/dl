{
 "cells": [
  {
   "cell_type": "code",
   "execution_count": 1,
   "id": "c24b273a",
   "metadata": {},
   "outputs": [
    {
     "name": "stderr",
     "output_type": "stream",
     "text": [
      "C:\\Users\\test\\AppData\\Local\\Programs\\Python\\Python310\\lib\\site-packages\\tqdm\\auto.py:22: TqdmWarning: IProgress not found. Please update jupyter and ipywidgets. See https://ipywidgets.readthedocs.io/en/stable/user_install.html\n",
      "  from .autonotebook import tqdm as notebook_tqdm\n"
     ]
    }
   ],
   "source": [
    "import os\n",
    "import glob\n",
    "import torch\n",
    "import numpy as np\n",
    "import matplotlib.pyplot as plt\n",
    "import torch.nn as nn\n",
    "from torchvision.transforms import transforms\n",
    "from torch.utils.data import DataLoader, Dataset\n",
    "from torch.optim import Adam\n",
    "from torch.autograd import Variable\n",
    "import torchvision \n",
    "import pathlib\n",
    "from pathlib import Path\n",
    "import torch.nn.functional as F"
   ]
  },
  {
   "cell_type": "markdown",
   "id": "7e5c986e",
   "metadata": {},
   "source": [
    "$\\Large\\text{Data load}$"
   ]
  },
  {
   "cell_type": "code",
   "execution_count": 2,
   "id": "26589fe5",
   "metadata": {},
   "outputs": [],
   "source": [
    "path_folder = 'TOP4040/'"
   ]
  },
  {
   "cell_type": "code",
   "execution_count": 3,
   "id": "614dc327",
   "metadata": {},
   "outputs": [],
   "source": [
    "folder = Path(path_folder)"
   ]
  },
  {
   "cell_type": "code",
   "execution_count": 4,
   "id": "d7f18488",
   "metadata": {},
   "outputs": [],
   "source": [
    "data = np.load(path_folder + '3.npz')['arr_0']"
   ]
  },
  {
   "cell_type": "code",
   "execution_count": 5,
   "id": "6a0bf3b2",
   "metadata": {},
   "outputs": [
    {
     "data": {
      "text/plain": [
       "<matplotlib.image.AxesImage at 0x134bcb220>"
      ]
     },
     "execution_count": 5,
     "metadata": {},
     "output_type": "execute_result"
    },
    {
     "data": {
      "image/png": "[encoded data removed]",
      "text/plain": [
       "<Figure size 640x480 with 1 Axes>"
      ]
     },
     "metadata": {},
     "output_type": "display_data"
    }
   ],
   "source": [
    "plt.imshow(data[0], cmap='Greys')"
   ]
  },
  {
   "cell_type": "code",
   "execution_count": 6,
   "id": "d1c34ad9",
   "metadata": {},
   "outputs": [],
   "source": [
    "class NPZLoader(Dataset):\n",
    "    def __init__(self, path, transform=None, cur_iter = 7):\n",
    "        self.path = path\n",
    "        self.files = list(Path(path).glob('**/*.npz'))\n",
    "        self.transform = transform\n",
    "        self.cur_iter = cur_iter\n",
    "\n",
    "    def __len__(self):\n",
    "        return len(self.files)\n",
    "\n",
    "    def __getitem__(self, item):\n",
    "        numpy_array = np.load(self.files[item])['arr_0']\n",
    "        target = numpy_array[-1]\n",
    "        r,c = numpy_array[0].shape\n",
    "        n_1_iter = numpy_array[self.cur_iter]\n",
    "        n_iter = numpy_array[self.cur_iter-1]\n",
    "        gradient = (n_1_iter - n_iter).reshape(1,r,c)\n",
    "        sample = np.concatenate((n_1_iter.reshape(1,r,c),gradient)), target\n",
    "        \n",
    "        \n",
    "#         torch_array = torch.from_numpy(numpy_array)\n",
    "        if self.transform:\n",
    "            sample = self.transform(sample)\n",
    "        return sample"
   ]
  },
  {
   "cell_type": "code",
   "execution_count": 7,
   "id": "d27bd4cb",
   "metadata": {},
   "outputs": [],
   "source": [
    "check = NPZLoader(path_folder,cur_iter = 5)"
   ]
  },
  {
   "cell_type": "code",
   "execution_count": 8,
   "id": "892f3b1d",
   "metadata": {},
   "outputs": [
    {
     "data": {
      "text/plain": [
       "(2, 40, 40)"
      ]
     },
     "execution_count": 8,
     "metadata": {},
     "output_type": "execute_result"
    }
   ],
   "source": [
    "check[0][0].shape"
   ]
  },
  {
   "cell_type": "code",
   "execution_count": 9,
   "id": "80cd02d4",
   "metadata": {},
   "outputs": [
    {
     "data": {
      "text/plain": [
       "<matplotlib.image.AxesImage at 0x1356dc0a0>"
      ]
     },
     "execution_count": 9,
     "metadata": {},
     "output_type": "execute_result"
    },
    {
     "data": {
      "image/png": "[encoded data removed]",
      "text/plain": [
       "<Figure size 640x480 with 1 Axes>"
      ]
     },
     "metadata": {},
     "output_type": "display_data"
    }
   ],
   "source": [
    "plt.imshow(check[3][0][0], cmap= 'binary')"
   ]
  },
  {
   "cell_type": "markdown",
   "id": "5210208c",
   "metadata": {},
   "source": [
    "$\\Large\\text{Examples of tensor usage}$"
   ]
  },
  {
   "cell_type": "code",
   "execution_count": 7,
   "id": "b56fc848",
   "metadata": {},
   "outputs": [
    {
     "data": {
      "text/plain": [
       "tensor([[0.2552, 0.3093, 0.7562, 0.3721, 0.5608, 0.9631],\n",
       "        [0.3879, 0.7418, 0.6369, 0.3001, 0.8003, 0.1239],\n",
       "        [0.0463, 0.9050, 0.1236, 0.6749, 0.7779, 0.2445],\n",
       "        [0.7138, 0.0770, 0.2541, 0.7262, 0.7306, 0.2684],\n",
       "        [0.4473, 0.9887, 0.4367, 0.4497, 0.5449, 0.8504],\n",
       "        [0.4483, 0.0965, 0.9171, 0.6618, 0.2546, 0.7338]])"
      ]
     },
     "execution_count": 7,
     "metadata": {},
     "output_type": "execute_result"
    }
   ],
   "source": [
    "x = torch.rand(6,6)\n",
    "x"
   ]
  },
  {
   "cell_type": "code",
   "execution_count": 8,
   "id": "b93d4b73",
   "metadata": {},
   "outputs": [
    {
     "data": {
      "text/plain": [
       "tensor([0.2552, 0.3093, 0.7562, 0.3721, 0.5608, 0.9631, 0.3879, 0.7418, 0.6369,\n",
       "        0.3001, 0.8003, 0.1239, 0.0463, 0.9050, 0.1236, 0.6749, 0.7779, 0.2445,\n",
       "        0.7138, 0.0770, 0.2541, 0.7262, 0.7306, 0.2684, 0.4473, 0.9887, 0.4367,\n",
       "        0.4497, 0.5449, 0.8504, 0.4483, 0.0965, 0.9171, 0.6618, 0.2546, 0.7338])"
      ]
     },
     "execution_count": 8,
     "metadata": {},
     "output_type": "execute_result"
    }
   ],
   "source": [
    "x.view(36)"
   ]
  },
  {
   "cell_type": "code",
   "execution_count": 9,
   "id": "2a4ca5bc",
   "metadata": {},
   "outputs": [
    {
     "data": {
      "text/plain": [
       "tensor([[0.2552, 0.3093, 0.7562, 0.3721, 0.5608, 0.9631, 0.3879, 0.7418, 0.6369,\n",
       "         0.3001, 0.8003, 0.1239],\n",
       "        [0.0463, 0.9050, 0.1236, 0.6749, 0.7779, 0.2445, 0.7138, 0.0770, 0.2541,\n",
       "         0.7262, 0.7306, 0.2684],\n",
       "        [0.4473, 0.9887, 0.4367, 0.4497, 0.5449, 0.8504, 0.4483, 0.0965, 0.9171,\n",
       "         0.6618, 0.2546, 0.7338]])"
      ]
     },
     "execution_count": 9,
     "metadata": {},
     "output_type": "execute_result"
    }
   ],
   "source": [
    "x.view(3,12)"
   ]
  },
  {
   "cell_type": "code",
   "execution_count": 10,
   "id": "0c01b42e",
   "metadata": {},
   "outputs": [
    {
     "data": {
      "text/plain": [
       "tensor([[0.2552, 0.3093, 0.7562, 0.3721, 0.5608, 0.9631, 0.3879, 0.7418, 0.6369,\n",
       "         0.3001, 0.8003, 0.1239],\n",
       "        [0.0463, 0.9050, 0.1236, 0.6749, 0.7779, 0.2445, 0.7138, 0.0770, 0.2541,\n",
       "         0.7262, 0.7306, 0.2684],\n",
       "        [0.4473, 0.9887, 0.4367, 0.4497, 0.5449, 0.8504, 0.4483, 0.0965, 0.9171,\n",
       "         0.6618, 0.2546, 0.7338]])"
      ]
     },
     "execution_count": 10,
     "metadata": {},
     "output_type": "execute_result"
    }
   ],
   "source": [
    "x.view(-1, 12) # -1 , python automatically calculate the size"
   ]
  },
  {
   "cell_type": "code",
   "execution_count": 11,
   "id": "23a31a5b",
   "metadata": {},
   "outputs": [
    {
     "data": {
      "text/plain": [
       "tensor([1., 1., 1., 1., 1.])"
      ]
     },
     "execution_count": 11,
     "metadata": {},
     "output_type": "execute_result"
    }
   ],
   "source": [
    "a = torch.ones(5)\n",
    "a"
   ]
  },
  {
   "cell_type": "code",
   "execution_count": 12,
   "id": "7643b40c",
   "metadata": {},
   "outputs": [
    {
     "data": {
      "text/plain": [
       "array([1., 1., 1., 1., 1.], dtype=float32)"
      ]
     },
     "execution_count": 12,
     "metadata": {},
     "output_type": "execute_result"
    }
   ],
   "source": [
    "b = a.numpy() #have to write copy(), otherwise they are stored at the same memory\n",
    "b"
   ]
  },
  {
   "cell_type": "code",
   "execution_count": 13,
   "id": "c9d4d8e5",
   "metadata": {},
   "outputs": [
    {
     "data": {
      "text/plain": [
       "array([1., 1., 1., 1., 1.], dtype=float32)"
      ]
     },
     "execution_count": 13,
     "metadata": {},
     "output_type": "execute_result"
    }
   ],
   "source": [
    "c = a.numpy().copy() #have to write copy(), otherwise they are stored at the same memory and whenever you change the value in a it is also changed in b\n",
    "c"
   ]
  },
  {
   "cell_type": "code",
   "execution_count": 14,
   "id": "015e1073",
   "metadata": {},
   "outputs": [
    {
     "data": {
      "text/plain": [
       "tensor([6., 6., 6., 6., 6.])"
      ]
     },
     "execution_count": 14,
     "metadata": {},
     "output_type": "execute_result"
    }
   ],
   "source": [
    "a.add_(5)\n",
    "a"
   ]
  },
  {
   "cell_type": "code",
   "execution_count": 15,
   "id": "5b0afc39",
   "metadata": {},
   "outputs": [
    {
     "data": {
      "text/plain": [
       "array([6., 6., 6., 6., 6.], dtype=float32)"
      ]
     },
     "execution_count": 15,
     "metadata": {},
     "output_type": "execute_result"
    }
   ],
   "source": [
    "b"
   ]
  },
  {
   "cell_type": "code",
   "execution_count": 16,
   "id": "0d4960f3",
   "metadata": {},
   "outputs": [
    {
     "data": {
      "text/plain": [
       "array([1., 1., 1., 1., 1.], dtype=float32)"
      ]
     },
     "execution_count": 16,
     "metadata": {},
     "output_type": "execute_result"
    }
   ],
   "source": [
    "c"
   ]
  },
  {
   "cell_type": "code",
   "execution_count": 17,
   "id": "7b04f96d",
   "metadata": {},
   "outputs": [
    {
     "data": {
      "text/plain": [
       "tensor([1., 1., 1., 1., 1.], requires_grad=True)"
      ]
     },
     "execution_count": 17,
     "metadata": {},
     "output_type": "execute_result"
    }
   ],
   "source": [
    "x = torch.ones(5, requires_grad = True)\n",
    "x # it says to tensor that later it requires to calculate the gradients for this tensor in optimization steps"
   ]
  },
  {
   "cell_type": "code",
   "execution_count": 18,
   "id": "5d32958f",
   "metadata": {},
   "outputs": [
    {
     "data": {
      "text/plain": [
       "float"
      ]
     },
     "execution_count": 18,
     "metadata": {},
     "output_type": "execute_result"
    }
   ],
   "source": [
    "type(x[0].item())"
   ]
  },
  {
   "cell_type": "markdown",
   "id": "2810acea",
   "metadata": {},
   "source": [
    "$\\Large\\text{Gradient calculation with autograd}$"
   ]
  },
  {
   "cell_type": "code",
   "execution_count": 19,
   "id": "a6d979f7",
   "metadata": {},
   "outputs": [
    {
     "data": {
      "text/plain": [
       "tensor([ 1.3347, -0.7786,  0.9148], requires_grad=True)"
      ]
     },
     "execution_count": 19,
     "metadata": {},
     "output_type": "execute_result"
    }
   ],
   "source": [
    "x = torch.randn(3, requires_grad = True)\n",
    "x"
   ]
  },
  {
   "cell_type": "code",
   "execution_count": 20,
   "id": "930fa45d",
   "metadata": {},
   "outputs": [
    {
     "data": {
      "text/plain": [
       "tensor([3.3347, 1.2214, 2.9148], grad_fn=<AddBackward0>)"
      ]
     },
     "execution_count": 20,
     "metadata": {},
     "output_type": "execute_result"
    }
   ],
   "source": [
    "y = x + 2\n",
    "y"
   ]
  },
  {
   "cell_type": "code",
   "execution_count": 21,
   "id": "7c95614e",
   "metadata": {},
   "outputs": [],
   "source": [
    "z = y**2*2\n",
    "# z = z.mean()"
   ]
  },
  {
   "cell_type": "code",
   "execution_count": 22,
   "id": "c8474a2e",
   "metadata": {},
   "outputs": [],
   "source": [
    "# z.backward() #dz/dx\n",
    "# print(x.grad)"
   ]
  },
  {
   "cell_type": "code",
   "execution_count": 23,
   "id": "a08b81cd",
   "metadata": {},
   "outputs": [
    {
     "name": "stdout",
     "output_type": "stream",
     "text": [
      "tensor([1.3339, 4.8856, 0.0117])\n"
     ]
    }
   ],
   "source": [
    "# What if we dont specify z = z.mean()\n",
    "v = torch.tensor([0.1, 1.0, 0.001], dtype = torch.float32)\n",
    "z.backward(v) # in the backward it is vector jacobian product\n",
    "print(x.grad) "
   ]
  },
  {
   "cell_type": "code",
   "execution_count": 24,
   "id": "91792ad7",
   "metadata": {},
   "outputs": [],
   "source": [
    "# x.requires_grad_(False)\n",
    "# x.detach()\n",
    "# with torch.no_grad():"
   ]
  },
  {
   "cell_type": "code",
   "execution_count": 25,
   "id": "f7ef8217",
   "metadata": {},
   "outputs": [
    {
     "data": {
      "text/plain": [
       "tensor([ 1.3347, -0.7786,  0.9148])"
      ]
     },
     "execution_count": 25,
     "metadata": {},
     "output_type": "execute_result"
    }
   ],
   "source": [
    "x.requires_grad_(False) # Whenever our function has _ at the end it means that is modified our variable inplace\n",
    "x # Now x does not have requires_grad=True\n",
    "# The same will be with y = x.detach()\n",
    "# with torch.no_grad():\n",
    "#    y = x + 2 "
   ]
  },
  {
   "cell_type": "markdown",
   "id": "5cf848c7",
   "metadata": {},
   "source": [
    "$\\text{Whenever we call backward function then the gradient for this tensor will be accumulated into the dot grad attribute, the values will be summed up}$ "
   ]
  },
  {
   "cell_type": "code",
   "execution_count": 26,
   "id": "4e615916",
   "metadata": {},
   "outputs": [],
   "source": [
    "weights = torch.ones(4 , requires_grad=True)"
   ]
  },
  {
   "cell_type": "markdown",
   "id": "92e3441d",
   "metadata": {},
   "source": [
    "$\\text{Before we do the next iteration or optimiztion we must empty the gradients}$"
   ]
  },
  {
   "cell_type": "code",
   "execution_count": 27,
   "id": "df8bf10f",
   "metadata": {},
   "outputs": [
    {
     "name": "stdout",
     "output_type": "stream",
     "text": [
      "tensor([3., 3., 3., 3.])\n",
      "tensor([3., 3., 3., 3.])\n",
      "tensor([3., 3., 3., 3.])\n",
      "tensor([3., 3., 3., 3.])\n"
     ]
    }
   ],
   "source": [
    "for epoch in range(4):\n",
    "    model_output = (weights*3).sum()\n",
    "    \n",
    "    model_output.backward()\n",
    "    \n",
    "    print(weights.grad)\n",
    "    \n",
    "    weights.grad.zero_() # Empty "
   ]
  },
  {
   "cell_type": "code",
   "execution_count": 28,
   "id": "0d1c4e27",
   "metadata": {},
   "outputs": [],
   "source": [
    "#With optimization\n",
    "\n",
    "# optimizer = torch.optim.SGD(weights, lr=0.01)\n",
    "# optimizer.step()\n",
    "# optimizer.zero_grad()"
   ]
  },
  {
   "cell_type": "markdown",
   "id": "5aa471c9",
   "metadata": {},
   "source": [
    "$\\Large\\text{Backpropagation}$"
   ]
  },
  {
   "cell_type": "code",
   "execution_count": 29,
   "id": "1c6c948a",
   "metadata": {},
   "outputs": [],
   "source": [
    "x = torch.tensor(1.0)\n",
    "y = torch.tensor(2.0)\n",
    "\n",
    "w = torch.tensor(1.0,requires_grad = True)\n"
   ]
  },
  {
   "cell_type": "code",
   "execution_count": 30,
   "id": "dc8069c1",
   "metadata": {},
   "outputs": [],
   "source": [
    "#forward pass and compute the loss"
   ]
  },
  {
   "cell_type": "code",
   "execution_count": 31,
   "id": "ef602a49",
   "metadata": {},
   "outputs": [
    {
     "data": {
      "text/plain": [
       "tensor(1., grad_fn=<PowBackward0>)"
      ]
     },
     "execution_count": 31,
     "metadata": {},
     "output_type": "execute_result"
    }
   ],
   "source": [
    "y_hat = w*x\n",
    "loss = (y_hat- y) **2\n",
    "loss"
   ]
  },
  {
   "cell_type": "code",
   "execution_count": 32,
   "id": "97db7ddf",
   "metadata": {},
   "outputs": [
    {
     "data": {
      "text/plain": [
       "tensor(-2.)"
      ]
     },
     "execution_count": 32,
     "metadata": {},
     "output_type": "execute_result"
    }
   ],
   "source": [
    "# Backward pass\n",
    "loss.backward()\n",
    "w.grad"
   ]
  },
  {
   "cell_type": "markdown",
   "id": "f09d4cf5",
   "metadata": {},
   "source": [
    "$\\text{Next we have to update our weights and next forward and backkward}$"
   ]
  },
  {
   "cell_type": "markdown",
   "id": "2f3023e1",
   "metadata": {},
   "source": [
    "$\\Large\\text{Gradient Descent with Autograd and Backpropagation}$"
   ]
  },
  {
   "cell_type": "markdown",
   "id": "a794b6e5",
   "metadata": {},
   "source": [
    "$\\text{Manually}$"
   ]
  },
  {
   "cell_type": "code",
   "execution_count": 323,
   "id": "4f8f4c01",
   "metadata": {},
   "outputs": [
    {
     "data": {
      "text/plain": [
       "array([1., 2., 3., 4.], dtype=float32)"
      ]
     },
     "execution_count": 323,
     "metadata": {},
     "output_type": "execute_result"
    }
   ],
   "source": [
    "X = np.array(list(range(1,5)), dtype = np.float32)\n",
    "Y = X.copy()*2\n",
    "w = 0.0\n",
    "X"
   ]
  },
  {
   "cell_type": "code",
   "execution_count": 324,
   "id": "18c4bc39",
   "metadata": {},
   "outputs": [],
   "source": [
    "def forward(x):\n",
    "    \n",
    "    return w * x"
   ]
  },
  {
   "cell_type": "code",
   "execution_count": 325,
   "id": "abc17b5d",
   "metadata": {},
   "outputs": [],
   "source": [
    "def loss(y, y_pred):\n",
    "    \n",
    "    return ((y - y_pred)**2).mean()"
   ]
  },
  {
   "cell_type": "code",
   "execution_count": 326,
   "id": "538f9eff",
   "metadata": {},
   "outputs": [],
   "source": [
    "#MSE = 1/N * (w*x - y)**2\n",
    "#dJ/dw = 1/N 2x (w*x - y)\n",
    "\n",
    "def gradient(x,y, y_pred):\n",
    "    \n",
    "    return np.dot(2*x, y_pred - y).mean()"
   ]
  },
  {
   "cell_type": "code",
   "execution_count": 327,
   "id": "bdf89f06",
   "metadata": {},
   "outputs": [
    {
     "data": {
      "text/plain": [
       "12.0"
      ]
     },
     "execution_count": 327,
     "metadata": {},
     "output_type": "execute_result"
    }
   ],
   "source": [
    "gradient(np.array([1,2,3]), np.array([2,4,8]), np.array([2,4,10]))"
   ]
  },
  {
   "cell_type": "code",
   "execution_count": 328,
   "id": "bffd50a8",
   "metadata": {},
   "outputs": [
    {
     "data": {
      "text/plain": [
       "1.3333333333333333"
      ]
     },
     "execution_count": 328,
     "metadata": {},
     "output_type": "execute_result"
    }
   ],
   "source": [
    "loss(np.array([2,4,8]), np.array([2,4,10]))"
   ]
  },
  {
   "cell_type": "code",
   "execution_count": 329,
   "id": "96f552bb",
   "metadata": {},
   "outputs": [
    {
     "name": "stdout",
     "output_type": "stream",
     "text": [
      "Prediction before training: f(5) = 0.000\n"
     ]
    }
   ],
   "source": [
    "print(f'Prediction before training: f(5) = {forward(5):.3f}')"
   ]
  },
  {
   "cell_type": "code",
   "execution_count": 330,
   "id": "e1d3d5c2",
   "metadata": {},
   "outputs": [],
   "source": [
    "learning_rate = 0.01\n",
    "n_iters = 10"
   ]
  },
  {
   "cell_type": "code",
   "execution_count": 331,
   "id": "f5fe97f2",
   "metadata": {},
   "outputs": [
    {
     "name": "stdout",
     "output_type": "stream",
     "text": [
      "[0. 0. 0. 0.]\n",
      "epoch 1: w = 1.200, loss = 30.00000000, dw = -120.0\n",
      "[1.2       2.4       3.6000001 4.8      ]\n",
      "epoch 2: w = 1.680, loss = 4.79999924, dw = -47.999996185302734\n",
      "[1.68 3.36 5.04 6.72]\n",
      "epoch 3: w = 1.872, loss = 0.76800019, dw = -19.200002670288086\n",
      "[1.872 3.744 5.616 7.488]\n",
      "epoch 4: w = 1.949, loss = 0.12288000, dw = -7.679999828338623\n",
      "[1.9488 3.8976 5.8464 7.7952]\n",
      "epoch 5: w = 1.980, loss = 0.01966083, dw = -3.072002649307251\n",
      "[1.97952 3.95904 5.93856 7.91808]\n",
      "epoch 6: w = 1.992, loss = 0.00314574, dw = -1.2288014888763428\n",
      "[1.991808  3.983616  5.9754243 7.967232 ]\n",
      "epoch 7: w = 1.997, loss = 0.00050331, dw = -0.4915158748626709\n",
      "[1.9967232 3.9934464 5.9901695 7.9868927]\n",
      "epoch 8: w = 1.999, loss = 0.00008053, dw = -0.1966094970703125\n",
      "[1.9986893 3.9973786 5.996068  7.994757 ]\n",
      "epoch 9: w = 1.999, loss = 0.00001288, dw = -0.07864165306091309\n",
      "[1.9994757 3.9989514 5.9984274 7.997903 ]\n",
      "epoch 10: w = 2.000, loss = 0.00000206, dw = -0.03145551681518555\n"
     ]
    }
   ],
   "source": [
    "X = np.array(list(range(1,5)), dtype = np.float32)\n",
    "Y = X.copy()*2\n",
    "w = 0.0\n",
    "\n",
    "for epoch in range(n_iters):\n",
    "    \n",
    "    # prediction = forward pass \n",
    "    y_pred = forward(X)\n",
    "    print(y_pred)\n",
    "    #loss \n",
    "    l = loss(Y,y_pred)\n",
    "    \n",
    "    #gradients\n",
    "    \n",
    "    dw = gradient(X,Y, y_pred)\n",
    "    \n",
    "    #update weights\n",
    "    \n",
    "    w = w - learning_rate*dw\n",
    "    \n",
    "    if epoch%1 == 0:\n",
    "        print(f'epoch {epoch + 1}: w = {w:.3f}, loss = {l:.8f}, dw = {dw}')\n",
    "        \n"
   ]
  },
  {
   "cell_type": "code",
   "execution_count": 41,
   "id": "f2bfa085",
   "metadata": {},
   "outputs": [
    {
     "name": "stdout",
     "output_type": "stream",
     "text": [
      "Prediction after training: f(5) = 9.999\n"
     ]
    }
   ],
   "source": [
    "print(f'Prediction after training: f(5) = {forward(5):.3f}')"
   ]
  },
  {
   "cell_type": "markdown",
   "id": "fb23b523",
   "metadata": {},
   "source": [
    "$\\text{Gradients computation with Autograd}$"
   ]
  },
  {
   "cell_type": "code",
   "execution_count": 42,
   "id": "89ce993d",
   "metadata": {},
   "outputs": [
    {
     "name": "stdout",
     "output_type": "stream",
     "text": [
      "epoch 1: w = 0.300, loss = 30.00000000, dw = -0.03145551681518555\n",
      "epoch 3: w = 0.772, loss = 15.66018772, dw = -0.03145551681518555\n",
      "epoch 5: w = 1.113, loss = 8.17471695, dw = -0.03145551681518555\n",
      "epoch 7: w = 1.359, loss = 4.26725292, dw = -0.03145551681518555\n",
      "epoch 9: w = 1.537, loss = 2.22753215, dw = -0.03145551681518555\n",
      "epoch 11: w = 1.665, loss = 1.16278565, dw = -0.03145551681518555\n",
      "epoch 13: w = 1.758, loss = 0.60698116, dw = -0.03145551681518555\n",
      "epoch 15: w = 1.825, loss = 0.31684780, dw = -0.03145551681518555\n",
      "epoch 17: w = 1.874, loss = 0.16539653, dw = -0.03145551681518555\n",
      "epoch 19: w = 1.909, loss = 0.08633806, dw = -0.03145551681518555\n",
      "Prediction before training: f(5) = 9.612\n"
     ]
    }
   ],
   "source": [
    "X = torch.tensor(list(range(1,5)), dtype = torch.float32)\n",
    "Y = X*2\n",
    "w = torch.tensor(0.0, dtype = torch.float32, requires_grad = True)\n",
    "n_iters = 20\n",
    "for epoch in range(n_iters):\n",
    "    \n",
    "    # prediction = forward pass \n",
    "    y_pred = forward(X)\n",
    "    #loss \n",
    "    l = loss(Y,y_pred)\n",
    "    \n",
    "    #gradients\n",
    "    \n",
    "    l.backward() # dl/dw\n",
    "    \n",
    "    #update weights\n",
    "    with torch.no_grad(): \n",
    "        w-= w.grad*learning_rate\n",
    "    # zero gradients\n",
    "    w.grad.zero_()\n",
    "    if epoch%2 == 0:\n",
    "        print(f'epoch {epoch + 1}: w = {w:.3f}, loss = {l:.8f}, dw = {dw}')\n",
    "        \n",
    "print(f'Prediction before training: f(5) = {forward(5):.3f}')"
   ]
  },
  {
   "cell_type": "markdown",
   "id": "1d005a0c",
   "metadata": {},
   "source": [
    "$\\text{Examples from the videos}$"
   ]
  },
  {
   "cell_type": "code",
   "execution_count": 43,
   "id": "2e4faa3b",
   "metadata": {},
   "outputs": [
    {
     "data": {
      "text/plain": [
       "<matplotlib.image.AxesImage at 0x27aeab2bfa0>"
      ]
     },
     "execution_count": 43,
     "metadata": {},
     "output_type": "execute_result"
    },
    {
     "data": {
      "image/png": "[encoded data removed]",
      "text/plain": [
       "<Figure size 640x480 with 1 Axes>"
      ]
     },
     "metadata": {},
     "output_type": "display_data"
    }
   ],
   "source": [
    "zero = np.zeros((7,7), dtype = np.int32)\n",
    "\n",
    "zero[1:-1, 2::3] = 1\n",
    "zero[1:-1:4, 2:-1] = 1\n",
    "\n",
    "\n",
    "plt.imshow(zero , cmap = 'Greys')"
   ]
  },
  {
   "cell_type": "code",
   "execution_count": 44,
   "id": "e70acee3",
   "metadata": {},
   "outputs": [
    {
     "data": {
      "text/plain": [
       "<matplotlib.image.AxesImage at 0x27aeab9f3a0>"
      ]
     },
     "execution_count": 44,
     "metadata": {},
     "output_type": "execute_result"
    },
    {
     "data": {
      "image/png": "[encoded data removed]",
      "text/plain": [
       "<Figure size 640x480 with 1 Axes>"
      ]
     },
     "metadata": {},
     "output_type": "display_data"
    }
   ],
   "source": [
    "one = np.zeros((7,7), dtype = np.int32)\n",
    "one[1:-1,3] = 1\n",
    "plt.imshow(one , cmap = 'Greys')"
   ]
  },
  {
   "cell_type": "code",
   "execution_count": 45,
   "id": "8cb8a9c8",
   "metadata": {},
   "outputs": [
    {
     "data": {
      "text/plain": [
       "<matplotlib.image.AxesImage at 0x27aecd7d8a0>"
      ]
     },
     "execution_count": 45,
     "metadata": {},
     "output_type": "execute_result"
    },
    {
     "data": {
      "image/png": "[encoded data removed]",
      "text/plain": [
       "<Figure size 640x480 with 1 Axes>"
      ]
     },
     "metadata": {},
     "output_type": "display_data"
    }
   ],
   "source": [
    "two = np.zeros((7,7), dtype = np.int32)\n",
    "\n",
    "two[1:-1, 2] = 1\n",
    "two[1:-1:2, 2:-1] = 1\n",
    "two[2, 2] = 0\n",
    "two[2, -2] = 1\n",
    "\n",
    "\n",
    "\n",
    "plt.imshow(two , cmap = 'Greys')"
   ]
  },
  {
   "cell_type": "code",
   "execution_count": 46,
   "id": "f98ba47c",
   "metadata": {},
   "outputs": [
    {
     "data": {
      "text/plain": [
       "<matplotlib.image.AxesImage at 0x27aee924e50>"
      ]
     },
     "execution_count": 46,
     "metadata": {},
     "output_type": "execute_result"
    },
    {
     "data": {
      "image/png": "[encoded data removed]",
      "text/plain": [
       "<Figure size 640x480 with 1 Axes>"
      ]
     },
     "metadata": {},
     "output_type": "display_data"
    }
   ],
   "source": [
    "three = np.zeros((7,7), dtype = np.int32)\n",
    "\n",
    "three[1:-1, -2] = 1\n",
    "three[1:-1:2, 1:-2] = 1\n",
    "\n",
    "plt.imshow(three , cmap = 'Greys')"
   ]
  },
  {
   "cell_type": "code",
   "execution_count": 47,
   "id": "c782abed",
   "metadata": {},
   "outputs": [
    {
     "data": {
      "text/plain": [
       "<matplotlib.image.AxesImage at 0x27aee98b6a0>"
      ]
     },
     "execution_count": 47,
     "metadata": {},
     "output_type": "execute_result"
    },
    {
     "data": {
      "image/png": "[encoded data removed]",
      "text/plain": [
       "<Figure size 640x480 with 1 Axes>"
      ]
     },
     "metadata": {},
     "output_type": "display_data"
    }
   ],
   "source": [
    "four = np.zeros((7,7), dtype = np.int32)\n",
    "\n",
    "four[1:4, 2:-1:3] = 1\n",
    "four[3, 2:-1] = 1\n",
    "four[3 :-1, -2] = 1\n",
    "# four[1:-1:2, 1:-2] = 1\n",
    "\n",
    "plt.imshow(four , cmap = 'Greys')"
   ]
  },
  {
   "cell_type": "code",
   "execution_count": 48,
   "id": "7c33d628",
   "metadata": {},
   "outputs": [
    {
     "data": {
      "text/plain": [
       "<matplotlib.image.AxesImage at 0x27aeea21540>"
      ]
     },
     "execution_count": 48,
     "metadata": {},
     "output_type": "execute_result"
    },
    {
     "data": {
      "image/png": "[encoded data removed]",
      "text/plain": [
       "<Figure size 640x480 with 1 Axes>"
      ]
     },
     "metadata": {},
     "output_type": "display_data"
    }
   ],
   "source": [
    "five = np.zeros((7,7), dtype = np.int32)\n",
    "\n",
    "five[1:-1, 2] = 1\n",
    "five[1:-1:2, 2:-1] = 1\n",
    "five[-3, -2] = 1\n",
    "five[-3, 2] = 0\n",
    "\n",
    "\n",
    "plt.imshow(five , cmap = 'Greys')"
   ]
  },
  {
   "cell_type": "code",
   "execution_count": 49,
   "id": "5276bdb9",
   "metadata": {},
   "outputs": [
    {
     "data": {
      "text/plain": [
       "<matplotlib.image.AxesImage at 0x27aeea8ba00>"
      ]
     },
     "execution_count": 49,
     "metadata": {},
     "output_type": "execute_result"
    },
    {
     "data": {
      "image/png": "[encoded data removed]",
      "text/plain": [
       "<Figure size 640x480 with 1 Axes>"
      ]
     },
     "metadata": {},
     "output_type": "display_data"
    }
   ],
   "source": [
    "six = np.zeros((7,7), dtype = np.int32)\n",
    "\n",
    "six[1:-1, 2] = 1\n",
    "six[1:-1:2, 2:-1] = 1\n",
    "six[-3, -2] = 1\n",
    "\n",
    "# four[1:-1:2, 1:-2] = 1\n",
    "\n",
    "plt.imshow(six , cmap = 'Greys')"
   ]
  },
  {
   "cell_type": "code",
   "execution_count": 50,
   "id": "b30600dc",
   "metadata": {},
   "outputs": [
    {
     "data": {
      "text/plain": [
       "<matplotlib.image.AxesImage at 0x27aeeb19870>"
      ]
     },
     "execution_count": 50,
     "metadata": {},
     "output_type": "execute_result"
    },
    {
     "data": {
      "image/png": "[encoded data removed]",
      "text/plain": [
       "<Figure size 640x480 with 1 Axes>"
      ]
     },
     "metadata": {},
     "output_type": "display_data"
    }
   ],
   "source": [
    "sev = np.zeros((7,7), dtype = np.int32)\n",
    "\n",
    "sev[1:-1, -3] = 1\n",
    "sev[1, 2:-3] = 1\n",
    "\n",
    "# four[1:-1:2, 1:-2] = 1\n",
    "\n",
    "plt.imshow(sev , cmap = 'Greys')"
   ]
  },
  {
   "cell_type": "code",
   "execution_count": 51,
   "id": "b40c6bd5",
   "metadata": {},
   "outputs": [
    {
     "data": {
      "text/plain": [
       "<matplotlib.image.AxesImage at 0x27aeeb7bd90>"
      ]
     },
     "execution_count": 51,
     "metadata": {},
     "output_type": "execute_result"
    },
    {
     "data": {
      "image/png": "[encoded data removed]",
      "text/plain": [
       "<Figure size 640x480 with 1 Axes>"
      ]
     },
     "metadata": {},
     "output_type": "display_data"
    }
   ],
   "source": [
    "eig = np.zeros((7,7), dtype = np.int32)\n",
    "\n",
    "eig[1:-1, 2::3] = 1\n",
    "eig[1:-1:2, 2:-1] = 1\n",
    "\n",
    "\n",
    "plt.imshow(eig , cmap = 'Greys')"
   ]
  },
  {
   "cell_type": "code",
   "execution_count": 52,
   "id": "54aeefd8",
   "metadata": {},
   "outputs": [
    {
     "data": {
      "text/plain": [
       "<matplotlib.image.AxesImage at 0x27aeebf7b50>"
      ]
     },
     "execution_count": 52,
     "metadata": {},
     "output_type": "execute_result"
    },
    {
     "data": {
      "image/png": "[encoded data removed]",
      "text/plain": [
       "<Figure size 640x480 with 1 Axes>"
      ]
     },
     "metadata": {},
     "output_type": "display_data"
    }
   ],
   "source": [
    "nine = np.zeros((7,7), dtype = np.int32)\n",
    "\n",
    "nine[1:-1, 2] = 1\n",
    "nine[1:-1:2, 2:-1] = 1\n",
    "nine[-3, -2] = 1\n",
    "nine[-3, 2] = 0\n",
    "nine[2, -2] = 1\n",
    "\n",
    "plt.imshow(nine , cmap = 'Greys')"
   ]
  },
  {
   "cell_type": "code",
   "execution_count": 53,
   "id": "a8875edf",
   "metadata": {},
   "outputs": [],
   "source": [
    "import random"
   ]
  },
  {
   "cell_type": "code",
   "execution_count": 54,
   "id": "375ac7e5",
   "metadata": {},
   "outputs": [],
   "source": [
    "def relu(t):\n",
    "    return np.maximum(t,0)\n",
    "\n",
    "def softmax(t):\n",
    "    \n",
    "    out = np.exp(t)\n",
    "    return out/np.sum(out)\n",
    "\n",
    "def sparse_cross_entropy(z,y):\n",
    "    return -np.log(z[0,y])\n",
    "\n",
    "\n",
    "def relu_deriv(t):\n",
    "    \n",
    "    return (t >= 0).astype(float)\n",
    "\n",
    "def predict(x):\n",
    "    if x.shape[0] != 1:\n",
    "        x = x.reshape(1,-1)\n",
    "    t1 = np.dot(x, W1) + b1\n",
    "    h1 = relu(t1)\n",
    "    t2 = h1 @ W2 + b2\n",
    "    z = softmax(t2)\n",
    "    return z\n",
    "\n",
    "def cals_accuracy(cur_set):\n",
    "    correct = 0\n",
    "    \n",
    "    for x,y in cur_set:\n",
    "        z = predict(x)\n",
    "        y_pred = np.argmax(z)\n",
    "        if y_pred == y:\n",
    "            correct += 1\n",
    "    acc = correct / len(cur_set)\n",
    "    return acc\n",
    "\n",
    "def to_full(y, num_classes):\n",
    "    y_full = np.zeros((1,num_classes))\n",
    "    \n",
    "    y_full[0,y] = 1\n",
    "    \n",
    "    return y_full"
   ]
  },
  {
   "cell_type": "code",
   "execution_count": 55,
   "id": "5f0d665c",
   "metadata": {},
   "outputs": [],
   "source": [
    "from sklearn import datasets"
   ]
  },
  {
   "cell_type": "code",
   "execution_count": 56,
   "id": "07118c58",
   "metadata": {},
   "outputs": [],
   "source": [
    "iris = datasets.load_iris()"
   ]
  },
  {
   "cell_type": "code",
   "execution_count": 57,
   "id": "bd05050d",
   "metadata": {},
   "outputs": [
    {
     "name": "stdout",
     "output_type": "stream",
     "text": [
      "(150,)\n",
      "(4,)\n",
      "(1, 4)\n"
     ]
    }
   ],
   "source": [
    "print(iris.get('target').shape)\n",
    "print(iris.data[0].shape)\n",
    "print(iris.data[0][None, ...].shape) # [None, ...] from (4,) to (1, 4 ) "
   ]
  },
  {
   "cell_type": "code",
   "execution_count": 58,
   "id": "b2a89d23",
   "metadata": {},
   "outputs": [
    {
     "data": {
      "text/plain": [
       "[(array([[5.1, 3.5, 1.4, 0.2]]), 0),\n",
       " (array([[4.9, 3. , 1.4, 0.2]]), 0),\n",
       " (array([[4.7, 3.2, 1.3, 0.2]]), 0),\n",
       " (array([[4.6, 3.1, 1.5, 0.2]]), 0),\n",
       " (array([[5. , 3.6, 1.4, 0.2]]), 0)]"
      ]
     },
     "execution_count": 58,
     "metadata": {},
     "output_type": "execute_result"
    }
   ],
   "source": [
    "dataset = [(iris.data[i].reshape(1,-1), iris.target[i]) for i in range(len(iris.target))]\n",
    "dataset[:5]"
   ]
  },
  {
   "cell_type": "code",
   "execution_count": 59,
   "id": "75446450",
   "metadata": {},
   "outputs": [],
   "source": [
    "input_dim = 4\n",
    "out_dim = 3\n",
    "h_dim = 5\n",
    "epoch = 100\n",
    "batch_size = 50 # Hyperparameter\n",
    "\n",
    "W1 = np.random.randn(input_dim, h_dim)\n",
    "b1 = np.random.randn(1, h_dim)\n",
    "W2 = np.random.rand(h_dim, out_dim)\n",
    "b2 = np.random.randn(1, out_dim)\n",
    "\n",
    "# new initial values\n",
    "\n",
    "W1 = (W1 - 0.5)*2 * np.sqrt(1/input_dim)\n",
    "b1 = (b1 - 0.5)*2 * np.sqrt(1/input_dim)\n",
    "W2 = (W2 - 0.5)*2 * np.sqrt(1/h_dim)\n",
    "b2 = (b2 - 0.5)*2 * np.sqrt(1/h_dim)"
   ]
  },
  {
   "cell_type": "code",
   "execution_count": 60,
   "id": "b5b4c7dd",
   "metadata": {},
   "outputs": [],
   "source": [
    "loss_arr = []\n",
    "acc = []\n",
    "for ep in range(epoch):\n",
    "    \n",
    "    random.shuffle(dataset)\n",
    "    for i in range(len(dataset)):\n",
    "\n",
    "        x,y = dataset[i]\n",
    "        #Forward \n",
    "\n",
    "        t1 = np.dot(x, W1) + b1\n",
    "        h1 = relu(t1)\n",
    "        t2 = h1 @ W2 + b2\n",
    "        z = softmax(t2)\n",
    "\n",
    "        E = sparse_cross_entropy(z,y)\n",
    "\n",
    "        #Backward\n",
    "\n",
    "        y_full = to_full(y, out_dim)\n",
    "        dE_dt2 = z - y_full \n",
    "        dE_dW2 = h1.T @ dE_dt2\n",
    "        dE_db2 = dE_dt2\n",
    "        dE_dh1 = dE_dt2 @W2.T\n",
    "        dE_dt1 = dE_dh1 * relu_deriv(t1)\n",
    "        dE_dW1 = x.T @ dE_dt1\n",
    "        dE_db1 = dE_dt1\n",
    "\n",
    "        alpha = 0.001\n",
    "\n",
    "        # update \n",
    "\n",
    "        W1 = W1 - alpha * dE_dW1\n",
    "        b1 = b1 - alpha * dE_db1\n",
    "        W2 = W2 - alpha * dE_dW2\n",
    "        b2 = b2 - alpha * dE_db2\n",
    "        \n",
    "        loss_arr.append(E)\n",
    "#         acc.append(cals_accuracy(dataset))"
   ]
  },
  {
   "cell_type": "code",
   "execution_count": 61,
   "id": "8601446a",
   "metadata": {},
   "outputs": [
    {
     "data": {
      "text/plain": [
       "[<matplotlib.lines.Line2D at 0x27afae2df90>]"
      ]
     },
     "execution_count": 61,
     "metadata": {},
     "output_type": "execute_result"
    },
    {
     "data": {
      "image/png": "[encoded data removed]",
      "text/plain": [
       "<Figure size 640x480 with 1 Axes>"
      ]
     },
     "metadata": {},
     "output_type": "display_data"
    }
   ],
   "source": [
    "plt.plot(loss_arr)"
   ]
  },
  {
   "cell_type": "code",
   "execution_count": 62,
   "id": "8dd58203",
   "metadata": {},
   "outputs": [],
   "source": [
    "def softmax_batch(t):\n",
    "    \n",
    "    out = np.exp(t)\n",
    "    return out/np.sum(out, axis = 1, keepdims = True)"
   ]
  },
  {
   "cell_type": "code",
   "execution_count": 63,
   "id": "0bf5de14",
   "metadata": {},
   "outputs": [],
   "source": [
    "def sparse_cross_entropy_batch(z,y):\n",
    "    \n",
    "    return - np.log(np.array([z[j, y[j]] for j in range(len(y))]))"
   ]
  },
  {
   "cell_type": "code",
   "execution_count": 64,
   "id": "67419d6d",
   "metadata": {},
   "outputs": [],
   "source": [
    "def to_full_batch(y, num_classes):\n",
    "    y_full = np.zeros((len(y), num_classes))\n",
    "    \n",
    "    for j, yj in enumerate(y):\n",
    "        y_full[j,yj] = 1\n",
    "        \n",
    "    return y_full"
   ]
  },
  {
   "cell_type": "code",
   "execution_count": 65,
   "id": "707d2325",
   "metadata": {},
   "outputs": [],
   "source": [
    "loss_arr = []\n",
    "arr = []\n",
    "for ep in range(500):\n",
    "    \n",
    "    random.shuffle(dataset)\n",
    "    for i in range(len(dataset) // batch_size):\n",
    "        \n",
    "        batch_x, batch_y = zip(*dataset[i*batch_size: (i+1)*batch_size])\n",
    "        x = np.concatenate(batch_x, axis = 0)\n",
    "        y = np.array(batch_y)\n",
    "        #Forward \n",
    "\n",
    "        t1 = np.dot(x, W1) + b1\n",
    "        h1 = relu(t1)\n",
    "        t2 = h1 @ W2 + b2\n",
    "        z = softmax_batch(t2)\n",
    "\n",
    "        E = np.sum(sparse_cross_entropy_batch(z,y))\n",
    "\n",
    "        #Backward\n",
    "\n",
    "        y_full = to_full_batch(y, out_dim)\n",
    "        \n",
    "        dE_dt2 = z - y_full \n",
    "        dE_dW2 = h1.T @ dE_dt2\n",
    "        \n",
    "        dE_db2 = np.sum(dE_dt2, axis = 0, keepdims = True)\n",
    "        dE_dh1 = dE_dt2 @W2.T\n",
    "        dE_dt1 = dE_dh1 * relu_deriv(t1)\n",
    "        dE_dW1 = x.T @ dE_dt1\n",
    "        dE_db1 = np.sum(dE_dt1, axis = 0, keepdims = True)\n",
    "\n",
    "        alpha = 0.001\n",
    "\n",
    "        # update \n",
    "\n",
    "        W1 = W1 - alpha * dE_dW1\n",
    "        b1 = b1 - alpha * dE_db1\n",
    "        W2 = W2 - alpha * dE_dW2\n",
    "        b2 = b2 - alpha * dE_db2\n",
    "        \n",
    "        loss_arr.append(E)\n",
    "        acc.append(cals_accuracy(dataset))"
   ]
  },
  {
   "cell_type": "code",
   "execution_count": 66,
   "id": "a8198cd2",
   "metadata": {},
   "outputs": [
    {
     "data": {
      "text/plain": [
       "[<matplotlib.lines.Line2D at 0x27afadd0730>]"
      ]
     },
     "execution_count": 66,
     "metadata": {},
     "output_type": "execute_result"
    },
    {
     "data": {
      "image/png": "[encoded data removed]",
      "text/plain": [
       "<Figure size 640x480 with 1 Axes>"
      ]
     },
     "metadata": {},
     "output_type": "display_data"
    }
   ],
   "source": [
    "plt.plot(acc)"
   ]
  },
  {
   "cell_type": "code",
   "execution_count": 67,
   "id": "16f901e3",
   "metadata": {},
   "outputs": [
    {
     "data": {
      "text/plain": [
       "[<matplotlib.lines.Line2D at 0x27afaecf460>]"
      ]
     },
     "execution_count": 67,
     "metadata": {},
     "output_type": "execute_result"
    },
    {
     "data": {
      "image/png": "[encoded data removed]",
      "text/plain": [
       "<Figure size 640x480 with 1 Axes>"
      ]
     },
     "metadata": {},
     "output_type": "display_data"
    }
   ],
   "source": [
    "plt.plot(loss_arr)"
   ]
  },
  {
   "cell_type": "code",
   "execution_count": 68,
   "id": "85265ce5",
   "metadata": {},
   "outputs": [
    {
     "data": {
      "text/plain": [
       "0.9666666666666667"
      ]
     },
     "execution_count": 68,
     "metadata": {},
     "output_type": "execute_result"
    }
   ],
   "source": [
    "acc[-1]"
   ]
  },
  {
   "cell_type": "code",
   "execution_count": 69,
   "id": "a0e986c1",
   "metadata": {},
   "outputs": [],
   "source": [
    "curr0 = np.zeros(10, dtype = np.int32)\n",
    "curr1 = np.zeros(10, dtype = np.int32)\n",
    "curr2 = np.zeros(10, dtype = np.int32)\n",
    "curr3 = np.zeros(10, dtype = np.int32)\n",
    "curr4 = np.zeros(10, dtype = np.int32)\n",
    "curr5 = np.zeros(10, dtype = np.int32)\n",
    "curr6 = np.zeros(10, dtype = np.int32)\n",
    "curr7 = np.zeros(10, dtype = np.int32)\n",
    "curr8 = np.zeros(10, dtype = np.int32)\n",
    "curr9 = np.zeros(10, dtype = np.int32)\n",
    "\n",
    "curr0[0] = 1\n",
    "curr1[1] = 1\n",
    "curr2[2] = 1\n",
    "curr3[3] = 1\n",
    "curr4[4] = 1\n",
    "curr5[5] = 1\n",
    "curr6[6] = 1\n",
    "curr7[7] = 1\n",
    "curr8[8] = 1\n",
    "curr9[9] = 1"
   ]
  },
  {
   "cell_type": "code",
   "execution_count": 70,
   "id": "b1326127",
   "metadata": {},
   "outputs": [],
   "source": [
    "digits = {\n",
    "    0:[zero, curr0],\n",
    "    1:[one,curr1],\n",
    "    2:[two,curr2],\n",
    "    3:[three,curr3],\n",
    "    4:[four,curr4],\n",
    "    5:[five,curr5],\n",
    "    6:[six,curr6],\n",
    "    7:[sev,curr7],\n",
    "    8:[eig,curr8],\n",
    "    9:[nine,curr9]}"
   ]
  },
  {
   "cell_type": "code",
   "execution_count": 71,
   "id": "28c27133",
   "metadata": {},
   "outputs": [
    {
     "data": {
      "text/plain": [
       "array([1, 0, 3])"
      ]
     },
     "execution_count": 71,
     "metadata": {},
     "output_type": "execute_result"
    }
   ],
   "source": [
    "np.maximum([1,-2,3], 0)"
   ]
  },
  {
   "cell_type": "code",
   "execution_count": 72,
   "id": "a4ba9315",
   "metadata": {},
   "outputs": [],
   "source": [
    "input_dim = 49\n",
    "\n",
    "h_dim = 10\n",
    "\n",
    "out_dim = 10"
   ]
  },
  {
   "cell_type": "code",
   "execution_count": 73,
   "id": "a9cd2536",
   "metadata": {
    "scrolled": true
   },
   "outputs": [],
   "source": [
    "dts = list(digits.values())"
   ]
  },
  {
   "cell_type": "code",
   "execution_count": 74,
   "id": "6935bccc",
   "metadata": {},
   "outputs": [],
   "source": [
    "input_dim = 49\n",
    "h_dim = 20\n",
    "out_dim = 10\n",
    "W1 = np.random.randn(input_dim, h_dim)\n",
    "b1 = np.random.randn(1, h_dim)\n",
    "W2 = np.random.rand(h_dim, out_dim)\n",
    "b2 = np.random.randn(1, out_dim)"
   ]
  },
  {
   "cell_type": "code",
   "execution_count": 75,
   "id": "946f7d47",
   "metadata": {},
   "outputs": [],
   "source": [
    "loss_arr = []\n",
    "arr = []\n",
    "for ep in range(epoch):\n",
    "    \n",
    "    random.shuffle(dts)\n",
    "    for i in range(len(dts)):\n",
    "\n",
    "        x,y = dts[i]\n",
    "        x = x.ravel().reshape(1,-1).copy()\n",
    "        y = y.reshape(1,-1).copy()\n",
    "        #Forward \n",
    "\n",
    "        t1 = np.dot(x, W1) + b1\n",
    "        h1 = relu(t1)\n",
    "        t2 = h1 @ W2 + b2\n",
    "        z = softmax(t2)\n",
    "\n",
    "        E = sparse_cross_entropy(z,np.argmax(y))\n",
    "\n",
    "        #Backward\n",
    "\n",
    "        y_full = y.copy()\n",
    "        dE_dt2 = z - y_full \n",
    "        dE_dW2 = h1.T @ dE_dt2\n",
    "        dE_db2 = dE_dt2\n",
    "        dE_dh1 = dE_dt2 @W2.T\n",
    "        dE_dt1 = dE_dh1 * relu_deriv(t1)\n",
    "        dE_dW1 = x.T @ dE_dt1\n",
    "        dE_db1 = dE_dt1\n",
    "\n",
    "        alpha = 0.001\n",
    "\n",
    "        # update \n",
    "\n",
    "        W1 = W1 - alpha * dE_dW1\n",
    "        b1 = b1 - alpha * dE_db1\n",
    "        W2 = W2 - alpha * dE_dW2\n",
    "        b2 = b2 - alpha * dE_db2\n",
    "        \n",
    "        loss_arr.append(E)\n",
    "        y = np.argmax(y)\n",
    "#         acc.append(cals_accuracy(dts))"
   ]
  },
  {
   "cell_type": "code",
   "execution_count": 76,
   "id": "39fda083",
   "metadata": {},
   "outputs": [
    {
     "name": "stdout",
     "output_type": "stream",
     "text": [
      "Predicted value - 0\n"
     ]
    },
    {
     "data": {
      "image/png": "[encoded data removed]",
      "text/plain": [
       "<Figure size 640x480 with 1 Axes>"
      ]
     },
     "metadata": {},
     "output_type": "display_data"
    }
   ],
   "source": [
    "num = 3\n",
    "plt.imshow(dts[num][0], cmap = 'binary')\n",
    "print(f'Predicted value - {np.argmax(predict(dts[num][0]))}')"
   ]
  },
  {
   "cell_type": "code",
   "execution_count": null,
   "id": "a030dc32",
   "metadata": {},
   "outputs": [],
   "source": []
  },
  {
   "cell_type": "markdown",
   "id": "addd7d4d",
   "metadata": {},
   "source": [
    "$\\text{Gradiens computation: Autograd, Loss computation: PyTorch Loss, Parameter updates: PyTorch Optimizer}$"
   ]
  },
  {
   "cell_type": "code",
   "execution_count": 77,
   "id": "5654bb6e",
   "metadata": {},
   "outputs": [],
   "source": [
    "# 1) Design model (input size, output size, forward pass )\n",
    "# 2) Construct loss and optimizer\n",
    "# 3) Training loop\n",
    "\n",
    "# - forward pass: compute prediction\n",
    "# - backward pass: gradients\n",
    "# - update weights\n"
   ]
  },
  {
   "cell_type": "code",
   "execution_count": 78,
   "id": "d38d22da",
   "metadata": {},
   "outputs": [],
   "source": [
    "import torch.nn as nn"
   ]
  },
  {
   "cell_type": "code",
   "execution_count": 79,
   "id": "0af76070",
   "metadata": {},
   "outputs": [],
   "source": [
    "def forward(x):\n",
    "    \n",
    "    return w * x"
   ]
  },
  {
   "cell_type": "code",
   "execution_count": 80,
   "id": "759c8273",
   "metadata": {},
   "outputs": [
    {
     "name": "stdout",
     "output_type": "stream",
     "text": [
      "epoch 1: w = 0.300, loss = 30.00000000\n",
      "epoch 11: w = 1.665, loss = 1.16278565\n",
      "epoch 21: w = 1.934, loss = 0.04506890\n",
      "epoch 31: w = 1.987, loss = 0.00174685\n",
      "epoch 41: w = 1.997, loss = 0.00006770\n",
      "epoch 51: w = 1.999, loss = 0.00000262\n",
      "epoch 61: w = 2.000, loss = 0.00000010\n",
      "epoch 71: w = 2.000, loss = 0.00000000\n",
      "epoch 81: w = 2.000, loss = 0.00000000\n",
      "epoch 91: w = 2.000, loss = 0.00000000\n",
      "Prediction before training: f(5) = 10.000\n"
     ]
    }
   ],
   "source": [
    "X = torch.tensor(list(range(1,5)), dtype = torch.float32)\n",
    "Y = torch.tensor(list(range(1,5)), dtype = torch.float32)*2\n",
    "w = torch.tensor(0.0, dtype = torch.float32, requires_grad = True)\n",
    "n_iters = 100\n",
    "learning_rate = 0.01\n",
    "\n",
    "loss = nn.MSELoss()\n",
    "optimizer = torch.optim.SGD([w], lr = learning_rate)\n",
    "\n",
    "for epoch in range(n_iters):\n",
    "    \n",
    "    # prediction = forward pass \n",
    "    y_pred = forward(X)\n",
    "    #loss \n",
    "    l = loss(Y,y_pred)\n",
    "    \n",
    "    #gradients\n",
    "    \n",
    "    l.backward() # dl/dw\n",
    "    \n",
    "    #update weights\n",
    "    optimizer.step()\n",
    "    \n",
    "    # zero gradients\n",
    "    optimizer.zero_grad()\n",
    "    if epoch%10 == 0:\n",
    "        print(f'epoch {epoch + 1}: w = {w:.3f}, loss = {l:.8f}')\n",
    "        \n",
    "print(f'Prediction before training: f(5) = {forward(5):.3f}')"
   ]
  },
  {
   "cell_type": "code",
   "execution_count": 81,
   "id": "ffec5bc0",
   "metadata": {},
   "outputs": [
    {
     "name": "stdout",
     "output_type": "stream",
     "text": [
      "Prediction before training: f(5) = 1.328\n"
     ]
    }
   ],
   "source": [
    "X = X.reshape(-1,1)\n",
    "Y = Y.reshape(-1,1)\n",
    "n_iters = 1000\n",
    "learning_rate = 0.01\n",
    "\n",
    "n_samples, n_feature = X.shape\n",
    "\n",
    "input_size = n_feature\n",
    "output_size = n_feature\n",
    "\n",
    "X_test = torch.tensor([5], dtype = torch.float32)\n",
    "\n",
    "model = nn.Linear(input_size, output_size)\n",
    "print(f'Prediction before training: f(5) = {model(X_test).item():.3f}')\n",
    "\n",
    "loss = nn.MSELoss()\n",
    "optimizer = torch.optim.SGD(model.parameters(), lr = learning_rate)"
   ]
  },
  {
   "cell_type": "code",
   "execution_count": 82,
   "id": "08c8565c",
   "metadata": {},
   "outputs": [
    {
     "name": "stdout",
     "output_type": "stream",
     "text": [
      "epoch 0: w = 0.690, loss = 25.31702995\n",
      "epoch 100: w = 2.047, loss = 0.00317008\n",
      "epoch 200: w = 2.035, loss = 0.00174035\n",
      "epoch 300: w = 2.026, loss = 0.00095543\n",
      "epoch 400: w = 2.019, loss = 0.00052453\n",
      "epoch 500: w = 2.014, loss = 0.00028796\n",
      "epoch 600: w = 2.010, loss = 0.00015809\n",
      "epoch 700: w = 2.008, loss = 0.00008679\n",
      "epoch 800: w = 2.006, loss = 0.00004764\n",
      "epoch 900: w = 2.004, loss = 0.00002616\n",
      "Prediction before training: f(5) = 10.006\n"
     ]
    }
   ],
   "source": [
    "for epoch in range(n_iters):\n",
    "    \n",
    "    # prediction = forward pass \n",
    "    y_pred = model(X)\n",
    "    #loss \n",
    "    l = loss(Y,y_pred)\n",
    "    \n",
    "    #gradients\n",
    "    \n",
    "    l.backward() # dl/dw\n",
    "    \n",
    "    #update weights\n",
    "    optimizer.step()\n",
    "    \n",
    "    # zero gradients\n",
    "    optimizer.zero_grad()\n",
    "    if epoch%100 == 0:\n",
    "        [w,b] = model.parameters()\n",
    "        print(f'epoch {epoch}: w = {w[0][0].item():.3f}, loss = {l:.8f}')\n",
    "        \n",
    "print(f'Prediction before training: f(5) = {model(X_test).item():.3f}')"
   ]
  },
  {
   "cell_type": "markdown",
   "id": "dfac8770",
   "metadata": {},
   "source": [
    "$\\text{Let's write our own model}$"
   ]
  },
  {
   "cell_type": "code",
   "execution_count": 83,
   "id": "f4ea93b5",
   "metadata": {},
   "outputs": [],
   "source": [
    "class LinearRegression(nn.Module):\n",
    "    \n",
    "    def __init__(self, input_dim, out_dim):\n",
    "        super().__init__()\n",
    "        #define layers\n",
    "        \n",
    "        self.lin = nn.Linear(input_dim, out_dim)\n",
    "        \n",
    "    def forward(self, x):\n",
    "        \n",
    "        return self.lin(x)\n"
   ]
  },
  {
   "cell_type": "code",
   "execution_count": 84,
   "id": "89a0db7a",
   "metadata": {},
   "outputs": [
    {
     "name": "stdout",
     "output_type": "stream",
     "text": [
      "Prediction before training: f(5) = 4.258\n"
     ]
    }
   ],
   "source": [
    "X = X.reshape(-1,1)\n",
    "Y = Y.reshape(-1,1)\n",
    "n_iters = 1000\n",
    "learning_rate = 0.01\n",
    "\n",
    "n_samples, n_feature = X.shape\n",
    "\n",
    "input_size = n_feature\n",
    "output_size = n_feature\n",
    "\n",
    "X_test = torch.tensor([5], dtype = torch.float32)\n",
    "\n",
    "# model = nn.Linear(input_size, output_size)\n",
    "model = LinearRegression(input_size, output_size)\n",
    "print(f'Prediction before training: f(5) = {model(X_test).item():.3f}')\n",
    "\n",
    "loss = nn.MSELoss()\n",
    "optimizer = torch.optim.SGD(model.parameters(), lr = learning_rate)"
   ]
  },
  {
   "cell_type": "code",
   "execution_count": 85,
   "id": "f5e6e8ad",
   "metadata": {},
   "outputs": [
    {
     "name": "stdout",
     "output_type": "stream",
     "text": [
      "epoch 0: w = 0.937, loss = 9.02942467\n",
      "epoch 100: w = 1.817, loss = 0.04879402\n",
      "epoch 200: w = 1.864, loss = 0.02678736\n",
      "epoch 300: w = 1.899, loss = 0.01470593\n",
      "epoch 400: w = 1.925, loss = 0.00807338\n",
      "epoch 500: w = 1.945, loss = 0.00443220\n",
      "epoch 600: w = 1.959, loss = 0.00243322\n",
      "epoch 700: w = 1.970, loss = 0.00133581\n",
      "epoch 800: w = 1.978, loss = 0.00073334\n",
      "epoch 900: w = 1.983, loss = 0.00040259\n",
      "Prediction before training: f(5) = 9.975\n"
     ]
    }
   ],
   "source": [
    "for epoch in range(n_iters):\n",
    "    \n",
    "    # prediction = forward pass \n",
    "    y_pred = model(X)\n",
    "    #loss \n",
    "    l = loss(Y,y_pred)\n",
    "    \n",
    "    #gradients\n",
    "    \n",
    "    l.backward() # dl/dw\n",
    "    \n",
    "    #update weights\n",
    "    optimizer.step()\n",
    "    \n",
    "    # zero gradients\n",
    "    optimizer.zero_grad()\n",
    "    if epoch%100 == 0:\n",
    "        [w,b] = model.parameters()\n",
    "        print(f'epoch {epoch}: w = {w[0][0].item():.3f}, loss = {l:.8f}')\n",
    "        \n",
    "print(f'Prediction before training: f(5) = {model(X_test).item():.3f}')"
   ]
  },
  {
   "cell_type": "code",
   "execution_count": 86,
   "id": "aad7204b",
   "metadata": {},
   "outputs": [],
   "source": [
    "from sklearn import datasets"
   ]
  },
  {
   "cell_type": "code",
   "execution_count": 87,
   "id": "99b97aa6",
   "metadata": {},
   "outputs": [],
   "source": [
    "#0) prepare data\n",
    "\n",
    "X_numpy, y_numpy = datasets.make_regression(n_samples = 100, n_features=1, noise=20, random_state=1)\n",
    "\n",
    "X = torch.from_numpy(X_numpy.astype(np.float32))\n",
    "y = torch.from_numpy(y_numpy.astype(np.float32))\n",
    "\n",
    "y = y.view(y.shape[0], 1) #reshape tensor\n",
    "\n",
    "n_samples, n_features = X.shape"
   ]
  },
  {
   "cell_type": "code",
   "execution_count": 88,
   "id": "db575ea2",
   "metadata": {},
   "outputs": [],
   "source": [
    "#1) Model\n",
    "\n",
    "input_size = n_features\n",
    "output_size = 1 # We want to have one value for each sample that we want to put in\n",
    "model = nn.Linear(input_size, output_size)"
   ]
  },
  {
   "cell_type": "code",
   "execution_count": 89,
   "id": "cbf01953",
   "metadata": {},
   "outputs": [],
   "source": [
    "#2)Loss and optimizer\n",
    "learning_rate = 0.01\n",
    "criterion = nn.MSELoss()\n",
    "optimizer = torch.optim.SGD(model.parameters(), lr = learning_rate)"
   ]
  },
  {
   "cell_type": "code",
   "execution_count": 90,
   "id": "244f9840",
   "metadata": {},
   "outputs": [
    {
     "name": "stdout",
     "output_type": "stream",
     "text": [
      "epoch: 10, loss = 4382.2227\n",
      "epoch: 20, loss = 3268.6729\n",
      "epoch: 30, loss = 2463.2703\n",
      "epoch: 40, loss = 1880.1040\n",
      "epoch: 50, loss = 1457.4237\n",
      "epoch: 60, loss = 1150.7762\n",
      "epoch: 70, loss = 928.1160\n",
      "epoch: 80, loss = 766.3101\n",
      "epoch: 90, loss = 648.6403\n",
      "epoch: 100, loss = 563.0096\n"
     ]
    },
    {
     "data": {
      "image/png": "[encoded data removed]",
      "text/plain": [
       "<Figure size 640x480 with 1 Axes>"
      ]
     },
     "metadata": {},
     "output_type": "display_data"
    }
   ],
   "source": [
    "#3) training loop\n",
    "\n",
    "n_epochs = 100\n",
    "\n",
    "for ep in range(n_epochs):\n",
    "    \n",
    "    #forward pass and loss\n",
    "    y_pred = model(X)\n",
    "    loss = criterion(y_pred, y)\n",
    "    #backward \n",
    "    \n",
    "    loss.backward()\n",
    "    \n",
    "    #update\n",
    "    \n",
    "    optimizer.step() #update the weights\n",
    "    \n",
    "    optimizer.zero_grad()\n",
    "    \n",
    "    if (ep+1) % 10 == 0:\n",
    "        \n",
    "        print(f'epoch: {ep+1}, loss = {loss.item():.4f}')\n",
    "\n",
    "predicted = model(X).detach().numpy()  # detach() generate new tensor where our attribute required_grad is false\n",
    "plt.plot(X_numpy, y_numpy, 'ro')\n",
    "plt.plot(X_numpy, predicted, 'b')\n",
    "plt.show()"
   ]
  },
  {
   "cell_type": "code",
   "execution_count": 91,
   "id": "d6534728",
   "metadata": {},
   "outputs": [],
   "source": [
    "from sklearn.preprocessing import StandardScaler\n",
    "from sklearn.model_selection import train_test_split"
   ]
  },
  {
   "cell_type": "code",
   "execution_count": 92,
   "id": "0e171e45",
   "metadata": {},
   "outputs": [
    {
     "name": "stdout",
     "output_type": "stream",
     "text": [
      "569 30\n"
     ]
    }
   ],
   "source": [
    "#0) prepare data\n",
    "\n",
    "bc = datasets.load_breast_cancer()\n",
    "X,y = bc.data, bc.target\n",
    "\n",
    "n_samples, n_features = X.shape\n",
    "print(n_samples, n_features)\n",
    "\n",
    "X_train, X_test, y_train, y_test = train_test_split(X,y, test_size = 0.2, random_state = 1234)\n",
    "\n",
    "# scale \n",
    "sc = StandardScaler()\n",
    "X_train = sc.fit_transform(X_train)\n",
    "X_test = sc.transform(X_test)\n",
    "\n",
    "X_train = torch.from_numpy(X_train.astype(np.float32))\n",
    "X_test = torch.from_numpy(X_test.astype(np.float32))\n",
    "y_train = torch.from_numpy(y_train.astype(np.float32))\n",
    "y_test = torch.from_numpy(y_test.astype(np.float32))\n",
    "\n",
    "y_train = y_train.view(y_train.shape[0], 1)\n",
    "y_test = y_test.view(y_test.shape[0], 1)\n",
    "\n"
   ]
  },
  {
   "cell_type": "code",
   "execution_count": 93,
   "id": "74a80177",
   "metadata": {},
   "outputs": [],
   "source": [
    "#1) Model\n",
    "# f = wx+b, sigmoid at the end\n",
    "\n",
    "class LogisticRegression(nn.Module):\n",
    "    \n",
    "    def __init__(self, n_input_features):\n",
    "        super().__init__()\n",
    "        \n",
    "        self.linear = nn.Linear(n_input_features, 1)\n",
    "        \n",
    "        \n",
    "    def forward(self, x):\n",
    "        \n",
    "        y_predicted = torch.sigmoid(self.linear(x))\n",
    "        \n",
    "        return y_predicted\n",
    "    \n",
    "model = LogisticRegression(n_features)"
   ]
  },
  {
   "cell_type": "code",
   "execution_count": 94,
   "id": "2a24cde1",
   "metadata": {},
   "outputs": [],
   "source": [
    "#2) loss and optimizer \n",
    "\n",
    "criterion = nn.BCELoss()\n",
    "learning_rate = 0.01\n",
    "optimizer = torch.optim.SGD(model.parameters(), lr = learning_rate)"
   ]
  },
  {
   "cell_type": "code",
   "execution_count": 95,
   "id": "9624df5e",
   "metadata": {},
   "outputs": [
    {
     "name": "stdout",
     "output_type": "stream",
     "text": [
      "epoch: 100, loss = 0.2435\n",
      "epoch: 200, loss = 0.1786\n",
      "epoch: 300, loss = 0.1486\n",
      "epoch: 400, loss = 0.1309\n",
      "epoch: 500, loss = 0.1189\n",
      "epoch: 600, loss = 0.1102\n",
      "epoch: 700, loss = 0.1035\n",
      "epoch: 800, loss = 0.0981\n",
      "epoch: 900, loss = 0.0936\n",
      "epoch: 1000, loss = 0.0899\n",
      "accuracy = 0.9298\n"
     ]
    }
   ],
   "source": [
    "#3) training loop\n",
    "\n",
    "num_epochs = 1000\n",
    "\n",
    "for epoch in range(num_epochs):\n",
    "    #forward pass and loss \n",
    "    \n",
    "    y_predicted = model(X_train)\n",
    "    loss = criterion(y_predicted, y_train)\n",
    "    \n",
    "    # backward pass \n",
    "    \n",
    "    loss.backward()\n",
    "    \n",
    "    # updates\n",
    "    optimizer.step()\n",
    "    \n",
    "    # zero gradients\n",
    "    optimizer.zero_grad()\n",
    "    \n",
    "    if (epoch+1)  % 100 ==0:\n",
    "        \n",
    "        print(f'epoch: {epoch+1}, loss = {loss.item():.4f}')\n",
    "\n",
    "with torch.no_grad():\n",
    "    y_predicted = model(X_test)\n",
    "    y_predicted_cls = y_predicted.round()\n",
    "    acc = y_predicted_cls.eq(y_test).sum() / float(y_test.shape[0])\n",
    "    print(f'accuracy = {acc:.4f}')\n"
   ]
  },
  {
   "cell_type": "code",
   "execution_count": null,
   "id": "c1207e74",
   "metadata": {},
   "outputs": [],
   "source": []
  },
  {
   "cell_type": "markdown",
   "id": "6a09ad4d",
   "metadata": {},
   "source": [
    "$\\Large\\text{Dataset and DataLoader - Batch Training}$"
   ]
  },
  {
   "cell_type": "code",
   "execution_count": 96,
   "id": "41e94a5a",
   "metadata": {},
   "outputs": [],
   "source": [
    "import torch\n",
    "import torchvision\n",
    "from torch.utils.data import Dataset, DataLoader\n",
    "import math"
   ]
  },
  {
   "cell_type": "code",
   "execution_count": 97,
   "id": "68188f47",
   "metadata": {},
   "outputs": [],
   "source": [
    "#implementation of our own dataset\n",
    "class WineDataset(Dataset):\n",
    "    \n",
    "    def __init__(self):\n",
    "        \n",
    "        #data loading\n",
    "        xy = np.loadtxt('wine.csv', delimiter=',', dtype = np.float32, skiprows=1)\n",
    "        self.x = torch.from_numpy(xy[:,1:])\n",
    "        self.y = torch.from_numpy(xy[:,[0]]) #n_samples = 1\n",
    "        self.n_samples = xy.shape[0]\n",
    "        \n",
    "        \n",
    "    def __getitem__(self,index):\n",
    "        # dataset[0]\n",
    "        return self.x[index], self.y[index]\n",
    "        \n",
    "    def __len__(self):  # is used to len(dataset)\n",
    "        return self.n_samples\n",
    "        #len(dataset)"
   ]
  },
  {
   "cell_type": "code",
   "execution_count": 98,
   "id": "9287f05a",
   "metadata": {},
   "outputs": [],
   "source": [
    "batch_size = 4\n",
    "dataset = WineDataset()\n",
    "dataloader = DataLoader(dataset=dataset, batch_size=batch_size, shuffle = True) # num_workers=2 we can add \n",
    "# first_data = dataset[0]\n",
    "# features, labels = first_data\n",
    "# features, labels"
   ]
  },
  {
   "cell_type": "code",
   "execution_count": 99,
   "id": "6614fcd3",
   "metadata": {},
   "outputs": [],
   "source": [
    "# dataloader = DataLoader(dataset=dataset, batch_size=4, shuffle = True) # num_workers=2 we can add \n",
    "# dataiter = iter(dataloader)\n",
    "# data = next(dataiter)\n",
    "# features, labels = data\n",
    "# features, labels"
   ]
  },
  {
   "cell_type": "code",
   "execution_count": 100,
   "id": "eac51b8a",
   "metadata": {},
   "outputs": [
    {
     "name": "stdout",
     "output_type": "stream",
     "text": [
      "178 45\n"
     ]
    }
   ],
   "source": [
    "#training loop\n",
    "\n",
    "num_epochs = 2\n",
    "total_samples = len(dataset)\n",
    "n_iterations = math.ceil(total_samples / batch_size)\n",
    "print(total_samples,n_iterations)"
   ]
  },
  {
   "cell_type": "code",
   "execution_count": 101,
   "id": "208b768d",
   "metadata": {},
   "outputs": [
    {
     "name": "stdout",
     "output_type": "stream",
     "text": [
      "epoch 1/2, step 5/45, inputs torch.Size([4, 13])\n",
      "epoch 1/2, step 10/45, inputs torch.Size([4, 13])\n",
      "epoch 1/2, step 15/45, inputs torch.Size([4, 13])\n",
      "epoch 1/2, step 20/45, inputs torch.Size([4, 13])\n",
      "epoch 1/2, step 25/45, inputs torch.Size([4, 13])\n",
      "epoch 1/2, step 30/45, inputs torch.Size([4, 13])\n",
      "epoch 1/2, step 35/45, inputs torch.Size([4, 13])\n",
      "epoch 1/2, step 40/45, inputs torch.Size([4, 13])\n",
      "epoch 1/2, step 45/45, inputs torch.Size([2, 13])\n",
      "epoch 2/2, step 5/45, inputs torch.Size([4, 13])\n",
      "epoch 2/2, step 10/45, inputs torch.Size([4, 13])\n",
      "epoch 2/2, step 15/45, inputs torch.Size([4, 13])\n",
      "epoch 2/2, step 20/45, inputs torch.Size([4, 13])\n",
      "epoch 2/2, step 25/45, inputs torch.Size([4, 13])\n",
      "epoch 2/2, step 30/45, inputs torch.Size([4, 13])\n",
      "epoch 2/2, step 35/45, inputs torch.Size([4, 13])\n",
      "epoch 2/2, step 40/45, inputs torch.Size([4, 13])\n",
      "epoch 2/2, step 45/45, inputs torch.Size([2, 13])\n"
     ]
    }
   ],
   "source": [
    "for epoch in range(num_epochs):\n",
    "    for i, (inputs, labels) in enumerate(dataloader):\n",
    "        # forward backward update\n",
    "        \n",
    "        if (i+1) % 5 == 0:\n",
    "            print(f'epoch {epoch+1}/{num_epochs}, step {i+1}/{n_iterations}, inputs {inputs.shape}')"
   ]
  },
  {
   "cell_type": "code",
   "execution_count": 102,
   "id": "33151c5f",
   "metadata": {},
   "outputs": [],
   "source": [
    "# torchvision.datasets.MNIST() built-in datasets\n",
    "#fashion-mnist , cifar, coco"
   ]
  },
  {
   "cell_type": "markdown",
   "id": "02299434",
   "metadata": {},
   "source": [
    "$\\Large\\text{Dataset Transforms}$"
   ]
  },
  {
   "cell_type": "code",
   "execution_count": 103,
   "id": "e9f8b76b",
   "metadata": {},
   "outputs": [],
   "source": [
    "#implementation of our own dataset\n",
    "class WineDataset(Dataset):\n",
    "    \n",
    "    def __init__(self, transform = None):\n",
    "        \n",
    "        #data loading\n",
    "        xy = np.loadtxt('wine.csv', delimiter=',', dtype = np.float32, skiprows=1)\n",
    "#         self.x = torch.from_numpy(xy[:,1:])\n",
    "#         self.y = torch.from_numpy(xy[:,[0]]) #n_samples = 1\n",
    "        \n",
    "        self.x = xy[:,1:]\n",
    "        self.y = xy[:,[0]]\n",
    "    \n",
    "        self.n_samples = xy.shape[0]\n",
    "        \n",
    "        self.transform = transform\n",
    "        \n",
    "    def __getitem__(self,index):\n",
    "        # dataset[0]\n",
    "        sample = self.x[index], self.y[index]\n",
    "        if self.transform:\n",
    "            sample = self.transform(sample)\n",
    "            \n",
    "        return sample\n",
    "        \n",
    "    def __len__(self):  # is used to len(dataset)\n",
    "        return self.n_samples\n",
    "        #len(dataset)\n",
    "    "
   ]
  },
  {
   "cell_type": "code",
   "execution_count": 104,
   "id": "78edc74b",
   "metadata": {},
   "outputs": [],
   "source": [
    "class ToTensor:\n",
    "    def __call__(self, sample):\n",
    "        inputs, targets = sample\n",
    "        \n",
    "        return torch.from_numpy(inputs), torch.from_numpy(targets)"
   ]
  },
  {
   "cell_type": "code",
   "execution_count": 105,
   "id": "925d53f5",
   "metadata": {},
   "outputs": [],
   "source": [
    "class MulTransform:\n",
    "    \n",
    "    def __init__(self,factor):\n",
    "        self.factor = factor\n",
    "        \n",
    "    def __call__(self, sample):\n",
    "        \n",
    "        inputs, target = sample\n",
    "        \n",
    "        inputs *= self.factor\n",
    "        \n",
    "        return inputs, target"
   ]
  },
  {
   "cell_type": "code",
   "execution_count": 106,
   "id": "d70b9ee5",
   "metadata": {},
   "outputs": [
    {
     "data": {
      "text/plain": [
       "torch.Tensor"
      ]
     },
     "execution_count": 106,
     "metadata": {},
     "output_type": "execute_result"
    }
   ],
   "source": [
    "dataset = WineDataset(transform=ToTensor())\n",
    "first_data = dataset[0]\n",
    "features, labels = first_data\n",
    "type(features)"
   ]
  },
  {
   "cell_type": "code",
   "execution_count": 107,
   "id": "4ac20898",
   "metadata": {},
   "outputs": [
    {
     "data": {
      "text/plain": [
       "(tensor([2.8460e+01, 3.4200e+00, 4.8600e+00, 3.1200e+01, 2.5400e+02, 5.6000e+00,\n",
       "         6.1200e+00, 5.6000e-01, 4.5800e+00, 1.1280e+01, 2.0800e+00, 7.8400e+00,\n",
       "         2.1300e+03]),\n",
       " tensor([1.]))"
      ]
     },
     "execution_count": 107,
     "metadata": {},
     "output_type": "execute_result"
    }
   ],
   "source": [
    "# Compose transform\n",
    "\n",
    "composed = torchvision.transforms.Compose([ToTensor(), MulTransform(2)])\n",
    "dataset = WineDataset(transform = composed)\n",
    "first_data = dataset[0]\n",
    "features, labels = first_data\n",
    "features, labels"
   ]
  },
  {
   "cell_type": "code",
   "execution_count": 108,
   "id": "0440bb22",
   "metadata": {},
   "outputs": [
    {
     "name": "stdout",
     "output_type": "stream",
     "text": [
      "tensor([0.6590, 0.2424, 0.0986])\n"
     ]
    }
   ],
   "source": [
    "# torch softmax \n",
    "\n",
    "x = torch.tensor([2.0, 1.0, 0.1])\n",
    "outputs = torch.softmax(x, dim = 0)\n",
    "print(outputs)"
   ]
  },
  {
   "cell_type": "code",
   "execution_count": 109,
   "id": "dc3a74ce",
   "metadata": {},
   "outputs": [],
   "source": [
    "m = nn.Softmax(dim=1)\n",
    "input = torch.randn(2, 3)\n",
    "output = m(input)"
   ]
  },
  {
   "cell_type": "code",
   "execution_count": 110,
   "id": "20a0b96f",
   "metadata": {
    "scrolled": true
   },
   "outputs": [
    {
     "data": {
      "text/plain": [
       "(tensor([[ 0.4075, -1.3716, -0.1496],\n",
       "         [-1.4718, -0.3437, -0.6587]]),\n",
       " tensor([[0.5742, 0.0969, 0.3289],\n",
       "         [0.1576, 0.4870, 0.3554]]),\n",
       " tensor([1.0000, 1.0000]))"
      ]
     },
     "execution_count": 110,
     "metadata": {},
     "output_type": "execute_result"
    }
   ],
   "source": [
    "input, output, output.sum(axis = 1)"
   ]
  },
  {
   "cell_type": "code",
   "execution_count": 111,
   "id": "2c7b1425",
   "metadata": {},
   "outputs": [],
   "source": [
    "m = nn.Softmax(dim=0)\n",
    "input = torch.randn(2, 3)\n",
    "output = m(input)"
   ]
  },
  {
   "cell_type": "code",
   "execution_count": 112,
   "id": "cc2906b1",
   "metadata": {},
   "outputs": [
    {
     "data": {
      "text/plain": [
       "(tensor([[-0.1357,  0.1205,  0.8003],\n",
       "         [ 1.4219,  1.0773, -1.4517]]),\n",
       " tensor([[0.1740, 0.2775, 0.9048],\n",
       "         [0.8260, 0.7225, 0.0952]]),\n",
       " tensor([1.0000, 1.0000, 1.0000]))"
      ]
     },
     "execution_count": 112,
     "metadata": {},
     "output_type": "execute_result"
    }
   ],
   "source": [
    "input, output, output.sum(axis = 0)"
   ]
  },
  {
   "cell_type": "code",
   "execution_count": 113,
   "id": "f6317c9e",
   "metadata": {
    "code_folding": []
   },
   "outputs": [],
   "source": [
    "def cross_entropy(actual, predicted):\n",
    "    loss = - np.sum(actual * np.log(predicted))\n",
    "    return loss # ideally normalize it like / float(predicted.shape[0])\n",
    "\n",
    "# y must be one hot encoded \n",
    "# if class 0: [1, 0, 0]\n",
    "# if class 1: [0, 1, 0]\n",
    "# if class 2: [0, 0, 1]"
   ]
  },
  {
   "cell_type": "code",
   "execution_count": 114,
   "id": "88ca656b",
   "metadata": {},
   "outputs": [
    {
     "name": "stdout",
     "output_type": "stream",
     "text": [
      "0.4170299470424652 1.840616226196289\n",
      "tensor([0]) tensor([1])\n"
     ]
    }
   ],
   "source": [
    "loss = nn.CrossEntropyLoss()\n",
    "Y = torch.tensor([0]) # No hot encoded\n",
    "# size: n_samples * n_classes = 1 * 3\n",
    "Y_pred_good = torch.tensor([[2.0, 1.0, 0.1]]) #raw values\n",
    "Y_pred_bad = torch.tensor([[0.5, 2.0, 0.3]]) #raw values\n",
    "\n",
    "l1 = loss(Y_pred_good, Y)\n",
    "l2 = loss(Y_pred_bad, Y)\n",
    "print(l1.item(), l2.item())\n",
    "\n",
    "\n",
    "_, predictions1 = torch.max(Y_pred_good,1)\n",
    "_, predictions2 = torch.max(Y_pred_bad,1)\n",
    "print(predictions1,predictions2)"
   ]
  },
  {
   "cell_type": "code",
   "execution_count": 115,
   "id": "a0ea991b",
   "metadata": {},
   "outputs": [
    {
     "name": "stdout",
     "output_type": "stream",
     "text": [
      "0.3002483546733856 1.6225852966308594\n",
      "tensor([2, 0, 1]) tensor([0, 2, 1])\n"
     ]
    }
   ],
   "source": [
    "loss = nn.CrossEntropyLoss()\n",
    "# 3 samples\n",
    "Y = torch.tensor([2,0,1]) # No hot encoded  right classes\n",
    "# size: n_samples * n_classes = 3 * 3\n",
    "Y_pred_good = torch.tensor([[0.1, 1.0, 2.1], [2.0, 1.0, 0.1],[0.0, 3.0, 0.1]]) #raw values\n",
    "Y_pred_bad = torch.tensor([[2.1, 1.0, 0.1], [0.1, 1.0, 2.1],[0.0, 3.0, 0.1]]) #raw values\n",
    "\n",
    "l1 = loss(Y_pred_good, Y)\n",
    "l2 = loss(Y_pred_bad, Y)\n",
    "print(l1.item(), l2.item())\n",
    "\n",
    "\n",
    "_, predictions1 = torch.max(Y_pred_good,1)\n",
    "_, predictions2 = torch.max(Y_pred_bad,1)\n",
    "print(predictions1,predictions2)"
   ]
  },
  {
   "cell_type": "code",
   "execution_count": 116,
   "id": "45bdd6f1",
   "metadata": {},
   "outputs": [],
   "source": [
    "class NeuralNet2(nn.Module):\n",
    "    def __init__(self, input_size, hidden_size, num_classes):\n",
    "        super().__init__()\n",
    "        self.linear1 = nn.Linear(input_size, hidden_size)\n",
    "        self.relu = nn.ReLU()\n",
    "        self.linear2 = nn.Linear(hidden_size, num_classes)\n",
    "        \n",
    "    def forward(self, x):\n",
    "        out = self.linear1(x)\n",
    "        out = self.relu(out)\n",
    "        out = self.linear2(out)\n",
    "        # we can use y_pred = torch.sigmoid(out), if num_classes = 1\n",
    "        # and use nn.BCELoss()\n",
    "        return out\n",
    "        \n",
    "        "
   ]
  },
  {
   "cell_type": "code",
   "execution_count": 117,
   "id": "82f044f0",
   "metadata": {},
   "outputs": [],
   "source": [
    "model = NeuralNet2(input_size = 28*28, hidden_size = 5, num_classes=3)\n",
    "criterion = nn.CrossEntropyLoss() # applies Softmax"
   ]
  },
  {
   "cell_type": "markdown",
   "id": "25a47395",
   "metadata": {},
   "source": [
    "$\\text{If we use nn.BCELoss(), we use sigmoid at the end}$"
   ]
  },
  {
   "cell_type": "code",
   "execution_count": 118,
   "id": "3495a7a3",
   "metadata": {},
   "outputs": [],
   "source": [
    "import torch.nn.functional as F"
   ]
  },
  {
   "cell_type": "code",
   "execution_count": 119,
   "id": "8e798ca4",
   "metadata": {
    "code_folding": []
   },
   "outputs": [],
   "source": [
    "#1 option we can create dunctions from the nn modules\n",
    "class NeuralNet2(nn.Module):\n",
    "    def __init__(self, input_size, hidden_size, num_classes):\n",
    "        super().__init__()\n",
    "        self.linear1 = nn.Linear(input_size, hidden_size)\n",
    "        self.relu = nn.ReLU()\n",
    "        self.linear2 = nn.Linear(hidden_size, num_classes)\n",
    "        self.sigmoid = nn.Sigmoid()\n",
    "        \n",
    "    def forward(self, x):\n",
    "        out = self.linear1(x)\n",
    "        out = self.relu(out)\n",
    "        out = self.linear2(out)\n",
    "        out = self.sigmoid(out)\n",
    "        \n",
    "        return out\n",
    "        \n",
    "\n",
    "#2 option (use activation functions directoly in forward pass)\n",
    "class NeuralNet2(nn.Module):\n",
    "    def __init__(self, input_size, hidden_size, num_classes):\n",
    "        super().__init__()\n",
    "        self.linear1 = nn.Linear(input_size, hidden_size)\n",
    "        self.linear2 = nn.Linear(hidden_size, num_classes)\n",
    "        \n",
    "    def forward(self, x):\n",
    "        out = torch.relu(self.linear1(x))\n",
    "        # it will be the same as F.relu() but F.leaky_relu only available in F \n",
    "        out = torch.sigmoid(self.linear2(out))\n",
    "        \n",
    "        return out"
   ]
  },
  {
   "cell_type": "code",
   "execution_count": null,
   "id": "6000b96c",
   "metadata": {},
   "outputs": [],
   "source": []
  },
  {
   "cell_type": "code",
   "execution_count": 120,
   "id": "1071328f",
   "metadata": {},
   "outputs": [],
   "source": [
    "import torch\n",
    "import torch.nn as nn\n",
    "import torchvision\n",
    "import torchvision.transforms as transforms"
   ]
  },
  {
   "cell_type": "code",
   "execution_count": 121,
   "id": "70d9ecc6",
   "metadata": {},
   "outputs": [],
   "source": [
    "# device config\n",
    "\n",
    "device = torch.device('cuda' if torch.cuda.is_available() else 'cpu')"
   ]
  },
  {
   "cell_type": "code",
   "execution_count": 122,
   "id": "5e872596",
   "metadata": {},
   "outputs": [],
   "source": [
    "# hyper parameters\n",
    "\n",
    "input_size = 784 # 28*28\n",
    "hidden_size = 100\n",
    "num_classes = 10\n",
    "num_epochs = 2\n",
    "\n",
    "batch_size = 100\n",
    "learning_rate = 0.001"
   ]
  },
  {
   "cell_type": "code",
   "execution_count": 124,
   "id": "dc9b9586",
   "metadata": {},
   "outputs": [
    {
     "name": "stdout",
     "output_type": "stream",
     "text": [
      "Downloading http://yann.lecun.com/exdb/mnist/train-images-idx3-ubyte.gz\n",
      "Downloading http://yann.lecun.com/exdb/mnist/train-images-idx3-ubyte.gz to ../dl/MNIST\\raw\\train-images-idx3-ubyte.gz\n"
     ]
    },
    {
     "name": "stderr",
     "output_type": "stream",
     "text": [
      "100%|██████████| 9912422/9912422 [00:01<00:00, 5027172.41it/s]\n"
     ]
    },
    {
     "name": "stdout",
     "output_type": "stream",
     "text": [
      "Extracting ../dl/MNIST\\raw\\train-images-idx3-ubyte.gz to ../dl/MNIST\\raw\n",
      "\n",
      "Downloading http://yann.lecun.com/exdb/mnist/train-labels-idx1-ubyte.gz\n",
      "Downloading http://yann.lecun.com/exdb/mnist/train-labels-idx1-ubyte.gz to ../dl/MNIST\\raw\\train-labels-idx1-ubyte.gz\n"
     ]
    },
    {
     "name": "stderr",
     "output_type": "stream",
     "text": [
      "100%|██████████| 28881/28881 [00:00<00:00, 14450160.30it/s]\n"
     ]
    },
    {
     "name": "stdout",
     "output_type": "stream",
     "text": [
      "Extracting ../dl/MNIST\\raw\\train-labels-idx1-ubyte.gz to ../dl/MNIST\\raw\n",
      "\n",
      "Downloading http://yann.lecun.com/exdb/mnist/t10k-images-idx3-ubyte.gz\n",
      "Downloading http://yann.lecun.com/exdb/mnist/t10k-images-idx3-ubyte.gz to ../dl/MNIST\\raw\\t10k-images-idx3-ubyte.gz\n"
     ]
    },
    {
     "name": "stderr",
     "output_type": "stream",
     "text": [
      "100%|██████████| 1648877/1648877 [00:00<00:00, 4314916.08it/s]\n"
     ]
    },
    {
     "name": "stdout",
     "output_type": "stream",
     "text": [
      "Extracting ../dl/MNIST\\raw\\t10k-images-idx3-ubyte.gz to ../dl/MNIST\\raw\n",
      "\n",
      "Downloading http://yann.lecun.com/exdb/mnist/t10k-labels-idx1-ubyte.gz\n",
      "Downloading http://yann.lecun.com/exdb/mnist/t10k-labels-idx1-ubyte.gz to ../dl/MNIST\\raw\\t10k-labels-idx1-ubyte.gz\n"
     ]
    },
    {
     "name": "stderr",
     "output_type": "stream",
     "text": [
      "100%|██████████| 4542/4542 [00:00<00:00, 4538001.14it/s]"
     ]
    },
    {
     "name": "stdout",
     "output_type": "stream",
     "text": [
      "Extracting ../dl/MNIST\\raw\\t10k-labels-idx1-ubyte.gz to ../dl/MNIST\\raw\n",
      "\n"
     ]
    },
    {
     "name": "stderr",
     "output_type": "stream",
     "text": [
      "\n"
     ]
    }
   ],
   "source": [
    "#MNIST\n",
    "# train_dataset = torchvision.datasets.MNIST(root = '../dl/', train = True,\n",
    "#     transform = transforms.ToTensor())\n",
    "\n",
    "# test_dataset = torchvision.datasets.MNIST(root = '../dl/', train = False,\n",
    "#     transform = transforms.ToTensor())\n",
    "\n",
    "train_dataset = torchvision.datasets.MNIST(root = '../dl/', train = True, download = True,\n",
    "    transform = transforms.ToTensor())\n",
    "\n",
    "test_dataset = torchvision.datasets.MNIST(root = '../dl/', train = False,\n",
    "    transform = transforms.ToTensor())"
   ]
  },
  {
   "cell_type": "code",
   "execution_count": 125,
   "id": "3bd7bf9d",
   "metadata": {},
   "outputs": [],
   "source": [
    "train_loader = torch.utils.data.DataLoader(dataset = train_dataset, batch_size = batch_size, shuffle = True)\n",
    "test_loader = torch.utils.data.DataLoader(dataset = test_dataset, batch_size = batch_size, shuffle = False)"
   ]
  },
  {
   "cell_type": "code",
   "execution_count": 126,
   "id": "610bf94d",
   "metadata": {},
   "outputs": [],
   "source": [
    "examples = iter(train_loader)\n",
    "samples, labels = next(examples)"
   ]
  },
  {
   "cell_type": "code",
   "execution_count": 127,
   "id": "de972a73",
   "metadata": {},
   "outputs": [
    {
     "data": {
      "text/plain": [
       "(torch.Size([100, 1, 28, 28]), torch.Size([100]))"
      ]
     },
     "execution_count": 127,
     "metadata": {},
     "output_type": "execute_result"
    }
   ],
   "source": [
    "samples.shape, labels.shape"
   ]
  },
  {
   "cell_type": "code",
   "execution_count": 128,
   "id": "2f0989d2",
   "metadata": {},
   "outputs": [
    {
     "data": {
      "image/png": "[encoded data removed]",
      "text/plain": [
       "<Figure size 640x480 with 6 Axes>"
      ]
     },
     "metadata": {},
     "output_type": "display_data"
    }
   ],
   "source": [
    "for i in range(6):\n",
    "    plt.subplot(2,3, i+1)\n",
    "    plt.imshow(samples[i][0].numpy(), cmap = 'gray')\n",
    "    plt.title(labels[i].item())\n",
    "plt.show()"
   ]
  },
  {
   "cell_type": "code",
   "execution_count": 129,
   "id": "e8d5e27d",
   "metadata": {},
   "outputs": [],
   "source": [
    "class NeuralNet(nn.Module):\n",
    "    \n",
    "    def __init__(self, input_size, hidden_size, num_classes):\n",
    "        super().__init__()\n",
    "        self.l1 = nn.Linear(input_size, hidden_size)\n",
    "        self.relu = nn.ReLU()\n",
    "        self.l2 = nn.Linear(hidden_size, num_classes)\n",
    "        \n",
    "    def forward(self, x):\n",
    "        \n",
    "        out = self.l1(x)\n",
    "        out = self.relu(out)\n",
    "        out = self.l2(out)\n",
    "        \n",
    "        return out\n",
    "        "
   ]
  },
  {
   "cell_type": "code",
   "execution_count": 130,
   "id": "5d743e11",
   "metadata": {},
   "outputs": [],
   "source": [
    "model = NeuralNet(input_size, hidden_size, num_classes)\n",
    "#loss and optimizer \n",
    "criterion = nn.CrossEntropyLoss()\n",
    "optimizer = torch.optim.Adam(model.parameters(), lr = learning_rate)\n",
    "\n"
   ]
  },
  {
   "cell_type": "code",
   "execution_count": 131,
   "id": "58347db6",
   "metadata": {},
   "outputs": [
    {
     "name": "stdout",
     "output_type": "stream",
     "text": [
      "epoch 1 / 2, step 100/600, loss = 0.3986\n",
      "epoch 1 / 2, step 200/600, loss = 0.3626\n",
      "epoch 1 / 2, step 300/600, loss = 0.1636\n",
      "epoch 1 / 2, step 400/600, loss = 0.3853\n",
      "epoch 1 / 2, step 500/600, loss = 0.2826\n",
      "epoch 1 / 2, step 600/600, loss = 0.3296\n",
      "epoch 2 / 2, step 100/600, loss = 0.1736\n",
      "epoch 2 / 2, step 200/600, loss = 0.1410\n",
      "epoch 2 / 2, step 300/600, loss = 0.2495\n",
      "epoch 2 / 2, step 400/600, loss = 0.1398\n",
      "epoch 2 / 2, step 500/600, loss = 0.1228\n",
      "epoch 2 / 2, step 600/600, loss = 0.1516\n",
      "accuracy = 94.92\n"
     ]
    }
   ],
   "source": [
    "#training loop\n",
    "\n",
    "n_total_steps = len(train_loader)\n",
    "\n",
    "for epoch in range(num_epochs):\n",
    "    \n",
    "    for i, (images, labels) in enumerate(train_loader):\n",
    "        \n",
    "        # 100, 1, 28, 28\n",
    "        # to 100, 784\n",
    "        \n",
    "        images = images.reshape(-1, 28*28).to(device)\n",
    "        labels = labels.to(device)\n",
    "        \n",
    "        # forward \n",
    "        \n",
    "        outputs = model(images)\n",
    "        loss = criterion(outputs, labels)\n",
    "        \n",
    "        \n",
    "        # backward\n",
    "        \n",
    "        optimizer.zero_grad()\n",
    "        loss.backward()\n",
    "        \n",
    "        optimizer.step()\n",
    "        \n",
    "        if (i+1) % 100 ==0:\n",
    "            \n",
    "            print(f'epoch {epoch+1} / {num_epochs}, step {i+1}/{n_total_steps}, loss = {loss.item():.4f}')\n",
    "            \n",
    "\n",
    "# test\n",
    "\n",
    "with torch.no_grad():\n",
    "    n_correct = 0\n",
    "    n_samples = 0\n",
    "    for images, labels in test_loader:\n",
    "        images = images.reshape(-1, 28*28).to(device)\n",
    "        labels = labels.to(device)\n",
    "        outputs = model(images)\n",
    "        # value, index(class label)\n",
    "        _, predictions = torch.max(outputs,1)\n",
    "        n_samples += labels.shape[0]\n",
    "        n_correct += (predictions == labels).sum().item()\n",
    "        \n",
    "    acc = 100.0* n_correct/n_samples\n",
    "    \n",
    "    print(f'accuracy = {acc}')\n",
    "        \n",
    "        \n",
    "        "
   ]
  },
  {
   "cell_type": "code",
   "execution_count": 132,
   "id": "47cbe8bf",
   "metadata": {},
   "outputs": [
    {
     "data": {
      "text/plain": [
       "torch.return_types.max(\n",
       "values=tensor([3, 5]),\n",
       "indices=tensor([2, 2]))"
      ]
     },
     "execution_count": 132,
     "metadata": {},
     "output_type": "execute_result"
    }
   ],
   "source": [
    "torch.max(torch.tensor([[1,2,3],[1,2,5]]), 1)"
   ]
  },
  {
   "cell_type": "code",
   "execution_count": 133,
   "id": "742f8558",
   "metadata": {},
   "outputs": [
    {
     "data": {
      "image/png": "[encoded data removed]",
      "text/plain": [
       "<Figure size 640x480 with 1 Axes>"
      ]
     },
     "metadata": {},
     "output_type": "display_data"
    }
   ],
   "source": [
    "plt.imshow(samples[3][0])\n",
    "plt.show()"
   ]
  },
  {
   "cell_type": "code",
   "execution_count": 134,
   "id": "265366bd",
   "metadata": {},
   "outputs": [],
   "source": [
    "with torch.no_grad():\n",
    "    _, cur = torch.max(model(samples[3].reshape(-1, 28*28)), 1)"
   ]
  },
  {
   "cell_type": "code",
   "execution_count": 135,
   "id": "2e9303e6",
   "metadata": {},
   "outputs": [
    {
     "data": {
      "text/plain": [
       "tensor([7])"
      ]
     },
     "execution_count": 135,
     "metadata": {},
     "output_type": "execute_result"
    }
   ],
   "source": [
    "cur"
   ]
  },
  {
   "cell_type": "code",
   "execution_count": 3,
   "id": "4d46c506",
   "metadata": {},
   "outputs": [],
   "source": [
    "input_size = 784 # 28*28\n",
    "hidden_size = 100\n",
    "num_classes = 10\n",
    "num_epochs = 4\n",
    "\n",
    "batch_size = 4\n",
    "learning_rate = 0.001"
   ]
  },
  {
   "cell_type": "code",
   "execution_count": 4,
   "id": "40dd91ad",
   "metadata": {},
   "outputs": [],
   "source": [
    "# dataset has PILImage images of range [0,1]\n",
    "# Transform them to Tensors of normalized range [-1,1]\n",
    "transform = transforms.Compose(\n",
    "    [\n",
    "        transforms.ToTensor(),\n",
    "        transforms.Normalize((0.5,0.5,0.5), (0.5,0.5,0.5))\n",
    "    ]\n",
    ")"
   ]
  },
  {
   "cell_type": "code",
   "execution_count": 5,
   "id": "3aa13f54",
   "metadata": {},
   "outputs": [],
   "source": [
    "#CIFAR - 10\n",
    "train_dataset = torchvision.datasets.CIFAR10(root = '../dl/', train = True,\n",
    "    transform = transform)\n",
    "\n",
    "test_dataset = torchvision.datasets.CIFAR10(root = '../dl/', train = False,\n",
    "    transform = transform)"
   ]
  },
  {
   "cell_type": "code",
   "execution_count": 6,
   "id": "b43139da",
   "metadata": {},
   "outputs": [],
   "source": [
    "train_loader = torch.utils.data.DataLoader(dataset = train_dataset, batch_size = batch_size, shuffle = True)\n",
    "test_loader = torch.utils.data.DataLoader(dataset = test_dataset, batch_size = batch_size, shuffle = False)"
   ]
  },
  {
   "cell_type": "code",
   "execution_count": 7,
   "id": "ede612a2",
   "metadata": {},
   "outputs": [],
   "source": [
    "trainiter = iter(train_loader)\n",
    "example = next(trainiter)"
   ]
  },
  {
   "cell_type": "code",
   "execution_count": 8,
   "id": "1a805c1d",
   "metadata": {},
   "outputs": [],
   "source": [
    "images, labels = example"
   ]
  },
  {
   "cell_type": "code",
   "execution_count": 9,
   "id": "3069173e",
   "metadata": {},
   "outputs": [
    {
     "data": {
      "text/plain": [
       "12500"
      ]
     },
     "execution_count": 9,
     "metadata": {},
     "output_type": "execute_result"
    }
   ],
   "source": [
    "len(train_loader)"
   ]
  },
  {
   "cell_type": "code",
   "execution_count": 10,
   "id": "8cc0f3a6",
   "metadata": {},
   "outputs": [],
   "source": [
    "classes = ('plane', 'car', 'bird', 'cat', 'deer', 'dog', 'frog', 'horse',\n",
    "          'ship', 'truck')"
   ]
  },
  {
   "cell_type": "code",
   "execution_count": 11,
   "id": "ffc8a487",
   "metadata": {},
   "outputs": [],
   "source": [
    "images_num = images.numpy()"
   ]
  },
  {
   "cell_type": "code",
   "execution_count": 12,
   "id": "01f49320",
   "metadata": {},
   "outputs": [
    {
     "data": {
      "text/plain": [
       "(32, 32, 3)"
      ]
     },
     "execution_count": 12,
     "metadata": {},
     "output_type": "execute_result"
    }
   ],
   "source": [
    "np.transpose(images_num[0]).shape"
   ]
  },
  {
   "cell_type": "code",
   "execution_count": 13,
   "id": "c4360600",
   "metadata": {},
   "outputs": [],
   "source": [
    "a = np.arange(24).reshape(2,3,4)"
   ]
  },
  {
   "cell_type": "code",
   "execution_count": 14,
   "id": "f01dd27c",
   "metadata": {},
   "outputs": [
    {
     "data": {
      "text/plain": [
       "(4, 2, 3)"
      ]
     },
     "execution_count": 14,
     "metadata": {},
     "output_type": "execute_result"
    }
   ],
   "source": [
    "np.transpose(a, (2,0,1)).shape"
   ]
  },
  {
   "cell_type": "code",
   "execution_count": 15,
   "id": "db8298cc",
   "metadata": {},
   "outputs": [],
   "source": [
    "def imshow(img):\n",
    "    img = img/2 +0.5\n",
    "    npimg = img.numpy()\n",
    "    plt.imshow(np.transpose(npimg,(1,2,0)))"
   ]
  },
  {
   "cell_type": "code",
   "execution_count": 16,
   "id": "838777ef",
   "metadata": {},
   "outputs": [
    {
     "data": {
      "image/png": "[encoded data removed]",
      "text/plain": [
       "<Figure size 640x480 with 1 Axes>"
      ]
     },
     "metadata": {},
     "output_type": "display_data"
    }
   ],
   "source": [
    "imshow(torchvision.utils.make_grid(images))"
   ]
  },
  {
   "cell_type": "code",
   "execution_count": 54,
   "id": "9e6a1abf",
   "metadata": {},
   "outputs": [
    {
     "name": "stdout",
     "output_type": "stream",
     "text": [
      "torch.Size([4, 3, 32, 32])\n",
      "conv1 - torch.Size([4, 6, 28, 28])\n",
      "pool - torch.Size([4, 6, 14, 14])\n",
      "conv2 - torch.Size([4, 16, 10, 10])\n",
      "pool - torch.Size([4, 16, 5, 5])\n"
     ]
    }
   ],
   "source": [
    "conv1 = nn.Conv2d(3,6,5)\n",
    "pool = nn.MaxPool2d(2,2)\n",
    "conv2 = nn.Conv2d(6,16,5)\n",
    "print(images.shape)\n",
    "\n",
    "x = conv1(images)\n",
    "print(f'conv1 - {x.shape}')\n",
    "x = pool(x)\n",
    "print(f'pool - {x.shape}')\n",
    "x = conv2(x)\n",
    "print(f'conv2 - {x.shape}')\n",
    "x = pool(x)\n",
    "print(f'pool - {x.shape}')"
   ]
  },
  {
   "cell_type": "code",
   "execution_count": 55,
   "id": "f7d22139",
   "metadata": {},
   "outputs": [],
   "source": [
    "class ConvNet(nn.Module):\n",
    "    def __init__(self):\n",
    "        super().__init__()\n",
    "        self.conv1 = nn.Conv2d(3, 6,5) # 3 RGB, 6 - output layer, 5 - kernel size\n",
    "        self.pool = nn.MaxPool2d(2,2)\n",
    "        self.conv2 = nn.Conv2d(6,16,5)\n",
    "        self.fc1 = nn.Linear(16*5*5, 120)\n",
    "        self.fc2 = nn.Linear(120, 84)\n",
    "        self.fc3 = nn.Linear(84, 10)\n",
    "    \n",
    "    def forward(self, x):\n",
    "        x = self.pool(F.relu(self.conv1(x))) #first convolutional and pooling layer\n",
    "        x = self.pool(F.relu(self.conv2(x))) #second convolutional and pooling layer\n",
    "        x = x.view(-1, 16*5*5) #flatten the tensor\n",
    "        x = F.relu(self.fc1(x))\n",
    "        x = F.relu(self.fc2(x))\n",
    "        x = self.fc3(x)\n",
    "        \n",
    "        return x\n",
    "        "
   ]
  },
  {
   "cell_type": "code",
   "execution_count": 56,
   "id": "129e84d4",
   "metadata": {},
   "outputs": [],
   "source": [
    "model = ConvNet()\n",
    "#loss and optimizer \n",
    "criterion = nn.CrossEntropyLoss()\n",
    "optimizer = torch.optim.SGD(model.parameters(), lr = learning_rate)\n",
    "device = torch.device('cuda' if torch.cuda.is_available() else 'cpu')\n",
    "\n"
   ]
  },
  {
   "cell_type": "code",
   "execution_count": null,
   "id": "20e02272",
   "metadata": {},
   "outputs": [],
   "source": []
  },
  {
   "cell_type": "code",
   "execution_count": 57,
   "id": "b56dfd1c",
   "metadata": {},
   "outputs": [
    {
     "name": "stdout",
     "output_type": "stream",
     "text": [
      "epoch 1 / 4, step 2000/12500, loss = 2.2964\n",
      "epoch 1 / 4, step 4000/12500, loss = 2.2845\n",
      "epoch 1 / 4, step 6000/12500, loss = 2.2857\n",
      "epoch 1 / 4, step 8000/12500, loss = 2.2722\n",
      "epoch 1 / 4, step 10000/12500, loss = 2.2502\n",
      "epoch 1 / 4, step 12000/12500, loss = 1.7170\n",
      "epoch 2 / 4, step 2000/12500, loss = 1.9966\n",
      "epoch 2 / 4, step 4000/12500, loss = 2.5348\n",
      "epoch 2 / 4, step 6000/12500, loss = 1.7913\n",
      "epoch 2 / 4, step 8000/12500, loss = 1.1439\n",
      "epoch 2 / 4, step 10000/12500, loss = 1.9280\n",
      "epoch 2 / 4, step 12000/12500, loss = 1.9335\n",
      "epoch 3 / 4, step 2000/12500, loss = 1.4773\n",
      "epoch 3 / 4, step 4000/12500, loss = 1.6420\n",
      "epoch 3 / 4, step 6000/12500, loss = 1.8505\n",
      "epoch 3 / 4, step 8000/12500, loss = 1.9230\n",
      "epoch 3 / 4, step 10000/12500, loss = 1.5681\n",
      "epoch 3 / 4, step 12000/12500, loss = 1.6036\n",
      "epoch 4 / 4, step 2000/12500, loss = 1.5547\n",
      "epoch 4 / 4, step 4000/12500, loss = 1.4884\n",
      "epoch 4 / 4, step 6000/12500, loss = 1.0084\n",
      "epoch 4 / 4, step 8000/12500, loss = 1.1779\n",
      "epoch 4 / 4, step 10000/12500, loss = 1.1569\n",
      "epoch 4 / 4, step 12000/12500, loss = 2.2239\n",
      "accuracy = 46.9\n",
      "Accuracy of plane: 50.3 %\n",
      "Accuracy of car: 57.8 %\n",
      "Accuracy of bird: 31.3 %\n",
      "Accuracy of cat: 30.0 %\n",
      "Accuracy of deer: 35.7 %\n",
      "Accuracy of dog: 44.9 %\n",
      "Accuracy of frog: 58.6 %\n",
      "Accuracy of horse: 52.5 %\n",
      "Accuracy of ship: 49.6 %\n",
      "Accuracy of truck: 58.3 %\n"
     ]
    }
   ],
   "source": [
    "#training loop\n",
    "\n",
    "n_total_steps = len(train_loader)\n",
    "\n",
    "for epoch in range(num_epochs):\n",
    "    \n",
    "    for i, (images, labels) in enumerate(train_loader):\n",
    "        \n",
    "        # origin shape: [4,3,32,32] = 4,3, 1024\n",
    "        # input_layer: 3 input layers, 6 output channels, 5 kernel size\n",
    "        \n",
    "        images = images.to(device)\n",
    "        labels = labels.to(device)\n",
    "        \n",
    "        # forward \n",
    "        \n",
    "        outputs = model(images)\n",
    "        loss = criterion(outputs, labels)\n",
    "        \n",
    "        \n",
    "        # backward\n",
    "        \n",
    "        optimizer.zero_grad()\n",
    "        loss.backward()\n",
    "        \n",
    "        optimizer.step()\n",
    "        \n",
    "        if (i+1) % 2000 ==0:\n",
    "            \n",
    "            print(f'epoch {epoch+1} / {num_epochs}, step {i+1}/{n_total_steps}, loss = {loss.item():.4f}')\n",
    "            \n",
    "\n",
    "# test\n",
    "\n",
    "with torch.no_grad():\n",
    "    n_correct = 0\n",
    "    n_samples = 0\n",
    "    n_class_correct = [0 for i in range(10)]\n",
    "    n_class_samples = [0 for i in range(10)]\n",
    "    \n",
    "    for images, labels in test_loader:\n",
    "        images = images.to(device)\n",
    "        labels = labels.to(device)\n",
    "        outputs = model(images)\n",
    "        # max returns (value, index)\n",
    "        # value, index(class label)\n",
    "        _, predictions = torch.max(outputs,1)\n",
    "        n_samples += labels.size(0)\n",
    "        n_correct += (predictions == labels).sum().item()\n",
    "        \n",
    "        for i in range(batch_size):\n",
    "            label = labels[i]\n",
    "            pred = predictions[i]\n",
    "            if (label == pred):\n",
    "                n_class_correct[label] +=1\n",
    "            n_class_samples[label] +=1\n",
    "                \n",
    "        \n",
    "    acc = 100.0* n_correct/n_samples\n",
    "    \n",
    "    print(f'accuracy = {acc}')\n",
    "    \n",
    "    for i in range(10):\n",
    "        acc = 100.0 * n_class_correct[i] / n_class_samples[i]\n",
    "        print(f'Accuracy of {classes[i]}: {acc} %')\n",
    "        \n",
    "        \n",
    "        "
   ]
  },
  {
   "cell_type": "code",
   "execution_count": 59,
   "id": "d6afda59",
   "metadata": {},
   "outputs": [
    {
     "data": {
      "text/plain": [
       "OrderedDict([('conv1.weight',\n",
       "              tensor([[[[-1.7922e-01, -1.4424e-01, -9.9908e-02, -1.4031e-01, -1.6743e-02],\n",
       "                        [-1.5529e-02, -3.6553e-02, -6.1301e-02,  4.8635e-02,  3.3125e-02],\n",
       "                        [-1.0336e-01,  1.7008e-02,  8.3599e-02, -1.2109e-01, -6.8817e-02],\n",
       "                        [-3.4949e-02,  2.4649e-02, -5.9641e-02,  7.4061e-02,  8.8998e-02],\n",
       "                        [ 9.9973e-03, -7.9802e-02, -9.3214e-02,  2.0020e-02, -6.4523e-02]],\n",
       "              \n",
       "                       [[ 8.3413e-03,  2.4392e-02,  2.5649e-02, -9.2403e-02, -1.1881e-01],\n",
       "                        [ 3.8466e-02, -1.1540e-01,  7.2564e-02,  2.0532e-02,  6.9062e-02],\n",
       "                        [ 4.2303e-02, -5.5134e-02, -9.2347e-02,  1.1848e-01,  9.7283e-02],\n",
       "                        [-1.3999e-03,  1.3164e-01,  5.2748e-02,  3.4898e-02, -7.3415e-02],\n",
       "                        [ 1.0565e-02, -3.8307e-02,  9.8015e-02,  9.1243e-02, -3.9102e-02]],\n",
       "              \n",
       "                       [[ 1.0215e-01,  1.6050e-02,  5.5920e-02,  1.6293e-01,  1.5961e-01],\n",
       "                        [ 5.1130e-02,  1.7221e-01,  7.3744e-02,  1.8406e-01,  2.1054e-01],\n",
       "                        [-4.3543e-03,  8.4879e-02,  1.6918e-01,  1.5870e-01,  1.6738e-01],\n",
       "                        [ 1.3771e-01,  6.9155e-02,  2.3448e-01,  1.6585e-01,  1.9462e-01],\n",
       "                        [ 9.6245e-02,  1.2735e-01,  2.1152e-01,  3.8931e-02,  1.6697e-01]]],\n",
       "              \n",
       "              \n",
       "                      [[[ 2.0880e-01,  8.2484e-02,  2.2910e-01,  2.0588e-01,  7.6019e-02],\n",
       "                        [ 1.0762e-01,  6.1965e-02, -8.9536e-02, -5.3750e-02, -1.1194e-01],\n",
       "                        [-1.9134e-01, -1.4679e-01, -1.0285e-01, -9.8714e-02, -1.2242e-01],\n",
       "                        [-2.6554e-02, -2.1321e-02, -6.8918e-02,  3.7656e-02,  1.6734e-02],\n",
       "                        [-5.6808e-02,  1.0375e-01,  2.6940e-02, -6.1114e-02,  6.3384e-02]],\n",
       "              \n",
       "                       [[ 1.5466e-01,  2.5224e-01,  1.7799e-01,  1.4203e-01,  1.1923e-01],\n",
       "                        [-4.6049e-02, -1.0171e-01, -1.0824e-01, -1.6643e-02, -7.8419e-02],\n",
       "                        [-1.7900e-01, -6.1373e-02, -1.8566e-01, -2.0290e-01, -9.5281e-02],\n",
       "                        [ 7.5913e-02, -1.2224e-02,  6.7775e-02,  6.0389e-02,  9.1520e-02],\n",
       "                        [-4.1922e-02,  6.7749e-02, -4.5288e-02,  6.8794e-03,  5.0652e-02]],\n",
       "              \n",
       "                       [[ 1.3217e-01,  1.1478e-01,  1.4978e-01,  1.2858e-01,  2.1812e-02],\n",
       "                        [ 1.3742e-02,  9.4096e-02, -5.0771e-02, -9.8929e-02, -6.9045e-02],\n",
       "                        [-2.6236e-02, -7.2375e-02, -1.8921e-01, -2.8062e-02,  2.3873e-02],\n",
       "                        [-1.0102e-01,  6.2385e-02, -9.8521e-02, -9.6452e-02,  4.9489e-02],\n",
       "                        [-8.9858e-02, -4.3703e-02, -2.6946e-02,  3.2887e-02,  9.1683e-02]]],\n",
       "              \n",
       "              \n",
       "                      [[[ 8.2883e-02, -3.5598e-02,  5.7780e-02, -6.1942e-02,  7.0670e-02],\n",
       "                        [ 1.5741e-01,  2.0431e-02, -1.6651e-01, -1.1227e-01,  2.4074e-02],\n",
       "                        [ 4.3176e-02, -2.3909e-02, -1.1698e-01, -8.5673e-02,  2.0128e-02],\n",
       "                        [-1.7948e-01, -2.1846e-01, -1.7704e-01, -1.6949e-01, -5.6013e-02],\n",
       "                        [-1.5325e-01, -1.0119e-01, -1.1921e-01, -5.7239e-02, -8.1324e-02]],\n",
       "              \n",
       "                       [[-4.1770e-02,  5.4037e-02, -9.9670e-02,  3.5401e-02, -1.1052e-01],\n",
       "                        [ 2.0619e-02, -5.9013e-02, -6.9006e-02, -1.0685e-01, -5.1987e-02],\n",
       "                        [ 1.1560e-01, -5.2856e-02,  1.1763e-02, -2.0627e-01, -3.0024e-03],\n",
       "                        [ 8.4693e-02, -6.0912e-02, -1.2024e-01, -4.5636e-02,  1.2767e-02],\n",
       "                        [ 1.5803e-01,  1.5294e-02, -1.2452e-01, -8.6129e-02,  1.6200e-02]],\n",
       "              \n",
       "                       [[ 4.3088e-02, -1.6223e-01, -1.4909e-01,  4.0229e-03, -2.4778e-02],\n",
       "                        [-5.1799e-02, -2.7727e-02, -7.0040e-02, -1.9655e-01, -1.2486e-01],\n",
       "                        [-6.4151e-02, -9.1008e-02, -1.4796e-01, -1.5189e-01, -1.3437e-01],\n",
       "                        [-8.4167e-02,  2.7121e-02, -1.0849e-01, -1.9229e-01, -4.6428e-02],\n",
       "                        [-3.0842e-02, -2.8542e-02, -1.8827e-01, -1.7320e-02, -6.9244e-02]]],\n",
       "              \n",
       "              \n",
       "                      [[[ 1.0032e-01,  1.4708e-01,  4.2000e-02,  2.1982e-02,  6.5203e-02],\n",
       "                        [ 2.2354e-02,  6.2135e-02, -3.2415e-02, -7.9178e-02, -9.2696e-02],\n",
       "                        [-1.2418e-02,  3.5377e-02, -8.6033e-02, -7.6967e-02, -9.6619e-03],\n",
       "                        [ 1.6670e-01,  1.5852e-01, -2.4476e-03,  1.0176e-01, -4.2260e-02],\n",
       "                        [ 5.3277e-03,  9.4304e-02,  7.6186e-02, -1.6412e-02, -8.2025e-02]],\n",
       "              \n",
       "                       [[-2.3021e-02, -5.5740e-02, -1.4962e-01, -1.2195e-01, -1.4717e-01],\n",
       "                        [-7.7751e-02, -3.0022e-01, -1.7934e-01, -2.3365e-01, -1.3012e-01],\n",
       "                        [-2.4974e-01, -1.0252e-01, -2.4977e-01, -1.5210e-01, -1.9160e-01],\n",
       "                        [-1.0401e-01, -9.8690e-02, -1.4579e-01,  3.0863e-02, -1.0518e-01],\n",
       "                        [-8.8299e-02, -1.2567e-01, -1.5513e-05, -3.5506e-02,  4.3668e-03]],\n",
       "              \n",
       "                       [[-1.6089e-01,  4.7128e-02, -1.0411e-01,  4.1173e-03, -1.5508e-01],\n",
       "                        [-1.6456e-01, -1.6260e-01, -1.4212e-01, -1.1781e-01, -5.0055e-02],\n",
       "                        [-2.3071e-02, -1.5317e-01,  6.0435e-03, -1.0867e-02, -1.4822e-01],\n",
       "                        [ 2.9038e-02,  1.2851e-01,  1.6602e-01,  1.1016e-01,  1.2920e-01],\n",
       "                        [ 1.6260e-01,  2.0937e-01,  2.7724e-02,  1.2069e-01,  2.2224e-01]]],\n",
       "              \n",
       "              \n",
       "                      [[[-1.3476e-02, -7.1850e-02, -4.3740e-03, -1.3225e-01, -1.8248e-01],\n",
       "                        [-1.6647e-01, -1.5672e-01, -2.9355e-02, -4.2140e-02,  1.5224e-02],\n",
       "                        [-1.8155e-01, -2.4543e-01, -2.4476e-01, -3.3197e-02, -4.0194e-02],\n",
       "                        [-1.7079e-01, -1.4593e-01, -1.1100e-01, -2.5307e-02, -5.8516e-02],\n",
       "                        [-3.5082e-02,  9.9280e-02,  3.4945e-02, -1.6892e-02,  9.0588e-02]],\n",
       "              \n",
       "                       [[ 1.1873e-01,  3.9888e-02,  2.4935e-02, -7.4866e-02, -8.1423e-02],\n",
       "                        [-2.6067e-02,  5.8333e-02, -6.5071e-02,  6.6725e-02, -1.0817e-01],\n",
       "                        [-5.9401e-02, -2.8844e-02,  3.5381e-02, -2.9367e-02, -5.9342e-02],\n",
       "                        [-9.7384e-02,  5.8842e-02, -1.0951e-01, -4.2414e-02, -1.1795e-01],\n",
       "                        [ 1.1342e-01,  1.3201e-01,  2.6193e-02,  1.1662e-01,  8.1839e-02]],\n",
       "              \n",
       "                       [[ 9.9599e-02,  1.6481e-01,  1.1761e-01,  2.9958e-02,  1.8709e-01],\n",
       "                        [ 3.6932e-02, -5.3404e-02, -4.4537e-02,  2.9470e-02,  1.1527e-01],\n",
       "                        [-3.0589e-02,  1.0623e-01,  8.3164e-03,  1.6514e-03, -4.4194e-03],\n",
       "                        [ 1.3148e-02,  1.2248e-01,  1.4654e-01,  9.4862e-02,  6.0172e-02],\n",
       "                        [ 1.8482e-01,  1.4083e-01,  1.4771e-01,  9.9910e-02,  9.4235e-02]]],\n",
       "              \n",
       "              \n",
       "                      [[[ 1.7735e-01,  1.9506e-01, -2.1160e-02, -1.6513e-02, -1.3266e-01],\n",
       "                        [-3.5853e-02,  4.1703e-02,  1.3747e-01,  7.1125e-02,  6.3430e-03],\n",
       "                        [ 1.0378e-01, -3.0251e-02,  7.7717e-02, -2.9862e-02, -6.0349e-02],\n",
       "                        [ 1.3742e-01,  1.3708e-01,  1.1018e-01,  1.2037e-02, -6.0251e-02],\n",
       "                        [ 1.2214e-01, -5.9506e-02,  4.9181e-02,  6.7621e-02,  2.1477e-03]],\n",
       "              \n",
       "                       [[ 1.2947e-01,  1.8545e-01, -9.2216e-02, -9.4796e-02, -9.3530e-02],\n",
       "                        [ 1.2493e-01,  8.4407e-02, -4.8939e-03, -6.2758e-02, -3.6588e-02],\n",
       "                        [ 3.6634e-02,  1.5306e-01,  1.1940e-01,  5.8902e-03, -1.5605e-01],\n",
       "                        [-4.9840e-02, -5.4606e-02,  2.3728e-02, -3.2198e-03, -1.9667e-01],\n",
       "                        [ 3.1016e-02, -2.2616e-02,  1.4510e-01, -1.0745e-01, -1.0179e-01]],\n",
       "              \n",
       "                       [[ 1.9897e-01,  1.0751e-01, -8.9627e-02, -1.1006e-01, -1.5338e-01],\n",
       "                        [ 1.0314e-01,  2.2963e-01,  6.1682e-02, -1.4595e-01, -1.5688e-01],\n",
       "                        [ 7.0481e-02,  1.7744e-01,  9.4750e-03,  4.9194e-03, -4.9951e-02],\n",
       "                        [ 1.8122e-01,  9.8374e-02,  1.4103e-01, -7.3242e-02, -6.5230e-02],\n",
       "                        [ 1.5747e-01,  3.0972e-02,  4.0908e-02,  1.0477e-02, -8.4547e-02]]]])),\n",
       "             ('conv1.bias',\n",
       "              tensor([ 0.3020, -0.0339,  0.5557, -0.1847,  0.1969,  0.2342])),\n",
       "             ('conv2.weight',\n",
       "              tensor([[[[ 0.0410, -0.0907, -0.0651, -0.0654, -0.1039],\n",
       "                        [ 0.0016, -0.1140, -0.0682, -0.0223,  0.0630],\n",
       "                        [-0.0488,  0.0139,  0.0123,  0.0811,  0.0018],\n",
       "                        [-0.0065,  0.0080,  0.0375,  0.0920, -0.0236],\n",
       "                        [ 0.1034,  0.0749,  0.0589, -0.0550,  0.0480]],\n",
       "              \n",
       "                       [[ 0.0719,  0.0551,  0.0220,  0.0297,  0.1054],\n",
       "                        [ 0.0928, -0.0402,  0.0425,  0.1065,  0.0166],\n",
       "                        [ 0.0291,  0.0151,  0.1186,  0.1040, -0.0472],\n",
       "                        [ 0.0348,  0.0898, -0.0412,  0.0604,  0.0164],\n",
       "                        [ 0.0160,  0.0280,  0.0271,  0.0987, -0.0418]],\n",
       "              \n",
       "                       [[ 0.0127,  0.1274,  0.1266,  0.0266,  0.0951],\n",
       "                        [ 0.1418,  0.0375, -0.0305,  0.0208,  0.0680],\n",
       "                        [ 0.1287,  0.0119,  0.0621,  0.0693, -0.0721],\n",
       "                        [ 0.0100, -0.0205,  0.0329, -0.0797, -0.1282],\n",
       "                        [ 0.0095, -0.1012, -0.1074, -0.1089, -0.0373]],\n",
       "              \n",
       "                       [[-0.0445,  0.0343, -0.0268,  0.0832,  0.0569],\n",
       "                        [ 0.0888, -0.0587,  0.0676,  0.0140,  0.0275],\n",
       "                        [-0.0335,  0.0837,  0.0084,  0.0243, -0.0119],\n",
       "                        [-0.0096,  0.0852, -0.0305, -0.0900, -0.1102],\n",
       "                        [ 0.0076,  0.0519,  0.0280,  0.0566,  0.0444]],\n",
       "              \n",
       "                       [[-0.0901,  0.0353, -0.0486, -0.0892,  0.0368],\n",
       "                        [ 0.0079,  0.0316, -0.0369,  0.0226,  0.0091],\n",
       "                        [ 0.0467, -0.0175, -0.0671, -0.0380, -0.0012],\n",
       "                        [-0.0280,  0.0266, -0.0743, -0.0419, -0.0160],\n",
       "                        [ 0.0849, -0.0348,  0.0489, -0.0528,  0.0126]],\n",
       "              \n",
       "                       [[ 0.0529,  0.0760,  0.0463,  0.0067, -0.0068],\n",
       "                        [-0.0608, -0.0470, -0.0485, -0.0288,  0.0428],\n",
       "                        [ 0.0349,  0.0061, -0.0406, -0.0697,  0.0127],\n",
       "                        [-0.0657,  0.0404, -0.0525,  0.0529,  0.0043],\n",
       "                        [-0.0446, -0.0818,  0.0779,  0.0809,  0.0022]]],\n",
       "              \n",
       "              \n",
       "                      [[[-0.0058, -0.0513, -0.1322, -0.0531,  0.0105],\n",
       "                        [-0.0306, -0.0531, -0.0413, -0.0607, -0.1045],\n",
       "                        [ 0.0010, -0.0379, -0.0270, -0.1259, -0.1093],\n",
       "                        [ 0.0592, -0.0804, -0.0150,  0.0349, -0.0482],\n",
       "                        [ 0.0138, -0.0501,  0.0371,  0.0196,  0.0246]],\n",
       "              \n",
       "                       [[ 0.0159, -0.0751, -0.0330,  0.0884, -0.0584],\n",
       "                        [-0.0719,  0.0031,  0.0708,  0.0293,  0.1158],\n",
       "                        [ 0.0582, -0.0289,  0.0269, -0.0397,  0.0472],\n",
       "                        [ 0.0579, -0.0401,  0.0687, -0.0291, -0.0102],\n",
       "                        [ 0.0649,  0.0713,  0.0225,  0.0608,  0.0487]],\n",
       "              \n",
       "                       [[ 0.1678,  0.1455,  0.0555,  0.0032,  0.0103],\n",
       "                        [ 0.0104,  0.0108,  0.0104, -0.0020,  0.1228],\n",
       "                        [ 0.0482,  0.0487,  0.1405,  0.1523,  0.0793],\n",
       "                        [-0.0343,  0.1140,  0.1460,  0.1657,  0.0852],\n",
       "                        [ 0.0509, -0.0085,  0.0471,  0.0361,  0.1026]],\n",
       "              \n",
       "                       [[-0.0461, -0.0065, -0.0494,  0.0324, -0.0658],\n",
       "                        [-0.0929, -0.0088,  0.0171, -0.0335,  0.0490],\n",
       "                        [-0.1298, -0.1030, -0.0814, -0.0339, -0.0657],\n",
       "                        [-0.1509, -0.0198, -0.0377, -0.0540, -0.0514],\n",
       "                        [-0.1640, -0.0197, -0.0210, -0.0371,  0.0105]],\n",
       "              \n",
       "                       [[-0.0808, -0.0535, -0.1133, -0.0646, -0.0649],\n",
       "                        [-0.0462,  0.0045, -0.0591, -0.0134, -0.0866],\n",
       "                        [ 0.0131,  0.0022, -0.1012, -0.0637, -0.0291],\n",
       "                        [-0.0919, -0.0212,  0.0378,  0.0144, -0.0073],\n",
       "                        [-0.0623, -0.0009, -0.0572,  0.0459,  0.0498]],\n",
       "              \n",
       "                       [[ 0.0622,  0.0316,  0.1151,  0.0760,  0.0681],\n",
       "                        [ 0.0656,  0.0236, -0.0108,  0.0937,  0.0608],\n",
       "                        [ 0.0938,  0.0989,  0.0471,  0.0840, -0.0040],\n",
       "                        [ 0.0036,  0.0197,  0.0422, -0.0267, -0.0168],\n",
       "                        [ 0.0788, -0.0005,  0.0122,  0.0782, -0.0321]]],\n",
       "              \n",
       "              \n",
       "                      [[[-0.0235, -0.0579,  0.0452, -0.0562, -0.0975],\n",
       "                        [-0.0531,  0.0368,  0.0225, -0.0066, -0.1006],\n",
       "                        [-0.0038, -0.0328,  0.0383, -0.0719, -0.0240],\n",
       "                        [ 0.0318,  0.0150, -0.0187, -0.0890, -0.0579],\n",
       "                        [-0.0398,  0.0424,  0.0643,  0.0472, -0.0130]],\n",
       "              \n",
       "                       [[-0.0722, -0.0616,  0.0042, -0.0339,  0.0297],\n",
       "                        [ 0.0584, -0.0063,  0.0709, -0.0163,  0.0091],\n",
       "                        [-0.0366, -0.0004,  0.0326,  0.0522,  0.0474],\n",
       "                        [-0.0436,  0.0241,  0.1052,  0.0996, -0.0160],\n",
       "                        [ 0.0484, -0.0468,  0.0342,  0.0520, -0.0124]],\n",
       "              \n",
       "                       [[-0.0578, -0.1015, -0.1024, -0.1017,  0.0670],\n",
       "                        [-0.0434, -0.1267,  0.0168,  0.0415,  0.1292],\n",
       "                        [-0.1436, -0.0671,  0.0460, -0.0373,  0.1438],\n",
       "                        [-0.0263, -0.0578, -0.0072,  0.0154,  0.1279],\n",
       "                        [-0.0908,  0.0464,  0.0835,  0.1133,  0.1007]],\n",
       "              \n",
       "                       [[-0.0513,  0.0426,  0.0202, -0.0768,  0.0461],\n",
       "                        [ 0.0504, -0.0600, -0.0208, -0.0070,  0.0398],\n",
       "                        [ 0.0168,  0.0693, -0.0354,  0.0550,  0.1254],\n",
       "                        [-0.0918,  0.0585, -0.0222, -0.0158,  0.1285],\n",
       "                        [-0.0467,  0.0177,  0.0265,  0.0724,  0.0069]],\n",
       "              \n",
       "                       [[-0.0856, -0.0760,  0.0016,  0.0637, -0.0208],\n",
       "                        [-0.0196,  0.0176, -0.0508, -0.0921, -0.0172],\n",
       "                        [-0.0041,  0.0004,  0.0136,  0.0081, -0.0446],\n",
       "                        [ 0.0666, -0.0203, -0.0896, -0.0587, -0.0049],\n",
       "                        [ 0.0106,  0.0339, -0.0370, -0.0043, -0.0136]],\n",
       "              \n",
       "                       [[ 0.0448,  0.0930,  0.0198,  0.0850, -0.0249],\n",
       "                        [ 0.0859,  0.0350,  0.0483,  0.0963,  0.0988],\n",
       "                        [ 0.0853,  0.0457,  0.0895,  0.0770,  0.0828],\n",
       "                        [ 0.1138,  0.0179,  0.0837,  0.0240,  0.0242],\n",
       "                        [ 0.0512,  0.1044,  0.0600, -0.0033, -0.0482]]],\n",
       "              \n",
       "              \n",
       "                      ...,\n",
       "              \n",
       "              \n",
       "                      [[[-0.0322, -0.0487, -0.0868,  0.0317,  0.0395],\n",
       "                        [ 0.0379,  0.0662,  0.0128, -0.0760,  0.0688],\n",
       "                        [ 0.0285,  0.0383,  0.0725, -0.0403, -0.0462],\n",
       "                        [-0.0461,  0.0053,  0.0364,  0.0663,  0.0543],\n",
       "                        [-0.0422,  0.0695,  0.0264, -0.0520,  0.0650]],\n",
       "              \n",
       "                       [[-0.0069,  0.0977,  0.1188,  0.0741,  0.0829],\n",
       "                        [ 0.0661,  0.1187,  0.1328,  0.0384,  0.0375],\n",
       "                        [-0.0256,  0.0964,  0.0167,  0.0868,  0.1186],\n",
       "                        [ 0.0220,  0.1222,  0.1155,  0.0903,  0.0790],\n",
       "                        [ 0.0477,  0.0906,  0.1333,  0.0672,  0.0891]],\n",
       "              \n",
       "                       [[ 0.1011,  0.0413,  0.0509,  0.0095,  0.0816],\n",
       "                        [ 0.0783, -0.0173, -0.0221,  0.1225,  0.0333],\n",
       "                        [-0.0068,  0.0436,  0.0621,  0.0467, -0.0561],\n",
       "                        [-0.0517, -0.1191, -0.0716, -0.0410, -0.0390],\n",
       "                        [-0.0563, -0.0916, -0.0824, -0.0015, -0.0551]],\n",
       "              \n",
       "                       [[-0.0816, -0.0806,  0.0190, -0.0666, -0.0201],\n",
       "                        [-0.0457,  0.0913,  0.0935,  0.0796,  0.0370],\n",
       "                        [-0.0090,  0.0507,  0.0513, -0.0067,  0.0269],\n",
       "                        [ 0.0480, -0.0039, -0.0102,  0.0102, -0.0553],\n",
       "                        [ 0.0189, -0.0833, -0.0456, -0.0385,  0.0318]],\n",
       "              \n",
       "                       [[ 0.0004, -0.0420, -0.0523,  0.0501,  0.0453],\n",
       "                        [-0.0467,  0.0115,  0.0169,  0.0618,  0.0670],\n",
       "                        [ 0.1050,  0.0929,  0.0890,  0.0163,  0.0107],\n",
       "                        [ 0.0891, -0.0389, -0.0011,  0.0376,  0.0424],\n",
       "                        [-0.0452,  0.0399, -0.0246, -0.0543,  0.0939]],\n",
       "              \n",
       "                       [[-0.0474,  0.0459,  0.0435,  0.0795, -0.0089],\n",
       "                        [-0.0297,  0.0220, -0.0844,  0.0334, -0.0660],\n",
       "                        [ 0.0118, -0.0554, -0.0313, -0.0387,  0.0232],\n",
       "                        [ 0.0116, -0.0329, -0.0573,  0.0168, -0.0170],\n",
       "                        [ 0.0471, -0.0145, -0.0250, -0.0516, -0.0041]]],\n",
       "              \n",
       "              \n",
       "                      [[[-0.0839, -0.0707, -0.0562,  0.0537,  0.0276],\n",
       "                        [-0.0713,  0.0491, -0.0437,  0.0650,  0.0290],\n",
       "                        [-0.0197, -0.0350,  0.0590,  0.0395,  0.0174],\n",
       "                        [ 0.0062, -0.0808, -0.0619,  0.0537, -0.0864],\n",
       "                        [ 0.0143,  0.0722, -0.0295,  0.0578,  0.0171]],\n",
       "              \n",
       "                       [[ 0.0917,  0.0107, -0.0014,  0.0710,  0.1016],\n",
       "                        [ 0.0078,  0.0943, -0.0312,  0.0736, -0.0511],\n",
       "                        [-0.0504,  0.0137, -0.0526,  0.0036, -0.0083],\n",
       "                        [ 0.0695,  0.0660,  0.0413,  0.0753, -0.0210],\n",
       "                        [ 0.0845, -0.0363,  0.0669,  0.0833, -0.0525]],\n",
       "              \n",
       "                       [[ 0.0523, -0.0439,  0.0193, -0.0783, -0.0776],\n",
       "                        [-0.0263, -0.0372, -0.0934, -0.0235, -0.1092],\n",
       "                        [ 0.0433,  0.0223,  0.0341,  0.0667,  0.0775],\n",
       "                        [-0.0466,  0.0022,  0.0820, -0.0374,  0.0968],\n",
       "                        [-0.1285, -0.0360, -0.0089,  0.0322, -0.0218]],\n",
       "              \n",
       "                       [[-0.0210,  0.0174, -0.0123,  0.0459,  0.0657],\n",
       "                        [ 0.0320, -0.0591, -0.0290, -0.0380,  0.0026],\n",
       "                        [ 0.0722,  0.0492, -0.0431,  0.0818,  0.0303],\n",
       "                        [ 0.0524,  0.0574,  0.0771, -0.0040,  0.0549],\n",
       "                        [ 0.0890,  0.0884,  0.1266,  0.0278,  0.1160]],\n",
       "              \n",
       "                       [[-0.0575,  0.0708,  0.0006, -0.0038,  0.0069],\n",
       "                        [ 0.0145,  0.0298,  0.0120, -0.0163, -0.0133],\n",
       "                        [-0.0783,  0.0462,  0.0317,  0.0216, -0.0546],\n",
       "                        [-0.0531,  0.0349,  0.0162,  0.0076,  0.0258],\n",
       "                        [-0.0471, -0.0059,  0.0130, -0.0588,  0.0888]],\n",
       "              \n",
       "                       [[ 0.0326, -0.0709,  0.0772,  0.0602,  0.0370],\n",
       "                        [ 0.0057,  0.0519,  0.0152, -0.0507,  0.0312],\n",
       "                        [ 0.0072, -0.0456, -0.0408,  0.0215,  0.0840],\n",
       "                        [-0.0621, -0.0954, -0.0003,  0.0033,  0.0471],\n",
       "                        [ 0.0325,  0.0579, -0.0297,  0.0268,  0.0173]]],\n",
       "              \n",
       "              \n",
       "                      [[[ 0.0247,  0.0675, -0.0445,  0.0458,  0.0425],\n",
       "                        [-0.0801, -0.0616,  0.0227, -0.0698, -0.0577],\n",
       "                        [ 0.0315, -0.0829,  0.0228, -0.1072, -0.0328],\n",
       "                        [ 0.0745, -0.0034,  0.0033, -0.0176,  0.0765],\n",
       "                        [-0.0429,  0.1163,  0.0956,  0.1143,  0.0078]],\n",
       "              \n",
       "                       [[-0.0362,  0.0791,  0.0125,  0.0028,  0.0341],\n",
       "                        [ 0.0645,  0.0331, -0.0394, -0.0617,  0.0928],\n",
       "                        [ 0.0988, -0.0363, -0.0104,  0.0685, -0.0361],\n",
       "                        [-0.0035,  0.1025,  0.0483,  0.0230, -0.0371],\n",
       "                        [ 0.0051, -0.0108,  0.0189, -0.0156, -0.0360]],\n",
       "              \n",
       "                       [[ 0.0117, -0.0518, -0.0789, -0.0066,  0.0423],\n",
       "                        [ 0.0655,  0.0233,  0.0558,  0.0470,  0.0150],\n",
       "                        [ 0.0090,  0.1252,  0.0394,  0.0552,  0.1072],\n",
       "                        [-0.0806, -0.0389,  0.0056,  0.0242, -0.0400],\n",
       "                        [-0.0941, -0.1865, -0.0440, -0.1704, -0.1518]],\n",
       "              \n",
       "                       [[ 0.0514, -0.0803,  0.0108, -0.0338,  0.0039],\n",
       "                        [ 0.0440,  0.0716, -0.0604, -0.0475,  0.0538],\n",
       "                        [ 0.0177, -0.0051,  0.1373,  0.1333,  0.0282],\n",
       "                        [ 0.0509,  0.0098,  0.1357,  0.1051,  0.0505],\n",
       "                        [ 0.0159, -0.0669,  0.0329, -0.0298, -0.0530]],\n",
       "              \n",
       "                       [[ 0.0142,  0.0326, -0.0181, -0.0541,  0.0201],\n",
       "                        [ 0.0129, -0.0161, -0.0203, -0.0391, -0.0668],\n",
       "                        [ 0.0309, -0.0197, -0.0116,  0.0390,  0.0039],\n",
       "                        [-0.0548,  0.0823,  0.0961,  0.1187,  0.0196],\n",
       "                        [ 0.0753, -0.0132, -0.0028,  0.0133,  0.0034]],\n",
       "              \n",
       "                       [[-0.0117,  0.0286, -0.0501,  0.0520,  0.0207],\n",
       "                        [ 0.0431, -0.0831, -0.0467,  0.0417, -0.0579],\n",
       "                        [-0.0598,  0.0119, -0.1261, -0.0779, -0.0783],\n",
       "                        [-0.0180,  0.0637, -0.0189, -0.0395, -0.0504],\n",
       "                        [ 0.1117,  0.0997,  0.0654, -0.0105,  0.0660]]]])),\n",
       "             ('conv2.bias',\n",
       "              tensor([ 0.0707,  0.2118,  0.0097, -0.0085,  0.0085, -0.0639, -0.0328, -0.0209,\n",
       "                       0.0370, -0.0010, -0.2277,  0.1004, -0.0742, -0.0392, -0.1074, -0.0117])),\n",
       "             ('fc1.weight',\n",
       "              tensor([[ 0.0615,  0.0386,  0.0312,  ..., -0.0008, -0.0028, -0.0023],\n",
       "                      [ 0.0382,  0.0268,  0.0404,  ..., -0.0368, -0.0296, -0.0478],\n",
       "                      [ 0.0348,  0.0355,  0.0474,  ...,  0.0282, -0.0088, -0.0244],\n",
       "                      ...,\n",
       "                      [-0.0436, -0.0025, -0.0413,  ...,  0.0321,  0.0168,  0.0549],\n",
       "                      [-0.0496, -0.0242,  0.0077,  ...,  0.0210, -0.0125,  0.0135],\n",
       "                      [ 0.0273, -0.0174, -0.0033,  ...,  0.0063, -0.0154, -0.0128]])),\n",
       "             ('fc1.bias',\n",
       "              tensor([ 2.2898e-02,  5.8248e-02, -1.6265e-02,  2.3171e-02,  8.1989e-03,\n",
       "                      -7.1424e-02,  1.9165e-02,  4.7611e-02, -1.9793e-02,  1.7949e-02,\n",
       "                       2.5800e-02, -2.9286e-02, -3.4783e-02,  4.8656e-02,  3.8662e-03,\n",
       "                      -6.3819e-03, -3.0425e-02,  3.4937e-02, -3.1219e-02, -4.6796e-02,\n",
       "                       8.5569e-02, -3.9684e-03, -1.4160e-02, -5.9223e-03, -1.5923e-02,\n",
       "                      -2.2364e-02, -4.1062e-02,  1.3717e-02,  1.6464e-02,  1.3142e-02,\n",
       "                      -1.4321e-02, -4.5944e-02, -1.7518e-02, -3.3828e-02,  6.0724e-02,\n",
       "                       1.8742e-02, -1.9400e-02,  3.3788e-03, -1.6566e-02,  3.8845e-02,\n",
       "                      -1.6985e-02, -3.4061e-02,  8.3567e-02,  5.2858e-02,  4.5204e-02,\n",
       "                      -4.6188e-02, -7.1850e-02, -4.1653e-02,  1.1104e-02, -2.8145e-02,\n",
       "                       3.3797e-02,  3.1767e-02, -3.3523e-02, -1.1243e-02, -6.4737e-02,\n",
       "                      -1.2610e-02,  2.8390e-02,  6.3692e-02,  2.0515e-02,  2.7197e-02,\n",
       "                      -4.3758e-02,  5.3096e-02,  3.4715e-05,  4.7506e-02,  2.1062e-02,\n",
       "                      -9.6729e-04, -2.0270e-02, -2.0492e-02,  1.8460e-02, -3.6759e-02,\n",
       "                      -5.5366e-02, -2.1530e-02, -5.4580e-02, -9.9424e-03, -3.9508e-02,\n",
       "                       3.6709e-02,  5.1411e-02,  1.0727e-02, -5.4890e-02,  7.3039e-04,\n",
       "                      -2.5384e-02,  5.1135e-02,  4.8677e-02, -1.8240e-02,  5.8229e-02,\n",
       "                       7.5052e-02, -5.0438e-02, -1.8785e-02,  2.2249e-02,  1.2704e-02,\n",
       "                      -2.0750e-02, -2.4094e-02,  2.2347e-02, -1.3393e-02,  1.0909e-02,\n",
       "                       4.2160e-02, -1.4140e-02, -2.4241e-03,  5.1102e-02, -3.4198e-02,\n",
       "                       2.3872e-02, -4.5727e-02,  3.0002e-02,  4.3032e-02, -2.9474e-02,\n",
       "                      -1.5264e-02,  5.5474e-03, -4.1974e-02, -3.0534e-02, -5.0552e-02,\n",
       "                       4.5274e-02, -3.4647e-02,  1.5778e-02, -1.0150e-02,  3.0535e-02,\n",
       "                       2.2117e-02, -8.9554e-03,  2.4072e-02,  6.0390e-02, -2.2963e-02])),\n",
       "             ('fc2.weight',\n",
       "              tensor([[-0.0636, -0.0614,  0.0491,  ...,  0.0542, -0.0002, -0.0571],\n",
       "                      [-0.0438,  0.0537,  0.0404,  ..., -0.0363,  0.0282, -0.0049],\n",
       "                      [ 0.0122, -0.0749, -0.0201,  ..., -0.0680,  0.0542,  0.0021],\n",
       "                      ...,\n",
       "                      [ 0.0861,  0.0714,  0.0049,  ..., -0.0141,  0.0401,  0.0919],\n",
       "                      [ 0.0384, -0.0485,  0.0115,  ...,  0.0770, -0.0148, -0.0143],\n",
       "                      [ 0.0421,  0.0798, -0.0640,  ..., -0.0893,  0.0732,  0.1072]])),\n",
       "             ('fc2.bias',\n",
       "              tensor([ 0.0068, -0.0342, -0.0483, -0.0459, -0.0696, -0.0226, -0.0541, -0.0301,\n",
       "                       0.1380,  0.0389,  0.0710, -0.0104, -0.1480, -0.0043, -0.0383, -0.0539,\n",
       "                       0.0577,  0.0697,  0.0693,  0.1486,  0.0612, -0.0551, -0.0379,  0.0359,\n",
       "                       0.0430, -0.0208, -0.0078, -0.0348, -0.0796,  0.0304, -0.0887, -0.0036,\n",
       "                       0.0592,  0.2003,  0.0143, -0.0886, -0.0554,  0.1083, -0.0122,  0.0991,\n",
       "                      -0.0179, -0.0021, -0.0711,  0.0400, -0.0225,  0.0207,  0.0246,  0.0275,\n",
       "                       0.0899, -0.0533, -0.0222,  0.0999,  0.0643, -0.0824, -0.0369,  0.0575,\n",
       "                      -0.0451,  0.0814,  0.1024,  0.0430, -0.0428,  0.0017, -0.0940,  0.0107,\n",
       "                      -0.0584, -0.1055, -0.0041, -0.1362,  0.0889, -0.0999, -0.0559, -0.0240,\n",
       "                       0.0089, -0.0669,  0.0148, -0.0082,  0.0095,  0.1255, -0.0095,  0.1290,\n",
       "                       0.0821,  0.0410,  0.0626,  0.1238])),\n",
       "             ('fc3.weight',\n",
       "              tensor([[ 3.1183e-02,  1.4200e-01, -2.0944e-02, -1.0648e-01, -8.1696e-02,\n",
       "                        5.5169e-04, -2.6936e-02,  3.5512e-02, -1.3616e-01, -6.3230e-02,\n",
       "                        5.4878e-02,  6.3728e-02,  8.3126e-03, -9.0753e-02,  7.8633e-02,\n",
       "                        5.7196e-02, -2.6114e-02,  2.0475e-01, -5.8280e-02, -5.2081e-02,\n",
       "                        6.7400e-02, -8.2484e-03,  1.1231e-01, -1.1052e-01,  5.8642e-02,\n",
       "                        1.7430e-01, -1.6283e-01, -1.6820e-03,  2.5742e-02, -6.0643e-02,\n",
       "                        1.2228e-01,  4.1150e-02, -1.3602e-01,  1.3474e-01,  7.3445e-02,\n",
       "                       -9.3387e-02,  1.4506e-01,  2.1080e-01, -1.0096e-01,  5.5735e-02,\n",
       "                        4.1986e-02,  1.2338e-02,  1.5274e-01, -4.4760e-02,  7.8080e-02,\n",
       "                       -1.0520e-01, -8.2934e-02,  2.1137e-01, -1.4975e-01,  9.0438e-02,\n",
       "                        9.7994e-02,  9.2708e-03, -1.5145e-01,  1.6008e-02, -5.7081e-02,\n",
       "                        1.2326e-01, -8.2230e-02,  9.0938e-03, -9.2997e-02, -7.1963e-02,\n",
       "                        2.9320e-02, -1.0428e-01, -2.3041e-02, -9.5957e-02,  3.0925e-02,\n",
       "                       -1.4583e-01, -1.1249e-01, -6.1012e-02, -2.0977e-02, -5.1485e-02,\n",
       "                       -5.3274e-02, -6.6934e-02, -6.0036e-02, -9.6147e-02, -1.3932e-02,\n",
       "                        4.0176e-02, -7.8191e-02,  7.2968e-02,  4.3020e-02, -4.2756e-02,\n",
       "                       -1.0840e-01, -8.7143e-02, -5.8823e-02,  1.4987e-01],\n",
       "                      [-1.9722e-01,  1.2684e-01,  5.1235e-02,  1.6876e-01,  1.5075e-01,\n",
       "                        1.4690e-02, -1.4173e-02, -6.3804e-02, -1.3174e-01, -1.0140e-01,\n",
       "                        5.9008e-02, -1.0821e-01,  1.3088e-01, -6.2167e-02,  7.9208e-02,\n",
       "                       -1.0360e-01, -1.0106e-01,  2.3699e-01, -2.1111e-02, -9.5440e-02,\n",
       "                       -2.1657e-01, -7.3559e-02,  8.6960e-02, -1.5523e-01,  1.3936e-01,\n",
       "                       -1.3327e-01,  9.9196e-02, -1.0206e-01,  6.9845e-02, -1.7311e-02,\n",
       "                        8.2627e-02, -1.0770e-01, -3.6103e-02, -2.7074e-01,  7.3288e-02,\n",
       "                       -5.7533e-02,  1.2285e-03, -1.0738e-01,  1.3832e-01,  1.2441e-01,\n",
       "                       -1.8565e-01,  1.0508e-01, -1.3903e-02, -3.1072e-02, -1.1788e-02,\n",
       "                       -7.8971e-02,  5.6694e-02, -2.3833e-02,  3.8167e-02,  1.3228e-01,\n",
       "                       -1.0292e-02, -8.4974e-02, -4.5091e-02,  1.4213e-01, -1.3219e-01,\n",
       "                        7.4021e-02, -1.2830e-01,  2.4564e-03, -5.3338e-02,  4.0609e-02,\n",
       "                       -9.3670e-02, -6.3359e-02,  9.0592e-02, -1.2429e-02,  1.6858e-02,\n",
       "                        6.6430e-02, -3.1580e-02,  9.4550e-02, -1.7147e-01,  5.5334e-02,\n",
       "                        2.6243e-02,  4.0411e-02, -1.5637e-01, -1.1592e-01, -1.0320e-01,\n",
       "                        4.6228e-02, -1.3036e-02,  9.0988e-02, -5.1738e-02,  5.1539e-02,\n",
       "                       -7.8750e-02, -4.3937e-02,  1.0622e-01,  7.3637e-02],\n",
       "                      [ 1.6906e-01,  1.1116e-01,  5.2471e-02, -1.4715e-01, -5.1707e-02,\n",
       "                       -3.2535e-02, -1.3914e-01, -4.9430e-02,  1.2103e-01, -1.0413e-01,\n",
       "                       -7.9786e-02, -9.9741e-03, -1.1088e-03, -6.8610e-02, -9.9524e-02,\n",
       "                        2.6243e-02,  4.5772e-02,  1.0133e-01, -9.0660e-02,  2.0449e-01,\n",
       "                        2.6929e-02, -8.4989e-03,  8.3522e-02, -3.9198e-02, -1.0457e-01,\n",
       "                        7.5294e-02,  7.8029e-02, -6.1499e-03, -9.5965e-02, -3.5016e-02,\n",
       "                       -7.9645e-02, -1.9983e-02,  6.8225e-02,  1.4702e-01,  6.7471e-02,\n",
       "                       -7.0693e-02,  1.2418e-01, -1.9376e-04, -3.1860e-02, -2.2498e-02,\n",
       "                        9.0249e-02,  1.3982e-02, -1.2651e-02,  4.8260e-02,  1.0826e-01,\n",
       "                        1.2885e-01,  3.5909e-03,  1.4986e-01,  1.3443e-01, -3.0716e-02,\n",
       "                        4.9885e-02,  1.0665e-01,  2.9484e-02, -9.3368e-02,  2.0560e-01,\n",
       "                       -8.9926e-02, -1.0898e-01,  1.6368e-01,  1.7361e-01, -3.0535e-02,\n",
       "                        1.0212e-01, -8.2415e-03,  6.7813e-02,  1.4715e-01,  6.2210e-02,\n",
       "                        4.0532e-02, -7.8664e-02, -1.4779e-01,  2.5541e-02, -1.0320e-01,\n",
       "                        9.4615e-02,  1.4803e-02, -5.8189e-02, -4.5447e-02, -6.1704e-02,\n",
       "                        7.7149e-02,  1.5735e-02, -1.0716e-01,  3.1363e-02,  6.4470e-02,\n",
       "                        7.3360e-02, -9.6101e-02, -1.2291e-01,  8.9002e-03],\n",
       "                      [ 1.2121e-01,  3.4581e-02,  7.2293e-02, -7.0001e-02, -5.8250e-02,\n",
       "                        6.7765e-03, -9.9821e-02, -7.3629e-02,  9.9067e-02,  3.1634e-02,\n",
       "                        1.2857e-01,  1.3333e-01,  1.0903e-01,  6.1917e-02,  4.7656e-03,\n",
       "                        3.1865e-02,  1.1896e-02, -1.2349e-01, -5.9417e-02, -1.2208e-01,\n",
       "                        9.6662e-02, -2.0823e-02, -4.2858e-02, -3.4239e-02, -1.3951e-02,\n",
       "                       -9.3906e-02,  6.9576e-02, -1.0257e-01, -9.9046e-02, -4.1931e-02,\n",
       "                        1.1557e-01, -9.6504e-02, -3.8506e-02,  5.6756e-02, -6.2069e-02,\n",
       "                       -3.0420e-02, -6.6368e-02, -7.8941e-02,  1.0436e-01, -1.2521e-01,\n",
       "                       -2.5879e-02,  1.0673e-01,  1.1993e-01, -1.8419e-02, -8.0069e-02,\n",
       "                        2.2259e-02,  4.9648e-02, -1.5029e-02,  9.2922e-02, -7.7615e-02,\n",
       "                       -1.2529e-01, -8.9565e-03,  3.8385e-03, -7.4615e-02,  1.7559e-01,\n",
       "                       -3.4699e-02, -1.3809e-02, -1.1935e-02, -6.8219e-02,  1.4460e-01,\n",
       "                       -9.9385e-02, -9.3405e-02,  1.0765e-01, -5.8853e-02, -9.1821e-02,\n",
       "                        1.3947e-01, -7.0993e-02,  1.2661e-01, -6.0094e-03, -8.3434e-02,\n",
       "                       -3.8830e-02,  1.0478e-01,  1.5779e-01, -1.5844e-02,  1.6168e-01,\n",
       "                        8.9736e-02, -3.6353e-02, -1.0144e-01, -7.2022e-02, -3.1880e-02,\n",
       "                        3.4077e-02, -6.8284e-02, -1.0356e-01, -1.2537e-01],\n",
       "                      [ 7.5167e-02,  7.6849e-02, -6.6863e-03, -1.1430e-01, -1.2461e-01,\n",
       "                        4.4448e-02, -1.2019e-01,  7.3072e-02,  1.6389e-01,  8.1403e-02,\n",
       "                        4.4546e-02, -8.2403e-03, -1.1979e-01, -1.0821e-01,  7.8261e-02,\n",
       "                        9.9571e-03, -2.5639e-02,  6.0557e-02, -9.7051e-03,  1.3158e-01,\n",
       "                        1.1359e-01, -1.3188e-02, -6.1014e-02,  3.9401e-02,  1.0971e-01,\n",
       "                        4.4935e-02, -1.7118e-01, -7.3167e-02, -4.7676e-02, -2.6007e-02,\n",
       "                       -5.6779e-02, -6.5023e-04,  8.9223e-02,  1.7323e-01,  3.9665e-02,\n",
       "                       -8.6163e-03,  3.3154e-02, -4.3824e-02, -1.5787e-01,  6.7451e-02,\n",
       "                        4.6751e-02,  3.3771e-02, -6.2943e-02, -7.6716e-02,  4.7840e-02,\n",
       "                        7.3720e-02,  1.8164e-01,  8.9597e-02,  1.5397e-01, -1.5021e-03,\n",
       "                        1.3243e-01,  3.1876e-02, -6.5425e-02, -7.1933e-02,  3.1478e-02,\n",
       "                        7.1052e-02, -6.8111e-02, -3.2304e-02,  3.8164e-02, -8.4122e-02,\n",
       "                        5.0533e-03,  1.6523e-01, -1.1169e-02, -6.4126e-02, -2.6348e-02,\n",
       "                       -7.4981e-02, -1.3369e-01, -1.1358e-01,  1.6223e-02, -8.4963e-02,\n",
       "                        7.3432e-02,  7.1268e-02,  1.0479e-01, -9.4867e-02, -6.7387e-02,\n",
       "                       -5.6114e-02,  1.5416e-01,  1.1881e-01,  3.3941e-02,  1.1990e-01,\n",
       "                        7.4331e-02,  6.3649e-02,  6.0474e-02,  1.4252e-02],\n",
       "                      [ 1.5100e-01, -1.3570e-01, -9.7679e-02, -1.5452e-03, -1.2660e-01,\n",
       "                        4.9553e-02,  1.9125e-02,  7.7910e-02,  7.1318e-02, -5.8991e-02,\n",
       "                       -6.9417e-02,  9.9727e-03, -3.1354e-02,  7.4415e-02, -6.3142e-02,\n",
       "                        7.2230e-02,  7.6595e-02, -1.9013e-02, -4.7181e-02,  3.0454e-02,\n",
       "                        5.3420e-02, -9.2980e-02, -1.3804e-01, -9.0862e-02, -1.7632e-01,\n",
       "                       -1.5077e-01,  1.1415e-01, -4.2718e-02, -8.7117e-02,  4.3139e-02,\n",
       "                        9.1863e-02, -2.0984e-02, -4.7819e-02,  1.2489e-01, -2.2921e-02,\n",
       "                       -1.6345e-03,  4.4970e-03, -2.2418e-01,  1.6072e-01, -6.5489e-02,\n",
       "                        3.6656e-02,  1.0044e-01,  8.6768e-02,  1.4159e-01,  2.6943e-02,\n",
       "                        5.9288e-02, -1.1672e-01, -5.5360e-02,  7.5030e-02, -1.4840e-01,\n",
       "                       -1.1495e-01, -2.9379e-02, -1.6094e-02, -1.4788e-02,  1.1848e-01,\n",
       "                       -1.0433e-01, -3.3521e-03, -1.4331e-01, -4.5149e-02, -8.7272e-02,\n",
       "                       -4.6145e-02,  9.3224e-02,  4.6398e-02,  1.2251e-01, -8.0466e-02,\n",
       "                        9.4361e-02,  2.0519e-01,  1.5151e-01, -3.7001e-02,  9.5269e-02,\n",
       "                       -3.3121e-02,  9.7490e-03,  1.0228e-01,  9.1124e-02,  1.0699e-01,\n",
       "                        8.0231e-02,  5.2902e-02, -1.4259e-01, -5.2299e-02, -1.5318e-01,\n",
       "                       -7.2352e-02,  5.7088e-02, -8.8630e-02, -1.0351e-01],\n",
       "                      [ 5.5940e-02,  8.2592e-02, -5.3095e-02,  2.5512e-02, -2.2236e-01,\n",
       "                        7.7122e-02, -1.3116e-01,  8.8149e-02, -1.7396e-01,  4.1825e-02,\n",
       "                        1.9012e-01,  8.4897e-02, -1.7784e-01, -8.5033e-02, -1.5330e-02,\n",
       "                       -1.6348e-02,  1.5016e-01, -2.1428e-01,  3.8990e-02,  1.6917e-01,\n",
       "                       -1.5998e-01,  8.0751e-02, -7.5093e-03, -9.8284e-02,  7.0688e-02,\n",
       "                        3.5818e-02, -3.4537e-02, -8.9807e-02,  6.7584e-02,  6.8857e-03,\n",
       "                       -5.9470e-02, -1.1256e-01, -3.7895e-02,  5.3962e-02, -1.8922e-02,\n",
       "                        1.3285e-02, -8.2336e-02, -9.7660e-02,  5.3272e-02, -1.5834e-01,\n",
       "                        1.1696e-01,  4.6319e-02,  3.4623e-02, -5.2806e-02,  6.2031e-02,\n",
       "                        1.0652e-02,  1.6125e-01, -1.3986e-01,  4.1058e-02,  7.5111e-02,\n",
       "                        8.6628e-02, -4.8085e-03,  4.3293e-02,  9.0130e-02, -1.0064e-02,\n",
       "                        6.2880e-02,  9.0679e-02,  1.2574e-01,  7.2699e-02,  1.4840e-02,\n",
       "                        2.4836e-02, -2.0584e-02,  7.4493e-02, -2.6692e-01, -3.1878e-02,\n",
       "                        1.7403e-01, -1.7288e-01, -6.3553e-02, -1.3539e-01, -4.1696e-02,\n",
       "                        3.2252e-02, -8.7153e-02,  1.6179e-01, -1.7050e-02,  1.9109e-01,\n",
       "                       -1.4178e-01, -4.0879e-03,  4.5432e-02,  6.9927e-02,  1.6986e-01,\n",
       "                        1.1174e-01,  1.0361e-01,  1.1341e-01, -2.6299e-02],\n",
       "                      [-6.1081e-03, -6.2766e-02,  5.8276e-02, -7.5664e-02,  2.5600e-01,\n",
       "                        2.8123e-02,  1.5167e-01,  7.3769e-02, -1.1686e-01,  6.2310e-02,\n",
       "                       -1.8314e-01, -6.5505e-02,  1.2476e-01, -1.6058e-02, -2.8605e-02,\n",
       "                       -7.6695e-02, -1.5530e-01, -7.2541e-02, -1.0969e-01, -8.6656e-02,\n",
       "                        1.0436e-01, -1.0909e-01,  7.3723e-02,  1.4968e-02,  7.3547e-02,\n",
       "                       -1.6411e-01, -6.4594e-02,  6.4410e-02, -9.5640e-02,  9.2143e-02,\n",
       "                       -1.4695e-01,  2.8482e-01, -1.0308e-01, -8.3260e-02, -7.8644e-02,\n",
       "                        7.3440e-02,  1.2213e-01, -1.5056e-01, -1.5678e-01, -6.9021e-02,\n",
       "                       -1.2159e-02, -6.8262e-02, -3.0811e-02,  4.0585e-03, -8.4631e-02,\n",
       "                       -1.2370e-01,  7.7057e-02,  7.7495e-02, -1.0044e-02, -1.5450e-01,\n",
       "                        1.0813e-02, -3.0205e-02,  5.5266e-03, -6.3938e-03, -2.7372e-02,\n",
       "                       -4.5263e-02, -1.4816e-02, -1.8462e-01,  1.7963e-02, -6.9662e-02,\n",
       "                       -3.1805e-02,  2.0264e-01, -9.0352e-02,  1.4249e-01,  2.2943e-03,\n",
       "                       -1.0231e-02,  5.7787e-02, -5.3781e-02, -7.0449e-02,  4.0827e-02,\n",
       "                       -4.4447e-02,  5.3442e-02,  1.9061e-01, -9.3378e-03,  1.6204e-01,\n",
       "                        4.8911e-02,  7.1065e-03, -2.0048e-02,  6.5712e-02, -1.1312e-01,\n",
       "                       -4.3328e-02,  1.5347e-01,  9.4435e-02, -1.3073e-01],\n",
       "                      [-6.4118e-02,  7.3717e-02,  5.7930e-02,  6.9412e-02, -1.5644e-01,\n",
       "                       -1.6841e-02, -3.8405e-02, -3.8266e-02,  1.2406e-01, -3.0205e-02,\n",
       "                       -4.5520e-02,  1.0525e-01, -1.7222e-01,  9.5164e-02, -8.8752e-02,\n",
       "                       -4.4621e-02,  9.2210e-02,  7.8303e-02,  6.6479e-02, -1.3045e-01,\n",
       "                        1.1811e-01,  3.4672e-02, -5.5453e-02,  1.2520e-01,  7.2895e-02,\n",
       "                        1.2465e-01, -1.2473e-01,  8.1471e-03,  8.8564e-02, -5.2144e-02,\n",
       "                        5.8007e-02, -7.1089e-02,  1.6918e-01, -1.3093e-01,  5.5969e-02,\n",
       "                       -4.5093e-02,  7.5344e-02,  2.3360e-01,  6.6475e-02,  1.8490e-01,\n",
       "                        1.9160e-02, -2.8421e-03, -2.1770e-02, -6.6204e-02, -3.4079e-02,\n",
       "                       -7.4855e-02,  7.8033e-02, -7.4957e-02, -1.6924e-01,  6.9585e-02,\n",
       "                        8.3659e-02,  2.9968e-02, -9.9923e-02, -2.0520e-02, -5.5108e-03,\n",
       "                        1.0010e-01, -4.5937e-02, -2.0321e-02, -1.5253e-01, -3.2765e-02,\n",
       "                       -1.1683e-01, -1.2937e-01, -4.1252e-02, -8.3642e-02,  5.3613e-03,\n",
       "                        1.1714e-01,  8.6262e-02, -3.0778e-02, -4.6774e-03, -3.2619e-02,\n",
       "                       -7.7188e-03, -1.2454e-01, -1.2619e-01,  9.0539e-02, -2.4352e-01,\n",
       "                        3.1980e-02,  5.6680e-02,  1.9026e-01, -1.3636e-01, -3.2053e-02,\n",
       "                       -9.3191e-02, -1.8953e-01,  7.1673e-02,  1.6988e-01],\n",
       "                      [ 1.7957e-02, -1.4862e-01, -7.9081e-02, -5.2813e-02,  2.6106e-01,\n",
       "                        6.3623e-02,  1.4061e-01,  7.3966e-02, -1.7696e-01,  2.9960e-02,\n",
       "                       -4.6650e-02, -9.9340e-02,  7.3521e-03,  6.8891e-02,  2.6441e-02,\n",
       "                        5.2982e-02,  9.7627e-02,  2.6544e-02,  1.8120e-01, -1.1368e-01,\n",
       "                       -2.3372e-02, -1.2501e-01, -8.1470e-02,  1.1593e-02,  1.8330e-01,\n",
       "                       -3.4603e-02,  1.1160e-01,  1.0692e-01,  2.0371e-02,  4.3033e-02,\n",
       "                        6.1878e-02, -7.4915e-02,  8.9329e-02, -2.4057e-01,  1.5757e-01,\n",
       "                       -3.9142e-02, -1.9130e-01, -3.8278e-02,  2.9503e-02,  9.4819e-02,\n",
       "                       -8.4364e-02, -8.7446e-03, -9.4839e-02,  5.0798e-02, -1.0494e-01,\n",
       "                       -7.6639e-02, -4.3889e-02,  1.3604e-02,  7.2020e-02,  2.7203e-02,\n",
       "                       -7.1976e-02,  1.0450e-01,  2.9194e-02,  1.0460e-01, -1.5006e-02,\n",
       "                       -9.2214e-02, -3.3053e-02,  3.1162e-03, -1.3880e-01, -8.0342e-02,\n",
       "                       -1.1689e-01, -1.1883e-01, -3.4929e-02, -7.9350e-02, -9.8666e-02,\n",
       "                        1.6197e-01, -1.0458e-01,  7.8939e-02, -2.2225e-02,  2.9378e-03,\n",
       "                       -1.7985e-03, -1.3855e-01,  1.6101e-03,  1.0977e-01, -5.0011e-03,\n",
       "                        1.9881e-01,  7.1241e-02,  3.8533e-03, -4.2993e-02,  1.9125e-02,\n",
       "                       -1.0336e-01, -1.7990e-01,  1.3499e-01, -7.9427e-02]])),\n",
       "             ('fc3.bias',\n",
       "              tensor([ 0.0536, -0.2481,  0.0523,  0.0228,  0.1828,  0.0139,  0.0073, -0.0415,\n",
       "                       0.1798, -0.2256]))])"
      ]
     },
     "execution_count": 59,
     "metadata": {},
     "output_type": "execute_result"
    }
   ],
   "source": [
    "model.state_dict()"
   ]
  },
  {
   "cell_type": "markdown",
   "id": "c61ba1ea",
   "metadata": {},
   "source": [
    "$\\Large\\text{Transfer learning}$"
   ]
  },
  {
   "cell_type": "code",
   "execution_count": 24,
   "id": "b6fcc242",
   "metadata": {},
   "outputs": [],
   "source": [
    "from torch.optim import lr_scheduler\n",
    "from torchvision import datasets, models, transforms\n",
    "import os\n",
    "import copy"
   ]
  },
  {
   "cell_type": "code",
   "execution_count": 20,
   "id": "d177ab63",
   "metadata": {},
   "outputs": [],
   "source": [
    "mean = np.array([0.485, 0.456, 0.406])\n",
    "std = np.array([0.229, 0.224, 0.225])"
   ]
  },
  {
   "cell_type": "code",
   "execution_count": 29,
   "id": "6cd08f2e",
   "metadata": {},
   "outputs": [],
   "source": [
    "data_transforms = {\n",
    "    'train': transforms.Compose([\n",
    "        transforms.RandomResizedCrop(224),\n",
    "        transforms.RandomHorizontalFlip(),\n",
    "        transforms.ToTensor(),\n",
    "        transforms.Normalize(mean, std)\n",
    "    ]),\n",
    "    'val': transforms.Compose([\n",
    "        transforms.Resize(256),\n",
    "        transforms.CenterCrop(224),\n",
    "        transforms.ToTensor(),\n",
    "        transforms.Normalize(mean,std)\n",
    "    ])\n",
    "}"
   ]
  },
  {
   "cell_type": "code",
   "execution_count": 30,
   "id": "7f86c4dd",
   "metadata": {},
   "outputs": [],
   "source": [
    "data_dir = './hymenoptera_data'\n",
    "sets = ['train', 'val']"
   ]
  },
  {
   "cell_type": "code",
   "execution_count": 32,
   "id": "8cf57e0e",
   "metadata": {},
   "outputs": [],
   "source": [
    "image_datasets = {x: datasets.ImageFolder(os.path.join(data_dir,x),\n",
    "                                        data_transform) for x in sets}"
   ]
  },
  {
   "cell_type": "code",
   "execution_count": 33,
   "id": "3a765e11",
   "metadata": {},
   "outputs": [],
   "source": [
    "dataloaders = {\n",
    "    x: torch.utils.data.DataLoader(image_datasets[x], batch_size = 4,\n",
    "                                  shuffle = True, num_workers = 0)\n",
    "    for x in sets\n",
    "}"
   ]
  },
  {
   "cell_type": "code",
   "execution_count": 34,
   "id": "dbb42caf",
   "metadata": {},
   "outputs": [],
   "source": [
    "dataset_sizes = {\n",
    "    x: len(image_datasets[x]) for x in sets\n",
    "}"
   ]
  },
  {
   "cell_type": "code",
   "execution_count": 40,
   "id": "9ee544ee",
   "metadata": {},
   "outputs": [],
   "source": [
    "class_names = image_datasets['train'].classes"
   ]
  },
  {
   "cell_type": "code",
   "execution_count": 41,
   "id": "fa11cb20",
   "metadata": {},
   "outputs": [
    {
     "data": {
      "text/plain": [
       "['ants', 'bees']"
      ]
     },
     "execution_count": 41,
     "metadata": {},
     "output_type": "execute_result"
    }
   ],
   "source": [
    "class_names"
   ]
  },
  {
   "cell_type": "code",
   "execution_count": 51,
   "id": "aaa175bd",
   "metadata": {},
   "outputs": [],
   "source": [
    "def imshow(inp, title):\n",
    "    \"\"\"Imshow for Tensor.\"\"\"\n",
    "    inp = inp.numpy().transpose((1, 2, 0))\n",
    "    inp = std * inp + mean\n",
    "    inp = np.clip(inp, 0, 1)\n",
    "    plt.imshow(inp)\n",
    "    plt.title(title)\n",
    "    plt.show()\n"
   ]
  },
  {
   "cell_type": "code",
   "execution_count": 52,
   "id": "ad3adfc5",
   "metadata": {},
   "outputs": [
    {
     "data": {
      "text/plain": [
       "<torch.utils.data.dataloader.DataLoader at 0x1ce37c537c0>"
      ]
     },
     "execution_count": 52,
     "metadata": {},
     "output_type": "execute_result"
    }
   ],
   "source": [
    "dataloaders['train']"
   ]
  },
  {
   "cell_type": "code",
   "execution_count": 48,
   "id": "10a66960",
   "metadata": {},
   "outputs": [],
   "source": [
    "datatrainiter = iter(dataloaders['train'])"
   ]
  },
  {
   "cell_type": "code",
   "execution_count": 50,
   "id": "718dc022",
   "metadata": {},
   "outputs": [
    {
     "data": {
      "text/plain": [
       "<torch.utils.data.dataloader._SingleProcessDataLoaderIter at 0x1ce3790cb20>"
      ]
     },
     "execution_count": 50,
     "metadata": {},
     "output_type": "execute_result"
    }
   ],
   "source": [
    "datatrainiter"
   ]
  },
  {
   "cell_type": "code",
   "execution_count": null,
   "id": "5df23acd",
   "metadata": {},
   "outputs": [],
   "source": []
  },
  {
   "cell_type": "code",
   "execution_count": 53,
   "id": "08113bed",
   "metadata": {},
   "outputs": [],
   "source": [
    "def train_model(model, criterion, optimizer, scheduler, num_epochs=25):\n",
    "    since = time.time()\n",
    "\n",
    "    best_model_wts = copy.deepcopy(model.state_dict())\n",
    "    best_acc = 0.0\n",
    "\n",
    "    for epoch in range(num_epochs):\n",
    "        print('Epoch {}/{}'.format(epoch, num_epochs - 1))\n",
    "        print('-' * 10)\n",
    "\n",
    "        # Each epoch has a training and validation phase\n",
    "        for phase in ['train', 'val']:\n",
    "            if phase == 'train':\n",
    "                model.train()  # Set model to training mode\n",
    "            else:\n",
    "                model.eval()   # Set model to evaluate mode\n",
    "\n",
    "            running_loss = 0.0\n",
    "            running_corrects = 0\n",
    "\n",
    "            # Iterate over data.\n",
    "            for inputs, labels in dataloaders[phase]:\n",
    "                inputs = inputs.to(device)\n",
    "                labels = labels.to(device)\n",
    "\n",
    "                # forward\n",
    "                # track history if only in train\n",
    "                with torch.set_grad_enabled(phase == 'train'):\n",
    "                    outputs = model(inputs)\n",
    "                    _, preds = torch.max(outputs, 1)\n",
    "                    loss = criterion(outputs, labels)\n",
    "\n",
    "                    # backward + optimize only if in training phase\n",
    "                    if phase == 'train':\n",
    "                        optimizer.zero_grad()\n",
    "                        loss.backward()\n",
    "                        optimizer.step()\n",
    "\n",
    "                # statistics\n",
    "                running_loss += loss.item() * inputs.size(0)\n",
    "                running_corrects += torch.sum(preds == labels.data)\n",
    "\n",
    "            if phase == 'train':\n",
    "                scheduler.step()\n",
    "\n",
    "            epoch_loss = running_loss / dataset_sizes[phase]\n",
    "            epoch_acc = running_corrects.double() / dataset_sizes[phase]\n",
    "\n",
    "            print('{} Loss: {:.4f} Acc: {:.4f}'.format(\n",
    "                phase, epoch_loss, epoch_acc))\n",
    "\n",
    "            # deep copy the model\n",
    "            if phase == 'val' and epoch_acc > best_acc:\n",
    "                best_acc = epoch_acc\n",
    "                best_model_wts = copy.deepcopy(model.state_dict())\n",
    "\n",
    "        print()\n",
    "\n",
    "    time_elapsed = time.time() - since\n",
    "    print('Training complete in {:.0f}m {:.0f}s'.format(\n",
    "        time_elapsed // 60, time_elapsed % 60))\n",
    "    print('Best val Acc: {:4f}'.format(best_acc))\n",
    "\n",
    "    # load best model weights\n",
    "    model.load_state_dict(best_model_wts)\n",
    "    return model"
   ]
  },
  {
   "cell_type": "code",
   "execution_count": null,
   "id": "9915ea5d",
   "metadata": {},
   "outputs": [],
   "source": []
  }
 ],
 "metadata": {
  "kernelspec": {
   "display_name": "Python 3 (ipykernel)",
   "language": "python",
   "name": "python3"
  },
  "language_info": {
   "codemirror_mode": {
    "name": "ipython",
    "version": 3
   },
   "file_extension": ".py",
   "mimetype": "text/x-python",
   "name": "python",
   "nbconvert_exporter": "python",
   "pygments_lexer": "ipython3",
   "version": "3.10.8"
  },
  "toc": {
   "base_numbering": 1,
   "nav_menu": {},
   "number_sections": true,
   "sideBar": true,
   "skip_h1_title": false,
   "title_cell": "Table of Contents",
   "title_sidebar": "Contents",
   "toc_cell": false,
   "toc_position": {},
   "toc_section_display": true,
   "toc_window_display": false
  }
 },
 "nbformat": 4,
 "nbformat_minor": 5
}
