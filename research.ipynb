{
 "cells": [
  {
   "cell_type": "code",
   "execution_count": null,
   "metadata": {
    "id": "yUhMBvHevzu2"
   },
   "outputs": [],
   "source": [
    "from zipfile import ZipFile\n",
    "import time \n",
    "import os\n",
    "from google.colab import drive\n",
    "from PIL import Image"
   ]
  },
  {
   "cell_type": "code",
   "execution_count": null,
   "metadata": {
    "id": "rzCuvR7FQt-a"
   },
   "outputs": [],
   "source": [
    "import os\n",
    "import glob\n",
    "import torch\n",
    "import numpy as np\n",
    "import matplotlib.pyplot as plt\n",
    "import torch.nn as nn\n",
    "from torchvision.transforms import transforms\n",
    "from torch.utils.data import DataLoader, Dataset\n",
    "from torch.optim import Adam\n",
    "from torch.autograd import Variable\n",
    "import torchvision \n",
    "import pathlib\n",
    "from pathlib import Path\n",
    "import torch.nn.functional as F\n",
    "import random\n",
    "from torchvision.transforms import functional as TF"
   ]
  },
  {
   "cell_type": "code",
   "execution_count": null,
   "metadata": {
    "colab": {
     "base_uri": "https://localhost:8080/"
    },
    "id": "SWl4SRT9Cx8z",
    "outputId": "61cef478-569a-4b27-c440-266832c14a61"
   },
   "outputs": [
    {
     "name": "stdout",
     "output_type": "stream",
     "text": [
      "Looking in indexes: https://pypi.org/simple, https://us-python.pkg.dev/colab-wheels/public/simple/\n",
      "Collecting torchmetrics\n",
      "  Downloading torchmetrics-0.11.1-py3-none-any.whl (517 kB)\n",
      "\u001b[2K     \u001b[90m━━━━━━━━━━━━━━━━━━━━━━━━━━━━━━━━━━━━━━\u001b[0m \u001b[32m517.2/517.2 KB\u001b[0m \u001b[31m33.1 MB/s\u001b[0m eta \u001b[36m0:00:00\u001b[0m\n",
      "\u001b[?25hRequirement already satisfied: numpy>=1.17.2 in /usr/local/lib/python3.8/dist-packages (from torchmetrics) (1.21.6)\n",
      "Requirement already satisfied: packaging in /usr/local/lib/python3.8/dist-packages (from torchmetrics) (23.0)\n",
      "Requirement already satisfied: typing-extensions in /usr/local/lib/python3.8/dist-packages (from torchmetrics) (4.4.0)\n",
      "Requirement already satisfied: torch>=1.8.1 in /usr/local/lib/python3.8/dist-packages (from torchmetrics) (1.13.1+cu116)\n",
      "Installing collected packages: torchmetrics\n",
      "Successfully installed torchmetrics-0.11.1\n"
     ]
    }
   ],
   "source": [
    "!pip install torchmetrics"
   ]
  },
  {
   "cell_type": "code",
   "execution_count": null,
   "metadata": {
    "id": "4kNuybHgC5vo"
   },
   "outputs": [],
   "source": [
    "from torchmetrics import JaccardIndex"
   ]
  },
  {
   "cell_type": "code",
   "execution_count": null,
   "metadata": {
    "colab": {
     "base_uri": "https://localhost:8080/"
    },
    "id": "PS6jiagiv3VC",
    "outputId": "fe8cc9a5-aacf-4b9b-fec6-5bf4558ec810"
   },
   "outputs": [
    {
     "name": "stdout",
     "output_type": "stream",
     "text": [
      "Mounted at /content/drive\n"
     ]
    }
   ],
   "source": [
    "drive.mount('/content/drive')"
   ]
  },
  {
   "cell_type": "code",
   "execution_count": null,
   "metadata": {
    "id": "F57taM7NwISz"
   },
   "outputs": [],
   "source": [
    "!ls /content/drive/MyDrive/"
   ]
  },
  {
   "cell_type": "code",
   "execution_count": null,
   "metadata": {
    "id": "mjEgpnQmEwRd"
   },
   "outputs": [],
   "source": [
    "!unzip /content/drive/MyDrive/TOP4040.zip"
   ]
  },
  {
   "cell_type": "code",
   "execution_count": null,
   "metadata": {
    "id": "8-DJwbbiwW-K"
   },
   "outputs": [],
   "source": [
    "zip_file = '/content/drive/MyDrive/TOP4040.zip'"
   ]
  },
  {
   "cell_type": "code",
   "execution_count": null,
   "metadata": {
    "colab": {
     "base_uri": "https://localhost:8080/"
    },
    "id": "9BNZ-TyR-eZb",
    "outputId": "8734a73d-0193-4e4a-a4ef-6c76f3a94fbe"
   },
   "outputs": [
    {
     "data": {
      "text/plain": [
       "9983"
      ]
     },
     "execution_count": 9,
     "metadata": {},
     "output_type": "execute_result"
    }
   ],
   "source": [
    "len(os.listdir('TOP4040/'))"
   ]
  },
  {
   "cell_type": "code",
   "execution_count": null,
   "metadata": {
    "id": "5sPzPRYpQ9y0"
   },
   "outputs": [],
   "source": [
    "path = 'TOP4040/'"
   ]
  },
  {
   "cell_type": "code",
   "execution_count": null,
   "metadata": {
    "id": "aP-z5mItsMgd"
   },
   "outputs": [],
   "source": [
    "class ToPIL:\n",
    "    def __init__(self):\n",
    "        self.for_image = transforms.ToPILImage(mode = 'LA')\n",
    "        self.for_target = transforms.ToPILImage(mode = 'L')\n",
    "    def __call__(self,sample):\n",
    "        image, target = sample\n",
    "        return self.for_image(image), self.for_target(target)\n",
    "    \n",
    "class FromPILToTensor:\n",
    "    \n",
    "    def __call__(self, sample):\n",
    "        \n",
    "        image, target = sample\n",
    "        \n",
    "        return TF.pil_to_tensor(image)/255 , TF.pil_to_tensor(target)/255\n",
    "    \n",
    "class RandomHorizontalFlip:\n",
    "    def __init__(self, prob):\n",
    "        self.prob = prob\n",
    "    \n",
    "    def __call__(self, sample):\n",
    "        image, target = sample\n",
    "        \n",
    "        if random.random() < self.prob:\n",
    "            \n",
    "            image = TF.hflip(image)\n",
    "            target = TF.hflip(target)\n",
    "        return image, target\n",
    "    \n",
    "class Compose:\n",
    "    def __init__(self, transform):\n",
    "        self.transform = transform\n",
    "        \n",
    "    def __call__(self,sample):\n",
    "        image, target = sample\n",
    "        \n",
    "        for t in self.transform:\n",
    "            sample = t(sample)\n",
    "        return sample\n",
    "class ToTensor:\n",
    "    def __call__(self, sample):\n",
    "        \n",
    "        image, target = sample\n",
    "        \n",
    "        return torch.from_numpy(image.astype(np.float32)), torch.from_numpy(target.astype(np.float32))"
   ]
  },
  {
   "cell_type": "code",
   "execution_count": null,
   "metadata": {
    "id": "TIz5vYKpQa-_"
   },
   "outputs": [],
   "source": [
    "class NPZLoader(Dataset):\n",
    "    def __init__(self, path, transform=None, cur_iter = 7, target = -1):\n",
    "        self.path = path\n",
    "        self.files = list(Path(path).glob('**/*.npz'))\n",
    "        self.transform = transform\n",
    "        self.cur_iter = cur_iter\n",
    "        self.target = target\n",
    "\n",
    "    def __len__(self):\n",
    "        return len(self.files)\n",
    "\n",
    "    def __getitem__(self, item):\n",
    "        numpy_array = np.load(self.files[item])['arr_0']\n",
    "        target = (numpy_array[self.target] > 0.5).astype(np.float32)\n",
    "        r,c = numpy_array[0].shape\n",
    "        n_1_iter = numpy_array[self.cur_iter]\n",
    "        n_iter = numpy_array[self.cur_iter-1]\n",
    "        gradient = (n_1_iter - n_iter).reshape(1,r,c)\n",
    "        sample = np.concatenate((n_1_iter.reshape(1,r,c),gradient)), target.reshape(1,40,40)\n",
    "        \n",
    "        \n",
    "        if self.transform:\n",
    "            sample = self.transform(sample)\n",
    "        return sample"
   ]
  },
  {
   "cell_type": "code",
   "execution_count": null,
   "metadata": {
    "id": "6AoHX3NJQz0j"
   },
   "outputs": [],
   "source": [
    "import torch\n",
    "import torch.nn as nn\n",
    "import torchvision.transforms.functional as TF\n",
    "\n",
    "''' inplace=True means that \n",
    "                it will modify the input \n",
    "                directly, without allocating any\n",
    "                additional output. It can sometimes slightly decrease the memory usage\n",
    "'''\n",
    "class DoubleConv(nn.Module):\n",
    "    def __init__(self, in_channels, out_channels):\n",
    "        super().__init__()\n",
    "        self.conv = nn.Sequential(\n",
    "            nn.Conv2d(in_channels, out_channels,kernel_size=3,stride = 1,padding = 1, bias =False), # bias false cause we use batch norm\n",
    "            nn.BatchNorm2d(out_channels),\n",
    "            nn.ReLU(inplace=True),\n",
    "            nn.Conv2d(out_channels, out_channels,kernel_size=3,stride = 1,padding = 1, bias =False), # bias false cause we use batch norm\n",
    "            nn.BatchNorm2d(out_channels),\n",
    "            nn.ReLU(inplace=True)\n",
    "        )\n",
    "\n",
    "    def forward(self,x):\n",
    "        return self.conv(x)\n",
    "\n",
    "\n",
    "\n",
    "class UNET(nn.Module):\n",
    "    def __init__(\n",
    "        self, in_channels = 3, out_channels = 1, features = [64,128,256,512] # features - the channels\n",
    "    ):\n",
    "        super().__init__()\n",
    "        self.ups = nn.ModuleList()\n",
    "        self.downs = nn.ModuleList()\n",
    "        self.pool = nn.MaxPool2d(kernel_size=2, stride=2)\n",
    "        self.drop = nn.Dropout()\n",
    "\n",
    "        #Down part of UNET\n",
    "\n",
    "        for feature in features:\n",
    "            self.downs.append(DoubleConv(in_channels, feature))\n",
    "            in_channels = feature\n",
    "\n",
    "        # up part of UNET\n",
    "\n",
    "        for feature in reversed(features):\n",
    "            self.ups.append(\n",
    "                nn.ConvTranspose2d(feature *2, feature, kernel_size=2, stride = 2)\n",
    "            )\n",
    "\n",
    "            self.ups.append(DoubleConv(feature*2, feature))\n",
    "\n",
    "        self.bottleneck = DoubleConv(features[-1], features[-1]*2)\n",
    "        self.sig = nn.Sigmoid()\n",
    "        self.final_conv = nn.Conv2d(features[0], out_channels, kernel_size=1)\n",
    "\n",
    "           \n",
    "    def forward(self,x):\n",
    "        skip_connections = []\n",
    "\n",
    "        for down in self.downs:\n",
    "            x = down(x)\n",
    "            skip_connections.append(x)\n",
    "            x = self.pool(x)\n",
    "        \n",
    "        x = self.drop(self.bottleneck(x))\n",
    "        skip_connections = skip_connections[::-1]\n",
    "\n",
    "        for idx in range(0, len(self.ups), 2):\n",
    "            x = self.ups[idx](x) # ConvTranspose2d\n",
    "            skip_connection = skip_connections[idx//2]\n",
    "\n",
    "            if x.shape != skip_connection.shape:\n",
    "                x = TF.resize(x, size = skip_connection.shape[2:])\n",
    "\n",
    "            concat_skip = torch.cat((skip_connection,x), dim = 1) # concatenate and the double conv\n",
    "            x = self.ups[idx+1](concat_skip)\n",
    "\n",
    "        return self.sig(self.final_conv(x))\n"
   ]
  },
  {
   "cell_type": "code",
   "execution_count": null,
   "metadata": {
    "id": "vuTAaxm-RFRO"
   },
   "outputs": [],
   "source": [
    "check = NPZLoader(path,cur_iter = 50, transform = ToTensor(), target = -1)"
   ]
  },
  {
   "cell_type": "code",
   "execution_count": null,
   "metadata": {
    "colab": {
     "base_uri": "https://localhost:8080/",
     "height": 311
    },
    "id": "Z3iBV8UcRMB7",
    "outputId": "02b3f63b-925e-4fb1-b735-4b4218df4f31"
   },
   "outputs": [
    {
     "data": {
      "text/plain": [
       "<matplotlib.image.AxesImage at 0x7fc61074cca0>"
      ]
     },
     "execution_count": 36,
     "metadata": {},
     "output_type": "execute_result"
    },
    {
     "data": {
      "image/png": "[encoded data removed]",
      "text/plain": [
       "<Figure size 1008x792 with 3 Axes>"
      ]
     },
     "metadata": {
      "needs_background": "light"
     },
     "output_type": "display_data"
    }
   ],
   "source": [
    "num = 55\n",
    "plt.figure(figsize = (14,11))\n",
    "plt.subplot(1,3,1)\n",
    "plt.title(f'Target')\n",
    "plt.imshow(TF.hflip(check[num][1][0]), cmap= 'binary')\n",
    "\n",
    "plt.subplot(1,3,2)\n",
    "plt.title(f'n_iters = {check.cur_iter}')\n",
    "plt.imshow(TF.vflip(check[num][0][0]), cmap= 'binary')\n",
    "\n",
    "plt.subplot(1,3,3)\n",
    "plt.title(f'gradient')\n",
    "plt.imshow(check[num][0][1], cmap= 'binary')"
   ]
  },
  {
   "cell_type": "code",
   "execution_count": null,
   "metadata": {
    "id": "JObw_zRqi0W9"
   },
   "outputs": [],
   "source": [
    "train_set = []\n",
    "test_set = []"
   ]
  },
  {
   "cell_type": "code",
   "execution_count": null,
   "metadata": {
    "id": "-x6kKqCgipCf"
   },
   "outputs": [],
   "source": [
    "for i in range(int(0.8*len(check))):\n",
    "  try:\n",
    "    train_set.append(check[i])\n",
    "  except:\n",
    "    continue"
   ]
  },
  {
   "cell_type": "code",
   "execution_count": null,
   "metadata": {
    "id": "uN62HwwRj3cZ"
   },
   "outputs": [],
   "source": [
    "for i in range(int(0.8*len(check)), len(check)):\n",
    "  try:\n",
    "    test_set.append(check[i])\n",
    "  except:\n",
    "    continue"
   ]
  },
  {
   "cell_type": "code",
   "execution_count": null,
   "metadata": {
    "colab": {
     "base_uri": "https://localhost:8080/"
    },
    "id": "WB-Bl4FmR_QU",
    "outputId": "8393d858-217d-4ee1-88a6-9062f2059d2b"
   },
   "outputs": [
    {
     "name": "stdout",
     "output_type": "stream",
     "text": [
      "7985\n",
      "1996\n",
      "9981\n"
     ]
    }
   ],
   "source": [
    "print(len(train_set))\n",
    "print(len(test_set))\n",
    "print(len(train_set) + len(test_set))"
   ]
  },
  {
   "cell_type": "code",
   "execution_count": null,
   "metadata": {
    "id": "b-CvxDEPowEb"
   },
   "outputs": [],
   "source": [
    "for i in range(len(train_set)):\n",
    "    if random.random() > 0.2:\n",
    "        train_set.append((\n",
    "            torch.from_numpy(np.concatenate(\n",
    "                (train_set[i][0][0].T.view(1,40,40), train_set[i][0][1].T.view(1,40,40))\n",
    "            )), train_set[i][1].view(40,40).T.view(1,40,40)\n",
    "        )\n",
    "        )"
   ]
  },
  {
   "cell_type": "code",
   "execution_count": null,
   "metadata": {
    "id": "2pSHiLPwicU9"
   },
   "outputs": [],
   "source": [
    "train_loader = DataLoader(dataset=train_set, batch_size=100, shuffle = True)\n",
    "test_loader = DataLoader(dataset=test_set, batch_size=100, shuffle = True)"
   ]
  },
  {
   "cell_type": "code",
   "execution_count": null,
   "metadata": {
    "id": "UefgF8TGnfUr"
   },
   "outputs": [],
   "source": [
    "features = [128,256,512]"
   ]
  },
  {
   "cell_type": "code",
   "execution_count": null,
   "metadata": {
    "id": "78Rudwi9Yo7p"
   },
   "outputs": [],
   "source": [
    "device = 'cuda' if torch.cuda.is_available() else 'cpu'"
   ]
  },
  {
   "cell_type": "code",
   "execution_count": null,
   "metadata": {
    "id": "aRseGmROniNx"
   },
   "outputs": [],
   "source": [
    "model = UNET(in_channels = 2, out_channels=1, features=features).to(device)"
   ]
  },
  {
   "cell_type": "code",
   "execution_count": null,
   "metadata": {
    "colab": {
     "base_uri": "https://localhost:8080/",
     "height": 1000
    },
    "id": "D6GeImP7kxYW",
    "outputId": "958c9403-094e-49ca-8bfe-1013abe9520e"
   },
   "outputs": [
    {
     "name": "stdout",
     "output_type": "stream",
     "text": [
      "Adjusting learning rate of group 0 to 1.0000e-04.\n",
      "epoch 1 / 100, step 1/145, loss = 1.045101\n",
      "epoch 1 / 100, step 2/145, loss = 1.032368\n",
      "epoch 1 / 100, step 3/145, loss = 1.041106\n",
      "epoch 1 / 100, step 4/145, loss = 1.034771\n",
      "epoch 1 / 100, step 5/145, loss = 1.037130\n",
      "epoch 1 / 100, step 6/145, loss = 1.042236\n",
      "epoch 1 / 100, step 7/145, loss = 1.031811\n",
      "epoch 1 / 100, step 8/145, loss = 1.031056\n",
      "epoch 1 / 100, step 9/145, loss = 1.045372\n",
      "epoch 1 / 100, step 10/145, loss = 1.044556\n",
      "epoch 1 / 100, step 11/145, loss = 1.040291\n",
      "epoch 1 / 100, step 12/145, loss = 1.031210\n",
      "epoch 1 / 100, step 13/145, loss = 1.035430\n",
      "epoch 1 / 100, step 14/145, loss = 1.033798\n",
      "epoch 1 / 100, step 15/145, loss = 1.022149\n",
      "epoch 1 / 100, step 16/145, loss = 1.041369\n",
      "epoch 1 / 100, step 17/145, loss = 1.036180\n",
      "epoch 1 / 100, step 18/145, loss = 1.042406\n",
      "epoch 1 / 100, step 19/145, loss = 1.040468\n",
      "epoch 1 / 100, step 20/145, loss = 1.039768\n",
      "epoch 1 / 100, step 21/145, loss = 1.037549\n",
      "epoch 1 / 100, step 22/145, loss = 1.029146\n",
      "epoch 1 / 100, step 23/145, loss = 1.049178\n",
      "epoch 1 / 100, step 24/145, loss = 1.044879\n",
      "epoch 1 / 100, step 25/145, loss = 1.035077\n",
      "epoch 1 / 100, step 26/145, loss = 1.030938\n",
      "epoch 1 / 100, step 27/145, loss = 1.035798\n",
      "epoch 1 / 100, step 28/145, loss = 1.039829\n",
      "epoch 1 / 100, step 29/145, loss = 1.040002\n",
      "epoch 1 / 100, step 30/145, loss = 1.045422\n",
      "epoch 1 / 100, step 31/145, loss = 1.023645\n",
      "epoch 1 / 100, step 32/145, loss = 1.039258\n",
      "epoch 1 / 100, step 33/145, loss = 1.033391\n",
      "epoch 1 / 100, step 34/145, loss = 1.039508\n",
      "epoch 1 / 100, step 35/145, loss = 1.033964\n",
      "epoch 1 / 100, step 36/145, loss = 1.034722\n",
      "epoch 1 / 100, step 37/145, loss = 1.032456\n",
      "epoch 1 / 100, step 38/145, loss = 1.050250\n",
      "epoch 1 / 100, step 39/145, loss = 1.036679\n",
      "epoch 1 / 100, step 40/145, loss = 1.025844\n",
      "epoch 1 / 100, step 41/145, loss = 1.028611\n",
      "epoch 1 / 100, step 42/145, loss = 1.037461\n",
      "epoch 1 / 100, step 43/145, loss = 1.044231\n",
      "epoch 1 / 100, step 44/145, loss = 1.031869\n",
      "epoch 1 / 100, step 45/145, loss = 1.030182\n",
      "epoch 1 / 100, step 46/145, loss = 1.037273\n",
      "epoch 1 / 100, step 47/145, loss = 1.038245\n",
      "epoch 1 / 100, step 48/145, loss = 1.043345\n",
      "epoch 1 / 100, step 49/145, loss = 1.040419\n",
      "epoch 1 / 100, step 50/145, loss = 1.041557\n",
      "epoch 1 / 100, step 51/145, loss = 1.043125\n",
      "epoch 1 / 100, step 52/145, loss = 1.027822\n",
      "epoch 1 / 100, step 53/145, loss = 1.029171\n",
      "epoch 1 / 100, step 54/145, loss = 1.034570\n",
      "epoch 1 / 100, step 55/145, loss = 1.043946\n",
      "epoch 1 / 100, step 56/145, loss = 1.043267\n",
      "epoch 1 / 100, step 57/145, loss = 1.044529\n",
      "epoch 1 / 100, step 58/145, loss = 1.037532\n",
      "epoch 1 / 100, step 59/145, loss = 1.022677\n",
      "epoch 1 / 100, step 60/145, loss = 1.033811\n",
      "epoch 1 / 100, step 61/145, loss = 1.046694\n",
      "epoch 1 / 100, step 62/145, loss = 1.035864\n",
      "epoch 1 / 100, step 63/145, loss = 1.044732\n",
      "epoch 1 / 100, step 64/145, loss = 1.042050\n",
      "epoch 1 / 100, step 65/145, loss = 1.037657\n",
      "epoch 1 / 100, step 66/145, loss = 1.037071\n",
      "epoch 1 / 100, step 67/145, loss = 1.034796\n",
      "epoch 1 / 100, step 68/145, loss = 1.043942\n",
      "epoch 1 / 100, step 69/145, loss = 1.034435\n",
      "epoch 1 / 100, step 70/145, loss = 1.039043\n",
      "epoch 1 / 100, step 71/145, loss = 1.038118\n",
      "epoch 1 / 100, step 72/145, loss = 1.046068\n",
      "epoch 1 / 100, step 73/145, loss = 1.040938\n",
      "epoch 1 / 100, step 74/145, loss = 1.039445\n",
      "epoch 1 / 100, step 75/145, loss = 1.034874\n",
      "epoch 1 / 100, step 76/145, loss = 1.039779\n",
      "epoch 1 / 100, step 77/145, loss = 1.038840\n",
      "epoch 1 / 100, step 78/145, loss = 1.026604\n",
      "epoch 1 / 100, step 79/145, loss = 1.030475\n",
      "epoch 1 / 100, step 80/145, loss = 1.033674\n",
      "epoch 1 / 100, step 81/145, loss = 1.043113\n",
      "epoch 1 / 100, step 82/145, loss = 1.034759\n",
      "epoch 1 / 100, step 83/145, loss = 1.042982\n",
      "epoch 1 / 100, step 84/145, loss = 1.040275\n",
      "epoch 1 / 100, step 85/145, loss = 1.037576\n",
      "epoch 1 / 100, step 86/145, loss = 1.034581\n",
      "epoch 1 / 100, step 87/145, loss = 1.036663\n",
      "epoch 1 / 100, step 88/145, loss = 1.030039\n",
      "epoch 1 / 100, step 89/145, loss = 1.037538\n",
      "epoch 1 / 100, step 90/145, loss = 1.040967\n",
      "epoch 1 / 100, step 91/145, loss = 1.038977\n",
      "epoch 1 / 100, step 92/145, loss = 1.040298\n",
      "epoch 1 / 100, step 93/145, loss = 1.031895\n",
      "epoch 1 / 100, step 94/145, loss = 1.029461\n",
      "epoch 1 / 100, step 95/145, loss = 1.037309\n",
      "epoch 1 / 100, step 96/145, loss = 1.030970\n",
      "epoch 1 / 100, step 97/145, loss = 1.034621\n",
      "epoch 1 / 100, step 98/145, loss = 1.043432\n",
      "epoch 1 / 100, step 99/145, loss = 1.035604\n",
      "epoch 1 / 100, step 100/145, loss = 1.029544\n",
      "epoch 1 / 100, step 101/145, loss = 1.045112\n",
      "epoch 1 / 100, step 102/145, loss = 1.048385\n",
      "epoch 1 / 100, step 103/145, loss = 1.041387\n",
      "epoch 1 / 100, step 104/145, loss = 1.034262\n",
      "epoch 1 / 100, step 105/145, loss = 1.033299\n",
      "epoch 1 / 100, step 106/145, loss = 1.032020\n",
      "epoch 1 / 100, step 107/145, loss = 1.045364\n",
      "epoch 1 / 100, step 108/145, loss = 1.031201\n",
      "epoch 1 / 100, step 109/145, loss = 1.039345\n",
      "epoch 1 / 100, step 110/145, loss = 1.037802\n",
      "epoch 1 / 100, step 111/145, loss = 1.040908\n",
      "epoch 1 / 100, step 112/145, loss = 1.045220\n",
      "epoch 1 / 100, step 113/145, loss = 1.044285\n",
      "epoch 1 / 100, step 114/145, loss = 1.044616\n",
      "epoch 1 / 100, step 115/145, loss = 1.033589\n",
      "epoch 1 / 100, step 116/145, loss = 1.034635\n",
      "epoch 1 / 100, step 117/145, loss = 1.036561\n",
      "epoch 1 / 100, step 118/145, loss = 1.042391\n",
      "epoch 1 / 100, step 119/145, loss = 1.040807\n",
      "epoch 1 / 100, step 120/145, loss = 1.033266\n",
      "epoch 1 / 100, step 121/145, loss = 1.041540\n",
      "epoch 1 / 100, step 122/145, loss = 1.040929\n",
      "epoch 1 / 100, step 123/145, loss = 1.036510\n",
      "epoch 1 / 100, step 124/145, loss = 1.032123\n",
      "epoch 1 / 100, step 125/145, loss = 1.040823\n",
      "epoch 1 / 100, step 126/145, loss = 1.037097\n",
      "epoch 1 / 100, step 127/145, loss = 1.043535\n",
      "epoch 1 / 100, step 128/145, loss = 1.043249\n",
      "epoch 1 / 100, step 129/145, loss = 1.045705\n",
      "epoch 1 / 100, step 130/145, loss = 1.037130\n",
      "epoch 1 / 100, step 131/145, loss = 1.040348\n",
      "epoch 1 / 100, step 132/145, loss = 1.034224\n",
      "epoch 1 / 100, step 133/145, loss = 1.035321\n",
      "epoch 1 / 100, step 134/145, loss = 1.026631\n",
      "epoch 1 / 100, step 135/145, loss = 1.041733\n",
      "epoch 1 / 100, step 136/145, loss = 1.045822\n",
      "epoch 1 / 100, step 137/145, loss = 1.038623\n",
      "epoch 1 / 100, step 138/145, loss = 1.042867\n",
      "epoch 1 / 100, step 139/145, loss = 1.048284\n",
      "epoch 1 / 100, step 140/145, loss = 1.037349\n",
      "epoch 1 / 100, step 141/145, loss = 1.042447\n",
      "epoch 1 / 100, step 142/145, loss = 1.034712\n",
      "epoch 1 / 100, step 143/145, loss = 1.041765\n",
      "epoch 1 / 100, step 144/145, loss = 1.040943\n",
      "epoch 1 / 100, step 145/145, loss = 1.050110\n",
      "Got 1613601/3193600 with acc 50.53\n",
      "Dice score: 0.09909092634916306\n",
      "IoU: 0.052129387855529785\n",
      "epoch 2 / 100, step 1/145, loss = 1.039764\n",
      "epoch 2 / 100, step 2/145, loss = 1.050736\n",
      "epoch 2 / 100, step 3/145, loss = 1.035817\n",
      "epoch 2 / 100, step 4/145, loss = 1.041322\n",
      "epoch 2 / 100, step 5/145, loss = 1.037786\n",
      "epoch 2 / 100, step 6/145, loss = 1.030706\n",
      "epoch 2 / 100, step 7/145, loss = 1.027242\n",
      "epoch 2 / 100, step 8/145, loss = 1.042423\n",
      "epoch 2 / 100, step 9/145, loss = 1.035283\n",
      "epoch 2 / 100, step 10/145, loss = 1.040946\n",
      "epoch 2 / 100, step 11/145, loss = 1.034205\n",
      "epoch 2 / 100, step 12/145, loss = 1.035838\n",
      "epoch 2 / 100, step 13/145, loss = 1.044437\n",
      "epoch 2 / 100, step 14/145, loss = 1.041644\n",
      "epoch 2 / 100, step 15/145, loss = 1.044910\n",
      "epoch 2 / 100, step 16/145, loss = 1.031532\n",
      "epoch 2 / 100, step 17/145, loss = 1.034681\n",
      "epoch 2 / 100, step 18/145, loss = 1.045061\n",
      "epoch 2 / 100, step 19/145, loss = 1.037255\n",
      "epoch 2 / 100, step 20/145, loss = 1.045380\n",
      "epoch 2 / 100, step 21/145, loss = 1.040137\n",
      "epoch 2 / 100, step 22/145, loss = 1.042226\n",
      "epoch 2 / 100, step 23/145, loss = 1.029577\n",
      "epoch 2 / 100, step 24/145, loss = 1.034652\n",
      "epoch 2 / 100, step 25/145, loss = 1.043431\n",
      "epoch 2 / 100, step 26/145, loss = 1.039720\n",
      "epoch 2 / 100, step 27/145, loss = 1.037782\n",
      "epoch 2 / 100, step 28/145, loss = 1.042693\n",
      "epoch 2 / 100, step 29/145, loss = 1.033075\n",
      "epoch 2 / 100, step 30/145, loss = 1.039982\n",
      "epoch 2 / 100, step 31/145, loss = 1.042748\n",
      "epoch 2 / 100, step 32/145, loss = 1.036955\n",
      "epoch 2 / 100, step 33/145, loss = 1.036523\n",
      "epoch 2 / 100, step 34/145, loss = 1.038924\n",
      "epoch 2 / 100, step 35/145, loss = 1.045313\n",
      "epoch 2 / 100, step 36/145, loss = 1.031580\n",
      "epoch 2 / 100, step 37/145, loss = 1.035121\n",
      "epoch 2 / 100, step 38/145, loss = 1.040432\n",
      "epoch 2 / 100, step 39/145, loss = 1.029019\n",
      "epoch 2 / 100, step 40/145, loss = 1.045141\n",
      "epoch 2 / 100, step 41/145, loss = 1.026571\n",
      "epoch 2 / 100, step 42/145, loss = 1.044153\n",
      "epoch 2 / 100, step 43/145, loss = 1.041427\n",
      "epoch 2 / 100, step 44/145, loss = 1.035959\n",
      "epoch 2 / 100, step 45/145, loss = 1.036005\n",
      "epoch 2 / 100, step 46/145, loss = 1.040354\n",
      "epoch 2 / 100, step 47/145, loss = 1.031156\n",
      "epoch 2 / 100, step 48/145, loss = 1.045526\n",
      "epoch 2 / 100, step 49/145, loss = 1.040708\n",
      "epoch 2 / 100, step 50/145, loss = 1.027812\n",
      "epoch 2 / 100, step 51/145, loss = 1.033197\n",
      "epoch 2 / 100, step 52/145, loss = 1.037921\n",
      "epoch 2 / 100, step 53/145, loss = 1.043394\n",
      "epoch 2 / 100, step 54/145, loss = 1.042528\n",
      "epoch 2 / 100, step 55/145, loss = 1.031376\n",
      "epoch 2 / 100, step 56/145, loss = 1.045536\n",
      "epoch 2 / 100, step 57/145, loss = 1.026754\n",
      "epoch 2 / 100, step 58/145, loss = 1.051957\n",
      "epoch 2 / 100, step 59/145, loss = 1.035888\n",
      "epoch 2 / 100, step 60/145, loss = 1.037180\n",
      "epoch 2 / 100, step 61/145, loss = 1.050791\n",
      "epoch 2 / 100, step 62/145, loss = 1.028589\n",
      "epoch 2 / 100, step 63/145, loss = 1.040656\n",
      "epoch 2 / 100, step 64/145, loss = 1.025775\n",
      "epoch 2 / 100, step 65/145, loss = 1.044335\n",
      "epoch 2 / 100, step 66/145, loss = 1.043050\n",
      "epoch 2 / 100, step 67/145, loss = 1.031840\n",
      "epoch 2 / 100, step 68/145, loss = 1.029104\n",
      "epoch 2 / 100, step 69/145, loss = 1.033464\n",
      "epoch 2 / 100, step 70/145, loss = 1.036698\n",
      "epoch 2 / 100, step 71/145, loss = 1.024958\n",
      "epoch 2 / 100, step 72/145, loss = 1.033180\n",
      "epoch 2 / 100, step 73/145, loss = 1.033588\n",
      "epoch 2 / 100, step 74/145, loss = 1.036999\n",
      "epoch 2 / 100, step 75/145, loss = 1.037776\n",
      "epoch 2 / 100, step 76/145, loss = 1.048500\n",
      "epoch 2 / 100, step 77/145, loss = 1.035447\n",
      "epoch 2 / 100, step 78/145, loss = 1.043854\n",
      "epoch 2 / 100, step 79/145, loss = 1.038742\n",
      "epoch 2 / 100, step 80/145, loss = 1.045898\n",
      "epoch 2 / 100, step 81/145, loss = 1.048446\n",
      "epoch 2 / 100, step 82/145, loss = 1.038179\n",
      "epoch 2 / 100, step 83/145, loss = 1.038398\n",
      "epoch 2 / 100, step 84/145, loss = 1.041066\n",
      "epoch 2 / 100, step 85/145, loss = 1.030341\n",
      "epoch 2 / 100, step 86/145, loss = 1.031941\n",
      "epoch 2 / 100, step 87/145, loss = 1.042379\n",
      "epoch 2 / 100, step 88/145, loss = 1.036930\n",
      "epoch 2 / 100, step 89/145, loss = 1.036710\n",
      "epoch 2 / 100, step 90/145, loss = 1.032458\n",
      "epoch 2 / 100, step 91/145, loss = 1.035674\n",
      "epoch 2 / 100, step 92/145, loss = 1.038208\n",
      "epoch 2 / 100, step 93/145, loss = 1.034564\n",
      "epoch 2 / 100, step 94/145, loss = 1.034648\n",
      "epoch 2 / 100, step 95/145, loss = 1.031382\n",
      "epoch 2 / 100, step 96/145, loss = 1.038013\n",
      "epoch 2 / 100, step 97/145, loss = 1.051767\n",
      "epoch 2 / 100, step 98/145, loss = 1.039260\n",
      "epoch 2 / 100, step 99/145, loss = 1.032937\n",
      "epoch 2 / 100, step 100/145, loss = 1.037773\n",
      "epoch 2 / 100, step 101/145, loss = 1.036494\n",
      "epoch 2 / 100, step 102/145, loss = 1.046747\n",
      "epoch 2 / 100, step 103/145, loss = 1.038032\n",
      "epoch 2 / 100, step 104/145, loss = 1.036002\n",
      "epoch 2 / 100, step 105/145, loss = 1.036598\n",
      "epoch 2 / 100, step 106/145, loss = 1.038714\n",
      "epoch 2 / 100, step 107/145, loss = 1.042075\n",
      "epoch 2 / 100, step 108/145, loss = 1.040038\n",
      "epoch 2 / 100, step 109/145, loss = 1.041726\n",
      "epoch 2 / 100, step 110/145, loss = 1.029502\n",
      "epoch 2 / 100, step 111/145, loss = 1.045860\n",
      "epoch 2 / 100, step 112/145, loss = 1.037635\n",
      "epoch 2 / 100, step 113/145, loss = 1.031910\n",
      "epoch 2 / 100, step 114/145, loss = 1.039824\n",
      "epoch 2 / 100, step 115/145, loss = 1.032191\n",
      "epoch 2 / 100, step 116/145, loss = 1.034165\n",
      "epoch 2 / 100, step 117/145, loss = 1.048955\n",
      "epoch 2 / 100, step 118/145, loss = 1.040093\n",
      "epoch 2 / 100, step 119/145, loss = 1.040376\n",
      "epoch 2 / 100, step 120/145, loss = 1.036137\n",
      "epoch 2 / 100, step 121/145, loss = 1.035775\n",
      "epoch 2 / 100, step 122/145, loss = 1.031487\n",
      "epoch 2 / 100, step 123/145, loss = 1.036907\n",
      "epoch 2 / 100, step 124/145, loss = 1.035995\n",
      "epoch 2 / 100, step 125/145, loss = 1.038794\n",
      "epoch 2 / 100, step 126/145, loss = 1.032732\n",
      "epoch 2 / 100, step 127/145, loss = 1.035255\n",
      "epoch 2 / 100, step 128/145, loss = 1.032748\n",
      "epoch 2 / 100, step 129/145, loss = 1.025865\n",
      "epoch 2 / 100, step 130/145, loss = 1.041403\n",
      "epoch 2 / 100, step 131/145, loss = 1.031980\n",
      "epoch 2 / 100, step 132/145, loss = 1.042827\n",
      "epoch 2 / 100, step 133/145, loss = 1.031451\n",
      "epoch 2 / 100, step 134/145, loss = 1.037473\n",
      "epoch 2 / 100, step 135/145, loss = 1.037594\n",
      "epoch 2 / 100, step 136/145, loss = 1.034991\n",
      "epoch 2 / 100, step 137/145, loss = 1.035448\n",
      "epoch 2 / 100, step 138/145, loss = 1.038985\n",
      "epoch 2 / 100, step 139/145, loss = 1.042617\n",
      "epoch 2 / 100, step 140/145, loss = 1.042316\n",
      "epoch 2 / 100, step 141/145, loss = 1.037640\n",
      "epoch 2 / 100, step 142/145, loss = 1.047904\n",
      "epoch 2 / 100, step 143/145, loss = 1.040591\n",
      "epoch 2 / 100, step 144/145, loss = 1.036407\n",
      "epoch 2 / 100, step 145/145, loss = 1.038500\n",
      "Got 1613807/3193600 with acc 50.53\n",
      "Dice score: 0.09923887997865677\n",
      "IoU: 0.0522119514644146\n",
      "epoch 3 / 100, step 1/145, loss = 1.028572\n",
      "epoch 3 / 100, step 2/145, loss = 1.035216\n",
      "epoch 3 / 100, step 3/145, loss = 1.039849\n",
      "epoch 3 / 100, step 4/145, loss = 1.032593\n",
      "epoch 3 / 100, step 5/145, loss = 1.029408\n",
      "epoch 3 / 100, step 6/145, loss = 1.040868\n",
      "epoch 3 / 100, step 7/145, loss = 1.045995\n",
      "epoch 3 / 100, step 8/145, loss = 1.040816\n",
      "epoch 3 / 100, step 9/145, loss = 1.029673\n",
      "epoch 3 / 100, step 10/145, loss = 1.039006\n",
      "epoch 3 / 100, step 11/145, loss = 1.037644\n",
      "epoch 3 / 100, step 12/145, loss = 1.043303\n",
      "epoch 3 / 100, step 13/145, loss = 1.033445\n",
      "epoch 3 / 100, step 14/145, loss = 1.046771\n",
      "epoch 3 / 100, step 15/145, loss = 1.040432\n",
      "epoch 3 / 100, step 16/145, loss = 1.037465\n",
      "epoch 3 / 100, step 17/145, loss = 1.040643\n",
      "epoch 3 / 100, step 18/145, loss = 1.026656\n",
      "epoch 3 / 100, step 19/145, loss = 1.036265\n",
      "epoch 3 / 100, step 20/145, loss = 1.039139\n",
      "epoch 3 / 100, step 21/145, loss = 1.026236\n",
      "epoch 3 / 100, step 22/145, loss = 1.040391\n",
      "epoch 3 / 100, step 23/145, loss = 1.038424\n",
      "epoch 3 / 100, step 24/145, loss = 1.041284\n",
      "epoch 3 / 100, step 25/145, loss = 1.042097\n",
      "epoch 3 / 100, step 26/145, loss = 1.034360\n",
      "epoch 3 / 100, step 27/145, loss = 1.043985\n",
      "epoch 3 / 100, step 28/145, loss = 1.034624\n",
      "epoch 3 / 100, step 29/145, loss = 1.037381\n",
      "epoch 3 / 100, step 30/145, loss = 1.040502\n",
      "epoch 3 / 100, step 31/145, loss = 1.029522\n",
      "epoch 3 / 100, step 32/145, loss = 1.035495\n",
      "epoch 3 / 100, step 33/145, loss = 1.040138\n",
      "epoch 3 / 100, step 34/145, loss = 1.036957\n",
      "epoch 3 / 100, step 35/145, loss = 1.036605\n",
      "epoch 3 / 100, step 36/145, loss = 1.039661\n",
      "epoch 3 / 100, step 37/145, loss = 1.039626\n",
      "epoch 3 / 100, step 38/145, loss = 1.033810\n",
      "epoch 3 / 100, step 39/145, loss = 1.039723\n",
      "epoch 3 / 100, step 40/145, loss = 1.044280\n",
      "epoch 3 / 100, step 41/145, loss = 1.028083\n",
      "epoch 3 / 100, step 42/145, loss = 1.043891\n",
      "epoch 3 / 100, step 43/145, loss = 1.042590\n",
      "epoch 3 / 100, step 44/145, loss = 1.038795\n",
      "epoch 3 / 100, step 45/145, loss = 1.041393\n",
      "epoch 3 / 100, step 46/145, loss = 1.032893\n",
      "epoch 3 / 100, step 47/145, loss = 1.038527\n",
      "epoch 3 / 100, step 48/145, loss = 1.041459\n",
      "epoch 3 / 100, step 49/145, loss = 1.032751\n",
      "epoch 3 / 100, step 50/145, loss = 1.032619\n",
      "epoch 3 / 100, step 51/145, loss = 1.030781\n",
      "epoch 3 / 100, step 52/145, loss = 1.041353\n",
      "epoch 3 / 100, step 53/145, loss = 1.041908\n",
      "epoch 3 / 100, step 54/145, loss = 1.031420\n",
      "epoch 3 / 100, step 55/145, loss = 1.038448\n",
      "epoch 3 / 100, step 56/145, loss = 1.037678\n",
      "epoch 3 / 100, step 57/145, loss = 1.029950\n",
      "epoch 3 / 100, step 58/145, loss = 1.029618\n",
      "epoch 3 / 100, step 59/145, loss = 1.035321\n",
      "epoch 3 / 100, step 60/145, loss = 1.041038\n",
      "epoch 3 / 100, step 61/145, loss = 1.041309\n",
      "epoch 3 / 100, step 62/145, loss = 1.035524\n",
      "epoch 3 / 100, step 63/145, loss = 1.038293\n",
      "epoch 3 / 100, step 64/145, loss = 1.038689\n",
      "epoch 3 / 100, step 65/145, loss = 1.042756\n",
      "epoch 3 / 100, step 66/145, loss = 1.041187\n",
      "epoch 3 / 100, step 67/145, loss = 1.037591\n",
      "epoch 3 / 100, step 68/145, loss = 1.046580\n",
      "epoch 3 / 100, step 69/145, loss = 1.038284\n",
      "epoch 3 / 100, step 70/145, loss = 1.035702\n",
      "epoch 3 / 100, step 71/145, loss = 1.038335\n",
      "epoch 3 / 100, step 72/145, loss = 1.043365\n",
      "epoch 3 / 100, step 73/145, loss = 1.040420\n",
      "epoch 3 / 100, step 74/145, loss = 1.036820\n",
      "epoch 3 / 100, step 75/145, loss = 1.048933\n",
      "epoch 3 / 100, step 76/145, loss = 1.038932\n",
      "epoch 3 / 100, step 77/145, loss = 1.035411\n",
      "epoch 3 / 100, step 78/145, loss = 1.040171\n",
      "epoch 3 / 100, step 79/145, loss = 1.045590\n",
      "epoch 3 / 100, step 80/145, loss = 1.035679\n",
      "epoch 3 / 100, step 81/145, loss = 1.042170\n",
      "epoch 3 / 100, step 82/145, loss = 1.035351\n",
      "epoch 3 / 100, step 83/145, loss = 1.034400\n",
      "epoch 3 / 100, step 84/145, loss = 1.035464\n",
      "epoch 3 / 100, step 85/145, loss = 1.039668\n",
      "epoch 3 / 100, step 86/145, loss = 1.028943\n",
      "epoch 3 / 100, step 87/145, loss = 1.034703\n",
      "epoch 3 / 100, step 88/145, loss = 1.032580\n",
      "epoch 3 / 100, step 89/145, loss = 1.042140\n",
      "epoch 3 / 100, step 90/145, loss = 1.035172\n",
      "epoch 3 / 100, step 91/145, loss = 1.037660\n",
      "epoch 3 / 100, step 92/145, loss = 1.034685\n",
      "epoch 3 / 100, step 93/145, loss = 1.039474\n",
      "epoch 3 / 100, step 94/145, loss = 1.043329\n",
      "epoch 3 / 100, step 95/145, loss = 1.034265\n",
      "epoch 3 / 100, step 96/145, loss = 1.046695\n",
      "epoch 3 / 100, step 97/145, loss = 1.038521\n"
     ]
    },
    {
     "ename": "KeyboardInterrupt",
     "evalue": "ignored",
     "output_type": "error",
     "traceback": [
      "\u001b[0;31m---------------------------------------------------------------------------\u001b[0m",
      "\u001b[0;31mKeyboardInterrupt\u001b[0m                         Traceback (most recent call last)",
      "\u001b[0;32m<ipython-input-47-dc2e64d90a62>\u001b[0m in \u001b[0;36m<module>\u001b[0;34m\u001b[0m\n\u001b[1;32m     29\u001b[0m         \u001b[0;32mif\u001b[0m \u001b[0;34m(\u001b[0m\u001b[0mi\u001b[0m\u001b[0;34m+\u001b[0m\u001b[0;36m1\u001b[0m\u001b[0;34m)\u001b[0m \u001b[0;34m%\u001b[0m \u001b[0;36m1\u001b[0m \u001b[0;34m==\u001b[0m\u001b[0;36m0\u001b[0m\u001b[0;34m:\u001b[0m\u001b[0;34m\u001b[0m\u001b[0;34m\u001b[0m\u001b[0m\n\u001b[1;32m     30\u001b[0m \u001b[0;34m\u001b[0m\u001b[0m\n\u001b[0;32m---> 31\u001b[0;31m             \u001b[0mprint\u001b[0m\u001b[0;34m(\u001b[0m\u001b[0;34mf'epoch {epoch+1} / {n_epochs}, step {i+1}/{len(train_loader)}, loss = {loss.item():.6f}'\u001b[0m\u001b[0;34m)\u001b[0m\u001b[0;34m\u001b[0m\u001b[0;34m\u001b[0m\u001b[0m\n\u001b[0m\u001b[1;32m     32\u001b[0m     \u001b[0;31m# scheduler.step()\u001b[0m\u001b[0;34m\u001b[0m\u001b[0;34m\u001b[0m\u001b[0;34m\u001b[0m\u001b[0m\n\u001b[1;32m     33\u001b[0m     \u001b[0mtest_arr\u001b[0m\u001b[0;34m.\u001b[0m\u001b[0mappend\u001b[0m\u001b[0;34m(\u001b[0m\u001b[0mcheck_accuracy\u001b[0m\u001b[0;34m(\u001b[0m\u001b[0mtest_loader\u001b[0m\u001b[0;34m,\u001b[0m \u001b[0mmodel2\u001b[0m\u001b[0;34m)\u001b[0m\u001b[0;34m)\u001b[0m\u001b[0;34m\u001b[0m\u001b[0;34m\u001b[0m\u001b[0m\n",
      "\u001b[0;31mKeyboardInterrupt\u001b[0m: "
     ]
    }
   ],
   "source": [
    "learning_rate = 1e-4\n",
    "criterion1 = nn.BCELoss()\n",
    "criterion2 = nn.MSELoss()\n",
    "optimizer = torch.optim.Adam(model.parameters(), lr = learning_rate)\n",
    "n_epochs = 100\n",
    "\n",
    "scheduler = torch.optim.lr_scheduler.ExponentialLR(optimizer= optimizer, gamma=0.5, verbose = True)\n",
    "\n",
    "test_arr = []\n",
    "\n",
    "for epoch in range(n_epochs):\n",
    "    for i, (images, labels) in enumerate(train_loader):\n",
    "        \n",
    "#         print(images.shape, labels.shape)\n",
    "        images = images.to(device)\n",
    "        labels = labels.to(device)\n",
    "        outputs = model(images)\n",
    "        loss1 = criterion1(outputs, labels)\n",
    "        loss2 = criterion2(outputs, labels)\n",
    "        loss = loss1 + loss2\n",
    "        # backward\n",
    "        \n",
    "        optimizer.zero_grad()\n",
    "        \n",
    "        loss.backward()\n",
    "        \n",
    "        optimizer.step()\n",
    "        \n",
    "        if (i+1) % 1 ==0:\n",
    "         \n",
    "            print(f'epoch {epoch+1} / {n_epochs}, step {i+1}/{len(train_loader)}, loss = {loss.item():.6f}')\n",
    "    # scheduler.step()\n",
    "    test_arr.append(check_accuracy(test_loader, model))"
   ]
  },
  {
   "cell_type": "code",
   "execution_count": null,
   "metadata": {
    "id": "3PieH_z2dXhI"
   },
   "outputs": [],
   "source": [
    "checkpoint = {\n",
    "    \"model_state\": model.state_dict(),\n",
    "    \"features\": features,\n",
    "    \"optim_state\": optimizer.state_dict()\n",
    "}"
   ]
  },
  {
   "cell_type": "code",
   "execution_count": null,
   "metadata": {
    "id": "FBDgGOVZeFcQ"
   },
   "outputs": [],
   "source": [
    "torch.save(model.state_dict(), \"model_colab_80.pth\")"
   ]
  },
  {
   "cell_type": "code",
   "execution_count": null,
   "metadata": {
    "id": "e4jnAeh9n0tH"
   },
   "outputs": [],
   "source": [
    "def check_accuracy(loader, model):\n",
    "    num_correct = 0\n",
    "    num_pixels = 0\n",
    "    dice_score = 0\n",
    "    jaccard = JaccardIndex(num_classes=2, task = 'binary').to(device)\n",
    "    iou = 0\n",
    "    with torch.no_grad():\n",
    "        for x,y in loader:\n",
    "            y = y.to(device)\n",
    "            x = x.to(device)\n",
    "            preds = model(x)\n",
    "            preds = (preds > 0.5).float()\n",
    "            num_correct +=  (preds ==y).sum()\n",
    "            num_pixels += torch.numel(preds)\n",
    "            dice_score += (2 * (preds * y).sum()) / ((preds + y).sum())\n",
    "            iou += jaccard(preds, y)\n",
    "    \n",
    "    print(f'Cur_iter - {check.cur_iter}')\n",
    "    print(\n",
    "        f\"Got {num_correct}/{num_pixels} with acc {num_correct/num_pixels*100:.2f}\"\n",
    "    )\n",
    "    print(f\"Dice score: {dice_score/len(loader) * 100:.2f}\")\n",
    "    print(f\"IoU: {iou/len(loader) * 100:.2f}\")"
   ]
  },
  {
   "cell_type": "code",
   "execution_count": null,
   "metadata": {
    "colab": {
     "base_uri": "https://localhost:8080/"
    },
    "id": "X5YyHlvGPaH6",
    "outputId": "a144c2f2-bda6-47ac-8876-363db44da46d"
   },
   "outputs": [
    {
     "name": "stdout",
     "output_type": "stream",
     "text": [
      "Got 22988466/23049600 with acc 99.73\n",
      "Dice score: 0.9972845911979675\n",
      "IoU: 0.9945846199989319\n"
     ]
    }
   ],
   "source": [
    "check_accuracy(train_loader, model)"
   ]
  },
  {
   "cell_type": "code",
   "execution_count": null,
   "metadata": {
    "colab": {
     "base_uri": "https://localhost:8080/"
    },
    "id": "UGG4bbzcPciN",
    "outputId": "f8c6ef28-79f0-4a50-d644-dcb6b157f11d"
   },
   "outputs": [
    {
     "name": "stdout",
     "output_type": "stream",
     "text": [
      "Got 3185224/3195200 with acc 99.69\n",
      "Dice score: 0.9968224763870239\n",
      "IoU: 0.9936651587486267\n"
     ]
    }
   ],
   "source": [
    "check_accuracy(test_loader, model)"
   ]
  }
 ],
 "metadata": {
  "accelerator": "GPU",
  "colab": {
   "provenance": []
  },
  "gpuClass": "standard",
  "kernelspec": {
   "display_name": "Python 3 (ipykernel)",
   "language": "python",
   "name": "python3"
  },
  "language_info": {
   "codemirror_mode": {
    "name": "ipython",
    "version": 3
   },
   "file_extension": ".py",
   "mimetype": "text/x-python",
   "name": "python",
   "nbconvert_exporter": "python",
   "pygments_lexer": "ipython3",
   "version": "3.10.8"
  }
 },
 "nbformat": 4,
 "nbformat_minor": 1
}
