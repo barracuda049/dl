{
 "cells": [
  {
   "cell_type": "code",
   "execution_count": 3,
   "id": "a9c47811",
   "metadata": {},
   "outputs": [],
   "source": [
    "import os\n",
    "import glob\n",
    "import torch\n",
    "import numpy as np\n",
    "import matplotlib.pyplot as plt\n",
    "import torch.nn as nn\n",
    "from torchvision.transforms import transforms\n",
    "from torch.utils.data import DataLoader, Dataset\n",
    "from torch.optim import Adam\n",
    "from torch.autograd import Variable\n",
    "import torchvision \n",
    "import pathlib\n",
    "from pathlib import Path\n",
    "import torch.nn.functional as F"
   ]
  },
  {
   "cell_type": "code",
   "execution_count": 4,
   "id": "d43a1018",
   "metadata": {},
   "outputs": [],
   "source": [
    "path_folder = 'TOP4040/'"
   ]
  },
  {
   "cell_type": "code",
   "execution_count": 5,
   "id": "3e5cbaa9",
   "metadata": {},
   "outputs": [],
   "source": [
    "class NPZLoader(Dataset):\n",
    "    def __init__(self, path, transform=None, cur_iter = 7):\n",
    "        self.path = path\n",
    "        self.files = list(Path(path).glob('**/*.npz'))\n",
    "        self.transform = transform\n",
    "        self.cur_iter = cur_iter\n",
    "\n",
    "    def __len__(self):\n",
    "        return len(self.files)\n",
    "\n",
    "    def __getitem__(self, item):\n",
    "        numpy_array = np.load(self.files[item])['arr_0']\n",
    "        target = numpy_array[-1]\n",
    "        r,c = numpy_array[0].shape\n",
    "        n_1_iter = numpy_array[self.cur_iter]\n",
    "        n_iter = numpy_array[self.cur_iter-1]\n",
    "        gradient = (n_1_iter - n_iter).reshape(1,r,c)\n",
    "        sample = np.concatenate((n_1_iter.reshape(1,r,c),gradient)), target.reshape(1,40,40)\n",
    "        \n",
    "        \n",
    "        if self.transform:\n",
    "            sample = self.transform(sample)\n",
    "        return sample"
   ]
  },
  {
   "cell_type": "code",
   "execution_count": 6,
   "id": "559235ca",
   "metadata": {},
   "outputs": [],
   "source": [
    "class ToTensor:\n",
    "    def __call__(self, sample):\n",
    "        \n",
    "        image, target = sample\n",
    "        \n",
    "        return torch.from_numpy(image.astype(np.float32)), torch.from_numpy(target.astype(np.float32))\n",
    "        "
   ]
  },
  {
   "cell_type": "code",
   "execution_count": 7,
   "id": "a9944884",
   "metadata": {},
   "outputs": [],
   "source": [
    "check = NPZLoader(path_folder,cur_iter = 5, transform = ToTensor())"
   ]
  },
  {
   "cell_type": "code",
   "execution_count": 8,
   "id": "ac303e32",
   "metadata": {},
   "outputs": [
    {
     "data": {
      "text/plain": [
       "<matplotlib.image.AxesImage at 0x1fd7224db10>"
      ]
     },
     "execution_count": 8,
     "metadata": {},
     "output_type": "execute_result"
    },
    {
     "data": {
      "image/png": "[encoded data removed]",
      "text/plain": [
       "<Figure size 1400x1100 with 3 Axes>"
      ]
     },
     "metadata": {},
     "output_type": "display_data"
    }
   ],
   "source": [
    "num = 54\n",
    "plt.figure(figsize = (14,11))\n",
    "plt.subplot(1,3,1)\n",
    "plt.title(f'Target')\n",
    "plt.imshow(check[num][1].view(40,40), cmap= 'binary')\n",
    "\n",
    "plt.subplot(1,3,2)\n",
    "plt.title(f'n_iters = {check.cur_iter}')\n",
    "plt.imshow(check[num][0][0].numpy(), cmap= 'binary')\n",
    "\n",
    "plt.subplot(1,3,3)\n",
    "plt.title(f'gradient')\n",
    "plt.imshow(check[num][0][1].numpy(), cmap= 'binary')"
   ]
  },
  {
   "cell_type": "code",
   "execution_count": 169,
   "id": "92d50708",
   "metadata": {
    "code_folding": []
   },
   "outputs": [],
   "source": [
    "class ConvNet(nn.Module):\n",
    "    \n",
    "    def __init__(self):\n",
    "        super(ConvNet,self).__init__()\n",
    "        self.pool = nn.MaxPool2d(2,2) \n",
    "        self.drop = nn.Dropout()\n",
    "        \n",
    "        self.conv1 = nn.Conv2d(2, 16, 3, padding = 1)\n",
    "        self.conv11 = nn.Conv2d(16, 16, 3, padding = 1)\n",
    "        self.bn1 = nn.BatchNorm2d(16)\n",
    "        \n",
    "        \n",
    "        self.conv2 = nn.Conv2d(16, 32, 3, padding = 1)\n",
    "        self.bn2 = nn.BatchNorm2d(32)\n",
    "        self.conv22 = nn.Conv2d(32, 32, 3, padding = 1)\n",
    "        \n",
    "        self.conv3 = nn.Conv2d(32, 64, 3, padding = 1)\n",
    "        self.conv33 = nn.Conv2d(64, 64, 3, padding = 1)\n",
    "        self.bn3 = nn.BatchNorm2d(64)\n",
    "        \n",
    "        \n",
    "        self.conv4 = nn.Conv2d(64,128, 3, padding=1)\n",
    "        self.conv44 = nn.Conv2d(128,128, 3, padding=1)\n",
    "        self.bn4 = nn.BatchNorm2d(128)\n",
    "        \n",
    "        self.conv5 = nn.ConvTranspose2d(128,64,4, padding = 1,stride = 2)\n",
    "        self.conv55 = nn.Conv2d(64,64,3, padding = 1)\n",
    "        \n",
    "        self.conv6 = nn.ConvTranspose2d(64,32,4, padding = 1,stride = 2)\n",
    "        self.conv66 = nn.Conv2d(32,32,3, padding = 1)\n",
    "        \n",
    "        self.conv7 = nn.ConvTranspose2d(32,16,4, padding = 1)\n",
    "        self.conv77 = nn.Conv2d(16,16,3, padding = 1)\n",
    "        \n",
    "        self.conv8 = nn.ConvTranspose2d(16,1, 1, padding = 1)\n",
    "        \n",
    "    def forward(self,x): \n",
    "        x = F.relu(self.bn1(self.conv1(x)))\n",
    "        print(f'x1 - {x.shape}')\n",
    "        x = self.pool(F.relu(self.bn1(self.conv11(x))))\n",
    "        print(f'x11 - {x.shape}')\n",
    "        \n",
    "        x = F.relu(self.bn2(self.conv2(x)))\n",
    "        print(f'x2 - {x.shape}')\n",
    "        x = self.pool(F.relu(self.bn2(self.conv22(x))))\n",
    "        print(f'x22 - {x.shape}')\n",
    "        \n",
    "        x = F.relu(self.bn3(self.conv3(x)))\n",
    "        print(f'x3 - {x.shape}')\n",
    "        x = self.pool(F.relu(self.bn3(self.conv33(x))))\n",
    "        print(f'x33 - {x.shape}')\n",
    "        \n",
    "        x = F.relu(self.bn4(self.conv4(x)))\n",
    "        print(f'x4 - {x.shape}')\n",
    "        x = self.pool(F.relu(self.bn4(self.conv44(x))))\n",
    "        print(f'x44 - {x.shape}')\n",
    "        \n",
    "        x = F.relu(self.bn3(self.conv5(x)))\n",
    "        print(f'x5 - {x.shape}')\n",
    "        x = F.relu(self.bn3(self.conv55(x)))\n",
    "        print(f'x55 - {x.shape}')\n",
    "        \n",
    "        x = F.relu(self.bn2(self.conv6(x)))\n",
    "        print(f'x6 - {x.shape}')\n",
    "        x = F.relu(self.bn2(self.conv66(x)))\n",
    "        print(f'x66 - {x.shape}')\n",
    "        \n",
    "        x = F.relu(self.bn1(self.conv7(x)))\n",
    "        print(f'x7 - {x.shape}')\n",
    "        x = F.relu(self.bn1(self.conv77(x)))\n",
    "        print(f'x77 - {x.shape}')\n",
    "        \n",
    "        x = self.conv8(x)\n",
    "        print(f'x8 - {x.shape}')\n",
    "        \n",
    "        return x\n",
    "        "
   ]
  },
  {
   "cell_type": "code",
   "execution_count": 9,
   "id": "d245ef15",
   "metadata": {},
   "outputs": [],
   "source": [
    "class ConvNet(nn.Module):\n",
    "    \n",
    "    def __init__(self):\n",
    "        super(ConvNet,self).__init__()\n",
    "        self.pool = nn.MaxPool2d(2,2) \n",
    "        self.drop = nn.Dropout()\n",
    "        \n",
    "        self.conv1 = nn.Conv2d(2, 16, 3, padding = 1)\n",
    "        self.conv11 = nn.Conv2d(16, 16, 3, padding = 1)\n",
    "        self.bn1 = nn.BatchNorm2d(16)\n",
    "        \n",
    "        \n",
    "        self.conv2 = nn.Conv2d(16, 32, 3, padding = 1)\n",
    "        self.bn2 = nn.BatchNorm2d(32)\n",
    "        self.conv22 = nn.Conv2d(32, 32, 3, padding = 1)\n",
    "        \n",
    "        self.conv3 = nn.Conv2d(32, 64, 3, padding = 1)\n",
    "        self.conv33 = nn.Conv2d(64, 64, 3, padding = 1)\n",
    "        self.bn3 = nn.BatchNorm2d(64)\n",
    "        \n",
    "        \n",
    "        self.conv4 = nn.ConvTranspose2d(64,32,4, padding = 1,stride = 2)\n",
    "        self.conv44 = nn.Conv2d(32,32,3, padding = 1)\n",
    "        \n",
    "        self.conv5 = nn.ConvTranspose2d(32,16,4, padding = 1,stride = 2)\n",
    "        self.conv55 = nn.Conv2d(16,16,3, padding = 1)\n",
    "        \n",
    "        self.conv6 = nn.ConvTranspose2d(16,1, 3, padding = 1)\n",
    "        \n",
    "    def forward(self,x): \n",
    "        x = F.relu(self.bn1(self.conv1(x)))\n",
    "#         print(f'x1 - {x.shape}')\n",
    "        x = self.pool(F.relu(self.bn1(self.conv11(x))))\n",
    "#         print(f'x11 - {x.shape}')\n",
    "        \n",
    "        x = F.relu(self.bn2(self.conv2(x)))\n",
    "#         print(f'x2 - {x.shape}')\n",
    "        x = self.pool(F.relu(self.bn2(self.conv22(x))))\n",
    "#         print(f'x22 - {x.shape}')\n",
    "        \n",
    "        x = F.relu(self.bn3(self.conv3(x)))\n",
    "#         print(f'x3 - {x.shape}')\n",
    "        x = F.relu(self.bn3(self.conv33(x)))\n",
    "#         print(f'x33 - {x.shape}')\n",
    "\n",
    "        x = F.relu(self.bn2(self.conv4(x)))\n",
    "#         print(f'x4 - {x.shape}')\n",
    "        x = F.relu(self.bn2(self.conv44(x)))\n",
    "#         print(f'x44 - {x.shape}')\n",
    "        \n",
    "        x = F.relu(self.bn1(self.conv5(x)))\n",
    "#         print(f'x5 - {x.shape}')\n",
    "        x = F.relu(self.bn1(self.conv55(x)))\n",
    "#         print(f'x55 - {x.shape}')\n",
    "        \n",
    "        x = F.relu(self.conv6(x))\n",
    "#         print(f'x6 - {x.shape}')\n",
    "        \n",
    "        \n",
    "        return x\n",
    "        "
   ]
  },
  {
   "cell_type": "code",
   "execution_count": 179,
   "id": "6e655dea",
   "metadata": {
    "scrolled": true
   },
   "outputs": [
    {
     "data": {
      "text/plain": [
       "UNet(\n",
       "  (encoder1): Sequential(\n",
       "    (enc1conv1): Conv2d(2, 16, kernel_size=(3, 3), stride=(1, 1), padding=(1, 1), bias=False)\n",
       "    (enc1norm1): BatchNorm2d(16, eps=1e-05, momentum=0.1, affine=True, track_running_stats=True)\n",
       "    (enc1relu1): ReLU(inplace=True)\n",
       "    (enc1conv2): Conv2d(16, 16, kernel_size=(3, 3), stride=(1, 1), padding=(1, 1), bias=False)\n",
       "    (enc1norm2): BatchNorm2d(16, eps=1e-05, momentum=0.1, affine=True, track_running_stats=True)\n",
       "    (enc1relu2): ReLU(inplace=True)\n",
       "  )\n",
       "  (pool1): MaxPool2d(kernel_size=2, stride=2, padding=0, dilation=1, ceil_mode=False)\n",
       "  (encoder2): Sequential(\n",
       "    (enc2conv1): Conv2d(16, 32, kernel_size=(3, 3), stride=(1, 1), padding=(1, 1), bias=False)\n",
       "    (enc2norm1): BatchNorm2d(32, eps=1e-05, momentum=0.1, affine=True, track_running_stats=True)\n",
       "    (enc2relu1): ReLU(inplace=True)\n",
       "    (enc2conv2): Conv2d(32, 32, kernel_size=(3, 3), stride=(1, 1), padding=(1, 1), bias=False)\n",
       "    (enc2norm2): BatchNorm2d(32, eps=1e-05, momentum=0.1, affine=True, track_running_stats=True)\n",
       "    (enc2relu2): ReLU(inplace=True)\n",
       "  )\n",
       "  (pool2): MaxPool2d(kernel_size=2, stride=2, padding=0, dilation=1, ceil_mode=False)\n",
       "  (encoder3): Sequential(\n",
       "    (enc3conv1): Conv2d(32, 64, kernel_size=(3, 3), stride=(1, 1), padding=(1, 1), bias=False)\n",
       "    (enc3norm1): BatchNorm2d(64, eps=1e-05, momentum=0.1, affine=True, track_running_stats=True)\n",
       "    (enc3relu1): ReLU(inplace=True)\n",
       "    (enc3conv2): Conv2d(64, 64, kernel_size=(3, 3), stride=(1, 1), padding=(1, 1), bias=False)\n",
       "    (enc3norm2): BatchNorm2d(64, eps=1e-05, momentum=0.1, affine=True, track_running_stats=True)\n",
       "    (enc3relu2): ReLU(inplace=True)\n",
       "  )\n",
       "  (pool3): MaxPool2d(kernel_size=2, stride=2, padding=0, dilation=1, ceil_mode=False)\n",
       "  (encoder4): Sequential(\n",
       "    (enc4conv1): Conv2d(64, 128, kernel_size=(3, 3), stride=(1, 1), padding=(1, 1), bias=False)\n",
       "    (enc4norm1): BatchNorm2d(128, eps=1e-05, momentum=0.1, affine=True, track_running_stats=True)\n",
       "    (enc4relu1): ReLU(inplace=True)\n",
       "    (enc4conv2): Conv2d(128, 128, kernel_size=(3, 3), stride=(1, 1), padding=(1, 1), bias=False)\n",
       "    (enc4norm2): BatchNorm2d(128, eps=1e-05, momentum=0.1, affine=True, track_running_stats=True)\n",
       "    (enc4relu2): ReLU(inplace=True)\n",
       "  )\n",
       "  (pool4): MaxPool2d(kernel_size=2, stride=2, padding=0, dilation=1, ceil_mode=False)\n",
       "  (bottleneck): Sequential(\n",
       "    (bottleneckconv1): Conv2d(128, 256, kernel_size=(3, 3), stride=(1, 1), padding=(1, 1), bias=False)\n",
       "    (bottlenecknorm1): BatchNorm2d(256, eps=1e-05, momentum=0.1, affine=True, track_running_stats=True)\n",
       "    (bottleneckrelu1): ReLU(inplace=True)\n",
       "    (bottleneckconv2): Conv2d(256, 256, kernel_size=(3, 3), stride=(1, 1), padding=(1, 1), bias=False)\n",
       "    (bottlenecknorm2): BatchNorm2d(256, eps=1e-05, momentum=0.1, affine=True, track_running_stats=True)\n",
       "    (bottleneckrelu2): ReLU(inplace=True)\n",
       "  )\n",
       "  (upconv4): ConvTranspose2d(256, 128, kernel_size=(2, 2), stride=(2, 2))\n",
       "  (decoder4): Sequential(\n",
       "    (dec4conv1): Conv2d(256, 128, kernel_size=(3, 3), stride=(1, 1), padding=(1, 1), bias=False)\n",
       "    (dec4norm1): BatchNorm2d(128, eps=1e-05, momentum=0.1, affine=True, track_running_stats=True)\n",
       "    (dec4relu1): ReLU(inplace=True)\n",
       "    (dec4conv2): Conv2d(128, 128, kernel_size=(3, 3), stride=(1, 1), padding=(1, 1), bias=False)\n",
       "    (dec4norm2): BatchNorm2d(128, eps=1e-05, momentum=0.1, affine=True, track_running_stats=True)\n",
       "    (dec4relu2): ReLU(inplace=True)\n",
       "  )\n",
       "  (upconv3): ConvTranspose2d(128, 64, kernel_size=(2, 2), stride=(2, 2))\n",
       "  (decoder3): Sequential(\n",
       "    (dec3conv1): Conv2d(128, 64, kernel_size=(3, 3), stride=(1, 1), padding=(1, 1), bias=False)\n",
       "    (dec3norm1): BatchNorm2d(64, eps=1e-05, momentum=0.1, affine=True, track_running_stats=True)\n",
       "    (dec3relu1): ReLU(inplace=True)\n",
       "    (dec3conv2): Conv2d(64, 64, kernel_size=(3, 3), stride=(1, 1), padding=(1, 1), bias=False)\n",
       "    (dec3norm2): BatchNorm2d(64, eps=1e-05, momentum=0.1, affine=True, track_running_stats=True)\n",
       "    (dec3relu2): ReLU(inplace=True)\n",
       "  )\n",
       "  (upconv2): ConvTranspose2d(64, 32, kernel_size=(2, 2), stride=(2, 2))\n",
       "  (decoder2): Sequential(\n",
       "    (dec2conv1): Conv2d(64, 32, kernel_size=(3, 3), stride=(1, 1), padding=(1, 1), bias=False)\n",
       "    (dec2norm1): BatchNorm2d(32, eps=1e-05, momentum=0.1, affine=True, track_running_stats=True)\n",
       "    (dec2relu1): ReLU(inplace=True)\n",
       "    (dec2conv2): Conv2d(32, 32, kernel_size=(3, 3), stride=(1, 1), padding=(1, 1), bias=False)\n",
       "    (dec2norm2): BatchNorm2d(32, eps=1e-05, momentum=0.1, affine=True, track_running_stats=True)\n",
       "    (dec2relu2): ReLU(inplace=True)\n",
       "  )\n",
       "  (upconv1): ConvTranspose2d(32, 16, kernel_size=(2, 2), stride=(2, 2))\n",
       "  (decoder1): Sequential(\n",
       "    (dec1conv1): Conv2d(32, 16, kernel_size=(3, 3), stride=(1, 1), padding=(1, 1), bias=False)\n",
       "    (dec1norm1): BatchNorm2d(16, eps=1e-05, momentum=0.1, affine=True, track_running_stats=True)\n",
       "    (dec1relu1): ReLU(inplace=True)\n",
       "    (dec1conv2): Conv2d(16, 16, kernel_size=(3, 3), stride=(1, 1), padding=(1, 1), bias=False)\n",
       "    (dec1norm2): BatchNorm2d(16, eps=1e-05, momentum=0.1, affine=True, track_running_stats=True)\n",
       "    (dec1relu2): ReLU(inplace=True)\n",
       "  )\n",
       "  (conv): Conv2d(16, 1, kernel_size=(1, 1), stride=(1, 1))\n",
       ")"
      ]
     },
     "execution_count": 179,
     "metadata": {},
     "output_type": "execute_result"
    }
   ],
   "source": [
    "model"
   ]
  },
  {
   "cell_type": "code",
   "execution_count": 10,
   "id": "094803fe",
   "metadata": {},
   "outputs": [],
   "source": [
    "unet = ConvNet()"
   ]
  },
  {
   "cell_type": "code",
   "execution_count": 185,
   "id": "90f4c50e",
   "metadata": {
    "scrolled": true
   },
   "outputs": [
    {
     "name": "stdout",
     "output_type": "stream",
     "text": [
      "torch.Size([4, 2, 40, 40])\n",
      "conv1 - torch.Size([4, 16, 40, 40])\n",
      "conv11 - torch.Size([4, 16, 40, 40])\n",
      "pool - torch.Size([4, 16, 20, 20])\n",
      "conv2 - torch.Size([4, 32, 20, 20])\n",
      "pool - torch.Size([4, 32, 10, 10])\n",
      "conv3 - torch.Size([4, 64, 10, 10])\n",
      "conv33 - torch.Size([4, 64, 10, 10])\n",
      "pool - torch.Size([4, 64, 5, 5])\n",
      "conv4 - torch.Size([4, 128, 5, 5])\n",
      "conv5 - torch.Size([4, 64, 10, 10])\n",
      "conv6 - torch.Size([4, 32, 20, 20])\n",
      "conv7 - torch.Size([4, 16, 20, 20])\n",
      "conv8 - torch.Size([4, 1, 20, 20])\n"
     ]
    },
    {
     "ename": "ValueError",
     "evalue": "cannot reshape array of size 400 into shape (40,40)",
     "output_type": "error",
     "traceback": [
      "\u001b[0;31m---------------------------------------------------------------------------\u001b[0m",
      "\u001b[0;31mValueError\u001b[0m                                Traceback (most recent call last)",
      "Cell \u001b[0;32mIn[185], line 44\u001b[0m\n\u001b[1;32m     42\u001b[0m \u001b[38;5;28mprint\u001b[39m(\u001b[38;5;124mf\u001b[39m\u001b[38;5;124m'\u001b[39m\u001b[38;5;124mconv8 - \u001b[39m\u001b[38;5;132;01m{\u001b[39;00mx\u001b[38;5;241m.\u001b[39mshape\u001b[38;5;132;01m}\u001b[39;00m\u001b[38;5;124m'\u001b[39m)\n\u001b[1;32m     43\u001b[0m \u001b[38;5;28;01mwith\u001b[39;00m torch\u001b[38;5;241m.\u001b[39mno_grad():\n\u001b[0;32m---> 44\u001b[0m     plt\u001b[38;5;241m.\u001b[39mimshow(\u001b[43mx\u001b[49m\u001b[43m[\u001b[49m\u001b[38;5;241;43m2\u001b[39;49m\u001b[43m]\u001b[49m\u001b[38;5;241;43m.\u001b[39;49m\u001b[43mnumpy\u001b[49m\u001b[43m(\u001b[49m\u001b[43m)\u001b[49m\u001b[38;5;241;43m.\u001b[39;49m\u001b[43mreshape\u001b[49m\u001b[43m(\u001b[49m\u001b[38;5;241;43m40\u001b[39;49m\u001b[43m,\u001b[49m\u001b[38;5;241;43m40\u001b[39;49m\u001b[43m)\u001b[49m, cmap \u001b[38;5;241m=\u001b[39m \u001b[38;5;124m'\u001b[39m\u001b[38;5;124mbinary\u001b[39m\u001b[38;5;124m'\u001b[39m)\n",
      "\u001b[0;31mValueError\u001b[0m: cannot reshape array of size 400 into shape (40,40)"
     ]
    }
   ],
   "source": [
    "conv1 = nn.Conv2d(2, 16, 3, padding = 1)\n",
    "conv11 = nn.Conv2d(16, 16, 3, padding = 1)\n",
    "conv33 = nn.Conv2d(64, 64, 3, padding = 1)\n",
    "pool = nn.MaxPool2d(2,2)\n",
    "conv2 = nn.Conv2d(16, 32, 3,padding = 1)\n",
    "conv3 = nn.Conv2d(32, 64, 3, padding = 1)\n",
    "conv4 = nn.Conv2d(64,128, 3, padding=1)\n",
    "conv5 = nn.ConvTranspose2d(128, 64, 4,stride = 2, padding = 1)\n",
    "conv6 = nn.ConvTranspose2d(64, 32, 4,stride = 2, padding = 1)\n",
    "conv7 = nn.ConvTranspose2d(32, 16, 3, padding = 1)\n",
    "conv8 = nn.ConvTranspose2d(16, 1, 3, padding = 1)\n",
    "upsample = nn.Upsample(size = 20, mode = 'nearest')\n",
    "relu = nn.ReLU()\n",
    "bn1 = nn.BatchNorm2d(16)\n",
    "print(exam.shape)\n",
    "drop = nn.Dropout()\n",
    "x = F.relu(bn1(conv1(exam)))\n",
    "print(f'conv1 - {x.shape}')\n",
    "x = conv11(x)\n",
    "print(f'conv11 - {x.shape}')\n",
    "x = pool(x)\n",
    "print(f'pool - {x.shape}')\n",
    "x = conv2(x)\n",
    "print(f'conv2 - {x.shape}')\n",
    "x = pool(x)\n",
    "print(f'pool - {x.shape}')\n",
    "x = conv3(x)\n",
    "print(f'conv3 - {x.shape}')\n",
    "x = conv33(x)\n",
    "print(f'conv33 - {x.shape}')\n",
    "x = pool(x)\n",
    "print(f'pool - {x.shape}')\n",
    "x = conv4(x)\n",
    "print(f'conv4 - {x.shape}')\n",
    "x = conv5(x)\n",
    "print(f'conv5 - {x.shape}')\n",
    "x = conv6(x)\n",
    "print(f'conv6 - {x.shape}')\n",
    "x = conv7(x)\n",
    "print(f'conv7 - {x.shape}')\n",
    "x = conv8(x)\n",
    "print(f'conv8 - {x.shape}')\n",
    "with torch.no_grad():\n",
    "    plt.imshow(x[2].numpy().reshape(40,40), cmap = 'binary')"
   ]
  },
  {
   "cell_type": "code",
   "execution_count": 11,
   "id": "d32d7d4e",
   "metadata": {},
   "outputs": [],
   "source": [
    "train_set = [check[i] for i in range(8000)]\n",
    "test_set = [check[i] for i in range(8000, len(check))]"
   ]
  },
  {
   "cell_type": "code",
   "execution_count": 12,
   "id": "66852e9a",
   "metadata": {},
   "outputs": [],
   "source": [
    "train_loader = DataLoader(dataset=train_set, batch_size=100, shuffle = True)\n",
    "test_set = DataLoader(dataset=test_set, batch_size=100, shuffle = True)"
   ]
  },
  {
   "cell_type": "code",
   "execution_count": 211,
   "id": "0a4bf285",
   "metadata": {
    "code_folding": []
   },
   "outputs": [
    {
     "name": "stdout",
     "output_type": "stream",
     "text": [
      "epoch 1 / 5, step 1/10000, loss = -0.0000\n",
      "epoch 1 / 5, step 2/10000, loss = -0.0000\n",
      "epoch 1 / 5, step 3/10000, loss = -0.0000\n",
      "epoch 1 / 5, step 4/10000, loss = -0.0000\n",
      "epoch 1 / 5, step 5/10000, loss = -0.0000\n",
      "epoch 1 / 5, step 6/10000, loss = -0.0000\n",
      "epoch 1 / 5, step 7/10000, loss = -0.0000\n",
      "epoch 1 / 5, step 8/10000, loss = -0.0000\n",
      "epoch 1 / 5, step 9/10000, loss = -0.0000\n",
      "epoch 1 / 5, step 10/10000, loss = -0.0000\n",
      "epoch 1 / 5, step 11/10000, loss = -0.0000\n",
      "epoch 1 / 5, step 12/10000, loss = -0.0000\n",
      "epoch 1 / 5, step 13/10000, loss = -0.0000\n",
      "epoch 1 / 5, step 14/10000, loss = -0.0000\n",
      "epoch 1 / 5, step 15/10000, loss = -0.0000\n",
      "epoch 1 / 5, step 16/10000, loss = -0.0000\n",
      "epoch 1 / 5, step 17/10000, loss = -0.0000\n",
      "epoch 1 / 5, step 18/10000, loss = -0.0000\n",
      "epoch 1 / 5, step 19/10000, loss = -0.0000\n",
      "epoch 1 / 5, step 20/10000, loss = -0.0000\n",
      "epoch 1 / 5, step 21/10000, loss = -0.0000\n",
      "epoch 1 / 5, step 22/10000, loss = -0.0000\n",
      "epoch 1 / 5, step 23/10000, loss = -0.0000\n",
      "epoch 1 / 5, step 24/10000, loss = -0.0000\n",
      "epoch 1 / 5, step 25/10000, loss = -0.0000\n",
      "epoch 1 / 5, step 26/10000, loss = -0.0000\n",
      "epoch 1 / 5, step 27/10000, loss = -0.0000\n",
      "epoch 1 / 5, step 28/10000, loss = -0.0000\n",
      "epoch 1 / 5, step 29/10000, loss = -0.0000\n",
      "epoch 1 / 5, step 30/10000, loss = -0.0000\n",
      "epoch 1 / 5, step 31/10000, loss = -0.0000\n",
      "epoch 1 / 5, step 32/10000, loss = -0.0000\n",
      "epoch 1 / 5, step 33/10000, loss = -0.0000\n",
      "epoch 1 / 5, step 34/10000, loss = -0.0000\n",
      "epoch 1 / 5, step 35/10000, loss = -0.0000\n",
      "epoch 1 / 5, step 36/10000, loss = -0.0000\n",
      "epoch 1 / 5, step 37/10000, loss = -0.0000\n",
      "epoch 1 / 5, step 38/10000, loss = -0.0000\n",
      "epoch 1 / 5, step 39/10000, loss = -0.0000\n",
      "epoch 1 / 5, step 40/10000, loss = -0.0000\n",
      "epoch 1 / 5, step 41/10000, loss = -0.0000\n",
      "epoch 1 / 5, step 42/10000, loss = -0.0000\n",
      "epoch 1 / 5, step 43/10000, loss = -0.0000\n",
      "epoch 1 / 5, step 44/10000, loss = -0.0000\n",
      "epoch 1 / 5, step 45/10000, loss = -0.0000\n",
      "epoch 1 / 5, step 46/10000, loss = -0.0000\n",
      "epoch 1 / 5, step 47/10000, loss = -0.0000\n",
      "epoch 1 / 5, step 48/10000, loss = -0.0000\n",
      "epoch 1 / 5, step 49/10000, loss = -0.0000\n",
      "epoch 1 / 5, step 50/10000, loss = -0.0000\n",
      "epoch 1 / 5, step 51/10000, loss = -0.0000\n",
      "epoch 1 / 5, step 52/10000, loss = -0.0000\n",
      "epoch 1 / 5, step 53/10000, loss = -0.0000\n",
      "epoch 1 / 5, step 54/10000, loss = -0.0000\n",
      "epoch 1 / 5, step 55/10000, loss = -0.0000\n",
      "epoch 1 / 5, step 56/10000, loss = -0.0000\n",
      "epoch 1 / 5, step 57/10000, loss = -0.0000\n",
      "epoch 1 / 5, step 58/10000, loss = -0.0000\n",
      "epoch 1 / 5, step 59/10000, loss = -0.0000\n",
      "epoch 1 / 5, step 60/10000, loss = -0.0000\n",
      "epoch 1 / 5, step 61/10000, loss = -0.0000\n",
      "epoch 1 / 5, step 62/10000, loss = -0.0000\n",
      "epoch 1 / 5, step 63/10000, loss = -0.0000\n",
      "epoch 1 / 5, step 64/10000, loss = -0.0000\n",
      "epoch 1 / 5, step 65/10000, loss = -0.0000\n",
      "epoch 1 / 5, step 66/10000, loss = -0.0000\n",
      "epoch 1 / 5, step 67/10000, loss = -0.0000\n",
      "epoch 1 / 5, step 68/10000, loss = -0.0000\n",
      "epoch 1 / 5, step 69/10000, loss = -0.0000\n",
      "epoch 1 / 5, step 70/10000, loss = -0.0000\n",
      "epoch 1 / 5, step 71/10000, loss = -0.0000\n",
      "epoch 1 / 5, step 72/10000, loss = -0.0000\n",
      "epoch 1 / 5, step 73/10000, loss = -0.0000\n",
      "epoch 1 / 5, step 74/10000, loss = -0.0000\n",
      "epoch 1 / 5, step 75/10000, loss = -0.0000\n",
      "epoch 1 / 5, step 76/10000, loss = -0.0000\n",
      "epoch 1 / 5, step 77/10000, loss = -0.0000\n",
      "epoch 1 / 5, step 78/10000, loss = -0.0000\n",
      "epoch 1 / 5, step 79/10000, loss = -0.0000\n",
      "epoch 1 / 5, step 80/10000, loss = -0.0000\n",
      "epoch 2 / 5, step 1/10000, loss = -0.0000\n",
      "epoch 2 / 5, step 2/10000, loss = -0.0000\n",
      "epoch 2 / 5, step 3/10000, loss = -0.0000\n",
      "epoch 2 / 5, step 4/10000, loss = -0.0000\n",
      "epoch 2 / 5, step 5/10000, loss = -0.0000\n",
      "epoch 2 / 5, step 6/10000, loss = -0.0000\n",
      "epoch 2 / 5, step 7/10000, loss = -0.0000\n",
      "epoch 2 / 5, step 8/10000, loss = -0.0000\n",
      "epoch 2 / 5, step 9/10000, loss = -0.0000\n",
      "epoch 2 / 5, step 10/10000, loss = -0.0000\n",
      "epoch 2 / 5, step 11/10000, loss = -0.0000\n",
      "epoch 2 / 5, step 12/10000, loss = -0.0000\n",
      "epoch 2 / 5, step 13/10000, loss = -0.0000\n",
      "epoch 2 / 5, step 14/10000, loss = -0.0000\n",
      "epoch 2 / 5, step 15/10000, loss = -0.0000\n",
      "epoch 2 / 5, step 16/10000, loss = -0.0000\n",
      "epoch 2 / 5, step 17/10000, loss = -0.0000\n",
      "epoch 2 / 5, step 18/10000, loss = -0.0000\n",
      "epoch 2 / 5, step 19/10000, loss = -0.0000\n",
      "epoch 2 / 5, step 20/10000, loss = -0.0000\n",
      "epoch 2 / 5, step 21/10000, loss = -0.0000\n",
      "epoch 2 / 5, step 22/10000, loss = -0.0000\n",
      "epoch 2 / 5, step 23/10000, loss = -0.0000\n",
      "epoch 2 / 5, step 24/10000, loss = -0.0000\n",
      "epoch 2 / 5, step 25/10000, loss = -0.0000\n",
      "epoch 2 / 5, step 26/10000, loss = -0.0000\n",
      "epoch 2 / 5, step 27/10000, loss = -0.0000\n",
      "epoch 2 / 5, step 28/10000, loss = -0.0000\n",
      "epoch 2 / 5, step 29/10000, loss = -0.0000\n",
      "epoch 2 / 5, step 30/10000, loss = -0.0000\n",
      "epoch 2 / 5, step 31/10000, loss = -0.0000\n",
      "epoch 2 / 5, step 32/10000, loss = -0.0000\n",
      "epoch 2 / 5, step 33/10000, loss = -0.0000\n",
      "epoch 2 / 5, step 34/10000, loss = -0.0000\n",
      "epoch 2 / 5, step 35/10000, loss = -0.0000\n",
      "epoch 2 / 5, step 36/10000, loss = -0.0000\n",
      "epoch 2 / 5, step 37/10000, loss = -0.0000\n",
      "epoch 2 / 5, step 38/10000, loss = -0.0000\n",
      "epoch 2 / 5, step 39/10000, loss = -0.0000\n",
      "epoch 2 / 5, step 40/10000, loss = -0.0000\n",
      "epoch 2 / 5, step 41/10000, loss = -0.0000\n",
      "epoch 2 / 5, step 42/10000, loss = -0.0000\n",
      "epoch 2 / 5, step 43/10000, loss = -0.0000\n",
      "epoch 2 / 5, step 44/10000, loss = -0.0000\n",
      "epoch 2 / 5, step 45/10000, loss = -0.0000\n",
      "epoch 2 / 5, step 46/10000, loss = -0.0000\n",
      "epoch 2 / 5, step 47/10000, loss = -0.0000\n",
      "epoch 2 / 5, step 48/10000, loss = -0.0000\n",
      "epoch 2 / 5, step 49/10000, loss = -0.0000\n",
      "epoch 2 / 5, step 50/10000, loss = -0.0000\n",
      "epoch 2 / 5, step 51/10000, loss = -0.0000\n",
      "epoch 2 / 5, step 52/10000, loss = -0.0000\n",
      "epoch 2 / 5, step 53/10000, loss = -0.0000\n",
      "epoch 2 / 5, step 54/10000, loss = -0.0000\n",
      "epoch 2 / 5, step 55/10000, loss = -0.0000\n",
      "epoch 2 / 5, step 56/10000, loss = -0.0000\n",
      "epoch 2 / 5, step 57/10000, loss = -0.0000\n",
      "epoch 2 / 5, step 58/10000, loss = -0.0000\n",
      "epoch 2 / 5, step 59/10000, loss = -0.0000\n",
      "epoch 2 / 5, step 60/10000, loss = -0.0000\n",
      "epoch 2 / 5, step 61/10000, loss = -0.0000\n",
      "epoch 2 / 5, step 62/10000, loss = -0.0000\n"
     ]
    },
    {
     "ename": "KeyboardInterrupt",
     "evalue": "",
     "output_type": "error",
     "traceback": [
      "\u001b[0;31m---------------------------------------------------------------------------\u001b[0m",
      "\u001b[0;31mKeyboardInterrupt\u001b[0m                         Traceback (most recent call last)",
      "Cell \u001b[0;32mIn[211], line 18\u001b[0m\n\u001b[1;32m     11\u001b[0m         loss \u001b[38;5;241m=\u001b[39m criterion(outputs, labels)\n\u001b[1;32m     13\u001b[0m         \u001b[38;5;66;03m# backward\u001b[39;00m\n\u001b[1;32m     14\u001b[0m \u001b[38;5;66;03m#         with torch.no_grad():\u001b[39;00m\n\u001b[1;32m     15\u001b[0m \u001b[38;5;66;03m#             plt.imshow(outputs[0].view(40,40), cmap = 'binary')\u001b[39;00m\n\u001b[1;32m     16\u001b[0m \u001b[38;5;66;03m#         optimizer.zero_grad()\u001b[39;00m\n\u001b[0;32m---> 18\u001b[0m         \u001b[43mloss\u001b[49m\u001b[38;5;241;43m.\u001b[39;49m\u001b[43mbackward\u001b[49m\u001b[43m(\u001b[49m\u001b[43m)\u001b[49m\n\u001b[1;32m     20\u001b[0m         optimizer\u001b[38;5;241m.\u001b[39mstep()\n\u001b[1;32m     22\u001b[0m         \u001b[38;5;28;01mif\u001b[39;00m (i\u001b[38;5;241m+\u001b[39m\u001b[38;5;241m1\u001b[39m) \u001b[38;5;241m%\u001b[39m \u001b[38;5;241m1\u001b[39m \u001b[38;5;241m==\u001b[39m\u001b[38;5;241m0\u001b[39m:\n",
      "File \u001b[0;32m/Library/Frameworks/Python.framework/Versions/3.10/lib/python3.10/site-packages/torch/_tensor.py:488\u001b[0m, in \u001b[0;36mTensor.backward\u001b[0;34m(self, gradient, retain_graph, create_graph, inputs)\u001b[0m\n\u001b[1;32m    478\u001b[0m \u001b[38;5;28;01mif\u001b[39;00m has_torch_function_unary(\u001b[38;5;28mself\u001b[39m):\n\u001b[1;32m    479\u001b[0m     \u001b[38;5;28;01mreturn\u001b[39;00m handle_torch_function(\n\u001b[1;32m    480\u001b[0m         Tensor\u001b[38;5;241m.\u001b[39mbackward,\n\u001b[1;32m    481\u001b[0m         (\u001b[38;5;28mself\u001b[39m,),\n\u001b[0;32m   (...)\u001b[0m\n\u001b[1;32m    486\u001b[0m         inputs\u001b[38;5;241m=\u001b[39minputs,\n\u001b[1;32m    487\u001b[0m     )\n\u001b[0;32m--> 488\u001b[0m \u001b[43mtorch\u001b[49m\u001b[38;5;241;43m.\u001b[39;49m\u001b[43mautograd\u001b[49m\u001b[38;5;241;43m.\u001b[39;49m\u001b[43mbackward\u001b[49m\u001b[43m(\u001b[49m\n\u001b[1;32m    489\u001b[0m \u001b[43m    \u001b[49m\u001b[38;5;28;43mself\u001b[39;49m\u001b[43m,\u001b[49m\u001b[43m \u001b[49m\u001b[43mgradient\u001b[49m\u001b[43m,\u001b[49m\u001b[43m \u001b[49m\u001b[43mretain_graph\u001b[49m\u001b[43m,\u001b[49m\u001b[43m \u001b[49m\u001b[43mcreate_graph\u001b[49m\u001b[43m,\u001b[49m\u001b[43m \u001b[49m\u001b[43minputs\u001b[49m\u001b[38;5;241;43m=\u001b[39;49m\u001b[43minputs\u001b[49m\n\u001b[1;32m    490\u001b[0m \u001b[43m\u001b[49m\u001b[43m)\u001b[49m\n",
      "File \u001b[0;32m/Library/Frameworks/Python.framework/Versions/3.10/lib/python3.10/site-packages/torch/autograd/__init__.py:197\u001b[0m, in \u001b[0;36mbackward\u001b[0;34m(tensors, grad_tensors, retain_graph, create_graph, grad_variables, inputs)\u001b[0m\n\u001b[1;32m    192\u001b[0m     retain_graph \u001b[38;5;241m=\u001b[39m create_graph\n\u001b[1;32m    194\u001b[0m \u001b[38;5;66;03m# The reason we repeat same the comment below is that\u001b[39;00m\n\u001b[1;32m    195\u001b[0m \u001b[38;5;66;03m# some Python versions print out the first line of a multi-line function\u001b[39;00m\n\u001b[1;32m    196\u001b[0m \u001b[38;5;66;03m# calls in the traceback and some print out the last line\u001b[39;00m\n\u001b[0;32m--> 197\u001b[0m \u001b[43mVariable\u001b[49m\u001b[38;5;241;43m.\u001b[39;49m\u001b[43m_execution_engine\u001b[49m\u001b[38;5;241;43m.\u001b[39;49m\u001b[43mrun_backward\u001b[49m\u001b[43m(\u001b[49m\u001b[43m  \u001b[49m\u001b[38;5;66;43;03m# Calls into the C++ engine to run the backward pass\u001b[39;49;00m\n\u001b[1;32m    198\u001b[0m \u001b[43m    \u001b[49m\u001b[43mtensors\u001b[49m\u001b[43m,\u001b[49m\u001b[43m \u001b[49m\u001b[43mgrad_tensors_\u001b[49m\u001b[43m,\u001b[49m\u001b[43m \u001b[49m\u001b[43mretain_graph\u001b[49m\u001b[43m,\u001b[49m\u001b[43m \u001b[49m\u001b[43mcreate_graph\u001b[49m\u001b[43m,\u001b[49m\u001b[43m \u001b[49m\u001b[43minputs\u001b[49m\u001b[43m,\u001b[49m\n\u001b[1;32m    199\u001b[0m \u001b[43m    \u001b[49m\u001b[43mallow_unreachable\u001b[49m\u001b[38;5;241;43m=\u001b[39;49m\u001b[38;5;28;43;01mTrue\u001b[39;49;00m\u001b[43m,\u001b[49m\u001b[43m \u001b[49m\u001b[43maccumulate_grad\u001b[49m\u001b[38;5;241;43m=\u001b[39;49m\u001b[38;5;28;43;01mTrue\u001b[39;49;00m\u001b[43m)\u001b[49m\n",
      "\u001b[0;31mKeyboardInterrupt\u001b[0m: "
     ]
    }
   ],
   "source": [
    "learning_rate = 0.001\n",
    "criterion = nn.CrossEntropyLoss()\n",
    "optimizer = torch.optim.SGD(unet.parameters(), lr = learning_rate)\n",
    "n_epochs = 5\n",
    "\n",
    "for epoch in range(n_epochs):\n",
    "    for i, (images, labels) in enumerate(train_loader):\n",
    "        \n",
    "#         print(images.shape, labels.shape)\n",
    "        outputs = unet(images)\n",
    "        loss = criterion(outputs, labels)\n",
    "        \n",
    "        # backward\n",
    "#         with torch.no_grad():\n",
    "#             plt.imshow(outputs[0].view(40,40), cmap = 'binary')\n",
    "#         optimizer.zero_grad()\n",
    "        \n",
    "        loss.backward()\n",
    "        \n",
    "        optimizer.step()\n",
    "        \n",
    "        if (i+1) % 1 ==0:\n",
    "            \n",
    "            print(f'epoch {epoch+1} / {n_epochs}, step {i+1}/{len(check)}, loss = {loss.item():.4f}')"
   ]
  },
  {
   "cell_type": "code",
   "execution_count": 64,
   "id": "614c7889",
   "metadata": {},
   "outputs": [],
   "source": [
    "exiter = iter(test_set)\n",
    "exam, target = next(exiter)"
   ]
  },
  {
   "cell_type": "code",
   "execution_count": 65,
   "id": "888fc327",
   "metadata": {},
   "outputs": [
    {
     "data": {
      "text/plain": [
       "torch.Size([4, 2, 40, 40])"
      ]
     },
     "execution_count": 65,
     "metadata": {},
     "output_type": "execute_result"
    }
   ],
   "source": [
    "exam.shape"
   ]
  },
  {
   "cell_type": "code",
   "execution_count": 88,
   "id": "44029ee9",
   "metadata": {},
   "outputs": [
    {
     "data": {
      "text/plain": [
       "torch.Size([4, 40, 40])"
      ]
     },
     "execution_count": 88,
     "metadata": {},
     "output_type": "execute_result"
    }
   ],
   "source": [
    "target.shape"
   ]
  },
  {
   "cell_type": "code",
   "execution_count": 194,
   "id": "e3cd9011",
   "metadata": {},
   "outputs": [
    {
     "data": {
      "text/plain": [
       "<matplotlib.image.AxesImage at 0x158edfee0>"
      ]
     },
     "execution_count": 194,
     "metadata": {},
     "output_type": "execute_result"
    },
    {
     "data": {
      "image/png": "[encoded data removed]",
      "text/plain": [
       "<Figure size 640x480 with 1 Axes>"
      ]
     },
     "metadata": {},
     "output_type": "display_data"
    }
   ],
   "source": [
    "plt.imshow(target.view(4,1,40,40)[0][0], cmap = 'binary')"
   ]
  },
  {
   "cell_type": "code",
   "execution_count": null,
   "id": "1e2019e7",
   "metadata": {},
   "outputs": [],
   "source": []
  },
  {
   "cell_type": "code",
   "execution_count": 66,
   "id": "45d01230",
   "metadata": {},
   "outputs": [],
   "source": [
    "image_check = check[0][0]"
   ]
  },
  {
   "cell_type": "code",
   "execution_count": 67,
   "id": "65b505d0",
   "metadata": {},
   "outputs": [
    {
     "data": {
      "text/plain": [
       "torch.Size([40, 40])"
      ]
     },
     "execution_count": 67,
     "metadata": {},
     "output_type": "execute_result"
    }
   ],
   "source": [
    "image_check[0].shape"
   ]
  },
  {
   "cell_type": "code",
   "execution_count": 142,
   "id": "bb0396ad",
   "metadata": {},
   "outputs": [
    {
     "name": "stdout",
     "output_type": "stream",
     "text": [
      "torch.Size([4, 2, 40, 40])\n",
      "conv1 - torch.Size([4, 16, 40, 40])\n",
      "pool - torch.Size([4, 16, 20, 20])\n",
      "conv2 - torch.Size([4, 32, 20, 20])\n",
      "drop - torch.Size([4, 32, 20, 20])\n",
      "conv4 - torch.Size([4, 64, 20, 20])\n",
      "pool - torch.Size([4, 64, 10, 10])\n",
      "conv4 - torch.Size([4, 128, 10, 10])\n",
      "conv5 - torch.Size([4, 64, 20, 20])\n",
      "conv6 - torch.Size([4, 32, 40, 40])\n",
      "conv7 - torch.Size([4, 16, 40, 40])\n",
      "conv8 - torch.Size([4, 1, 40, 40])\n"
     ]
    },
    {
     "data": {
      "image/png": "[encoded data removed]",
      "text/plain": [
       "<Figure size 640x480 with 1 Axes>"
      ]
     },
     "metadata": {},
     "output_type": "display_data"
    }
   ],
   "source": [
    "conv1 = nn.Conv2d(2, 16, 3, padding = 1)\n",
    "pool = nn.MaxPool2d(2,2)\n",
    "conv2 = nn.Conv2d(16, 32, 3,padding = 1)\n",
    "conv3 = nn.Conv2d(32, 64, 3, padding = 1)\n",
    "conv4 = nn.Conv2d(64,128, 3, padding=1)\n",
    "conv5 = nn.ConvTranspose2d(128, 64, 4,stride = 2, padding = 1)\n",
    "conv6 = nn.ConvTranspose2d(64, 32, 4,stride = 2, padding = 1)\n",
    "conv7 = nn.ConvTranspose2d(32, 16, 3, padding = 1)\n",
    "conv8 = nn.ConvTranspose2d(16, 1, 3, padding = 1)\n",
    "upsample = nn.Upsample(size = 20, mode = 'nearest')\n",
    "print(exam.shape)\n",
    "drop = nn.Dropout()\n",
    "x = conv1(exam)\n",
    "print(f'conv1 - {x.shape}')\n",
    "x = pool(x)\n",
    "print(f'pool - {x.shape}')\n",
    "x = conv2(x)\n",
    "print(f'conv2 - {x.shape}')\n",
    "x = drop(x)\n",
    "print(f'drop - {x.shape}')\n",
    "x = conv3(x)\n",
    "print(f'conv4 - {x.shape}')\n",
    "x = pool(x)\n",
    "print(f'pool - {x.shape}')\n",
    "x = conv4(x)\n",
    "print(f'conv4 - {x.shape}')\n",
    "x = conv5(x)\n",
    "print(f'conv5 - {x.shape}')\n",
    "x = conv6(x)\n",
    "print(f'conv6 - {x.shape}')\n",
    "x = conv7(x)\n",
    "print(f'conv7 - {x.shape}')\n",
    "x = conv8(x)\n",
    "print(f'conv8 - {x.shape}')\n",
    "with torch.no_grad():\n",
    "    plt.imshow(x[2].numpy().reshape(40,40), cmap = 'binary')"
   ]
  },
  {
   "cell_type": "code",
   "execution_count": 69,
   "id": "436f0d92",
   "metadata": {},
   "outputs": [],
   "source": [
    "up_check = image_check[0].view(1,1,40,40)"
   ]
  },
  {
   "cell_type": "code",
   "execution_count": 70,
   "id": "2171a731",
   "metadata": {},
   "outputs": [
    {
     "data": {
      "text/plain": [
       "<matplotlib.image.AxesImage at 0x1331a1ea0>"
      ]
     },
     "execution_count": 70,
     "metadata": {},
     "output_type": "execute_result"
    },
    {
     "data": {
      "image/png": "[encoded data removed]",
      "text/plain": [
       "<Figure size 640x480 with 1 Axes>"
      ]
     },
     "metadata": {},
     "output_type": "display_data"
    }
   ],
   "source": [
    "plt.imshow(np.reshape(up_check.numpy(), (40,40)), cmap = 'binary')"
   ]
  },
  {
   "cell_type": "code",
   "execution_count": null,
   "id": "20efdec7",
   "metadata": {},
   "outputs": [],
   "source": []
  },
  {
   "cell_type": "code",
   "execution_count": 71,
   "id": "2e25b696",
   "metadata": {},
   "outputs": [],
   "source": [
    "up = nn.Upsample(size = (80,80))"
   ]
  },
  {
   "cell_type": "code",
   "execution_count": 72,
   "id": "7e1955e0",
   "metadata": {},
   "outputs": [
    {
     "data": {
      "text/plain": [
       "torch.Size([1, 1, 80, 80])"
      ]
     },
     "execution_count": 72,
     "metadata": {},
     "output_type": "execute_result"
    }
   ],
   "source": [
    "up_check_sam = up(up_check)\n",
    "up_check_sam.shape"
   ]
  },
  {
   "cell_type": "code",
   "execution_count": 73,
   "id": "732e1f64",
   "metadata": {},
   "outputs": [
    {
     "data": {
      "text/plain": [
       "<matplotlib.image.AxesImage at 0x133219780>"
      ]
     },
     "execution_count": 73,
     "metadata": {},
     "output_type": "execute_result"
    },
    {
     "data": {
      "image/png": "[encoded data removed]",
      "text/plain": [
       "<Figure size 640x480 with 1 Axes>"
      ]
     },
     "metadata": {},
     "output_type": "display_data"
    }
   ],
   "source": [
    "plt.imshow(np.reshape(up_check_sam.numpy(), (80,80)), cmap = 'binary')"
   ]
  },
  {
   "cell_type": "code",
   "execution_count": 18,
   "id": "32dad0c1",
   "metadata": {},
   "outputs": [],
   "source": [
    "m = nn.Upsample( size = (8,8),mode='nearest')"
   ]
  },
  {
   "cell_type": "code",
   "execution_count": 20,
   "id": "8b1ee130",
   "metadata": {},
   "outputs": [
    {
     "data": {
      "text/plain": [
       "(tensor([[ 0.,  0.,  1.,  1.,  2.,  2.,  3.,  3.],\n",
       "         [ 0.,  0.,  1.,  1.,  2.,  2.,  3.,  3.],\n",
       "         [ 4.,  4.,  5.,  5.,  6.,  6.,  7.,  7.],\n",
       "         [ 4.,  4.,  5.,  5.,  6.,  6.,  7.,  7.],\n",
       "         [ 8.,  8.,  9.,  9., 10., 10., 11., 11.],\n",
       "         [ 8.,  8.,  9.,  9., 10., 10., 11., 11.],\n",
       "         [12., 12., 13., 13., 14., 14., 15., 15.],\n",
       "         [12., 12., 13., 13., 14., 14., 15., 15.]]),\n",
       " torch.Size([1, 1, 8, 8]))"
      ]
     },
     "execution_count": 20,
     "metadata": {},
     "output_type": "execute_result"
    }
   ],
   "source": [
    "m(a).view(8,8), m(a).shape"
   ]
  },
  {
   "cell_type": "code",
   "execution_count": 16,
   "id": "3ea8e071",
   "metadata": {},
   "outputs": [
    {
     "data": {
      "text/plain": [
       "tensor([[[ 0.0000,  0.0000,  0.1250,  0.3750,  0.6250,  0.8750,  1.1250,\n",
       "           1.3750],\n",
       "         [ 1.6250,  1.8750,  2.1250,  2.3750,  2.6250,  2.8750,  3.0000,\n",
       "           3.0000],\n",
       "         [ 4.0000,  4.0000,  4.1250,  4.3750,  4.6250,  4.8750,  5.1250,\n",
       "           5.3750],\n",
       "         [ 5.6250,  5.8750,  6.1250,  6.3750,  6.6250,  6.8750,  7.0000,\n",
       "           7.0000],\n",
       "         [ 8.0000,  8.0000,  8.1250,  8.3750,  8.6250,  8.8750,  9.1250,\n",
       "           9.3750],\n",
       "         [ 9.6250,  9.8750, 10.1250, 10.3750, 10.6250, 10.8750, 11.0000,\n",
       "          11.0000],\n",
       "         [12.0000, 12.0000, 12.1250, 12.3750, 12.6250, 12.8750, 13.1250,\n",
       "          13.3750],\n",
       "         [13.6250, 13.8750, 14.1250, 14.3750, 14.6250, 14.8750, 15.0000,\n",
       "          15.0000]]])"
      ]
     },
     "execution_count": 16,
     "metadata": {},
     "output_type": "execute_result"
    }
   ],
   "source": [
    "m(b).view(1,8,8)"
   ]
  },
  {
   "cell_type": "code",
   "execution_count": 24,
   "id": "5e495136",
   "metadata": {
    "scrolled": true
   },
   "outputs": [
    {
     "name": "stderr",
     "output_type": "stream",
     "text": [
      "C:\\Users\\test\\AppData\\Local\\Programs\\Python\\Python310\\lib\\site-packages\\torch\\hub.py:267: UserWarning: You are about to download and run code from an untrusted repository. In a future release, this won't be allowed. To add the repository to your trusted list, change the command to {calling_fn}(..., trust_repo=False) and a command prompt will appear asking for an explicit confirmation of trust, or load(..., trust_repo=True), which will assume that the prompt is to be answered with 'yes'. You can also use load(..., trust_repo='check') which will only prompt for confirmation if the repo is not already trusted. This will eventually be the default behaviour\n",
      "  warnings.warn(\n",
      "Downloading: \"https://github.com/mateuszbuda/brain-segmentation-pytorch/zipball/master\" to C:\\Users\\test/.cache\\torch\\hub\\master.zip\n"
     ]
    }
   ],
   "source": [
    "model = torch.hub.load('mateuszbuda/brain-segmentation-pytorch', 'unet',\n",
    "    in_channels=2, out_channels=1, init_features=16, pretrained=False)"
   ]
  },
  {
   "cell_type": "code",
   "execution_count": null,
   "id": "e343e161",
   "metadata": {},
   "outputs": [],
   "source": []
  },
  {
   "cell_type": "code",
   "execution_count": 26,
   "id": "65da8e8a",
   "metadata": {},
   "outputs": [],
   "source": [
    "learning_rate = 0.001\n",
    "criterion = nn.BCEWithLogitsLoss()\n",
    "optimizer = torch.optim.ADAM(model.parameters(), lr = learning_rate)\n",
    "# n_epochs = 2\n",
    "\n",
    "# for epochs in range(n_epochs):\n",
    "#     for i, (images, labels) in enumerate(train_loader):\n",
    "        \n",
    "# #         print(images.shape, labels.shape)\n",
    "#         outputs = model(images)\n",
    "#         loss = criterion(outputs, labels)\n",
    "        \n",
    "        \n",
    "#         # backward\n",
    "        \n",
    "#         optimizer.zero_grad()\n",
    "        \n",
    "#         loss.backward()\n",
    "        \n",
    "#         optimizer.step()\n",
    "        \n",
    "#         if (i+1) % 100 ==0:\n",
    "            \n",
    "#             print(f'epoch {epoch+1} / {num_epochs}, step {i+1}/{n_total_steps}, loss = {loss.item():.4f}')"
   ]
  },
  {
   "cell_type": "code",
   "execution_count": 16,
   "id": "9220a946",
   "metadata": {},
   "outputs": [
    {
     "name": "stdout",
     "output_type": "stream",
     "text": [
      "pred - torch.Size([3, 1, 160, 160])\n",
      "torch.Size([3, 2, 160, 160])\n"
     ]
    }
   ],
   "source": [
    "import torch\n",
    "import torch.nn as nn\n",
    "import torchvision.transforms.functional as TF\n",
    "\n",
    "''' inplace=True means that \n",
    "                it will modify the input \n",
    "                directly, without allocating any\n",
    "                additional output. It can sometimes slightly decrease the memory usage\n",
    "'''\n",
    "class DoubleConv(nn.Module):\n",
    "    def __init__(self, in_channels, out_channels):\n",
    "        super().__init__()\n",
    "        self.conv = nn.Sequential(\n",
    "            nn.Conv2d(in_channels, out_channels,kernel_size=3,stride = 1,padding = 1, bias =False), # bias false cause we use batch norm\n",
    "            nn.BatchNorm2d(out_channels),\n",
    "            nn.ReLU(inplace=True),\n",
    "            nn.Conv2d(out_channels, out_channels,kernel_size=3,stride = 1,padding = 1, bias =False), # bias false cause we use batch norm\n",
    "            nn.BatchNorm2d(out_channels),\n",
    "            nn.ReLU(inplace=True)\n",
    "        )\n",
    "\n",
    "    def forward(self,x):\n",
    "        return self.conv(x)\n",
    "\n",
    "\n",
    "\n",
    "class UNET(nn.Module):\n",
    "    def __init__(\n",
    "        self, in_channels = 3, out_channels = 1, features = [64,128,256,512] # features - the channels\n",
    "    ):\n",
    "        super().__init__()\n",
    "        self.ups = nn.ModuleList()\n",
    "        self.downs = nn.ModuleList()\n",
    "        self.pool = nn.MaxPool2d(kernel_size=2, stride=2)\n",
    "\n",
    "        #Down part of UNET\n",
    "\n",
    "        for feature in features:\n",
    "            self.downs.append(DoubleConv(in_channels, feature))\n",
    "            in_channels = feature\n",
    "\n",
    "        # up part of UNET\n",
    "\n",
    "        for feature in reversed(features):\n",
    "            self.ups.append(\n",
    "                nn.ConvTranspose2d(feature *2, feature, kernel_size=2, stride = 2)\n",
    "            )\n",
    "\n",
    "            self.ups.append(DoubleConv(feature*2, feature))\n",
    "\n",
    "        self.bottleneck = DoubleConv(features[-1], features[-1]*2)\n",
    "        self.final_conv = nn.Conv2d(features[0], out_channels, kernel_size=1)\n",
    "\n",
    "           \n",
    "    def forward(self,x):\n",
    "        skip_connections = []\n",
    "\n",
    "        for down in self.downs:\n",
    "            x = down(x)\n",
    "            skip_connections.append(x)\n",
    "            x = self.pool(x)\n",
    "        \n",
    "        x = self.bottleneck(x)\n",
    "        skip_connections = skip_connections[::-1]\n",
    "\n",
    "        for idx in range(0, len(self.ups), 2):\n",
    "            x = self.ups[idx](x) # ConvTranspose2d\n",
    "            skip_connection = skip_connections[idx//2]\n",
    "\n",
    "            if x.shape != skip_connection.shape:\n",
    "                x = TF.resize(x, size = skip_connection.shape[2:])\n",
    "\n",
    "            concat_skip = torch.cat((skip_connection,x), dim = 1) # concatenaate and the double conv\n",
    "            x = self.ups[idx+1](concat_skip)\n",
    "\n",
    "        return self.final_conv(x)\n",
    "\n",
    "# def test():\n",
    "#     x = torch.randn((3,2,160,160))\n",
    "#     model = UNET(in_channels=2, out_channels=1)\n",
    "#     preds = model(x)\n",
    "#     print(f'pred - {preds.shape}')\n",
    "#     print(x.shape)\n",
    "#     # assert preds.shape == x.shape\n",
    "\n",
    "# if __name__ == \"__main__\":\n",
    "#     test()"
   ]
  },
  {
   "cell_type": "code",
   "execution_count": 27,
   "id": "9b6c5fe4",
   "metadata": {},
   "outputs": [],
   "source": [
    "model = UNET(in_channels=2, out_channels = 1)"
   ]
  },
  {
   "cell_type": "code",
   "execution_count": 32,
   "id": "28d78395",
   "metadata": {},
   "outputs": [
    {
     "name": "stdout",
     "output_type": "stream",
     "text": [
      "epoch 1 / 2, step 1/80, loss = 0.4785\n",
      "epoch 1 / 2, step 2/80, loss = 0.4218\n",
      "epoch 1 / 2, step 3/80, loss = 0.3850\n",
      "epoch 1 / 2, step 4/80, loss = 0.3569\n",
      "epoch 1 / 2, step 5/80, loss = 0.3453\n",
      "epoch 1 / 2, step 6/80, loss = 0.3224\n",
      "epoch 1 / 2, step 7/80, loss = 0.3140\n",
      "epoch 1 / 2, step 8/80, loss = 0.2995\n",
      "epoch 1 / 2, step 9/80, loss = 0.2928\n",
      "epoch 1 / 2, step 10/80, loss = 0.2892\n",
      "epoch 1 / 2, step 11/80, loss = 0.2780\n",
      "epoch 1 / 2, step 12/80, loss = 0.2674\n",
      "epoch 1 / 2, step 13/80, loss = 0.2697\n",
      "epoch 1 / 2, step 14/80, loss = 0.2721\n",
      "epoch 1 / 2, step 15/80, loss = 0.2516\n",
      "epoch 1 / 2, step 16/80, loss = 0.2644\n",
      "epoch 1 / 2, step 17/80, loss = 0.2492\n",
      "epoch 1 / 2, step 18/80, loss = 0.2502\n",
      "epoch 1 / 2, step 19/80, loss = 0.2497\n",
      "epoch 1 / 2, step 20/80, loss = 0.2445\n",
      "epoch 1 / 2, step 21/80, loss = 0.2451\n",
      "epoch 1 / 2, step 22/80, loss = 0.2503\n",
      "epoch 1 / 2, step 23/80, loss = 0.2366\n",
      "epoch 1 / 2, step 24/80, loss = 0.2414\n",
      "epoch 1 / 2, step 25/80, loss = 0.2482\n",
      "epoch 1 / 2, step 26/80, loss = 0.2364\n",
      "epoch 1 / 2, step 27/80, loss = 0.2435\n",
      "epoch 1 / 2, step 28/80, loss = 0.2372\n",
      "epoch 1 / 2, step 29/80, loss = 0.2421\n",
      "epoch 1 / 2, step 30/80, loss = 0.2450\n",
      "epoch 1 / 2, step 31/80, loss = 0.2332\n",
      "epoch 1 / 2, step 32/80, loss = 0.2312\n",
      "epoch 1 / 2, step 33/80, loss = 0.2398\n",
      "epoch 1 / 2, step 34/80, loss = 0.2388\n",
      "epoch 1 / 2, step 35/80, loss = 0.2348\n",
      "epoch 1 / 2, step 36/80, loss = 0.2315\n",
      "epoch 1 / 2, step 37/80, loss = 0.2327\n",
      "epoch 1 / 2, step 38/80, loss = 0.2292\n",
      "epoch 1 / 2, step 39/80, loss = 0.2363\n",
      "epoch 1 / 2, step 40/80, loss = 0.2232\n",
      "epoch 1 / 2, step 41/80, loss = 0.2339\n",
      "epoch 1 / 2, step 42/80, loss = 0.2242\n",
      "epoch 1 / 2, step 43/80, loss = 0.2343\n",
      "epoch 1 / 2, step 44/80, loss = 0.2133\n",
      "epoch 1 / 2, step 45/80, loss = 0.2242\n",
      "epoch 1 / 2, step 46/80, loss = 0.2269\n",
      "epoch 1 / 2, step 47/80, loss = 0.2220\n",
      "epoch 1 / 2, step 48/80, loss = 0.2252\n",
      "epoch 1 / 2, step 49/80, loss = 0.2176\n",
      "epoch 1 / 2, step 50/80, loss = 0.2202\n",
      "epoch 1 / 2, step 51/80, loss = 0.2312\n",
      "epoch 1 / 2, step 52/80, loss = 0.2217\n",
      "epoch 1 / 2, step 53/80, loss = 0.2286\n",
      "epoch 1 / 2, step 54/80, loss = 0.2215\n",
      "epoch 1 / 2, step 55/80, loss = 0.2204\n",
      "epoch 1 / 2, step 56/80, loss = 0.2245\n",
      "epoch 1 / 2, step 57/80, loss = 0.2291\n",
      "epoch 1 / 2, step 58/80, loss = 0.2249\n",
      "epoch 1 / 2, step 59/80, loss = 0.2244\n",
      "epoch 1 / 2, step 60/80, loss = 0.2125\n",
      "epoch 1 / 2, step 61/80, loss = 0.2195\n",
      "epoch 1 / 2, step 62/80, loss = 0.2244\n",
      "epoch 1 / 2, step 63/80, loss = 0.2059\n",
      "epoch 1 / 2, step 64/80, loss = 0.2175\n",
      "epoch 1 / 2, step 65/80, loss = 0.2138\n",
      "epoch 1 / 2, step 66/80, loss = 0.2105\n",
      "epoch 1 / 2, step 67/80, loss = 0.2135\n",
      "epoch 1 / 2, step 68/80, loss = 0.2158\n",
      "epoch 1 / 2, step 69/80, loss = 0.2220\n",
      "epoch 1 / 2, step 70/80, loss = 0.2203\n",
      "epoch 1 / 2, step 71/80, loss = 0.2197\n",
      "epoch 1 / 2, step 72/80, loss = 0.2169\n",
      "epoch 1 / 2, step 73/80, loss = 0.2091\n",
      "epoch 1 / 2, step 74/80, loss = 0.2145\n",
      "epoch 1 / 2, step 75/80, loss = 0.2033\n",
      "epoch 1 / 2, step 76/80, loss = 0.2164\n",
      "epoch 1 / 2, step 77/80, loss = 0.2073\n",
      "epoch 1 / 2, step 78/80, loss = 0.2145\n",
      "epoch 1 / 2, step 79/80, loss = 0.2140\n",
      "epoch 1 / 2, step 80/80, loss = 0.2125\n",
      "epoch 2 / 2, step 1/80, loss = 0.2024\n",
      "epoch 2 / 2, step 2/80, loss = 0.2069\n",
      "epoch 2 / 2, step 3/80, loss = 0.2066\n",
      "epoch 2 / 2, step 4/80, loss = 0.2152\n",
      "epoch 2 / 2, step 5/80, loss = 0.2051\n",
      "epoch 2 / 2, step 6/80, loss = 0.2038\n",
      "epoch 2 / 2, step 7/80, loss = 0.2202\n",
      "epoch 2 / 2, step 8/80, loss = 0.2152\n",
      "epoch 2 / 2, step 9/80, loss = 0.2129\n",
      "epoch 2 / 2, step 10/80, loss = 0.2015\n",
      "epoch 2 / 2, step 11/80, loss = 0.2083\n",
      "epoch 2 / 2, step 12/80, loss = 0.2006\n",
      "epoch 2 / 2, step 13/80, loss = 0.2061\n",
      "epoch 2 / 2, step 14/80, loss = 0.2026\n",
      "epoch 2 / 2, step 15/80, loss = 0.2133\n",
      "epoch 2 / 2, step 16/80, loss = 0.2037\n",
      "epoch 2 / 2, step 17/80, loss = 0.1974\n",
      "epoch 2 / 2, step 18/80, loss = 0.1917\n",
      "epoch 2 / 2, step 19/80, loss = 0.2047\n",
      "epoch 2 / 2, step 20/80, loss = 0.2084\n",
      "epoch 2 / 2, step 21/80, loss = 0.2065\n",
      "epoch 2 / 2, step 22/80, loss = 0.2039\n",
      "epoch 2 / 2, step 23/80, loss = 0.2026\n",
      "epoch 2 / 2, step 24/80, loss = 0.2115\n",
      "epoch 2 / 2, step 25/80, loss = 0.2092\n",
      "epoch 2 / 2, step 26/80, loss = 0.2029\n",
      "epoch 2 / 2, step 27/80, loss = 0.1978\n",
      "epoch 2 / 2, step 28/80, loss = 0.2065\n",
      "epoch 2 / 2, step 29/80, loss = 0.1980\n",
      "epoch 2 / 2, step 30/80, loss = 0.1979\n",
      "epoch 2 / 2, step 31/80, loss = 0.2147\n",
      "epoch 2 / 2, step 32/80, loss = 0.2018\n",
      "epoch 2 / 2, step 33/80, loss = 0.1942\n",
      "epoch 2 / 2, step 34/80, loss = 0.1968\n",
      "epoch 2 / 2, step 35/80, loss = 0.1958\n",
      "epoch 2 / 2, step 36/80, loss = 0.2059\n",
      "epoch 2 / 2, step 37/80, loss = 0.2055\n",
      "epoch 2 / 2, step 38/80, loss = 0.2009\n",
      "epoch 2 / 2, step 39/80, loss = 0.1932\n",
      "epoch 2 / 2, step 40/80, loss = 0.1955\n",
      "epoch 2 / 2, step 41/80, loss = 0.1920\n",
      "epoch 2 / 2, step 42/80, loss = 0.2040\n",
      "epoch 2 / 2, step 43/80, loss = 0.1938\n",
      "epoch 2 / 2, step 44/80, loss = 0.2009\n",
      "epoch 2 / 2, step 45/80, loss = 0.1989\n",
      "epoch 2 / 2, step 46/80, loss = 0.1950\n",
      "epoch 2 / 2, step 47/80, loss = 0.1945\n",
      "epoch 2 / 2, step 48/80, loss = 0.1941\n",
      "epoch 2 / 2, step 49/80, loss = 0.2043\n",
      "epoch 2 / 2, step 50/80, loss = 0.2002\n",
      "epoch 2 / 2, step 51/80, loss = 0.1951\n",
      "epoch 2 / 2, step 52/80, loss = 0.1955\n",
      "epoch 2 / 2, step 53/80, loss = 0.1914\n",
      "epoch 2 / 2, step 54/80, loss = 0.1977\n",
      "epoch 2 / 2, step 55/80, loss = 0.2019\n",
      "epoch 2 / 2, step 56/80, loss = 0.1856\n",
      "epoch 2 / 2, step 57/80, loss = 0.1915\n",
      "epoch 2 / 2, step 58/80, loss = 0.1963\n",
      "epoch 2 / 2, step 59/80, loss = 0.1919\n",
      "epoch 2 / 2, step 60/80, loss = 0.1941\n",
      "epoch 2 / 2, step 61/80, loss = 0.2009\n",
      "epoch 2 / 2, step 62/80, loss = 0.1887\n",
      "epoch 2 / 2, step 63/80, loss = 0.1906\n",
      "epoch 2 / 2, step 64/80, loss = 0.1945\n",
      "epoch 2 / 2, step 65/80, loss = 0.1911\n",
      "epoch 2 / 2, step 66/80, loss = 0.1922\n",
      "epoch 2 / 2, step 67/80, loss = 0.1892\n",
      "epoch 2 / 2, step 68/80, loss = 0.1898\n",
      "epoch 2 / 2, step 69/80, loss = 0.1859\n",
      "epoch 2 / 2, step 70/80, loss = 0.1919\n",
      "epoch 2 / 2, step 71/80, loss = 0.1880\n",
      "epoch 2 / 2, step 72/80, loss = 0.1842\n",
      "epoch 2 / 2, step 73/80, loss = 0.1822\n",
      "epoch 2 / 2, step 74/80, loss = 0.1775\n",
      "epoch 2 / 2, step 75/80, loss = 0.1909\n",
      "epoch 2 / 2, step 76/80, loss = 0.1950\n",
      "epoch 2 / 2, step 77/80, loss = 0.1874\n",
      "epoch 2 / 2, step 78/80, loss = 0.1909\n",
      "epoch 2 / 2, step 79/80, loss = 0.1954\n",
      "epoch 2 / 2, step 80/80, loss = 0.1924\n"
     ]
    }
   ],
   "source": [
    "learning_rate = 1e-4\n",
    "criterion = nn.BCEWithLogitsLoss()\n",
    "optimizer = torch.optim.Adam(model.parameters(), lr = learning_rate)\n",
    "n_epochs = 2\n",
    "\n",
    "for epoch in range(n_epochs):\n",
    "    for i, (images, labels) in enumerate(train_loader):\n",
    "        \n",
    "#         print(images.shape, labels.shape)\n",
    "        outputs = model(images)\n",
    "        loss = criterion(outputs, labels)\n",
    "        \n",
    "        \n",
    "        # backward\n",
    "        \n",
    "        optimizer.zero_grad()\n",
    "        \n",
    "        loss.backward()\n",
    "        \n",
    "        optimizer.step()\n",
    "        \n",
    "        if (i+1) % 1 ==0:\n",
    "            \n",
    "            print(f'epoch {epoch+1} / {n_epochs}, step {i+1}/{len(train_loader)}, loss = {loss.item():.4f}')"
   ]
  },
  {
   "cell_type": "code",
   "execution_count": 62,
   "id": "e9242a2a",
   "metadata": {},
   "outputs": [],
   "source": [
    "test_ex = next(iter(test_set))"
   ]
  },
  {
   "cell_type": "code",
   "execution_count": 63,
   "id": "83302f93",
   "metadata": {},
   "outputs": [],
   "source": [
    "pr = model(test_ex[0])"
   ]
  },
  {
   "cell_type": "code",
   "execution_count": 64,
   "id": "e2d01a88",
   "metadata": {},
   "outputs": [
    {
     "data": {
      "image/png": "[encoded data removed]",
      "text/plain": [
       "<Figure size 640x480 with 1 Axes>"
      ]
     },
     "metadata": {},
     "output_type": "display_data"
    }
   ],
   "source": [
    "with torch.no_grad():\n",
    "    plt.imshow(pr[0].view(40,40), cmap='binary')"
   ]
  },
  {
   "cell_type": "code",
   "execution_count": 65,
   "id": "6e9b3c53",
   "metadata": {},
   "outputs": [
    {
     "data": {
      "text/plain": [
       "<matplotlib.image.AxesImage at 0x1fd1ebac460>"
      ]
     },
     "execution_count": 65,
     "metadata": {},
     "output_type": "execute_result"
    },
    {
     "data": {
      "image/png": "[encoded data removed]",
      "text/plain": [
       "<Figure size 640x480 with 1 Axes>"
      ]
     },
     "metadata": {},
     "output_type": "display_data"
    }
   ],
   "source": [
    "plt.imshow(test_ex[1][0].view(40,40), cmap='binary')"
   ]
  },
  {
   "cell_type": "code",
   "execution_count": 67,
   "id": "0f5514d7",
   "metadata": {},
   "outputs": [
    {
     "data": {
      "text/plain": [
       "<matplotlib.image.AxesImage at 0x1fd33047d30>"
      ]
     },
     "execution_count": 67,
     "metadata": {},
     "output_type": "execute_result"
    },
    {
     "data": {
      "image/png": "[encoded data removed]",
      "text/plain": [
       "<Figure size 640x480 with 1 Axes>"
      ]
     },
     "metadata": {},
     "output_type": "display_data"
    }
   ],
   "source": [
    "plt.imshow(test_ex[0][0][0].view(40,40), cmap='binary')"
   ]
  },
  {
   "cell_type": "code",
   "execution_count": 59,
   "id": "d0adec7f",
   "metadata": {},
   "outputs": [
    {
     "data": {
      "text/plain": [
       "torch.Size([2, 40, 40])"
      ]
     },
     "execution_count": 59,
     "metadata": {},
     "output_type": "execute_result"
    }
   ],
   "source": [
    "test_ex[0][0].shape"
   ]
  },
  {
   "cell_type": "code",
   "execution_count": null,
   "id": "963f4fb7",
   "metadata": {},
   "outputs": [],
   "source": []
  }
 ],
 "metadata": {
  "kernelspec": {
   "display_name": "Python 3 (ipykernel)",
   "language": "python",
   "name": "python3"
  },
  "language_info": {
   "codemirror_mode": {
    "name": "ipython",
    "version": 3
   },
   "file_extension": ".py",
   "mimetype": "text/x-python",
   "name": "python",
   "nbconvert_exporter": "python",
   "pygments_lexer": "ipython3",
   "version": "3.10.8"
  },
  "toc": {
   "base_numbering": 1,
   "nav_menu": {},
   "number_sections": true,
   "sideBar": true,
   "skip_h1_title": false,
   "title_cell": "Table of Contents",
   "title_sidebar": "Contents",
   "toc_cell": false,
   "toc_position": {},
   "toc_section_display": true,
   "toc_window_display": false
  }
 },
 "nbformat": 4,
 "nbformat_minor": 5
}
