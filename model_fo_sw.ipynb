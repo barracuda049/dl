{
 "cells": [
  {
   "cell_type": "code",
   "execution_count": 2,
   "id": "a9c47811",
   "metadata": {},
   "outputs": [],
   "source": [
    "import os\n",
    "import glob\n",
    "import torch\n",
    "import numpy as np\n",
    "import matplotlib.pyplot as plt\n",
    "import torch.nn as nn\n",
    "from torchvision.transforms import transforms\n",
    "from torch.utils.data import DataLoader, Dataset\n",
    "from torch.optim import Adam\n",
    "from torch.autograd import Variable\n",
    "import torchvision \n",
    "import pathlib\n",
    "from pathlib import Path\n",
    "import torch.nn.functional as F"
   ]
  },
  {
   "cell_type": "code",
   "execution_count": 3,
   "id": "d43a1018",
   "metadata": {},
   "outputs": [],
   "source": [
    "path_folder = 'TOP4040/'"
   ]
  },
  {
   "cell_type": "code",
   "execution_count": 4,
   "id": "3e5cbaa9",
   "metadata": {},
   "outputs": [],
   "source": [
    "class NPZLoader(Dataset):\n",
    "    def __init__(self, path, transform=None, cur_iter = 7):\n",
    "        self.path = path\n",
    "        self.files = list(Path(path).glob('**/*.npz'))\n",
    "        self.transform = transform\n",
    "        self.cur_iter = cur_iter\n",
    "\n",
    "    def __len__(self):\n",
    "        return len(self.files)\n",
    "\n",
    "    def __getitem__(self, item):\n",
    "        numpy_array = np.load(self.files[item])['arr_0']\n",
    "        target = numpy_array[-1]\n",
    "        r,c = numpy_array[0].shape\n",
    "        n_1_iter = numpy_array[self.cur_iter]\n",
    "        n_iter = numpy_array[self.cur_iter-1]\n",
    "        gradient = (n_1_iter - n_iter).reshape(1,r,c)\n",
    "        sample = np.concatenate((n_1_iter.reshape(1,r,c),gradient)), target\n",
    "        \n",
    "        \n",
    "        if self.transform:\n",
    "            sample = self.transform(sample)\n",
    "        return sample"
   ]
  },
  {
   "cell_type": "code",
   "execution_count": 5,
   "id": "559235ca",
   "metadata": {},
   "outputs": [],
   "source": [
    "class ToTensor:\n",
    "    def __call__(self, sample):\n",
    "        \n",
    "        image, target = sample\n",
    "        \n",
    "        return torch.from_numpy(image.astype(np.float32)), torch.from_numpy(target.astype(np.float32))\n",
    "        "
   ]
  },
  {
   "cell_type": "code",
   "execution_count": 6,
   "id": "a9944884",
   "metadata": {},
   "outputs": [],
   "source": [
    "check = NPZLoader(path_folder,cur_iter = 4, transform = ToTensor())"
   ]
  },
  {
   "cell_type": "code",
   "execution_count": 7,
   "id": "ac303e32",
   "metadata": {},
   "outputs": [
    {
     "data": {
      "text/plain": [
       "<matplotlib.image.AxesImage at 0x21ef74b5a80>"
      ]
     },
     "execution_count": 7,
     "metadata": {},
     "output_type": "execute_result"
    },
    {
     "data": {
      "image/png": "[encoded data removed]",
      "text/plain": [
       "<Figure size 1400x1100 with 3 Axes>"
      ]
     },
     "metadata": {},
     "output_type": "display_data"
    }
   ],
   "source": [
    "num = 8\n",
    "plt.figure(figsize = (14,11))\n",
    "plt.subplot(1,3,1)\n",
    "plt.title(f'Target')\n",
    "plt.imshow(check[num][1].numpy(), cmap= 'binary')\n",
    "\n",
    "plt.subplot(1,3,2)\n",
    "plt.title(f'n_iters = {check.cur_iter}')\n",
    "plt.imshow(check[num][0][0].numpy(), cmap= 'binary')\n",
    "\n",
    "plt.subplot(1,3,3)\n",
    "plt.title(f'gradient')\n",
    "plt.imshow(check[num][0][1].numpy(), cmap= 'binary')"
   ]
  },
  {
   "cell_type": "code",
   "execution_count": 8,
   "id": "92d50708",
   "metadata": {},
   "outputs": [],
   "source": [
    "class ConvNet(nn.Module):\n",
    "    \n",
    "    def __init__(self):\n",
    "        super(ConvNet,self).__init__()\n",
    "        self.conv1 = nn.Conv2d(2, 18, 3) \n",
    "        self.pool = nn.MaxPool2d(2,2) \n",
    "        self.conv2 = nn.Conv2d(18, 50, 3, padding = 1) \n",
    "        self.conv3 = nn.Conv2d(50, 82, 3, padding = 1)\n",
    "        self.drop = nn.Dropout()\n",
    "        self.conv4 = nn.Conv2d(82,82+64, 3, padding=1)\n",
    "        \n",
    "        \n",
    "    def forward(self,x): \n",
    "        \n",
    "        ..."
   ]
  },
  {
   "cell_type": "code",
   "execution_count": 9,
   "id": "45d01230",
   "metadata": {},
   "outputs": [],
   "source": [
    "image_check = check[0][0]"
   ]
  },
  {
   "cell_type": "code",
   "execution_count": 10,
   "id": "65b505d0",
   "metadata": {},
   "outputs": [
    {
     "data": {
      "text/plain": [
       "torch.Size([40, 40])"
      ]
     },
     "execution_count": 10,
     "metadata": {},
     "output_type": "execute_result"
    }
   ],
   "source": [
    "image_check[0].shape"
   ]
  },
  {
   "cell_type": "code",
   "execution_count": 23,
   "id": "bb0396ad",
   "metadata": {},
   "outputs": [
    {
     "name": "stdout",
     "output_type": "stream",
     "text": [
      "torch.Size([2, 40, 40])\n",
      "conv1 - torch.Size([18, 40, 40])\n",
      "pool - torch.Size([18, 20, 20])\n",
      "conv2 - torch.Size([50, 20, 20])\n",
      "drop - torch.Size([50, 20, 20])\n",
      "conv4 - torch.Size([82, 20, 20])\n",
      "pool - torch.Size([82, 10, 10])\n",
      "conv4 - torch.Size([146, 10, 10])\n",
      "upsample - torch.Size([146, 10, 40])\n"
     ]
    }
   ],
   "source": [
    "conv1 = nn.Conv2d(2, 18, 3, padding = 1)\n",
    "pool = nn.MaxPool2d(2,2)\n",
    "conv2 = nn.Conv2d(18, 50, 3,padding = 1)\n",
    "conv3 = nn.Conv2d(50, 82, 3, padding = 1)\n",
    "conv4 = nn.Conv2d(82,82+64, 3, padding=1)\n",
    "upsample = nn.Upsample(size = 40, mode = 'nearest')\n",
    "print(image_check.shape)\n",
    "drop = nn.Dropout()\n",
    "x = conv1(image_check)\n",
    "print(f'conv1 - {x.shape}')\n",
    "x = pool(x)\n",
    "print(f'pool - {x.shape}')\n",
    "x = conv2(x)\n",
    "print(f'conv2 - {x.shape}')\n",
    "x = drop(x)\n",
    "print(f'drop - {x.shape}')\n",
    "x = conv3(x)\n",
    "print(f'conv4 - {x.shape}')\n",
    "x = pool(x)\n",
    "print(f'pool - {x.shape}')\n",
    "x = conv4(x)\n",
    "print(f'conv4 - {x.shape}')\n",
    "x = upsample(x)\n",
    "print(f'upsample - {x.shape}')"
   ]
  },
  {
   "cell_type": "code",
   "execution_count": 12,
   "id": "fb270116",
   "metadata": {},
   "outputs": [
    {
     "data": {
      "text/plain": [
       "(tensor([[[ 0.,  1.,  2.],\n",
       "          [ 3.,  4.,  5.],\n",
       "          [ 6.,  7.,  8.]],\n",
       " \n",
       "         [[ 9., 10., 11.],\n",
       "          [12., 13., 14.],\n",
       "          [15., 16., 17.]],\n",
       " \n",
       "         [[18., 19., 20.],\n",
       "          [21., 22., 23.],\n",
       "          [24., 25., 26.]]]),\n",
       " torch.Size([3, 3, 3]))"
      ]
     },
     "execution_count": 12,
     "metadata": {},
     "output_type": "execute_result"
    }
   ],
   "source": [
    "a = torch.arange(27, dtype=torch.float32).view(3,3,3)\n",
    "a, a.shape"
   ]
  },
  {
   "cell_type": "code",
   "execution_count": 13,
   "id": "dd2396ff",
   "metadata": {},
   "outputs": [
    {
     "data": {
      "text/plain": [
       "(tensor([[[ 0.,  1.,  2.,  3.],\n",
       "          [ 4.,  5.,  6.,  7.],\n",
       "          [ 8.,  9., 10., 11.],\n",
       "          [12., 13., 14., 15.]]]),\n",
       " torch.Size([1, 4, 4]))"
      ]
     },
     "execution_count": 13,
     "metadata": {},
     "output_type": "execute_result"
    }
   ],
   "source": [
    "b = torch.arange(16, dtype = torch.float32).view(1,4,4)\n",
    "b, b.shape"
   ]
  },
  {
   "cell_type": "code",
   "execution_count": 14,
   "id": "32dad0c1",
   "metadata": {},
   "outputs": [],
   "source": [
    "m = nn.Upsample( size = 16,mode='linear')"
   ]
  },
  {
   "cell_type": "code",
   "execution_count": 15,
   "id": "8b1ee130",
   "metadata": {},
   "outputs": [
    {
     "data": {
      "text/plain": [
       "(tensor([[[ 0.0000,  0.0000,  0.1250,  0.3750,  0.6250,  0.8750,  1.1250,\n",
       "            1.3750,  1.6250,  1.8750,  2.1250,  2.3750,  2.6250,  2.8750,\n",
       "            3.0000,  3.0000],\n",
       "          [ 4.0000,  4.0000,  4.1250,  4.3750,  4.6250,  4.8750,  5.1250,\n",
       "            5.3750,  5.6250,  5.8750,  6.1250,  6.3750,  6.6250,  6.8750,\n",
       "            7.0000,  7.0000],\n",
       "          [ 8.0000,  8.0000,  8.1250,  8.3750,  8.6250,  8.8750,  9.1250,\n",
       "            9.3750,  9.6250,  9.8750, 10.1250, 10.3750, 10.6250, 10.8750,\n",
       "           11.0000, 11.0000],\n",
       "          [12.0000, 12.0000, 12.1250, 12.3750, 12.6250, 12.8750, 13.1250,\n",
       "           13.3750, 13.6250, 13.8750, 14.1250, 14.3750, 14.6250, 14.8750,\n",
       "           15.0000, 15.0000]]]),\n",
       " torch.Size([1, 4, 16]))"
      ]
     },
     "execution_count": 15,
     "metadata": {},
     "output_type": "execute_result"
    }
   ],
   "source": [
    "m(b), m(b).shape"
   ]
  },
  {
   "cell_type": "code",
   "execution_count": 16,
   "id": "3ea8e071",
   "metadata": {},
   "outputs": [
    {
     "data": {
      "text/plain": [
       "tensor([[[ 0.0000,  0.0000,  0.1250,  0.3750,  0.6250,  0.8750,  1.1250,\n",
       "           1.3750],\n",
       "         [ 1.6250,  1.8750,  2.1250,  2.3750,  2.6250,  2.8750,  3.0000,\n",
       "           3.0000],\n",
       "         [ 4.0000,  4.0000,  4.1250,  4.3750,  4.6250,  4.8750,  5.1250,\n",
       "           5.3750],\n",
       "         [ 5.6250,  5.8750,  6.1250,  6.3750,  6.6250,  6.8750,  7.0000,\n",
       "           7.0000],\n",
       "         [ 8.0000,  8.0000,  8.1250,  8.3750,  8.6250,  8.8750,  9.1250,\n",
       "           9.3750],\n",
       "         [ 9.6250,  9.8750, 10.1250, 10.3750, 10.6250, 10.8750, 11.0000,\n",
       "          11.0000],\n",
       "         [12.0000, 12.0000, 12.1250, 12.3750, 12.6250, 12.8750, 13.1250,\n",
       "          13.3750],\n",
       "         [13.6250, 13.8750, 14.1250, 14.3750, 14.6250, 14.8750, 15.0000,\n",
       "          15.0000]]])"
      ]
     },
     "execution_count": 16,
     "metadata": {},
     "output_type": "execute_result"
    }
   ],
   "source": [
    "m(b).view(1,8,8)"
   ]
  },
  {
   "cell_type": "code",
   "execution_count": null,
   "id": "5e495136",
   "metadata": {},
   "outputs": [],
   "source": []
  }
 ],
 "metadata": {
  "kernelspec": {
   "display_name": "Python 3 (ipykernel)",
   "language": "python",
   "name": "python3"
  },
  "language_info": {
   "codemirror_mode": {
    "name": "ipython",
    "version": 3
   },
   "file_extension": ".py",
   "mimetype": "text/x-python",
   "name": "python",
   "nbconvert_exporter": "python",
   "pygments_lexer": "ipython3",
   "version": "3.10.8"
  },
  "toc": {
   "base_numbering": 1,
   "nav_menu": {},
   "number_sections": true,
   "sideBar": true,
   "skip_h1_title": false,
   "title_cell": "Table of Contents",
   "title_sidebar": "Contents",
   "toc_cell": false,
   "toc_position": {},
   "toc_section_display": true,
   "toc_window_display": false
  }
 },
 "nbformat": 4,
 "nbformat_minor": 5
}
